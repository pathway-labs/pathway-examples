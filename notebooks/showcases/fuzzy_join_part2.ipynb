{
  "cells": [
    {
      "cell_type": "markdown",
      "metadata": {
        "id": "view-in-colab"
      },
      "source": [
        "<a href=\"https://colab.research.google.com/github/pathwaycom/pathway-examples/blob/main/showcases/fuzzy_join_part2.ipynb\" target=\"_parent\"><img src=\"https://pathway.com/assets/colab-badge.svg\" alt=\"Run In Colab\" class=\"inline\"/></a>"
      ]
    },
    {
      "cell_type": "markdown",
      "source": [
        "# Installing Pathway with Python 3.10+\n",
        "\n",
        "In the cell below, we install Pathway into a Python 3.10+ Linux runtime.\n",
        "\n",
        "> **If you are running in Google Colab, please run the colab notebook (Ctrl+F9)**, disregarding the 'not authored by Google' warning.\n",
        "> \n",
        "> **The installation and loading time is less than 1 minute**.\n"
      ],
      "metadata": {
        "id": "notebook-instructions"
      }
    },
    {
      "cell_type": "code",
      "source": [
        "%%capture --no-display\n",
        "!pip install --prefer-binary pathway"
      ],
      "metadata": {
        "id": "pip-installation-pathway",
        "cellView": "form"
      },
      "execution_count": null,
      "outputs": []
    },
    {
      "cell_type": "markdown",
      "id": "52142f2d",
      "metadata": {
        "lines_to_next_cell": 0
      },
      "source": [
        "# Realtime Fuzzy-Join in Pathway\n",
        "\n",
        "## Part 2: Fuzzy Join - reconciliation with audit: when the computer is not enough\n",
        "\n",
        "In this article, we are going to show you how Pathway interacts with incremental data flows with a **feedback loop**.\n",
        "\n",
        "In the [first part of this showcase](/developers/showcases/fuzzy_join/fuzzy_join_chapter1) we explained how `smart_fuzzy_join` may be helpful in bookkeeping.\n",
        "Previously, we had a simple pipeline that matched entries of two different tables, such as two logs of bank transfers, in two different formats.\n",
        "Many matchings can be inferred automatically, but some can be really tricky without help: while the fans of Harry Potter can instantaneously make the connection between 'You-Know-Who' and 'Voldemort', it is impossible for a computer to do so, at least without help.\n",
        "\n",
        "Human audit is unavoidable in many areas such as accounting or banking.\n",
        "As such, we extend our pipeline with an auditor that supervises the process of reconciliation.\n",
        "The auditor may help the system by providing some hints, i.e. suggesting difficult matchings by hand.\n",
        "\n",
        "## Feedback loop in Pathway\n",
        "![Graph image](https://pathway.com/assets/content/showcases/fuzzy_join/reconciliation_chapter3_trim.png)\n",
        "\n",
        "This figure represents an architecture with a feedback loop to understand how the pieces work together.\n",
        "\n",
        "Reconciliation by SmartFuzzyJoin lies at the heart of the architecture:\n",
        "- it consumes inputs from 3 sources:\n",
        "  - two tables with transactions in different formats;\n",
        "  - a table with manual corrections provided by the auditor;\n",
        "- it outputs one table with matched records.\n",
        "\n",
        "You might think of the auditor as a simple automaton.\n",
        "Either they are satisfied with presented results and simply save them in some storage, or they provide some hints for the algorithm to find a better matching.\n",
        "\n",
        "**Note:** Although the architecture contains a feedback loop, all tables here are either inputs or outputs of the system.\n",
        "\n",
        "\n",
        "## The data\n",
        "\n",
        "Human audit is certainly needed to handle the sample dataset below.\n",
        "\n",
        " **Recipient and sender in a 'standard' CSV format**\n",
        "\n",
        "|id    |recipient|sender       |\n",
        "|------|---------|-------------|\n",
        "|1     |Bill H.  |Nancy R.     |\n",
        "|2     |Harry P. |Hermione  G. |\n",
        "|3     |Julian S.|Dick F.      |\n",
        "\n",
        "\n",
        " **Messages describing the transactions**\n",
        "\n",
        "|id    |message  |\n",
        "|------|---------|\n",
        "|A     |Dear William, thank you for your patience. Regards, Ann|\n",
        "|B     |Dear Colleague! I think they might have sent me your particle! Yours, Richard|\n",
        "|C     |Paying back for two Chocolate Frogs, cheers Hermione!|\n",
        "\n",
        "## Automatic reconciliation\n",
        "Let's see how many records we can match without any human help.\n",
        "We reuse code from [Part 1 of this showcase](/developers/showcases/fuzzy_join/fuzzy_join_chapter1)."
      ]
    },
    {
      "cell_type": "code",
      "execution_count": 1,
      "id": "0ebdb8d1",
      "metadata": {
        "execution": {
          "iopub.execute_input": "2024-03-21T07:42:45.672865Z",
          "iopub.status.busy": "2024-03-21T07:42:45.672773Z",
          "iopub.status.idle": "2024-03-21T07:42:51.005227Z",
          "shell.execute_reply": "2024-03-21T07:42:51.004869Z"
        }
      },
      "outputs": [],
      "source": [
        "import pandas as pd\n",
        "\n",
        "import pathway as pw"
      ]
    },
    {
      "cell_type": "markdown",
      "id": "638c5c21",
      "metadata": {},
      "source": [
        "We need to read the csv files:"
      ]
    },
    {
      "cell_type": "code",
      "execution_count": 2,
      "id": "2c37a94e",
      "metadata": {
        "execution": {
          "iopub.execute_input": "2024-03-21T07:42:51.007283Z",
          "iopub.status.busy": "2024-03-21T07:42:51.006793Z",
          "iopub.status.idle": "2024-03-21T07:42:51.008912Z",
          "shell.execute_reply": "2024-03-21T07:42:51.008704Z"
        },
        "lines_to_next_cell": 2
      },
      "outputs": [],
      "source": [
        "# Uncomment to download the required files.\n",
        "# %%capture --no-display\n",
        "# !wget https://public-pathway-releases.s3.eu-central-1.amazonaws.com/data/fuzzy_join_part_2_transactionsA.csv -O transactionsA.csv\n",
        "# !wget https://public-pathway-releases.s3.eu-central-1.amazonaws.com/data/fuzzy_join_part_2_transactionsB.csv -O transactionsB.csv\n",
        "# !wget https://public-pathway-releases.s3.eu-central-1.amazonaws.com/data/fuzzy_join_part_2_audit1-v2.csv -O audit1.csv\n",
        "# !wget https://public-pathway-releases.s3.eu-central-1.amazonaws.com/data/fuzzy_join_part_2_audit2-v2.csv -O audit2.csv"
      ]
    },
    {
      "cell_type": "code",
      "execution_count": 3,
      "id": "aab3dba7",
      "metadata": {
        "execution": {
          "iopub.execute_input": "2024-03-21T07:42:51.010072Z",
          "iopub.status.busy": "2024-03-21T07:42:51.009879Z",
          "iopub.status.idle": "2024-03-21T07:42:51.125656Z",
          "shell.execute_reply": "2024-03-21T07:42:51.125438Z"
        },
        "lines_to_next_cell": 2
      },
      "outputs": [
        {
          "name": "stderr",
          "output_type": "stream",
          "text": [
            "[2024-03-21T08:42:51]:INFO:Preparing Pathway computation\n"
          ]
        },
        {
          "name": "stderr",
          "output_type": "stream",
          "text": [
            "[2024-03-21T08:42:51]:INFO:CsvFilesystemReader-0: 0 entries (1 minibatch(es)) have been sent to the engine\n"
          ]
        },
        {
          "name": "stderr",
          "output_type": "stream",
          "text": [
            "[2024-03-21T08:42:51]:INFO:CsvFilesystemReader-0: 3 entries (2 minibatch(es)) have been sent to the engine\n"
          ]
        },
        {
          "name": "stderr",
          "output_type": "stream",
          "text": [
            "[2024-03-21T08:42:51]:WARNING:CsvFilesystemReader-0: Closing the data source\n"
          ]
        },
        {
          "name": "stderr",
          "output_type": "stream",
          "text": [
            "[2024-03-21T08:42:51]:INFO:Preparing Pathway computation\n"
          ]
        },
        {
          "name": "stderr",
          "output_type": "stream",
          "text": [
            "[2024-03-21T08:42:51]:INFO:CsvFilesystemReader-0: 0 entries (1 minibatch(es)) have been sent to the engine\n"
          ]
        },
        {
          "name": "stderr",
          "output_type": "stream",
          "text": [
            "[2024-03-21T08:42:51]:INFO:CsvFilesystemReader-0: 3 entries (2 minibatch(es)) have been sent to the engine\n"
          ]
        },
        {
          "name": "stderr",
          "output_type": "stream",
          "text": [
            "[2024-03-21T08:42:51]:WARNING:CsvFilesystemReader-0: Closing the data source\n"
          ]
        },
        {
          "name": "stdout",
          "output_type": "stream",
          "text": [
            "            | key | recipient | sender\n",
            "^YYY4HAB... | 1   | Bill H.   | Nancy R.\n",
            "^Z3QWT29... | 2   | Harry P.  |  Hermione  G.\n",
            "^3CZ78B4... | 3   | Julian S. | Dick F.\n",
            "            | key | message\n",
            "^KHNET5G... | A   | Dear William, thank you for you patience. Regards, Ann\n",
            "^FFN4QBS... | B   | Dear colleague! I think they might have send me your part! Yours, Richard\n",
            "^0K14V55... | C   | Paying back for two Chocolate Frogs, cheers Hermione\n"
          ]
        }
      ],
      "source": [
        "class TransactionsA(pw.Schema):\n",
        "    key: int = pw.column_definition(primary_key=True)\n",
        "    recipient: str\n",
        "    sender: str\n",
        "\n",
        "\n",
        "class TransactionsB(pw.Schema):\n",
        "    key: str = pw.column_definition(primary_key=True)\n",
        "    message: str\n",
        "\n",
        "\n",
        "transactionsA = pw.io.csv.read(\n",
        "    \"./transactionsA.csv\",\n",
        "    schema=TransactionsA,\n",
        "    mode=\"static\",\n",
        ")\n",
        "transactionsB = pw.io.csv.read(\n",
        "    \"./transactionsB.csv\",\n",
        "    schema=TransactionsB,\n",
        "    mode=\"static\",\n",
        ")\n",
        "pw.debug.compute_and_print(transactionsA)\n",
        "pw.debug.compute_and_print(transactionsB)"
      ]
    },
    {
      "cell_type": "markdown",
      "id": "7a5b0c76",
      "metadata": {
        "lines_to_next_cell": 2
      },
      "source": [
        "We use the provided column `key` as indexes: Pathway will generate indexes based on those.\n",
        "\n",
        "We add a wrapper `reconcile_transactions` to replace the generated indexes by the corresponding key."
      ]
    },
    {
      "cell_type": "code",
      "execution_count": 4,
      "id": "c157cc6b",
      "metadata": {
        "execution": {
          "iopub.execute_input": "2024-03-21T07:42:51.126723Z",
          "iopub.status.busy": "2024-03-21T07:42:51.126606Z",
          "iopub.status.idle": "2024-03-21T07:42:52.033558Z",
          "shell.execute_reply": "2024-03-21T07:42:52.033328Z"
        }
      },
      "outputs": [
        {
          "name": "stderr",
          "output_type": "stream",
          "text": [
            "[2024-03-21T08:42:51]:INFO:Preparing Pathway computation\n"
          ]
        },
        {
          "name": "stderr",
          "output_type": "stream",
          "text": [
            "[2024-03-21T08:42:52]:INFO:CsvFilesystemReader-0: 0 entries (1 minibatch(es)) have been sent to the engine\n"
          ]
        },
        {
          "name": "stderr",
          "output_type": "stream",
          "text": [
            "[2024-03-21T08:42:52]:INFO:CsvFilesystemReader-0: 3 entries (2 minibatch(es)) have been sent to the engine\n"
          ]
        },
        {
          "name": "stderr",
          "output_type": "stream",
          "text": [
            "[2024-03-21T08:42:52]:WARNING:CsvFilesystemReader-0: Closing the data source\n"
          ]
        },
        {
          "name": "stderr",
          "output_type": "stream",
          "text": [
            "[2024-03-21T08:42:52]:INFO:CsvFilesystemReader-1: 0 entries (1 minibatch(es)) have been sent to the engine\n"
          ]
        },
        {
          "name": "stderr",
          "output_type": "stream",
          "text": [
            "[2024-03-21T08:42:52]:INFO:CsvFilesystemReader-1: 3 entries (2 minibatch(es)) have been sent to the engine\n"
          ]
        },
        {
          "name": "stderr",
          "output_type": "stream",
          "text": [
            "[2024-03-21T08:42:52]:WARNING:CsvFilesystemReader-1: Closing the data source\n"
          ]
        },
        {
          "name": "stdout",
          "output_type": "stream",
          "text": [
            "            | left_key | confidence | right_key\n",
            "^BHB65VQ... |          | 0.0        |\n",
            "^F8MZKSC... |          | 0.0        |\n",
            "^V2DHP4X... | 2        | 0.5        | C\n"
          ]
        }
      ],
      "source": [
        "def match_transactions(transactionsA, transactionsB, by_hand_matching):\n",
        "    matching = pw.ml.smart_table_ops.fuzzy_match_tables(\n",
        "        transactionsA, transactionsB, by_hand_match=by_hand_matching\n",
        "    )\n",
        "\n",
        "    transactionsA_reconciled = transactionsA.select(\n",
        "        left=None, right=None, confidence=0.0\n",
        "    ).update_rows(\n",
        "        matching.select(pw.this.left, pw.this.right, confidence=pw.this.weight).with_id(\n",
        "            pw.this.left\n",
        "        )\n",
        "    )\n",
        "    return transactionsA_reconciled\n",
        "\n",
        "\n",
        "def reconcile_transactions(\n",
        "    transactionsA,\n",
        "    transactionsB,\n",
        "    audit=None,\n",
        "):\n",
        "    by_hand_matching = pw.Table.empty(left=pw.Pointer, right=pw.Pointer, weight=float)\n",
        "    if audit is not None:\n",
        "        by_hand_matching = audit\n",
        "        by_hand_matching = by_hand_matching.select(\n",
        "            left=transactionsA.pointer_from(pw.this.left),\n",
        "            right=transactionsB.pointer_from(pw.this.right),\n",
        "            weight=pw.this.weight,\n",
        "        )\n",
        "    transactionsA_reconciled = match_transactions(\n",
        "        transactionsA, transactionsB, by_hand_matching\n",
        "    )\n",
        "    transactionsA_reconciled = transactionsA_reconciled.join_left(\n",
        "        transactionsA, pw.left.left == pw.right.id\n",
        "    ).select(pw.left.right, pw.left.confidence, left_key=pw.right.key)\n",
        "    transactionsA_reconciled = transactionsA_reconciled.join_left(\n",
        "        transactionsB, pw.left.right == pw.right.id\n",
        "    ).select(pw.left.left_key, pw.left.confidence, right_key=pw.right.key)\n",
        "    return transactionsA_reconciled, by_hand_matching\n",
        "\n",
        "\n",
        "matching, _ = reconcile_transactions(transactionsA, transactionsB)\n",
        "pw.debug.compute_and_print(matching)"
      ]
    },
    {
      "cell_type": "markdown",
      "id": "ec9e879b",
      "metadata": {
        "lines_to_next_cell": 0
      },
      "source": [
        "Not a perfect matching. It seems that the help of an auditor is needed.\n",
        "\n",
        "\n",
        "## Incremental reconciliation with an auditor\n",
        "The correct matching is 1 - A, 2 - C and 3 - B. Why? [Tip 1](https://en.wikipedia.org/wiki/Bill_%28given_name%29), [Tip 2](https://www.nobelprize.org/prizes/physics/1965/summary/).\n",
        "\n",
        "Previously, the algorithm identified matching 2 - C correctly but failed to find the connections between the other pairs.\n",
        "Now, we run it with a hint - feedback from an auditor.\n",
        "\n",
        "To include the hint (nothing complicated), we just need to launch our function with the parameter `audit`:"
      ]
    },
    {
      "cell_type": "code",
      "execution_count": 5,
      "id": "4dce905d",
      "metadata": {
        "execution": {
          "iopub.execute_input": "2024-03-21T07:42:52.034735Z",
          "iopub.status.busy": "2024-03-21T07:42:52.034622Z",
          "iopub.status.idle": "2024-03-21T07:42:52.834035Z",
          "shell.execute_reply": "2024-03-21T07:42:52.833718Z"
        }
      },
      "outputs": [],
      "source": [
        "class AuditSchema(pw.Schema):\n",
        "    left: int\n",
        "    right: str\n",
        "    weight: float\n",
        "\n",
        "\n",
        "audit = pw.io.csv.read(\"./audit1.csv\", schema=AuditSchema, mode=\"static\")\n",
        "matching, suggested_matchings = reconcile_transactions(\n",
        "    transactionsA, transactionsB, audit\n",
        ")"
      ]
    },
    {
      "cell_type": "markdown",
      "id": "c935c091",
      "metadata": {},
      "source": [
        "Here is the author's feedback, the pair 1 - A:"
      ]
    },
    {
      "cell_type": "code",
      "execution_count": 6,
      "id": "ff96e882",
      "metadata": {
        "execution": {
          "iopub.execute_input": "2024-03-21T07:42:52.835457Z",
          "iopub.status.busy": "2024-03-21T07:42:52.835334Z",
          "iopub.status.idle": "2024-03-21T07:42:52.842639Z",
          "shell.execute_reply": "2024-03-21T07:42:52.842419Z"
        },
        "lines_to_next_cell": 0
      },
      "outputs": [
        {
          "name": "stderr",
          "output_type": "stream",
          "text": [
            "[2024-03-21T08:42:52]:INFO:Preparing Pathway computation\n"
          ]
        },
        {
          "name": "stderr",
          "output_type": "stream",
          "text": [
            "[2024-03-21T08:42:52]:INFO:CsvFilesystemReader-0: 0 entries (1 minibatch(es)) have been sent to the engine\n"
          ]
        },
        {
          "name": "stderr",
          "output_type": "stream",
          "text": [
            "[2024-03-21T08:42:52]:INFO:CsvFilesystemReader-0: 1 entries (2 minibatch(es)) have been sent to the engine\n"
          ]
        },
        {
          "name": "stderr",
          "output_type": "stream",
          "text": [
            "[2024-03-21T08:42:52]:WARNING:CsvFilesystemReader-0: Closing the data source\n"
          ]
        },
        {
          "name": "stdout",
          "output_type": "stream",
          "text": [
            "            | left        | right       | weight\n",
            "^R9HSZPF... | ^YYY4HAB... | ^KHNET5G... | 1.0\n"
          ]
        }
      ],
      "source": [
        "pw.debug.compute_and_print(suggested_matchings)"
      ]
    },
    {
      "cell_type": "markdown",
      "id": "d405d9fe",
      "metadata": {
        "lines_to_next_cell": 0
      },
      "source": [
        "Given this feedback, we check that the new matching took into account this pair:"
      ]
    },
    {
      "cell_type": "code",
      "execution_count": 7,
      "id": "d14781f1",
      "metadata": {
        "execution": {
          "iopub.execute_input": "2024-03-21T07:42:52.843853Z",
          "iopub.status.busy": "2024-03-21T07:42:52.843650Z",
          "iopub.status.idle": "2024-03-21T07:42:52.972066Z",
          "shell.execute_reply": "2024-03-21T07:42:52.971796Z"
        }
      },
      "outputs": [
        {
          "name": "stderr",
          "output_type": "stream",
          "text": [
            "[2024-03-21T08:42:52]:INFO:Preparing Pathway computation\n"
          ]
        },
        {
          "name": "stderr",
          "output_type": "stream",
          "text": [
            "[2024-03-21T08:42:52]:INFO:CsvFilesystemReader-0: 0 entries (1 minibatch(es)) have been sent to the engine\n"
          ]
        },
        {
          "name": "stderr",
          "output_type": "stream",
          "text": [
            "[2024-03-21T08:42:52]:INFO:CsvFilesystemReader-0: 3 entries (2 minibatch(es)) have been sent to the engine\n"
          ]
        },
        {
          "name": "stderr",
          "output_type": "stream",
          "text": [
            "[2024-03-21T08:42:52]:WARNING:CsvFilesystemReader-0: Closing the data source\n"
          ]
        },
        {
          "name": "stderr",
          "output_type": "stream",
          "text": [
            "[2024-03-21T08:42:52]:INFO:CsvFilesystemReader-1: 0 entries (1 minibatch(es)) have been sent to the engine\n"
          ]
        },
        {
          "name": "stderr",
          "output_type": "stream",
          "text": [
            "[2024-03-21T08:42:52]:INFO:CsvFilesystemReader-1: 3 entries (2 minibatch(es)) have been sent to the engine\n"
          ]
        },
        {
          "name": "stderr",
          "output_type": "stream",
          "text": [
            "[2024-03-21T08:42:52]:WARNING:CsvFilesystemReader-1: Closing the data source\n"
          ]
        },
        {
          "name": "stderr",
          "output_type": "stream",
          "text": [
            "[2024-03-21T08:42:52]:INFO:CsvFilesystemReader-2: 0 entries (1 minibatch(es)) have been sent to the engine\n"
          ]
        },
        {
          "name": "stderr",
          "output_type": "stream",
          "text": [
            "[2024-03-21T08:42:52]:INFO:CsvFilesystemReader-2: 1 entries (2 minibatch(es)) have been sent to the engine\n"
          ]
        },
        {
          "name": "stderr",
          "output_type": "stream",
          "text": [
            "[2024-03-21T08:42:52]:WARNING:CsvFilesystemReader-2: Closing the data source\n"
          ]
        },
        {
          "name": "stdout",
          "output_type": "stream",
          "text": [
            "            | left_key | confidence | right_key\n",
            "^BHB65VQ... |          | 0.0        |\n",
            "^NNHBJ9V... | 1        | 1.0        | A\n",
            "^V2DHP4X... | 2        | 0.5        | C\n"
          ]
        }
      ],
      "source": [
        "pw.debug.compute_and_print(matching)"
      ]
    },
    {
      "cell_type": "markdown",
      "id": "53d4910e",
      "metadata": {
        "lines_to_next_cell": 0
      },
      "source": [
        "Still not perfect but better. It seems that more help from the auditor is needed.\n",
        "Now, with one more extra hint the algorithm matches all the records correctly."
      ]
    },
    {
      "cell_type": "code",
      "execution_count": 8,
      "id": "67845cf9",
      "metadata": {
        "execution": {
          "iopub.execute_input": "2024-03-21T07:42:52.973156Z",
          "iopub.status.busy": "2024-03-21T07:42:52.973051Z",
          "iopub.status.idle": "2024-03-21T07:42:52.981395Z",
          "shell.execute_reply": "2024-03-21T07:42:52.981187Z"
        }
      },
      "outputs": [
        {
          "name": "stderr",
          "output_type": "stream",
          "text": [
            "[2024-03-21T08:42:52]:INFO:Preparing Pathway computation\n"
          ]
        },
        {
          "name": "stderr",
          "output_type": "stream",
          "text": [
            "[2024-03-21T08:42:52]:INFO:CsvFilesystemReader-0: 0 entries (1 minibatch(es)) have been sent to the engine\n"
          ]
        },
        {
          "name": "stderr",
          "output_type": "stream",
          "text": [
            "[2024-03-21T08:42:52]:INFO:CsvFilesystemReader-0: 2 entries (2 minibatch(es)) have been sent to the engine\n"
          ]
        },
        {
          "name": "stderr",
          "output_type": "stream",
          "text": [
            "[2024-03-21T08:42:52]:WARNING:CsvFilesystemReader-0: Closing the data source\n"
          ]
        },
        {
          "name": "stdout",
          "output_type": "stream",
          "text": [
            "            | left | right | weight\n",
            "^106AEBY... | 1    | A     | 1.0\n",
            "^FK2AHQ4... | 3    | B     | 1.0\n"
          ]
        }
      ],
      "source": [
        "audit = pw.io.csv.read(\"./audit2.csv\", schema=AuditSchema, mode=\"static\")\n",
        "pw.debug.compute_and_print(audit)"
      ]
    },
    {
      "cell_type": "code",
      "execution_count": 9,
      "id": "c1bd64eb",
      "metadata": {
        "execution": {
          "iopub.execute_input": "2024-03-21T07:42:52.982492Z",
          "iopub.status.busy": "2024-03-21T07:42:52.982295Z",
          "iopub.status.idle": "2024-03-21T07:42:53.652605Z",
          "shell.execute_reply": "2024-03-21T07:42:53.652306Z"
        }
      },
      "outputs": [],
      "source": [
        "matching, suggested_matchings = reconcile_transactions(\n",
        "    transactionsA, transactionsB, audit\n",
        ")"
      ]
    },
    {
      "cell_type": "markdown",
      "id": "c4738daa",
      "metadata": {
        "lines_to_next_cell": 0
      },
      "source": [
        "This time we provide the last pair, 3 - B:"
      ]
    },
    {
      "cell_type": "code",
      "execution_count": 10,
      "id": "cc6b5f90",
      "metadata": {
        "execution": {
          "iopub.execute_input": "2024-03-21T07:42:53.654242Z",
          "iopub.status.busy": "2024-03-21T07:42:53.654131Z",
          "iopub.status.idle": "2024-03-21T07:42:53.661630Z",
          "shell.execute_reply": "2024-03-21T07:42:53.661424Z"
        },
        "lines_to_next_cell": 0
      },
      "outputs": [
        {
          "name": "stderr",
          "output_type": "stream",
          "text": [
            "[2024-03-21T08:42:53]:INFO:Preparing Pathway computation\n"
          ]
        },
        {
          "name": "stderr",
          "output_type": "stream",
          "text": [
            "[2024-03-21T08:42:53]:INFO:CsvFilesystemReader-0: 0 entries (1 minibatch(es)) have been sent to the engine\n"
          ]
        },
        {
          "name": "stderr",
          "output_type": "stream",
          "text": [
            "[2024-03-21T08:42:53]:INFO:CsvFilesystemReader-0: 2 entries (2 minibatch(es)) have been sent to the engine\n"
          ]
        },
        {
          "name": "stderr",
          "output_type": "stream",
          "text": [
            "[2024-03-21T08:42:53]:WARNING:CsvFilesystemReader-0: Closing the data source\n"
          ]
        },
        {
          "name": "stdout",
          "output_type": "stream",
          "text": [
            "            | left        | right       | weight\n",
            "^106AEBY... | ^YYY4HAB... | ^KHNET5G... | 1.0\n",
            "^FK2AHQ4... | ^3CZ78B4... | ^FFN4QBS... | 1.0\n"
          ]
        }
      ],
      "source": [
        "pw.debug.compute_and_print(suggested_matchings)"
      ]
    },
    {
      "cell_type": "markdown",
      "id": "46ddc278",
      "metadata": {
        "lines_to_next_cell": 0
      },
      "source": [
        "Given those, we should obtain a full --and hopefully correct -- matching."
      ]
    },
    {
      "cell_type": "code",
      "execution_count": 11,
      "id": "4b526932",
      "metadata": {
        "execution": {
          "iopub.execute_input": "2024-03-21T07:42:53.662825Z",
          "iopub.status.busy": "2024-03-21T07:42:53.662574Z",
          "iopub.status.idle": "2024-03-21T07:42:53.791008Z",
          "shell.execute_reply": "2024-03-21T07:42:53.790763Z"
        }
      },
      "outputs": [
        {
          "name": "stderr",
          "output_type": "stream",
          "text": [
            "[2024-03-21T08:42:53]:INFO:Preparing Pathway computation\n"
          ]
        },
        {
          "name": "stderr",
          "output_type": "stream",
          "text": [
            "[2024-03-21T08:42:53]:INFO:CsvFilesystemReader-0: 0 entries (1 minibatch(es)) have been sent to the engine\n"
          ]
        },
        {
          "name": "stderr",
          "output_type": "stream",
          "text": [
            "[2024-03-21T08:42:53]:INFO:CsvFilesystemReader-0: 3 entries (2 minibatch(es)) have been sent to the engine\n"
          ]
        },
        {
          "name": "stderr",
          "output_type": "stream",
          "text": [
            "[2024-03-21T08:42:53]:WARNING:CsvFilesystemReader-0: Closing the data source\n"
          ]
        },
        {
          "name": "stderr",
          "output_type": "stream",
          "text": [
            "[2024-03-21T08:42:53]:INFO:CsvFilesystemReader-1: 0 entries (1 minibatch(es)) have been sent to the engine\n"
          ]
        },
        {
          "name": "stderr",
          "output_type": "stream",
          "text": [
            "[2024-03-21T08:42:53]:INFO:CsvFilesystemReader-1: 3 entries (2 minibatch(es)) have been sent to the engine\n"
          ]
        },
        {
          "name": "stderr",
          "output_type": "stream",
          "text": [
            "[2024-03-21T08:42:53]:WARNING:CsvFilesystemReader-1: Closing the data source\n"
          ]
        },
        {
          "name": "stderr",
          "output_type": "stream",
          "text": [
            "[2024-03-21T08:42:53]:INFO:CsvFilesystemReader-2: 0 entries (1 minibatch(es)) have been sent to the engine\n"
          ]
        },
        {
          "name": "stderr",
          "output_type": "stream",
          "text": [
            "[2024-03-21T08:42:53]:INFO:CsvFilesystemReader-2: 2 entries (2 minibatch(es)) have been sent to the engine\n"
          ]
        },
        {
          "name": "stderr",
          "output_type": "stream",
          "text": [
            "[2024-03-21T08:42:53]:WARNING:CsvFilesystemReader-2: Closing the data source\n"
          ]
        },
        {
          "name": "stdout",
          "output_type": "stream",
          "text": [
            "            | left_key | confidence | right_key\n",
            "^NNHBJ9V... | 1        | 1.0        | A\n",
            "^V2DHP4X... | 2        | 0.5        | C\n",
            "^BSWKRG7... | 3        | 1.0        | B\n"
          ]
        }
      ],
      "source": [
        "pw.debug.compute_and_print(matching)"
      ]
    },
    {
      "cell_type": "markdown",
      "id": "d765b825",
      "metadata": {},
      "source": [
        "Bingo!\n",
        "\n",
        "It may sound long and tedious but in practice most of the matchings should have been done automatically.\n",
        "This process is only performed for the few remaining cases, where the linkages are hard to make."
      ]
    },
    {
      "cell_type": "markdown",
      "id": "8dd75f56",
      "metadata": {},
      "source": [
        "## Conclusion\n",
        "In conclusion, writing pipelines with a feedback loop is as easy as can be.\n",
        "When writing such a data processing algorithm, a tip is to always clearly separate inputs from outputs.\n",
        "It is important because the Pathway engine observes inputs for any changes and recalculates parts of the computation when needed.\n",
        "\n",
        "\n",
        "In the next chapter, we will show you how to make a Pathway installation which provides a full Fuzzy-Matching application, complete with frontend. (Coming soon!)\n",
        "\n",
        "![Demo animation](https://pathway.com/assets/content/showcases/fuzzy_join/demo.gif)"
      ]
    }
  ],
  "metadata": {
    "kernelspec": {
      "display_name": "Python 3 (ipykernel)",
      "language": "python",
      "name": "python3"
    },
    "language_info": {
      "codemirror_mode": {
        "name": "ipython",
        "version": 3
      },
      "file_extension": ".py",
      "mimetype": "text/x-python",
      "name": "python",
      "nbconvert_exporter": "python",
      "pygments_lexer": "ipython3",
      "version": "3.11.8"
    }
  },
  "nbformat": 4,
  "nbformat_minor": 5
}