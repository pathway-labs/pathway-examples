{
  "cells": [
    {
      "cell_type": "markdown",
      "metadata": {
        "id": "view-in-colab"
      },
      "source": [
        "<a href=\"https://colab.research.google.com/github/pathwaycom/pathway-examples/blob/main/showcases/lsh.ipynb\" target=\"_parent\"><img src=\"https://pathway.com/assets/colab-badge.svg\" alt=\"Run In Colab\" class=\"inline\"/></a>"
      ]
    },
    {
      "cell_type": "markdown",
      "source": [
        "# Installing Pathway with Python 3.10+\n",
        "\n",
        "In the cell below, we install Pathway into a Python 3.10+ Linux runtime.\n",
        "\n",
        "> **If you are running in Google Colab, please run the colab notebook (Ctrl+F9)**, disregarding the 'not authored by Google' warning.\n",
        "> \n",
        "> **The installation and loading time is less than 1 minute**.\n"
      ],
      "metadata": {
        "id": "notebook-instructions"
      }
    },
    {
      "cell_type": "code",
      "source": [
        "%%capture --no-display\n",
        "!pip install --prefer-binary pathway"
      ],
      "metadata": {
        "id": "pip-installation-pathway",
        "cellView": "form"
      },
      "execution_count": null,
      "outputs": []
    },
    {
      "cell_type": "markdown",
      "id": "e64370f3",
      "metadata": {},
      "source": [
        "# Realtime classification in Pathway\n",
        "\n",
        "## Part 1: Using the Nearest-Neighbors Classifier\n",
        "\n",
        "![Classification with Pathway](https://pathway.com/assets/content/showcases/lsh/KNN.gif)\n",
        "\n",
        "\n",
        "## Classification - what is it all about?\n",
        "\n",
        "What is this handwritten digit? Is this new movie an action movie or a drama movie? Is this email a spam or an email from a real [foreign prince reaching out for help](https://en.wikipedia.org/wiki/Advance-fee_scam)?\n",
        "\n",
        "All these questions have one thing is common: they are forms of **classification problems**.\n",
        "\n",
        "![Classification of e-mails](https://pathway.com/assets/content/showcases/lsh/classification_2.png)\n",
        "\n",
        "Classification is the process of giving a label to an unknown element.\n",
        "It is used to label or tag new content and has various areas of applications such as marketing personalization.\n",
        "For example, tagging new content on an e-commerce website or a streaming service will ease browsing and allow for better content recommendations.\n",
        "\n",
        "This showcase explains how to achieve high quality classification using Pathway.\n",
        "\n",
        "## Why use Pathway for classification?\n",
        "\n",
        "In a traditional streaming system, the classification of a query is done based on the available data at the time of the query.\n",
        "However, as time goes on, the available data grows, providing a better insight on the classification tasks done on previous queries.\n",
        "The prediction which made sense with a partial view of a data can be seen as wrong with more complete data.\n",
        "\n",
        "Pathway guarantees classifications with the most up-to-date-model. Under the hood, the system does this by automatically revisiting the classifications of past queries in the stream as new training data becomes available."
      ]
    },
    {
      "cell_type": "markdown",
      "id": "5694e9d0",
      "metadata": {},
      "source": [
        "![Pathway performance](https://pathway.com/assets/content/showcases/lsh/lsh_mnist_streaming.png)"
      ]
    },
    {
      "cell_type": "markdown",
      "id": "53345819",
      "metadata": {},
      "source": [
        "Unlike a classic streaming system, Pathway updates the previous query as data arrive, resulting in a lower error rate.\n",
        "\n",
        "The source code in this article is completely self-contained. With Pathway installed, you can run it directly!"
      ]
    },
    {
      "cell_type": "markdown",
      "id": "36a30909",
      "metadata": {
        "lines_to_next_cell": 2
      },
      "source": [
        "## How does Pathway perform classification?\n",
        "\n",
        "Classifiers are just regular Pathway library functions. In Pathway' standard library, we provide you with a choice of neat classifiers for your convenience - but if you prefer to create your own, be our guest: the logic will only take a couple dozen lines of Python in our framework. As with all code written in Pathway, Pathway takes care of making sure classifiers work correctly on top of data streams.\n",
        "\n",
        "In this showcase, we will show you how to use Pathway to make your own classification app. We will be using the kNN+LSH classifier from Pathway's standard library: if you are interested about how it works, you can find out more about those topics in our [article](/developers/showcases/lsh/lsh_chapter2) about it."
      ]
    },
    {
      "cell_type": "markdown",
      "id": "f8dfbd3f",
      "metadata": {},
      "source": [
        "## <a name=\"app_code\"></a>And here comes: Your real-time classification Data App in Pathway"
      ]
    },
    {
      "cell_type": "markdown",
      "id": "87036af5",
      "metadata": {},
      "source": [
        "In Pathway, everything you need to perform efficient real-time classification is already implemented for you.\n",
        "\n",
        "All you need is to load your data, and use our provided classifier functions to train the model and label your queries.\n",
        "\n",
        "Let's take a look how Pathway performs on a real-time classification problem. The kNN+LSH classifier we will use in this case is available with several metrics, such as cosine or Euclidean distance - we stick to the defaults.\n"
      ]
    },
    {
      "cell_type": "markdown",
      "id": "7a546bab",
      "metadata": {},
      "source": [
        "### Connecting to streaming data"
      ]
    },
    {
      "cell_type": "markdown",
      "id": "cd7dfe92",
      "metadata": {},
      "source": [
        "To illustrate how Pathway performs on real-time classification, we use Pathway to classify handwritten images fed into the system in streaming mode.\n",
        "\n",
        "We will use the well-known [MNIST](http://yann.lecun.com/exdb/mnist/) as an example. MNIST is composed of 70,000 handwritten digits, each image has a 28x28 resolution and is labeled.\n",
        "\n",
        "However, we work here with a **streaming data set**: we suppose that the MNIST data and the queries are arriving in a streaming fashion. In streaming, the data is incomplete and the stream progresses over time, until the full data is received.\n",
        "\n",
        "As MNIST is so standard, we provide a standard loader which simulates just such a data stream. Both the data and the queries are fed in at the same rate, with a 6:1 ratio of data to queries. (For production deployment of your application, you would normally use Pathway's input connectors instead of the simulator.)"
      ]
    },
    {
      "cell_type": "code",
      "execution_count": 1,
      "id": "ea7777c6",
      "metadata": {
        "execution": {
          "iopub.execute_input": "2024-03-21T07:42:59.264282Z",
          "iopub.status.busy": "2024-03-21T07:42:59.264186Z",
          "iopub.status.idle": "2024-03-21T07:43:13.587803Z",
          "shell.execute_reply": "2024-03-21T07:43:13.587444Z"
        },
        "lines_to_next_cell": 0
      },
      "outputs": [],
      "source": [
        "import pathway as pw\n",
        "\n",
        "X_train_table, y_train_table, X_test_table, y_test_table = pw.ml.datasets.classification.load_mnist_stream()"
      ]
    },
    {
      "cell_type": "markdown",
      "id": "4d170af3",
      "metadata": {},
      "source": [
        "## Setting up classification"
      ]
    },
    {
      "cell_type": "markdown",
      "id": "49f1148c",
      "metadata": {},
      "source": [
        "Here comes the actual training and classification source code, in Pathway."
      ]
    },
    {
      "cell_type": "code",
      "execution_count": 2,
      "id": "518fd1c9",
      "metadata": {
        "execution": {
          "iopub.execute_input": "2024-03-21T07:43:13.589824Z",
          "iopub.status.busy": "2024-03-21T07:43:13.589484Z",
          "iopub.status.idle": "2024-03-21T07:43:14.741064Z",
          "shell.execute_reply": "2024-03-21T07:43:14.740686Z"
        }
      },
      "outputs": [],
      "source": [
        "\n",
        "lsh_index = pw.ml.classifiers.knn_lsh_train(\n",
        "    X_train_table, d=28 * 28, L=10, M=10, A=0.5, metric=\"euclidean\"\n",
        ")\n",
        "predicted_labels = pw.ml.classifiers.knn_lsh_classify(\n",
        "    lsh_index, y_train_table, X_test_table, k=3\n",
        ")"
      ]
    },
    {
      "cell_type": "markdown",
      "id": "f2df7eea",
      "metadata": {},
      "source": [
        "What does this code do?\n",
        "We first show how to prepare the classifier with the function `knn_lsh_classifier_train`. (Under the hood, this logic computes the LSH index, i.e. the LSH projector and the buckets of the training data.)\n",
        "\n",
        "Then `lsh_index` is used to predict the label for the queries (`X_test_table`) using the function `knn_lsh_classify`.\n",
        "\n",
        "What about parameter choices? The dimension $d=28*28$ is simply the pixel size of the classified images - something specific to MNIST. The other parameter choices $(M=10,L=10,A=0.5)$ are set to provide the sweet spot between quality and efficiency: the number of comparisons LSH does for computing the kNN of a query over the full dataset is 830 on average instead of 60,000! Don't hesitate to play with the settings, you'll get the hang of the right \"strings to pull\" in a couple of minutes.\n",
        "\n",
        "Now, the resulting labels are then compared to the real ones to measure the accuracy of our approach with our accuracy function `classifier_accuracy`."
      ]
    },
    {
      "cell_type": "code",
      "execution_count": 3,
      "id": "67e434c9",
      "metadata": {
        "execution": {
          "iopub.execute_input": "2024-03-21T07:43:14.742740Z",
          "iopub.status.busy": "2024-03-21T07:43:14.742590Z",
          "iopub.status.idle": "2024-03-21T07:43:14.768378Z",
          "shell.execute_reply": "2024-03-21T07:43:14.768035Z"
        }
      },
      "outputs": [],
      "source": [
        "accuracy = pw.ml.utils.classifier_accuracy(predicted_labels, y_test_table)"
      ]
    },
    {
      "cell_type": "markdown",
      "id": "f86bd2b4",
      "metadata": {},
      "source": [
        "That's it! You can now preview the `accuracy` table during stream execution, and see how the classification outcomes improve as the stream progresses:"
      ]
    },
    {
      "cell_type": "code",
      "execution_count": 4,
      "id": "a1bcf73c",
      "metadata": {
        "execution": {
          "iopub.execute_input": "2024-03-21T07:43:14.769725Z",
          "iopub.status.busy": "2024-03-21T07:43:14.769614Z",
          "iopub.status.idle": "2024-03-21T07:43:15.283539Z",
          "shell.execute_reply": "2024-03-21T07:43:15.283189Z"
        }
      },
      "outputs": [
        {
          "name": "stderr",
          "output_type": "stream",
          "text": [
            "[2024-03-21T08:43:15]:INFO:Preparing Pathway computation\n"
          ]
        },
        {
          "name": "stdout",
          "output_type": "stream",
          "text": [
            "            | cnt  | value\n",
            "^ZTA1QF7... | 547  | False\n",
            "^DNBNDRQ... | 9453 | True\n"
          ]
        }
      ],
      "source": [
        "pw.debug.compute_and_print(accuracy)\n"
      ]
    },
    {
      "cell_type": "markdown",
      "id": "12940667",
      "metadata": {},
      "source": [
        "We obtain 9453 correct classifications out of the 10000: an error rate of 5.5%."
      ]
    },
    {
      "cell_type": "markdown",
      "id": "2abc191d",
      "metadata": {},
      "source": [
        "### Results"
      ]
    },
    {
      "cell_type": "markdown",
      "id": "1a8d4ee0",
      "metadata": {
        "jp-MarkdownHeadingCollapsed": true
      },
      "source": [
        "![Results image](https://pathway.com/assets/content/showcases/lsh/lsh_mnist_streaming.png)"
      ]
    },
    {
      "cell_type": "markdown",
      "id": "84cb3a63",
      "metadata": {},
      "source": [
        "As we can see, a normal streaming system exhibits poor performances at first due to an incomplete data set.\n",
        "\n",
        "Pathway, on the other hand, improves the accuracy of those previous queries by revisiting its predictions at each update. As the data grows, its error rate decreases until it converges to an error close to $5\\% $. Here is a sample of outcomes we get at the end of the stream.\n",
        "\n",
        "![Classification results](https://pathway.com/assets/content/showcases/lsh/lsh_example_classification.png)\n"
      ]
    },
    {
      "cell_type": "markdown",
      "id": "a54536ab",
      "metadata": {},
      "source": [
        "\n",
        "## Conclusion\n",
        "\n",
        "When doing classification on a stream in Pathway, the model is kept up to date automatically. As the model improves over time, results get better and previous classification decisions are also updated to the most up-to-date-model, without having to worry about it.\n",
        "\n",
        "In many streaming scenarios, the kNN+LSH approach we used provides a sweet-spot between speed and quality. If you want to know more about how all of this works, you can read our [article](/developers/showcases/lsh/lsh_chapter2) about it.\n",
        "\n",
        "In our next articles, we will show you how to use Pathway to build streaming recommender systems and real-time anomaly detection. (Coming soon.)"
      ]
    }
  ],
  "metadata": {
    "kernelspec": {
      "display_name": "Python 3 (ipykernel)",
      "language": "python",
      "name": "python3"
    },
    "language_info": {
      "codemirror_mode": {
        "name": "ipython",
        "version": 3
      },
      "file_extension": ".py",
      "mimetype": "text/x-python",
      "name": "python",
      "nbconvert_exporter": "python",
      "pygments_lexer": "ipython3",
      "version": "3.11.8"
    }
  },
  "nbformat": 4,
  "nbformat_minor": 5
}