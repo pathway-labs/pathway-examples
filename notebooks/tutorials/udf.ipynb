{
  "cells": [
    {
      "cell_type": "markdown",
      "metadata": {
        "id": "view-in-colab"
      },
      "source": [
        "<a href=\"https://colab.research.google.com/github/pathwaycom/pathway-examples/blob/main/tutorials/udf.ipynb\" target=\"_parent\"><img src=\"https://pathway.com/assets/colab-badge.svg\" alt=\"Run In Colab\" class=\"inline\"/></a>"
      ]
    },
    {
      "cell_type": "markdown",
      "source": [
        "# Installing Pathway with Python 3.10+\n",
        "\n",
        "In the cell below, we install Pathway into a Python 3.10+ Linux runtime.\n",
        "\n",
        "> **If you are running in Google Colab, please run the colab notebook (Ctrl+F9)**, disregarding the 'not authored by Google' warning.\n",
        "> \n",
        "> **The installation and loading time is less than 1 minute**.\n"
      ],
      "metadata": {
        "id": "notebook-instructions"
      }
    },
    {
      "cell_type": "code",
      "source": [
        "%%capture --no-display\n",
        "!pip install --prefer-binary pathway"
      ],
      "metadata": {
        "id": "pip-installation-pathway",
        "cellView": "form"
      },
      "execution_count": null,
      "outputs": []
    },
    {
      "cell_type": "markdown",
      "id": "fa8adb5e",
      "metadata": {},
      "source": [
        "# User-defined functions (UDFs) in Pathway\n",
        "Pathway supports a wide range of expressions that allow you to operate on individual rows. <!-- TODO: link article when done -->\n",
        "However, not all operations can be expressed that way.\n",
        "To address this problem, Pathway allows you to write a user-defined function (UDF) in Python.\n",
        "Such function is then applied to each row of your data individually in the same way as the predefined expressions.\n",
        "UDFs can be customized in various ways and all of them are explored in this guide.\n",
        "\n",
        "\n",
        "## Simple UDFs\n",
        "In the beginning, let's consider a simple case. You want to write a function that increments a number by 1.\n",
        "Just write a regular function and decorate it with [`pw.udf`](/developers/api-docs/pathway#pathway.udf)."
      ]
    },
    {
      "cell_type": "code",
      "execution_count": 1,
      "id": "8e5482e5",
      "metadata": {
        "execution": {
          "iopub.execute_input": "2024-03-26T09:32:17.982409Z",
          "iopub.status.busy": "2024-03-26T09:32:17.982171Z",
          "iopub.status.idle": "2024-03-26T09:32:23.304119Z",
          "shell.execute_reply": "2024-03-26T09:32:23.303627Z"
        }
      },
      "outputs": [],
      "source": [
        "import pathway as pw\n",
        "\n",
        "\n",
        "@pw.udf\n",
        "def inc(x: int) -> int:\n",
        "    return x + 1"
      ]
    },
    {
      "cell_type": "markdown",
      "id": "29ab5451",
      "metadata": {
        "lines_to_next_cell": 0
      },
      "source": [
        "and that's everything you need.\n",
        "Now you can use it as an ordinary Pathway expression, as in the example shown below."
      ]
    },
    {
      "cell_type": "code",
      "execution_count": 2,
      "id": "c2d29b17",
      "metadata": {
        "execution": {
          "iopub.execute_input": "2024-03-26T09:32:23.306852Z",
          "iopub.status.busy": "2024-03-26T09:32:23.306256Z",
          "iopub.status.idle": "2024-03-26T09:32:23.399834Z",
          "shell.execute_reply": "2024-03-26T09:32:23.399404Z"
        }
      },
      "outputs": [
        {
          "name": "stderr",
          "output_type": "stream",
          "text": [
            "[2024-03-26T10:32:23]:INFO:Preparing Pathway computation\n"
          ]
        },
        {
          "name": "stdout",
          "output_type": "stream",
          "text": [
            "            | value | value_inc\n",
            "^X1MXHYY... | 1     | 2\n",
            "^YYY4HAB... | 2     | 3\n",
            "^Z3QWT29... | 13    | 14\n"
          ]
        }
      ],
      "source": [
        "table = pw.debug.table_from_markdown(\n",
        "    \"\"\"\n",
        "    value\n",
        "      1\n",
        "      2\n",
        "     13\n",
        "\"\"\"\n",
        ")\n",
        "\n",
        "result = table.with_columns(value_inc=inc(table.value))\n",
        "pw.debug.compute_and_print(result)"
      ]
    },
    {
      "cell_type": "markdown",
      "id": "88ef22f0",
      "metadata": {},
      "source": [
        "It works! The printed table contains two columns - `value` and `value_inc` with the result of `inc` function.\n",
        "\n",
        "Note that we annotated the return type of `inc` (`int` in this case).\n",
        "It is important information for pathway as it is used to infer the type of `value_inc` column.\n",
        "Let's make sure that the return type is correct by printing the schema of the `result` table."
      ]
    },
    {
      "cell_type": "code",
      "execution_count": 3,
      "id": "8bd99e53",
      "metadata": {
        "execution": {
          "iopub.execute_input": "2024-03-26T09:32:23.401324Z",
          "iopub.status.busy": "2024-03-26T09:32:23.401176Z",
          "iopub.status.idle": "2024-03-26T09:32:23.403485Z",
          "shell.execute_reply": "2024-03-26T09:32:23.403146Z"
        }
      },
      "outputs": [
        {
          "name": "stdout",
          "output_type": "stream",
          "text": [
            "value | value_inc\n",
            "INT   | INT      \n"
          ]
        }
      ],
      "source": [
        "print(result.schema)"
      ]
    },
    {
      "cell_type": "markdown",
      "id": "a884df38",
      "metadata": {
        "lines_to_next_cell": 0
      },
      "source": [
        "It is correct. The return type can also be set in a decorator:"
      ]
    },
    {
      "cell_type": "code",
      "execution_count": 4,
      "id": "ad4a37a8",
      "metadata": {
        "execution": {
          "iopub.execute_input": "2024-03-26T09:32:23.404887Z",
          "iopub.status.busy": "2024-03-26T09:32:23.404688Z",
          "iopub.status.idle": "2024-03-26T09:32:23.420187Z",
          "shell.execute_reply": "2024-03-26T09:32:23.419828Z"
        }
      },
      "outputs": [
        {
          "name": "stderr",
          "output_type": "stream",
          "text": [
            "[2024-03-26T10:32:23]:INFO:Preparing Pathway computation\n"
          ]
        },
        {
          "name": "stdout",
          "output_type": "stream",
          "text": [
            "            | value | value_inc\n",
            "^X1MXHYY... | 1     | 2\n",
            "^YYY4HAB... | 2     | 3\n",
            "^Z3QWT29... | 13    | 14\n",
            "value | value_inc\n",
            "INT   | INT      \n"
          ]
        }
      ],
      "source": [
        "@pw.udf(return_type=int)\n",
        "def inc_2(x: int):\n",
        "    return x + 1\n",
        "\n",
        "\n",
        "result_2 = table.with_columns(value_inc=inc_2(table.value))\n",
        "pw.debug.compute_and_print(result_2)\n",
        "print(result_2.schema)"
      ]
    },
    {
      "cell_type": "markdown",
      "id": "b636b484",
      "metadata": {
        "lines_to_next_cell": 0
      },
      "source": [
        "In this case, it is also set correctly.\n",
        "If a UDF is not annotated and the `return_type` is not set, Pathway can't determine the return type of the column and sets it as `Any`.\n",
        "It is an undesirable situation as many expressions can't be called on columns of type `Any`.\n",
        "For example, you can't add a column with type `Any` to a column of type `int` (you also can't add `Any` to `Any`), but you can add a column of type `int` to a column of type `int`."
      ]
    },
    {
      "cell_type": "code",
      "execution_count": 5,
      "id": "46eb0154",
      "metadata": {
        "execution": {
          "iopub.execute_input": "2024-03-26T09:32:23.421470Z",
          "iopub.status.busy": "2024-03-26T09:32:23.421330Z",
          "iopub.status.idle": "2024-03-26T09:32:23.436758Z",
          "shell.execute_reply": "2024-03-26T09:32:23.436397Z"
        }
      },
      "outputs": [
        {
          "name": "stderr",
          "output_type": "stream",
          "text": [
            "[2024-03-26T10:32:23]:INFO:Preparing Pathway computation\n"
          ]
        },
        {
          "name": "stdout",
          "output_type": "stream",
          "text": [
            "            | value | value_inc\n",
            "^X1MXHYY... | 1     | 2\n",
            "^YYY4HAB... | 2     | 3\n",
            "^Z3QWT29... | 13    | 14\n",
            "value | value_inc\n",
            "INT   | ANY      \n"
          ]
        }
      ],
      "source": [
        "@pw.udf\n",
        "def inc_3(x: int):\n",
        "    return x + 1\n",
        "\n",
        "\n",
        "result_3 = table.with_columns(value_inc=inc_3(table.value))\n",
        "pw.debug.compute_and_print(result_3)\n",
        "print(result_3.schema)"
      ]
    },
    {
      "cell_type": "markdown",
      "id": "2a1d6628",
      "metadata": {},
      "source": [
        "As you can see, this time the type of `value_inc` column is `Any`."
      ]
    },
    {
      "cell_type": "markdown",
      "id": "abc82e2e",
      "metadata": {},
      "source": [
        "Python functions can also be called on data by using [`pw.apply`](/developers/api-docs/pathway#pathway.apply)/[`pw.apply_with_type`](/developers/api-docs/pathway#pathway.apply_with_type) functions."
      ]
    },
    {
      "cell_type": "code",
      "execution_count": 6,
      "id": "19a544f3",
      "metadata": {
        "execution": {
          "iopub.execute_input": "2024-03-26T09:32:23.438288Z",
          "iopub.status.busy": "2024-03-26T09:32:23.438007Z",
          "iopub.status.idle": "2024-03-26T09:32:23.454811Z",
          "shell.execute_reply": "2024-03-26T09:32:23.454442Z"
        }
      },
      "outputs": [
        {
          "name": "stderr",
          "output_type": "stream",
          "text": [
            "[2024-03-26T10:32:23]:INFO:Preparing Pathway computation\n"
          ]
        },
        {
          "name": "stdout",
          "output_type": "stream",
          "text": [
            "            | value | value_inc\n",
            "^X1MXHYY... | 1     | 2\n",
            "^YYY4HAB... | 2     | 3\n",
            "^Z3QWT29... | 13    | 14\n",
            "value | value_inc\n",
            "INT   | INT      \n"
          ]
        }
      ],
      "source": [
        "result_4 = table.with_columns(\n",
        "    value_inc=pw.apply_with_type(lambda x: x + 1, int, table.value)\n",
        ")\n",
        "pw.debug.compute_and_print(result_4)\n",
        "print(result_4.schema)"
      ]
    },
    {
      "cell_type": "markdown",
      "id": "55d027da",
      "metadata": {},
      "source": [
        "*Remark:* to keep the examples as simple as possible, the code pieces in this guide use `table_from_markdown` to define the example tables and `compute_and_print` to run the computations.\n",
        "Those functions use Pathway in the static mode.\n",
        "However, Pathway is a streaming data processing system and can work on dynamically changing data.\n",
        "See [Pathway modes](/developers/user-guide/connecting-to-data/streaming-and-static-modes/) for more info on this topic.\n",
        "\n",
        "Also note that the `inc` function is only present in this guide for demonstration purposes.\n",
        "It is possible to get the same result using Pathway native operations and this is the recommended way as then the computations are performed in Rust, not Python.\n",
        "\n",
        "The UDFs are useful for more complicated solutions that cannot be fully expressed in Pathway but the functions in the guide are kept simple to focus on UDFs usage and configuration options."
      ]
    },
    {
      "cell_type": "code",
      "execution_count": 7,
      "id": "009ba94c",
      "metadata": {
        "execution": {
          "iopub.execute_input": "2024-03-26T09:32:23.456180Z",
          "iopub.status.busy": "2024-03-26T09:32:23.456046Z",
          "iopub.status.idle": "2024-03-26T09:32:23.471723Z",
          "shell.execute_reply": "2024-03-26T09:32:23.471367Z"
        }
      },
      "outputs": [
        {
          "name": "stderr",
          "output_type": "stream",
          "text": [
            "[2024-03-26T10:32:23]:INFO:Preparing Pathway computation\n"
          ]
        },
        {
          "name": "stdout",
          "output_type": "stream",
          "text": [
            "            | value | value_inc\n",
            "^X1MXHYY... | 1     | 2\n",
            "^YYY4HAB... | 2     | 3\n",
            "^Z3QWT29... | 13    | 14\n"
          ]
        }
      ],
      "source": [
        "result_5 = table.with_columns(value_inc=table.value + 1)\n",
        "pw.debug.compute_and_print(result_5)"
      ]
    },
    {
      "cell_type": "markdown",
      "id": "284937b8",
      "metadata": {},
      "source": [
        "## Calling library functions\n",
        "The UDF mechanism allows you to also call external functions. You can, for example, use [`scipy`](https://scipy.org/) to compute quantiles of the normal distribution."
      ]
    },
    {
      "cell_type": "code",
      "execution_count": 8,
      "id": "aa4b4681",
      "metadata": {
        "execution": {
          "iopub.execute_input": "2024-03-26T09:32:23.473100Z",
          "iopub.status.busy": "2024-03-26T09:32:23.472891Z",
          "iopub.status.idle": "2024-03-26T09:32:23.493662Z",
          "shell.execute_reply": "2024-03-26T09:32:23.493299Z"
        }
      },
      "outputs": [
        {
          "name": "stderr",
          "output_type": "stream",
          "text": [
            "[2024-03-26T10:32:23]:INFO:Preparing Pathway computation\n"
          ]
        },
        {
          "name": "stdout",
          "output_type": "stream",
          "text": [
            "            | q    | value\n",
            "^X1MXHYY... | 0.02 | -2.053748910631823\n",
            "^YYY4HAB... | 0.5  | 0.0\n",
            "^Z3QWT29... | 0.84 | 0.994457883209753\n",
            "^3CZ78B4... | 0.99 | 2.3263478740408408\n"
          ]
        }
      ],
      "source": [
        "from scipy.stats import norm\n",
        "\n",
        "table = pw.debug.table_from_markdown(\n",
        "    \"\"\"\n",
        "    q\n",
        "    0.02\n",
        "    0.5\n",
        "    0.84\n",
        "    0.99\n",
        "\"\"\"\n",
        ")\n",
        "quantiles = table.with_columns(value=pw.apply_with_type(norm.ppf, float, table.q))\n",
        "pw.debug.compute_and_print(quantiles)"
      ]
    },
    {
      "cell_type": "markdown",
      "id": "fd53eb29",
      "metadata": {},
      "source": [
        "Using [`norm.ppf`](https://docs.scipy.org/doc/scipy/reference/generated/scipy.stats.norm.html) is convenient because it is a function, not a method.\n",
        "To use an external method it is better to create a wrapper.\n",
        "Below you can find an example of such a wrapper that extracts the [`pandas.Timestamp.is_leap_year`](https://pandas.pydata.org/docs/reference/api/pandas.Timestamp.is_leap_year.html) property and puts its value to the column `leap_year`."
      ]
    },
    {
      "cell_type": "code",
      "execution_count": 9,
      "id": "6f249960",
      "metadata": {
        "execution": {
          "iopub.execute_input": "2024-03-26T09:32:23.495061Z",
          "iopub.status.busy": "2024-03-26T09:32:23.494926Z",
          "iopub.status.idle": "2024-03-26T09:32:23.527963Z",
          "shell.execute_reply": "2024-03-26T09:32:23.527614Z"
        }
      },
      "outputs": [
        {
          "name": "stderr",
          "output_type": "stream",
          "text": [
            "[2024-03-26T10:32:23]:INFO:Preparing Pathway computation\n"
          ]
        },
        {
          "name": "stdout",
          "output_type": "stream",
          "text": [
            "            | date_time           | leap_year\n",
            "^X1MXHYY... | 2023-01-01 12:00:00 | False\n",
            "^YYY4HAB... | 2024-01-01 12:00:00 | True\n",
            "^Z3QWT29... | 2025-01-01 12:00:00 | False\n"
          ]
        }
      ],
      "source": [
        "import pandas as pd\n",
        "\n",
        "table = pw.debug.table_from_markdown(\n",
        "    \"\"\"\n",
        "    date_str\n",
        "    2023-01-01T12:00:00\n",
        "    2024-01-01T12:00:00\n",
        "    2025-01-01T12:00:00\n",
        "\"\"\"\n",
        ").select(date_time=pw.this.date_str.dt.strptime(\"%Y-%m-%dT%H:%M:%S\"))\n",
        "\n",
        "\n",
        "@pw.udf\n",
        "def is_leap_year(date_time: pd.Timestamp) -> bool:\n",
        "    return date_time.is_leap_year\n",
        "\n",
        "\n",
        "result = table.with_columns(leap_year=is_leap_year(pw.this.date_time))\n",
        "pw.debug.compute_and_print(result)"
      ]
    },
    {
      "cell_type": "markdown",
      "id": "c8fefece",
      "metadata": {},
      "source": [
        "## Propagating Nones\n",
        "By default, Pathway UDFs are called on all rows, however it may not always be desired.\n",
        "In particular, if you have a function that requires values to be non-optional but your data has some missing entries, you may want to return `None` immediately instead of calling a function.\n",
        "In Pathway, you can enable such mechanism with the `propagate_none` parameter of `pw.udf`.\n",
        "By default, it is set to `False`. Setting it  to `True` makes Pathway to look at the inputs of the UDF, and if at least one of the arguments is `None`, then the function is not called, and `None` is returned instead."
      ]
    },
    {
      "cell_type": "code",
      "execution_count": 10,
      "id": "c1126859",
      "metadata": {
        "execution": {
          "iopub.execute_input": "2024-03-26T09:32:23.529326Z",
          "iopub.status.busy": "2024-03-26T09:32:23.529190Z",
          "iopub.status.idle": "2024-03-26T09:32:23.557132Z",
          "shell.execute_reply": "2024-03-26T09:32:23.556793Z"
        }
      },
      "outputs": [
        {
          "name": "stderr",
          "output_type": "stream",
          "text": [
            "[2024-03-26T10:32:23]:INFO:Preparing Pathway computation\n"
          ]
        },
        {
          "name": "stdout",
          "output_type": "stream",
          "text": [
            "            | a  | b  | c\n",
            "^3CZ78B4... |    | 12 |\n",
            "^YYY4HAB... | 3  |    |\n",
            "^X1MXHYY... | 12 | 3  | 36\n",
            "^Z3QWT29... | 23 | 42 | 966\n"
          ]
        }
      ],
      "source": [
        "table = pw.debug.table_from_markdown(\n",
        "    \"\"\"\n",
        "     a |  b\n",
        "    12 |  3\n",
        "     3 |\n",
        "    23 | 42\n",
        "       | 12\n",
        "\"\"\"\n",
        ")\n",
        "\n",
        "\n",
        "@pw.udf(propagate_none=True)\n",
        "def mul(a: int, b: int) -> int:\n",
        "    return a * b\n",
        "\n",
        "\n",
        "result = table.with_columns(c=mul(pw.this.a, pw.this.b))\n",
        "pw.debug.compute_and_print(result)"
      ]
    },
    {
      "cell_type": "markdown",
      "id": "229a5e62",
      "metadata": {},
      "source": [
        "If `propagate_none` was not set, the `mul` function would error."
      ]
    },
    {
      "cell_type": "markdown",
      "id": "38e99c5b",
      "metadata": {},
      "source": [
        "## Determinism\n",
        "Pathway assumes that a UDF is not deterministic unless told otherwise.\n",
        "In this context, being deterministic means that the function always returns the same value for the same arguments.\n",
        "Pathway requires this information for consistency reasons.\n",
        "If you're sure that your function is deterministic, you can set `deterministic=True` as it usually improves the speed and memory requirements of the computation.\n",
        "However sometimes the function may be nondeterministic in a non-obvious way. For example, some linear algebra operations on floating point numbers that use multithreading under the hood can return slightly different results across runs. Such functions are not deterministic.\n",
        "If this explanation is enough for you, feel free to skip to the next section.\n",
        "If you want to learn more about how Pathway handles non-deterministic functions, dive in.\n",
        "\n",
        "To maintain consistency, it'll memoize the result of a UDF call until the corresponding input row is deleted.\n",
        "Being able to produce deleting rows is the reason why Pathway has to store the results of UDFs.\n",
        "The values in the inserted and deleted entries have to be the same so that they can cancel out.\n",
        "If a UDF is non-deterministic, it can produce a different value and the entries can't cancel out as they are not equal.\n",
        "To get the same values at row deletion as at insertion, the results have to be remembered.\n",
        "When the row is deleted, there is no more need to remember the result of the call and it can be discarded.\n",
        "\n",
        "When you're sure that the function is deterministic, you can avoid storing the results by setting `deterministic=True` in the `pw.udf` decorator.\n",
        "It'll usually improve the speed and memory requirements of the computation (especially for fast functions).\n",
        "It is recommended to set it always when the function is deterministic.\n",
        "\n",
        "If the function is slow, setting `deterministic=False` might result in a faster execution, but it's not recommended if the function is deterministic. It's better to use [caching](#caching).\n",
        "Caching can help with slow functions even if you call the function with each argument only once.\n",
        "It because Pathway has to evaluate the function also on deletion and when it is cached, the value can be taken from cache instead of evaluating it.\n",
        "\n",
        "Let's see the effects of `deterministic` parameter in practice. To do that, let's simulate a stream.\n",
        "It contains special columns: `id` that sets the id of the row (a deletion has to have the same `id` as the insertion it removes),\n",
        "`__time__` that simulates the arrival time to the engine and `__diff__` that tells whether the entry is an insertion ($1$) or deletion ($-1$).\n",
        "At time $2$ two rows are inserted.\n",
        "At time $4$ one row is upserted (with an upsert represented as a deletion and insertion with the same time and id)."
      ]
    },
    {
      "cell_type": "code",
      "execution_count": 11,
      "id": "128cb8e6",
      "metadata": {
        "execution": {
          "iopub.execute_input": "2024-03-26T09:32:23.558559Z",
          "iopub.status.busy": "2024-03-26T09:32:23.558423Z",
          "iopub.status.idle": "2024-03-26T09:32:23.565973Z",
          "shell.execute_reply": "2024-03-26T09:32:23.565652Z"
        },
        "lines_to_next_cell": 0
      },
      "outputs": [],
      "source": [
        "table = pw.debug.table_from_markdown(\n",
        "    \"\"\"\n",
        "    id | a | b | __time__ | __diff__\n",
        "     1 | 2 | 3 |     2    |     1\n",
        "     2 | 4 | 1 |     2    |     1\n",
        "     1 | 2 | 3 |     4    |    -1\n",
        "     1 | 3 | 3 |     4    |     1\n",
        "\"\"\"\n",
        ")"
      ]
    },
    {
      "cell_type": "markdown",
      "id": "f235c504",
      "metadata": {
        "lines_to_next_cell": 2
      },
      "source": [
        "You apply a UDF with default parameters (`deterministic=False`) first."
      ]
    },
    {
      "cell_type": "code",
      "execution_count": 12,
      "id": "ba8f4c67",
      "metadata": {
        "execution": {
          "iopub.execute_input": "2024-03-26T09:32:23.567482Z",
          "iopub.status.busy": "2024-03-26T09:32:23.567288Z",
          "iopub.status.idle": "2024-03-26T09:32:23.584205Z",
          "shell.execute_reply": "2024-03-26T09:32:23.583858Z"
        }
      },
      "outputs": [
        {
          "name": "stderr",
          "output_type": "stream",
          "text": [
            "[2024-03-26T10:32:23]:INFO:Preparing Pathway computation\n"
          ]
        },
        {
          "name": "stdout",
          "output_type": "stream",
          "text": [
            "add(2, 3)\n",
            "add(4, 1)\n",
            "add(3, 3)\n",
            "            | a | b | c\n",
            "^YYY4HAB... | 3 | 3 | 6\n",
            "^Z3QWT29... | 4 | 1 | 5\n"
          ]
        }
      ],
      "source": [
        "@pw.udf\n",
        "def add(a: int, b: int) -> int:\n",
        "    print(f\"add({a}, {b})\")\n",
        "    return a + b\n",
        "\n",
        "\n",
        "result_default = table.select(pw.this.a, pw.this.b, c=add(pw.this.a, pw.this.b))\n",
        "pw.debug.compute_and_print(result_default)"
      ]
    },
    {
      "cell_type": "markdown",
      "id": "8ab1efd1",
      "metadata": {
        "lines_to_next_cell": 2
      },
      "source": [
        "As you can see from the printed messages, the function is called three times.\n",
        "It is because the function was not called on deletion.\n",
        "\n",
        "This time, let's tell Pathway that the function is deterministic."
      ]
    },
    {
      "cell_type": "code",
      "execution_count": 13,
      "id": "ec7b00b0",
      "metadata": {
        "execution": {
          "iopub.execute_input": "2024-03-26T09:32:23.585486Z",
          "iopub.status.busy": "2024-03-26T09:32:23.585356Z",
          "iopub.status.idle": "2024-03-26T09:32:23.601812Z",
          "shell.execute_reply": "2024-03-26T09:32:23.601466Z"
        }
      },
      "outputs": [
        {
          "name": "stderr",
          "output_type": "stream",
          "text": [
            "[2024-03-26T10:32:23]:INFO:Preparing Pathway computation\n"
          ]
        },
        {
          "name": "stdout",
          "output_type": "stream",
          "text": [
            "add_deterministic(2, 3)\n",
            "add_deterministic(2, 3)\n",
            "add_deterministic(3, 3)\n",
            "add_deterministic(4, 1)\n",
            "            | a | b | c\n",
            "^YYY4HAB... | 3 | 3 | 6\n",
            "^Z3QWT29... | 4 | 1 | 5\n"
          ]
        }
      ],
      "source": [
        "@pw.udf(deterministic=True)\n",
        "def add_deterministic(a: int, b: int) -> int:\n",
        "    print(f\"add_deterministic({a}, {b})\")\n",
        "    return a + b\n",
        "\n",
        "\n",
        "result_default = table.select(\n",
        "    pw.this.a, pw.this.b, c=add_deterministic(pw.this.a, pw.this.b)\n",
        ")\n",
        "pw.debug.compute_and_print(result_default)"
      ]
    },
    {
      "cell_type": "markdown",
      "id": "c6b723f7",
      "metadata": {},
      "source": [
        "This time, the function was called four times (once for each entry) and there was no need to remember anything!\n",
        "The function is truly deterministic and the result is consistent."
      ]
    },
    {
      "cell_type": "markdown",
      "id": "7b8ce31c",
      "metadata": {},
      "source": [
        "## UDFs should not be used for side effects\n",
        "UDFs are Python functions so you can capture non-local variables and modify them inside the functions.\n",
        "From the UDF it is also possible to call external services and modify their state.\n",
        "This is, however, strongly discouraged.\n",
        "There's no guarantee that Pathway will run a UDF exactly once for each row.\n",
        "If the function is non-deterministic it might not always be called (see above).\n",
        "Also if caching is set, the functions will be called less frequently.\n",
        "\n",
        "Note that we sometimes produce side effects in this tutorial by using the `print` function.\n",
        "However, we use it to show the behavior of the system, not to use the printed messages in some other computation.\n",
        "\n",
        "If you want to produce side effects, [`pw.io.subscribe`](/developers/api-docs/pathway-io#pathway.io.subscribe) should be used instead."
      ]
    },
    {
      "cell_type": "markdown",
      "id": "148a4a3c",
      "metadata": {
        "lines_to_next_cell": 0
      },
      "source": [
        "## Caching\n",
        "If the function you call is expensive and you call it frequently, you may want to cache its results.\n",
        "To do this, you can set `cache_strategy` in `pw.udf` decorator. Currently, the supported caching strategies are [`DiskCache`](/developers/api-docs/udfs#pathway.udfs.DiskCache) and [`InMemoryCache`](/developers/api-docs/udfs#pathway.udfs.InMemoryCache).\n",
        "The `DiskCache` requires the persistence to be enabled. It caches the results in the persistent storage.\n",
        "As a consequence, the results can be reused after the program restart.\n",
        "The `InMemoryStorage` caches results in memory.\n",
        "As a result, it does not need persistence config but the results are not available after the computations restart.\n",
        "\n",
        "Let's first run the example without caching:"
      ]
    },
    {
      "cell_type": "code",
      "execution_count": 14,
      "id": "abce1a9f",
      "metadata": {
        "execution": {
          "iopub.execute_input": "2024-03-26T09:32:23.603154Z",
          "iopub.status.busy": "2024-03-26T09:32:23.603018Z",
          "iopub.status.idle": "2024-03-26T09:32:23.622274Z",
          "shell.execute_reply": "2024-03-26T09:32:23.621933Z"
        }
      },
      "outputs": [
        {
          "name": "stderr",
          "output_type": "stream",
          "text": [
            "[2024-03-26T10:32:23]:INFO:Preparing Pathway computation\n"
          ]
        },
        {
          "name": "stdout",
          "output_type": "stream",
          "text": [
            "inc(2)\n",
            "inc(13)\n",
            "inc(1)\n",
            "inc(1)\n",
            "inc(2)\n",
            "inc(1)\n",
            "            | value | value_inc\n",
            "^X1MXHYY... | 1     | 2\n",
            "^3CZ78B4... | 1     | 2\n",
            "^3S2X6B2... | 1     | 2\n",
            "^YYY4HAB... | 2     | 3\n",
            "^3HN31E1... | 2     | 3\n",
            "^Z3QWT29... | 13    | 14\n"
          ]
        }
      ],
      "source": [
        "\n",
        "table = pw.debug.table_from_markdown(\n",
        "    \"\"\"\n",
        "    value | __time__\n",
        "      1   |     2\n",
        "      2   |     2\n",
        "     13   |     2\n",
        "      1   |     2\n",
        "      2   |     2\n",
        "      1   |     2\n",
        "\"\"\"\n",
        ")\n",
        "\n",
        "\n",
        "@pw.udf(deterministic=True)\n",
        "def inc_no_cache(x: int) -> int:\n",
        "    print(f\"inc({x})\")\n",
        "    return x + 1\n",
        "\n",
        "\n",
        "result_no_cache = table.with_columns(value_inc=inc_no_cache(table.value))\n",
        "pw.debug.compute_and_print(result_no_cache)"
      ]
    },
    {
      "cell_type": "markdown",
      "id": "07f6e418",
      "metadata": {
        "lines_to_next_cell": 2
      },
      "source": [
        "As you can see from printed messages, the UDF was called 6 times.\n",
        "\n",
        "Let's use `InMemoryCache` this time:"
      ]
    },
    {
      "cell_type": "code",
      "execution_count": 15,
      "id": "71446531",
      "metadata": {
        "execution": {
          "iopub.execute_input": "2024-03-26T09:32:23.623584Z",
          "iopub.status.busy": "2024-03-26T09:32:23.623416Z",
          "iopub.status.idle": "2024-03-26T09:32:23.639024Z",
          "shell.execute_reply": "2024-03-26T09:32:23.638677Z"
        }
      },
      "outputs": [
        {
          "name": "stderr",
          "output_type": "stream",
          "text": [
            "[2024-03-26T10:32:23]:INFO:Preparing Pathway computation\n"
          ]
        },
        {
          "name": "stdout",
          "output_type": "stream",
          "text": [
            "inc(2)\n",
            "inc(13)\n",
            "inc(1)\n",
            "            | value | value_inc\n",
            "^X1MXHYY... | 1     | 2\n",
            "^3CZ78B4... | 1     | 2\n",
            "^3S2X6B2... | 1     | 2\n",
            "^YYY4HAB... | 2     | 3\n",
            "^3HN31E1... | 2     | 3\n",
            "^Z3QWT29... | 13    | 14\n"
          ]
        }
      ],
      "source": [
        "@pw.udf(deterministic=True, cache_strategy=pw.udfs.InMemoryCache())\n",
        "def inc_in_memory_cache(x: int) -> int:\n",
        "    print(f\"inc({x})\")\n",
        "    return x + 1\n",
        "\n",
        "\n",
        "result_in_memory_cache = table.with_columns(value_inc=inc_in_memory_cache(table.value))\n",
        "pw.debug.compute_and_print(result_in_memory_cache)"
      ]
    },
    {
      "cell_type": "markdown",
      "id": "22fa9e92",
      "metadata": {
        "lines_to_next_cell": 2
      },
      "source": [
        "This time, the function was called only three times.\n",
        "Other results were extracted from the cache.\n",
        "If you run that piece of code as a separate program, it'd compute the results from scratch at every restart (because the results are stored in memory).\n",
        "In a notebook you have to restart the runtime to see the effect.\n",
        "\n",
        "This behavior might be problematic if you want to keep the results between restarts.\n",
        "This is where `DiskCache` comes in.\n",
        "It stores the results of the calls in persistent storage.\n",
        "In the example, it is located in the `./Cache` directory.\n",
        "To read more about setting up persistence see the [persistence guide](/developers/user-guide/persistence-consistency-scaling/persistence/)."
      ]
    },
    {
      "cell_type": "code",
      "execution_count": 16,
      "id": "750ed012",
      "metadata": {
        "execution": {
          "iopub.execute_input": "2024-03-26T09:32:23.640328Z",
          "iopub.status.busy": "2024-03-26T09:32:23.640195Z",
          "iopub.status.idle": "2024-03-26T09:32:23.760606Z",
          "shell.execute_reply": "2024-03-26T09:32:23.760245Z"
        }
      },
      "outputs": [
        {
          "name": "stderr",
          "output_type": "stream",
          "text": [
            "[2024-03-26T10:32:23]:INFO:Preparing Pathway computation\n"
          ]
        },
        {
          "name": "stderr",
          "output_type": "stream",
          "text": [
            "[2024-03-26T10:32:23]:INFO:Merge the current state with block: StoredMetadata { frontiers: OffsetAntichainCollection { antichains: {} }, storage_types: {}, last_advanced_timestamp: 4 }\n"
          ]
        },
        {
          "name": "stderr",
          "output_type": "stream",
          "text": [
            "[2024-03-26T10:32:23]:INFO:Merge the current state with block: StoredMetadata { frontiers: OffsetAntichainCollection { antichains: {} }, storage_types: {}, last_advanced_timestamp: 6 }\n"
          ]
        },
        {
          "name": "stderr",
          "output_type": "stream",
          "text": [
            "[2024-03-26T10:32:23]:INFO:Merge the current state with block: StoredMetadata { frontiers: OffsetAntichainCollection { antichains: {} }, storage_types: {}, last_advanced_timestamp: 5 }\n"
          ]
        },
        {
          "name": "stderr",
          "output_type": "stream",
          "text": [
            "[2024-03-26T10:32:23]:INFO:Merge the current state with block: StoredMetadata { frontiers: OffsetAntichainCollection { antichains: {} }, storage_types: {}, last_advanced_timestamp: 7 }\n"
          ]
        },
        {
          "name": "stderr",
          "output_type": "stream",
          "text": [
            "[2024-03-26T10:32:23]:INFO:Merge the current state with block: StoredMetadata { frontiers: OffsetAntichainCollection { antichains: {} }, storage_types: {}, last_advanced_timestamp: 3 }\n"
          ]
        },
        {
          "name": "stderr",
          "output_type": "stream",
          "text": [
            "[2024-03-26T10:32:23]:INFO:Merge the current state with block: StoredMetadata { frontiers: OffsetAntichainCollection { antichains: {} }, storage_types: {}, last_advanced_timestamp: 12 }\n"
          ]
        },
        {
          "name": "stderr",
          "output_type": "stream",
          "text": [
            "[2024-03-26T10:32:23]:INFO:Merge the current state with block: StoredMetadata { frontiers: OffsetAntichainCollection { antichains: {} }, storage_types: {}, last_advanced_timestamp: 2 }\n"
          ]
        },
        {
          "name": "stderr",
          "output_type": "stream",
          "text": [
            "[2024-03-26T10:32:23]:INFO:Merge the current state with block: StoredMetadata { frontiers: OffsetAntichainCollection { antichains: {} }, storage_types: {}, last_advanced_timestamp: 1 }\n"
          ]
        },
        {
          "name": "stderr",
          "output_type": "stream",
          "text": [
            "[2024-03-26T10:32:23]:INFO:Merge the current state with block: StoredMetadata { frontiers: OffsetAntichainCollection { antichains: {} }, storage_types: {}, last_advanced_timestamp: 10 }\n"
          ]
        },
        {
          "name": "stderr",
          "output_type": "stream",
          "text": [
            "[2024-03-26T10:32:23]:INFO:Merge the current state with block: StoredMetadata { frontiers: OffsetAntichainCollection { antichains: {} }, storage_types: {}, last_advanced_timestamp: 9 }\n"
          ]
        },
        {
          "name": "stderr",
          "output_type": "stream",
          "text": [
            "[2024-03-26T10:32:23]:INFO:Merge the current state with block: StoredMetadata { frontiers: OffsetAntichainCollection { antichains: {} }, storage_types: {}, last_advanced_timestamp: 11 }\n"
          ]
        },
        {
          "name": "stderr",
          "output_type": "stream",
          "text": [
            "[2024-03-26T10:32:23]:INFO:Merge the current state with block: StoredMetadata { frontiers: OffsetAntichainCollection { antichains: {} }, storage_types: {}, last_advanced_timestamp: 8 }\n"
          ]
        },
        {
          "name": "stderr",
          "output_type": "stream",
          "text": [
            "[2024-03-26T10:32:23]:INFO:Merge the current state with block: StoredMetadata { frontiers: OffsetAntichainCollection { antichains: {} }, storage_types: {}, last_advanced_timestamp: 3 }\n"
          ]
        },
        {
          "name": "stderr",
          "output_type": "stream",
          "text": [
            "[2024-03-26T10:32:23]:INFO:Merge the current state with block: StoredMetadata { frontiers: OffsetAntichainCollection { antichains: {} }, storage_types: {}, last_advanced_timestamp: 12 }\n"
          ]
        },
        {
          "name": "stderr",
          "output_type": "stream",
          "text": [
            "[2024-03-26T10:32:23]:INFO:Merge the current state with block: StoredMetadata { frontiers: OffsetAntichainCollection { antichains: {} }, storage_types: {}, last_advanced_timestamp: 2 }\n"
          ]
        },
        {
          "name": "stderr",
          "output_type": "stream",
          "text": [
            "[2024-03-26T10:32:23]:INFO:Merge the current state with block: StoredMetadata { frontiers: OffsetAntichainCollection { antichains: {} }, storage_types: {}, last_advanced_timestamp: 5 }\n"
          ]
        },
        {
          "name": "stderr",
          "output_type": "stream",
          "text": [
            "[2024-03-26T10:32:23]:INFO:Merge the current state with block: StoredMetadata { frontiers: OffsetAntichainCollection { antichains: {} }, storage_types: {}, last_advanced_timestamp: 7 }\n"
          ]
        },
        {
          "name": "stderr",
          "output_type": "stream",
          "text": [
            "[2024-03-26T10:32:23]:INFO:Merge the current state with block: StoredMetadata { frontiers: OffsetAntichainCollection { antichains: {} }, storage_types: {}, last_advanced_timestamp: 4 }\n"
          ]
        },
        {
          "name": "stderr",
          "output_type": "stream",
          "text": [
            "[2024-03-26T10:32:23]:INFO:Merge the current state with block: StoredMetadata { frontiers: OffsetAntichainCollection { antichains: {} }, storage_types: {}, last_advanced_timestamp: 6 }\n"
          ]
        },
        {
          "name": "stderr",
          "output_type": "stream",
          "text": [
            "[2024-03-26T10:32:23]:INFO:Merge the current state with block: StoredMetadata { frontiers: OffsetAntichainCollection { antichains: {} }, storage_types: {}, last_advanced_timestamp: 8 }\n"
          ]
        },
        {
          "name": "stderr",
          "output_type": "stream",
          "text": [
            "[2024-03-26T10:32:23]:INFO:Merge the current state with block: StoredMetadata { frontiers: OffsetAntichainCollection { antichains: {} }, storage_types: {}, last_advanced_timestamp: 9 }\n"
          ]
        },
        {
          "name": "stderr",
          "output_type": "stream",
          "text": [
            "[2024-03-26T10:32:23]:INFO:Merge the current state with block: StoredMetadata { frontiers: OffsetAntichainCollection { antichains: {} }, storage_types: {}, last_advanced_timestamp: 11 }\n"
          ]
        },
        {
          "name": "stderr",
          "output_type": "stream",
          "text": [
            "[2024-03-26T10:32:23]:INFO:Merge the current state with block: StoredMetadata { frontiers: OffsetAntichainCollection { antichains: {} }, storage_types: {}, last_advanced_timestamp: 1 }\n"
          ]
        },
        {
          "name": "stderr",
          "output_type": "stream",
          "text": [
            "[2024-03-26T10:32:23]:INFO:Merge the current state with block: StoredMetadata { frontiers: OffsetAntichainCollection { antichains: {} }, storage_types: {}, last_advanced_timestamp: 10 }\n"
          ]
        },
        {
          "name": "stdout",
          "output_type": "stream",
          "text": [
            "            | value | value_inc\n",
            "^X1MXHYY... | 1     | 2\n",
            "^3CZ78B4... | 1     | 2\n",
            "^3S2X6B2... | 1     | 2\n",
            "^YYY4HAB... | 2     | 3\n",
            "^3HN31E1... | 2     | 3\n",
            "^Z3QWT29... | 13    | 14\n"
          ]
        }
      ],
      "source": [
        "@pw.udf(deterministic=True, cache_strategy=pw.udfs.DiskCache())\n",
        "def inc_disk_cache(x: int) -> int:\n",
        "    print(f\"inc({x})\")\n",
        "    return x + 1\n",
        "\n",
        "\n",
        "persistence_config = pw.persistence.Config.simple_config(\n",
        "    pw.persistence.Backend.filesystem(\"./Cache\"),\n",
        "    persistence_mode=pw.PersistenceMode.UDF_CACHING,\n",
        ")\n",
        "result_disk_cache = table.with_columns(value_inc=inc_disk_cache(table.value))\n",
        "pw.debug.compute_and_print(result_disk_cache, persistence_config=persistence_config)"
      ]
    },
    {
      "cell_type": "markdown",
      "id": "f7c09821",
      "metadata": {},
      "source": [
        "If, instead of printing output on the screen, you want to use one of the [output connectors](/developers/user-guide/connectors/csv_connectors/), you need to put `persistence_config` in `pw.run`, like this:"
      ]
    },
    {
      "cell_type": "code",
      "execution_count": 17,
      "id": "88f1dbb0",
      "metadata": {
        "execution": {
          "iopub.execute_input": "2024-03-26T09:32:23.761929Z",
          "iopub.status.busy": "2024-03-26T09:32:23.761795Z",
          "iopub.status.idle": "2024-03-26T09:32:23.874632Z",
          "shell.execute_reply": "2024-03-26T09:32:23.874288Z"
        }
      },
      "outputs": [
        {
          "data": {
            "application/vnd.jupyter.widget-view+json": {
              "model_id": "54cd83a54abb42c4a5eeb0d4bc03eada",
              "version_major": 2,
              "version_minor": 0
            },
            "text/plain": [
              "Output()"
            ]
          },
          "metadata": {},
          "output_type": "display_data"
        },
        {
          "name": "stderr",
          "output_type": "stream",
          "text": [
            "[2024-03-26T10:32:23]:INFO:Preparing Pathway computation\n"
          ]
        },
        {
          "name": "stderr",
          "output_type": "stream",
          "text": [
            "[2024-03-26T10:32:23]:INFO:Merge the current state with block: StoredMetadata { frontiers: OffsetAntichainCollection { antichains: {} }, storage_types: {}, last_advanced_timestamp: 4 }\n"
          ]
        },
        {
          "name": "stderr",
          "output_type": "stream",
          "text": [
            "[2024-03-26T10:32:23]:INFO:Merge the current state with block: StoredMetadata { frontiers: OffsetAntichainCollection { antichains: {} }, storage_types: {}, last_advanced_timestamp: 6 }\n"
          ]
        },
        {
          "name": "stderr",
          "output_type": "stream",
          "text": [
            "[2024-03-26T10:32:23]:INFO:Merge the current state with block: StoredMetadata { frontiers: OffsetAntichainCollection { antichains: {} }, storage_types: {}, last_advanced_timestamp: 5 }\n"
          ]
        },
        {
          "name": "stderr",
          "output_type": "stream",
          "text": [
            "[2024-03-26T10:32:23]:INFO:Merge the current state with block: StoredMetadata { frontiers: OffsetAntichainCollection { antichains: {} }, storage_types: {}, last_advanced_timestamp: 7 }\n"
          ]
        },
        {
          "name": "stderr",
          "output_type": "stream",
          "text": [
            "[2024-03-26T10:32:23]:INFO:Merge the current state with block: StoredMetadata { frontiers: OffsetAntichainCollection { antichains: {} }, storage_types: {}, last_advanced_timestamp: 13 }\n"
          ]
        },
        {
          "name": "stderr",
          "output_type": "stream",
          "text": [
            "[2024-03-26T10:32:23]:INFO:Merge the current state with block: StoredMetadata { frontiers: OffsetAntichainCollection { antichains: {} }, storage_types: {}, last_advanced_timestamp: 3 }\n"
          ]
        },
        {
          "name": "stderr",
          "output_type": "stream",
          "text": [
            "[2024-03-26T10:32:23]:INFO:Merge the current state with block: StoredMetadata { frontiers: OffsetAntichainCollection { antichains: {} }, storage_types: {}, last_advanced_timestamp: 12 }\n"
          ]
        },
        {
          "name": "stderr",
          "output_type": "stream",
          "text": [
            "[2024-03-26T10:32:23]:INFO:Merge the current state with block: StoredMetadata { frontiers: OffsetAntichainCollection { antichains: {} }, storage_types: {}, last_advanced_timestamp: 2 }\n"
          ]
        },
        {
          "name": "stderr",
          "output_type": "stream",
          "text": [
            "[2024-03-26T10:32:23]:INFO:Merge the current state with block: StoredMetadata { frontiers: OffsetAntichainCollection { antichains: {} }, storage_types: {}, last_advanced_timestamp: 1 }\n"
          ]
        },
        {
          "name": "stderr",
          "output_type": "stream",
          "text": [
            "[2024-03-26T10:32:23]:INFO:Merge the current state with block: StoredMetadata { frontiers: OffsetAntichainCollection { antichains: {} }, storage_types: {}, last_advanced_timestamp: 10 }\n"
          ]
        },
        {
          "name": "stderr",
          "output_type": "stream",
          "text": [
            "[2024-03-26T10:32:23]:INFO:Merge the current state with block: StoredMetadata { frontiers: OffsetAntichainCollection { antichains: {} }, storage_types: {}, last_advanced_timestamp: 9 }\n"
          ]
        },
        {
          "name": "stderr",
          "output_type": "stream",
          "text": [
            "[2024-03-26T10:32:23]:INFO:Merge the current state with block: StoredMetadata { frontiers: OffsetAntichainCollection { antichains: {} }, storage_types: {}, last_advanced_timestamp: 11 }\n"
          ]
        },
        {
          "name": "stderr",
          "output_type": "stream",
          "text": [
            "[2024-03-26T10:32:23]:INFO:Merge the current state with block: StoredMetadata { frontiers: OffsetAntichainCollection { antichains: {} }, storage_types: {}, last_advanced_timestamp: 8 }\n"
          ]
        },
        {
          "name": "stderr",
          "output_type": "stream",
          "text": [
            "[2024-03-26T10:32:23]:INFO:Merge the current state with block: StoredMetadata { frontiers: OffsetAntichainCollection { antichains: {} }, storage_types: {}, last_advanced_timestamp: 3 }\n"
          ]
        },
        {
          "name": "stderr",
          "output_type": "stream",
          "text": [
            "[2024-03-26T10:32:23]:INFO:Merge the current state with block: StoredMetadata { frontiers: OffsetAntichainCollection { antichains: {} }, storage_types: {}, last_advanced_timestamp: 12 }\n"
          ]
        },
        {
          "name": "stderr",
          "output_type": "stream",
          "text": [
            "[2024-03-26T10:32:23]:INFO:Merge the current state with block: StoredMetadata { frontiers: OffsetAntichainCollection { antichains: {} }, storage_types: {}, last_advanced_timestamp: 2 }\n"
          ]
        },
        {
          "name": "stderr",
          "output_type": "stream",
          "text": [
            "[2024-03-26T10:32:23]:INFO:Merge the current state with block: StoredMetadata { frontiers: OffsetAntichainCollection { antichains: {} }, storage_types: {}, last_advanced_timestamp: 5 }\n"
          ]
        },
        {
          "name": "stderr",
          "output_type": "stream",
          "text": [
            "[2024-03-26T10:32:23]:INFO:Merge the current state with block: StoredMetadata { frontiers: OffsetAntichainCollection { antichains: {} }, storage_types: {}, last_advanced_timestamp: 13 }\n"
          ]
        },
        {
          "name": "stderr",
          "output_type": "stream",
          "text": [
            "[2024-03-26T10:32:23]:INFO:Merge the current state with block: StoredMetadata { frontiers: OffsetAntichainCollection { antichains: {} }, storage_types: {}, last_advanced_timestamp: 7 }\n"
          ]
        },
        {
          "name": "stderr",
          "output_type": "stream",
          "text": [
            "[2024-03-26T10:32:23]:INFO:Merge the current state with block: StoredMetadata { frontiers: OffsetAntichainCollection { antichains: {} }, storage_types: {}, last_advanced_timestamp: 4 }\n"
          ]
        },
        {
          "name": "stderr",
          "output_type": "stream",
          "text": [
            "[2024-03-26T10:32:23]:INFO:Merge the current state with block: StoredMetadata { frontiers: OffsetAntichainCollection { antichains: {} }, storage_types: {}, last_advanced_timestamp: 6 }\n"
          ]
        },
        {
          "name": "stderr",
          "output_type": "stream",
          "text": [
            "[2024-03-26T10:32:23]:INFO:Merge the current state with block: StoredMetadata { frontiers: OffsetAntichainCollection { antichains: {} }, storage_types: {}, last_advanced_timestamp: 8 }\n"
          ]
        },
        {
          "name": "stderr",
          "output_type": "stream",
          "text": [
            "[2024-03-26T10:32:23]:INFO:Merge the current state with block: StoredMetadata { frontiers: OffsetAntichainCollection { antichains: {} }, storage_types: {}, last_advanced_timestamp: 9 }\n"
          ]
        },
        {
          "name": "stderr",
          "output_type": "stream",
          "text": [
            "[2024-03-26T10:32:23]:INFO:Merge the current state with block: StoredMetadata { frontiers: OffsetAntichainCollection { antichains: {} }, storage_types: {}, last_advanced_timestamp: 11 }\n"
          ]
        },
        {
          "name": "stderr",
          "output_type": "stream",
          "text": [
            "[2024-03-26T10:32:23]:INFO:Merge the current state with block: StoredMetadata { frontiers: OffsetAntichainCollection { antichains: {} }, storage_types: {}, last_advanced_timestamp: 1 }\n"
          ]
        },
        {
          "name": "stderr",
          "output_type": "stream",
          "text": [
            "[2024-03-26T10:32:23]:INFO:Merge the current state with block: StoredMetadata { frontiers: OffsetAntichainCollection { antichains: {} }, storage_types: {}, last_advanced_timestamp: 10 }\n"
          ]
        },
        {
          "name": "stderr",
          "output_type": "stream",
          "text": [
            "[2024-03-26T10:32:23]:INFO:FileWriter-0: Done writing 6 entries, closing data sink. Current batch writes took: 0 ms. All writes so far took: 0 ms.\n"
          ]
        },
        {
          "data": {
            "text/html": [
              "<pre style=\"white-space:pre;overflow-x:auto;line-height:normal;font-family:Menlo,'DejaVu Sans Mono',consolas,'Courier New',monospace\"></pre>\n"
            ],
            "text/plain": []
          },
          "metadata": {},
          "output_type": "display_data"
        }
      ],
      "source": [
        "pw.io.csv.write(result_disk_cache, \"result_disk_cache.csv\")\n",
        "pw.run(persistence_config=persistence_config)"
      ]
    },
    {
      "cell_type": "markdown",
      "id": "db9b41a1",
      "metadata": {
        "lines_to_next_cell": 0
      },
      "source": [
        "## Asynchronous UDFs\n",
        "By default, Pathway UDFs are synchronous and blocking.\n",
        "If one worker is used, only one UDF call is active at a time and it has to finish for the next UDF call to start.\n",
        "If more workers are used, the maximal number of UDFs that have started and haven't finished is equal to the number of workers.\n",
        "It is a good situation for CPU bound tasks.\n",
        "If you want, however, to execute I/O bound tasks, like calling external services, it is better to have more than one task started per worker. Pathway provides asynchronous UDFs for it.\n",
        "\n",
        "Asynchronous UDFs can be defined in Pathway using [Python coroutines](https://docs.python.org/3/library/asyncio-task.html#id2) with the `async`/`await` keywords.\n",
        "The asynchronous UDFs are asynchronous *within a single batch*.\n",
        "In this context, we define a batch as all entries with equal processing times assigned.\n",
        "The UDFs are started for all entries in the batch and the execution of further batches is blocked until all UDFs for a given batch have finished.\n",
        "Thanks to that, the processing time of the entries remains unchanged and the output remains consistent.\n",
        "If you require a fully asynchronous non-blocking mechanism take a look at [`AsyncTransformer`](/developers/user-guide/data-transformation/asynchronous-transformations/).\n",
        "\n",
        "To define an asynchronous UDF it is enough to decorate a coroutine with `pw.udf`. Let's start with a simple example."
      ]
    },
    {
      "cell_type": "code",
      "execution_count": 18,
      "id": "4f00c19f",
      "metadata": {
        "execution": {
          "iopub.execute_input": "2024-03-26T09:32:23.876967Z",
          "iopub.status.busy": "2024-03-26T09:32:23.876772Z",
          "iopub.status.idle": "2024-03-26T09:32:25.900508Z",
          "shell.execute_reply": "2024-03-26T09:32:25.900053Z"
        }
      },
      "outputs": [
        {
          "name": "stderr",
          "output_type": "stream",
          "text": [
            "[2024-03-26T10:32:23]:INFO:Preparing Pathway computation\n"
          ]
        },
        {
          "name": "stdout",
          "output_type": "stream",
          "text": [
            "inc_async(0.6) starting\n",
            "inc_async(2.0) starting\n",
            "inc_async(0.2) starting\n",
            "inc_async(1.2) starting\n"
          ]
        },
        {
          "name": "stdout",
          "output_type": "stream",
          "text": [
            "inc_async(0.2) finishing\n"
          ]
        },
        {
          "name": "stdout",
          "output_type": "stream",
          "text": [
            "inc_async(0.6) finishing\n"
          ]
        },
        {
          "name": "stdout",
          "output_type": "stream",
          "text": [
            "inc_async(1.2) finishing\n"
          ]
        },
        {
          "name": "stdout",
          "output_type": "stream",
          "text": [
            "inc_async(2.0) finishing\n",
            "            | value\n",
            "^X1MXHYY... | 1.2\n",
            "^YYY4HAB... | 1.6\n",
            "^3CZ78B4... | 2.2\n",
            "^Z3QWT29... | 3.0\n"
          ]
        }
      ],
      "source": [
        "import asyncio\n",
        "\n",
        "\n",
        "@pw.udf\n",
        "async def inc_async(x: float) -> float:\n",
        "    print(f\"inc_async({x}) starting\")\n",
        "    await asyncio.sleep(x)\n",
        "    print(f\"inc_async({x}) finishing\")\n",
        "    return x + 1\n",
        "\n",
        "\n",
        "table = pw.debug.table_from_markdown(\n",
        "    \"\"\"\n",
        "    value\n",
        "     0.2\n",
        "     0.6\n",
        "     2.0\n",
        "     1.2\n",
        "\"\"\"\n",
        ")\n",
        "\n",
        "result = table.select(value=inc_async(pw.this.value))\n",
        "pw.debug.compute_and_print(result)"
      ]
    },
    {
      "cell_type": "markdown",
      "id": "b046d28c",
      "metadata": {},
      "source": [
        "From the printed messages, you can see that the calls are executed asynchronously.\n",
        "\n",
        "Note that accidentally you created a sleepsort. Values in the `finishing` messages are sorted! As an exercise, you can try sorting also other values.\n",
        "\n",
        "As a more advanced example, you can create a UDF that queries [REST Countries](https://restcountries.com/) service to get the capital of a country.\n",
        "It uses `requests` library that on its own is not asynchronous. However, if you set `executor=pw.udfs.async_executor()`\n",
        "even though `requests.get` is not a coroutine, the function `find_capital` will be executed in a [ThreadPoolExecutor](https://docs.python.org/3/library/concurrent.futures.html#concurrent.futures.ThreadPoolExecutor),\n",
        "so it'll be possible to have more than one function started at once."
      ]
    },
    {
      "cell_type": "code",
      "execution_count": 19,
      "id": "2e01e49f",
      "metadata": {
        "execution": {
          "iopub.execute_input": "2024-03-26T09:32:25.902072Z",
          "iopub.status.busy": "2024-03-26T09:32:25.901938Z",
          "iopub.status.idle": "2024-03-26T09:32:26.342075Z",
          "shell.execute_reply": "2024-03-26T09:32:26.341644Z"
        }
      },
      "outputs": [
        {
          "name": "stderr",
          "output_type": "stream",
          "text": [
            "[2024-03-26T10:32:26]:INFO:Preparing Pathway computation\n"
          ]
        },
        {
          "name": "stdout",
          "output_type": "stream",
          "text": [
            "            | country | capital\n",
            "^Z3QWT29... | Austria | Vienna\n",
            "^3HN31E1... | France  | Paris\n",
            "^YYY4HAB... | Germany | Berlin\n",
            "^X1MXHYY... | Poland  | Warsaw\n",
            "^3CZ78B4... | USA     | Washington, D.C.\n"
          ]
        }
      ],
      "source": [
        "import requests\n",
        "\n",
        "\n",
        "@pw.udf(executor=pw.udfs.async_executor())\n",
        "def find_capital(country: str) -> str:\n",
        "    result = requests.get(\n",
        "        f\"https://restcountries.com/v3.1/name/{country}?fields=capital\",\n",
        "        timeout=1,\n",
        "    )\n",
        "    result.raise_for_status()\n",
        "    return result.json()[0][\"capital\"][0]\n",
        "\n",
        "\n",
        "countries = pw.debug.table_from_markdown(\n",
        "    \"\"\"\n",
        "    country\n",
        "    Poland\n",
        "    Germany\n",
        "    Austria\n",
        "    USA\n",
        "    France\n",
        "\"\"\"\n",
        ")\n",
        "countries_with_capitals = countries.with_columns(capital=find_capital(pw.this.country))\n",
        "pw.debug.compute_and_print(countries_with_capitals)"
      ]
    },
    {
      "cell_type": "markdown",
      "id": "aa6f63e9",
      "metadata": {},
      "source": [
        "### AsyncExecutor\n",
        "It is possible to control the behavior of asynchronous UDFs using the parameters of `async_executor`:\n",
        "- `capacity` - the maximum number of concurrent operations,\n",
        "- `timeout` - the maximum time (in seconds) to wait for the function result,\n",
        "- `retry_strategy` - the strategy for handling retries in case of failures.\n",
        "The available strategies are [`ExponentialBackoffRetryStrategy`](/developers/api-docs/udfs#pathway.udfs.ExponentialBackoffRetryStrategy) and [`FixedDelayRetryStrategy`](/developers/api-docs/udfs#pathway.udfs.FixedDelayRetryStrategy).\n",
        "The exponential backoff strategy increases the waiting time between retries exponentially by multiplying the waiting time by `backoff_factor`.\n",
        "The fixed delay strategy does not increase the waiting time between retries.\n",
        "Both strategies add a random jitter to the waiting times.\n",
        "\n",
        "When both `timeout` and `retry_strategy` are used, all retries have to finish within a specified `timeout`. <!-- maybe we want to change it - that timeout applies only to a single retry -->\n",
        "You can see the application of a retry strategy in the example below.\n",
        "The UDF has a 10% chance of failing.\n",
        "It fails two times but the retry strategy executes the function with the arguments that failed again."
      ]
    },
    {
      "cell_type": "code",
      "execution_count": 20,
      "id": "8e7d5678",
      "metadata": {
        "execution": {
          "iopub.execute_input": "2024-03-26T09:32:26.343690Z",
          "iopub.status.busy": "2024-03-26T09:32:26.343550Z",
          "iopub.status.idle": "2024-03-26T09:32:28.467623Z",
          "shell.execute_reply": "2024-03-26T09:32:28.467175Z"
        }
      },
      "outputs": [
        {
          "name": "stderr",
          "output_type": "stream",
          "text": [
            "[2024-03-26T10:32:26]:INFO:Preparing Pathway computation\n"
          ]
        },
        {
          "name": "stdout",
          "output_type": "stream",
          "text": [
            "inc_async(0.6)\n",
            "inc_async(2.0)\n",
            "inc_async(0.2)\n",
            "inc_async(1.2)\n",
            "inc_async(2.0)\n",
            "inc_async(0.2)\n"
          ]
        },
        {
          "name": "stdout",
          "output_type": "stream",
          "text": [
            "            | value\n",
            "^X1MXHYY... | 1.2\n",
            "^YYY4HAB... | 1.6\n",
            "^3CZ78B4... | 2.2\n",
            "^Z3QWT29... | 3.0\n"
          ]
        }
      ],
      "source": [
        "import random\n",
        "\n",
        "random.seed(2)\n",
        "\n",
        "\n",
        "@pw.udf(\n",
        "    executor=pw.udfs.async_executor(\n",
        "        retry_strategy=pw.udfs.FixedDelayRetryStrategy(max_retries=10, delay_ms=100),\n",
        "    )\n",
        ")\n",
        "async def inc_async(x: float) -> float:\n",
        "    print(f\"inc_async({x})\")\n",
        "    if random.random() < 0.1:\n",
        "        raise ValueError(\"err\")\n",
        "    await asyncio.sleep(x)\n",
        "    return x + 1\n",
        "\n",
        "\n",
        "table = pw.debug.table_from_markdown(\n",
        "    \"\"\"\n",
        "    value\n",
        "     0.2\n",
        "     0.6\n",
        "     2.0\n",
        "     1.2\n",
        "\"\"\"\n",
        ")\n",
        "\n",
        "result = table.select(value=inc_async(pw.this.value))\n",
        "pw.debug.compute_and_print(result)"
      ]
    },
    {
      "cell_type": "markdown",
      "id": "90e4a77e",
      "metadata": {
        "lines_to_next_cell": 2
      },
      "source": [
        "Of course, the retry strategy does not have to be used only to mitigate the effects of runtime errors.\n",
        "It can, for example, be used to query a service multiple times in the case of its temporary unavailability.\n",
        "\n",
        "The parameters that can be used with regular UDFs can also be used with asynchronous UDFs.\n",
        "For instance, you can cache its results or set that it is deterministic."
      ]
    },
    {
      "cell_type": "code",
      "execution_count": 21,
      "id": "728329d9",
      "metadata": {
        "execution": {
          "iopub.execute_input": "2024-03-26T09:32:28.469196Z",
          "iopub.status.busy": "2024-03-26T09:32:28.469065Z",
          "iopub.status.idle": "2024-03-26T09:32:30.488075Z",
          "shell.execute_reply": "2024-03-26T09:32:30.487487Z"
        },
        "lines_to_next_cell": 2
      },
      "outputs": [
        {
          "name": "stderr",
          "output_type": "stream",
          "text": [
            "[2024-03-26T10:32:28]:INFO:Preparing Pathway computation\n"
          ]
        },
        {
          "name": "stdout",
          "output_type": "stream",
          "text": [
            "inc_async(0.6)\n",
            "inc_async(2.0)\n",
            "inc_async(0.2)\n",
            "inc_async(1.2)\n"
          ]
        },
        {
          "name": "stdout",
          "output_type": "stream",
          "text": [
            "            | value\n",
            "^X1MXHYY... | 1.2\n",
            "^YYY4HAB... | 1.6\n",
            "^3HN31E1... | 1.6\n",
            "^3CZ78B4... | 2.2\n",
            "^3S2X6B2... | 2.2\n",
            "^Z3QWT29... | 3.0\n"
          ]
        }
      ],
      "source": [
        "@pw.udf(deterministic=True, cache_strategy=pw.udfs.InMemoryCache())\n",
        "async def inc_async(x: float) -> float:\n",
        "    print(f\"inc_async({x})\")\n",
        "    await asyncio.sleep(x)\n",
        "    return x + 1\n",
        "\n",
        "\n",
        "table = pw.debug.table_from_markdown(\n",
        "    \"\"\"\n",
        "    value\n",
        "     0.2\n",
        "     0.6\n",
        "     2.0\n",
        "     1.2\n",
        "     0.6\n",
        "     1.2\n",
        "\"\"\"\n",
        ")\n",
        "\n",
        "result = table.select(value=inc_async(pw.this.value))\n",
        "pw.debug.compute_and_print(result)"
      ]
    },
    {
      "cell_type": "markdown",
      "id": "680fada0",
      "metadata": {},
      "source": [
        "## Conclusions\n",
        "In this guide, you've learned how to define Python functions (UDFs) to process data in Pathway.\n",
        "The functions process a single row in a single call.\n",
        "It is possible to define the behavior of the functions by using UDF's parameters,\n",
        "like `deterministic`, `propagate_none`, `cache_strategy`, `executor`, etc.\n",
        "A friendly reminder - if your function is deterministic, set `deterministic=True` as it'll help with performance."
      ]
    }
  ],
  "metadata": {
    "jupytext": {
      "cell_metadata_filter": "-all",
      "main_language": "python",
      "notebook_metadata_filter": "-all"
    },
    "language_info": {
      "codemirror_mode": {
        "name": "ipython",
        "version": 3
      },
      "file_extension": ".py",
      "mimetype": "text/x-python",
      "name": "python",
      "nbconvert_exporter": "python",
      "pygments_lexer": "ipython3",
      "version": "3.11.8"
    },
    "widgets": {
      "application/vnd.jupyter.widget-state+json": {
        "state": {
          "54cd83a54abb42c4a5eeb0d4bc03eada": {
            "model_module": "@jupyter-widgets/output",
            "model_module_version": "1.0.0",
            "model_name": "OutputModel",
            "state": {
              "_dom_classes": [],
              "_model_module": "@jupyter-widgets/output",
              "_model_module_version": "1.0.0",
              "_model_name": "OutputModel",
              "_view_count": null,
              "_view_module": "@jupyter-widgets/output",
              "_view_module_version": "1.0.0",
              "_view_name": "OutputView",
              "layout": "IPY_MODEL_fc5e496e7bdd4d0bb962c577551353af",
              "msg_id": "",
              "outputs": [
                {
                  "data": {
                    "text/html": "<pre style=\"white-space:pre;overflow-x:auto;line-height:normal;font-family:Menlo,'DejaVu Sans Mono',consolas,'Courier New',monospace\">                                                                                                                   \n                                                                                                                   \n                                                                                                                   \n                                                                                                                   \n                                                                                                                   \n                                                                                                                   \n                                                                                                                   \n                                                                                                                   \n                                                                                                                   \n                                                                                                                   \n                                                                                                                   \n                                                                                                                   \n                                                                                                                   \n                                                                                                                   \n                                                                                                                   \n                                                                                                                   \n                                                                                                                   \n                                                                                                                   \n                                                                                                                   \n                                                                                                                   \n                                                                                                                   \n                                                                                                                   \n                                                                                                                   \n                                                                                                                   \n                                                                                                                   \n                                                                                                                   \n                                                                                                                   \n                                                                                                                   \n                                                                                                                   \n                                                                                                                   \n                                                                                                                   \n                                                                                                                   \n                                                                                                                   \n                                                                                                                   \n                                                                                                                   \n                                                                                                                   \n                                                                                                                   \n                                                                                                                   \n                                                                                                                   \n                                                                                                                   \n                                                                                                                   \n                                                                                                                   \n                                                                                                                   \n                                                                                                                   \n                                                                                                                   \n                                                                                                                   \n                                                                                                                   \n                                                                                                                   \n                                                                                                                   \n                                                                                                                   \n                                                       LOGS                                                        \n                                                                                                                   \n                                                                                                                   \n                                                                                                                   \n                                                                                                                   \n                                                                                                                   \n                                                                                                                   \n                                                                                                                   \n                                                                                                                   \n                                                                                                                   \n                                                                                                                   \n                                                                                                                   \n                                                                                                                   \n                                                                                                                   \n                                                                                                                   \n                                                                                                                   \n                                                                                                                   \n                                                                                                                   \n                                                                                                                   \n                                                                                                                   \n                                                                                                                   \n                                                                                                                   \n                                                                                                                   \n                                                                                                                   \n                                                                                                                   \n                                                                                                                   \n                                                                                                                   \n                                                                                                                   \n                                                                                                                   \n                                                                                                                   \n                                                                                                                   \n                                                                                                                   \n                                                                                                                   \n                                                                                                                   \n                                                                                                                   \n                                                                                                                   \n                                                                                                                   \n                                                                                                                   \n                                                                                                                   \n                                                                                                                   \n                                                                                                                   \n                                                                                                                   \n                                                                                                                   \n                                                                                                                   \n                                                                                                                   \n                                                                                                                   \n                                                                                                                   \n                                                                                                                   \n                                                                                                                   \n                                                                                                                   \n</pre>\n",
                    "text/plain": "                                                                                                                   \n                                                                                                                   \n                                                                                                                   \n                                                                                                                   \n                                                                                                                   \n                                                                                                                   \n                                                                                                                   \n                                                                                                                   \n                                                                                                                   \n                                                                                                                   \n                                                                                                                   \n                                                                                                                   \n                                                                                                                   \n                                                                                                                   \n                                                                                                                   \n                                                                                                                   \n                                                                                                                   \n                                                                                                                   \n                                                                                                                   \n                                                                                                                   \n                                                                                                                   \n                                                                                                                   \n                                                                                                                   \n                                                                                                                   \n                                                                                                                   \n                                                                                                                   \n                                                                                                                   \n                                                                                                                   \n                                                                                                                   \n                                                                                                                   \n                                                                                                                   \n                                                                                                                   \n                                                                                                                   \n                                                                                                                   \n                                                                                                                   \n                                                                                                                   \n                                                                                                                   \n                                                                                                                   \n                                                                                                                   \n                                                                                                                   \n                                                                                                                   \n                                                                                                                   \n                                                                                                                   \n                                                                                                                   \n                                                                                                                   \n                                                                                                                   \n                                                                                                                   \n                                                                                                                   \n                                                                                                                   \n                                                                                                                   \n                                                       LOGS                                                        \n                                                                                                                   \n                                                                                                                   \n                                                                                                                   \n                                                                                                                   \n                                                                                                                   \n                                                                                                                   \n                                                                                                                   \n                                                                                                                   \n                                                                                                                   \n                                                                                                                   \n                                                                                                                   \n                                                                                                                   \n                                                                                                                   \n                                                                                                                   \n                                                                                                                   \n                                                                                                                   \n                                                                                                                   \n                                                                                                                   \n                                                                                                                   \n                                                                                                                   \n                                                                                                                   \n                                                                                                                   \n                                                                                                                   \n                                                                                                                   \n                                                                                                                   \n                                                                                                                   \n                                                                                                                   \n                                                                                                                   \n                                                                                                                   \n                                                                                                                   \n                                                                                                                   \n                                                                                                                   \n                                                                                                                   \n                                                                                                                   \n                                                                                                                   \n                                                                                                                   \n                                                                                                                   \n                                                                                                                   \n                                                                                                                   \n                                                                                                                   \n                                                                                                                   \n                                                                                                                   \n                                                                                                                   \n                                                                                                                   \n                                                                                                                   \n                                                                                                                   \n                                                                                                                   \n                                                                                                                   \n                                                                                                                   \n"
                  },
                  "metadata": {},
                  "output_type": "display_data"
                }
              ],
              "tabbable": null,
              "tooltip": null
            }
          },
          "fc5e496e7bdd4d0bb962c577551353af": {
            "model_module": "@jupyter-widgets/base",
            "model_module_version": "2.0.0",
            "model_name": "LayoutModel",
            "state": {
              "_model_module": "@jupyter-widgets/base",
              "_model_module_version": "2.0.0",
              "_model_name": "LayoutModel",
              "_view_count": null,
              "_view_module": "@jupyter-widgets/base",
              "_view_module_version": "2.0.0",
              "_view_name": "LayoutView",
              "align_content": null,
              "align_items": null,
              "align_self": null,
              "border_bottom": null,
              "border_left": null,
              "border_right": null,
              "border_top": null,
              "bottom": null,
              "display": null,
              "flex": null,
              "flex_flow": null,
              "grid_area": null,
              "grid_auto_columns": null,
              "grid_auto_flow": null,
              "grid_auto_rows": null,
              "grid_column": null,
              "grid_gap": null,
              "grid_row": null,
              "grid_template_areas": null,
              "grid_template_columns": null,
              "grid_template_rows": null,
              "height": null,
              "justify_content": null,
              "justify_items": null,
              "left": null,
              "margin": null,
              "max_height": null,
              "max_width": null,
              "min_height": null,
              "min_width": null,
              "object_fit": null,
              "object_position": null,
              "order": null,
              "overflow": null,
              "padding": null,
              "right": null,
              "top": null,
              "visibility": null,
              "width": null
            }
          }
        },
        "version_major": 2,
        "version_minor": 0
      }
    }
  },
  "nbformat": 4,
  "nbformat_minor": 5
}