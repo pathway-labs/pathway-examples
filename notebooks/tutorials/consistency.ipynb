{
  "cells": [
    {
      "cell_type": "markdown",
      "metadata": {
        "id": "view-in-colab"
      },
      "source": [
        "<a href=\"https://colab.research.google.com/github/pathwaycom/pathway-examples/blob/main/documentation/consistency.ipynb\" target=\"_parent\"><img src=\"https://pathway.com/assets/colab-badge.svg\" alt=\"Run In Colab\" class=\"inline\"/></a>"
      ]
    },
    {
      "cell_type": "markdown",
      "source": [
        "# Installing Pathway with Python 3.10+\n",
        "\n",
        "In the cell below, we install Pathway into a Python 3.10+ Linux runtime.\n",
        "\n",
        "> **If you are running in Google Colab, please run the colab notebook (Ctrl+F9)**, disregarding the 'not authored by Google' warning.\n",
        "> \n",
        "> **The installation and loading time is less than 1 minute**.\n"
      ],
      "metadata": {
        "id": "notebook-instructions"
      }
    },
    {
      "cell_type": "code",
      "source": [
        "%%capture --no-display\n",
        "!pip install --prefer-binary pathway"
      ],
      "metadata": {
        "id": "pip-installation-pathway",
        "cellView": "form"
      },
      "execution_count": null,
      "outputs": []
    },
    {
      "cell_type": "markdown",
      "id": "580f467f",
      "metadata": {
        "lines_to_next_cell": 0
      },
      "source": [
        "# Consistency of the Pathway data model\n",
        "\n",
        "Computations in Pathway are expressed as if static data were loaded into the system. When streaming changes, Pathway produces inputs consistent with the state of all inputs at a given point in time.\n",
        "\n",
        "Pathway delivers consistent results by explicitly reasoning about time: every processed input message bears a timestamp, and each output message specifies exactly for which input times it was computed. In other words, each output produced by Pathway is the final answer that would have been given if all sources were read up to the indicated cutoff times, and the computation was carried in entirety. No intermediate results are shown. Updates to the outputs will be sent only when new data is input into the system.\n",
        "\n",
        "This consistency behavior requires specifying an update schedule for each input. For instance, an interactive system may react to user input every 500 milliseconds and update the data to be displayed every 10 seconds. Then, fast interactive manipulations are possible and the data shown lags by at most 10 seconds."
      ]
    },
    {
      "cell_type": "markdown",
      "id": "75a5ed43",
      "metadata": {
        "lines_to_next_cell": 2
      },
      "source": [
        "## Running example\n",
        "\n",
        "Consider a Kafka topic in which each message contains simultaneous events in the banking system. Think of a cash transfer - two things occur at once: money leaves account A (a debit) and lands in account B (a credit).\n",
        "Clearly, a transaction touches two accounts and consists of two events that must be processed atomically (either both or none at all), or some outputs, e.g., account balances, will be inconsistent.\n",
        "Kafka is atomic with respect to individual messages. Thus, this event-pack design ensures atomic delivery of all events that form a transaction.\n",
        "However, processing event-packs is complex, and logic is much easier if the event-pack stream is unpacked into a single message stream (e.g., we can then group events by account and compute the balances).\n",
        "\n",
        "Since Kafka only guarantees the atomic processing of single messages, consistency is lost once the event-packs are flattened into a stream of individual events.\n",
        "On the other hand, Pathway guarantees consistency.\n",
        "If a Pathway computation unpacks the event-pack into individual events, all messages that form a transaction will be consistently processed, ensuring that every produced output depends on either all or no events that were grouped together into a single event-pack.\n",
        "\n",
        "Let\u2019s simulate such a scenario by implementing a simple connector."
      ]
    },
    {
      "cell_type": "code",
      "execution_count": 1,
      "id": "67b2043f",
      "metadata": {
        "execution": {
          "iopub.execute_input": "2024-03-21T07:39:12.030373Z",
          "iopub.status.busy": "2024-03-21T07:39:12.030181Z",
          "iopub.status.idle": "2024-03-21T07:39:17.367687Z",
          "shell.execute_reply": "2024-03-21T07:39:17.367272Z"
        },
        "lines_to_next_cell": 2
      },
      "outputs": [],
      "source": [
        "import pathway as pw\n",
        "import time\n",
        "import random\n",
        "\n",
        "random.seed(42)\n",
        "\n",
        "\n",
        "class InputStream(pw.io.python.ConnectorSubject):\n",
        "    def run(self):\n",
        "        for _ in range(0, 10):\n",
        "            a, b = random.sample(range(1, 10), 2)\n",
        "            amount = random.randint(1, 100)\n",
        "            self.next_json(\n",
        "                {\n",
        "                    \"events\": [\n",
        "                        {\"account_id\": a, \"amount\": -amount, \"event_type\": \"debit\"},\n",
        "                        {\"account_id\": b, \"amount\": amount, \"event_type\": \"credit\"},\n",
        "                    ]\n",
        "                }\n",
        "            )\n",
        "            time.sleep(random.choice((0, 1)))"
      ]
    },
    {
      "cell_type": "markdown",
      "id": "1048aa01",
      "metadata": {
        "lines_to_next_cell": 2
      },
      "source": [
        "\n",
        "Each message within this stream encapsulates a series of events occurring within the banking system during transaction executions.\n",
        "\n",
        "Now, let's bring this data into a table using the code below:"
      ]
    },
    {
      "cell_type": "code",
      "execution_count": 2,
      "id": "e97c1406",
      "metadata": {
        "execution": {
          "iopub.execute_input": "2024-03-21T07:39:17.369733Z",
          "iopub.status.busy": "2024-03-21T07:39:17.369244Z",
          "iopub.status.idle": "2024-03-21T07:39:17.385229Z",
          "shell.execute_reply": "2024-03-21T07:39:17.384968Z"
        },
        "lines_to_next_cell": 0
      },
      "outputs": [],
      "source": [
        "class Schema(pw.Schema):\n",
        "    events: pw.Json\n",
        "\n",
        "\n",
        "input = pw.io.python.read(InputStream(), schema=Schema)"
      ]
    },
    {
      "cell_type": "markdown",
      "id": "c5a0f51b",
      "metadata": {},
      "source": [
        "\n",
        "So far so good, each transaction has been loaded simultaneously into a single row of the stream.\n",
        "To make things more complicated, let's calculate the totals of all inflows and outflows for each account individually. To do so, you can first flatten all the events, divide them by type, and then group them by account number."
      ]
    },
    {
      "cell_type": "code",
      "execution_count": 3,
      "id": "ee8ac21d",
      "metadata": {
        "execution": {
          "iopub.execute_input": "2024-03-21T07:39:17.386645Z",
          "iopub.status.busy": "2024-03-21T07:39:17.386437Z",
          "iopub.status.idle": "2024-03-21T07:39:17.453568Z",
          "shell.execute_reply": "2024-03-21T07:39:17.453233Z"
        },
        "lines_to_next_cell": 0
      },
      "outputs": [],
      "source": [
        "# pw.unwrap changes the type of the column from Optional[T] to T\n",
        "events = input.flatten(pw.this.events).select(\n",
        "    event_type=pw.unwrap(pw.this.events[\"event_type\"].as_str()),\n",
        "    account_id=pw.unwrap(pw.this.events[\"account_id\"].as_int()),\n",
        "    amount=pw.unwrap(pw.this.events[\"amount\"].as_int()),\n",
        ")\n",
        "\n",
        "credits = (\n",
        "    events.filter(pw.this.event_type == \"credit\")\n",
        "    .groupby(pw.this.account_id)\n",
        "    .reduce(pw.this.account_id, balance=pw.reducers.sum(pw.this.amount))\n",
        ")\n",
        "\n",
        "debits = (\n",
        "    events.filter(pw.this.event_type == \"debit\")\n",
        "    .groupby(pw.this.account_id)\n",
        "    .reduce(pw.this.account_id, balance=pw.reducers.sum(pw.this.amount))\n",
        ")"
      ]
    },
    {
      "cell_type": "markdown",
      "id": "98daa9f5",
      "metadata": {},
      "source": [
        "\n",
        "Events from the same transactions have been divided into independent streams. However, this doesn't imply a loss of consistency. Pathway's secret sauce lies in keeping everything consistent across dataflow nodes.\n",
        "To illustrate this fact, let's calculate the balance for each account."
      ]
    },
    {
      "cell_type": "code",
      "execution_count": 4,
      "id": "f53e7805",
      "metadata": {
        "execution": {
          "iopub.execute_input": "2024-03-21T07:39:17.454846Z",
          "iopub.status.busy": "2024-03-21T07:39:17.454746Z",
          "iopub.status.idle": "2024-03-21T07:39:17.482662Z",
          "shell.execute_reply": "2024-03-21T07:39:17.482335Z"
        }
      },
      "outputs": [],
      "source": [
        "account_balance = credits.join_outer(\n",
        "    debits, pw.left.account_id == pw.right.account_id\n",
        ").select(\n",
        "    pw.this.account_id,\n",
        "    balance=pw.coalesce(pw.left.balance, 0) + pw.coalesce(pw.right.balance, 0),\n",
        ")"
      ]
    },
    {
      "cell_type": "markdown",
      "id": "888b10bb",
      "metadata": {
        "lines_to_next_cell": 0
      },
      "source": [
        "Given that money was transferred from one account to another without any external funds entering the system, the total balance across all accounts should sum to 0. We could, of course, use a `reduce` expression, but for a clearer understanding of the system's functioning, let's utilize Python output instead.\n"
      ]
    },
    {
      "cell_type": "code",
      "execution_count": 5,
      "id": "6f67e7f5",
      "metadata": {
        "execution": {
          "iopub.execute_input": "2024-03-21T07:39:17.483967Z",
          "iopub.status.busy": "2024-03-21T07:39:17.483866Z",
          "iopub.status.idle": "2024-03-21T07:39:17.488739Z",
          "shell.execute_reply": "2024-03-21T07:39:17.488417Z"
        },
        "lines_to_next_cell": 2
      },
      "outputs": [],
      "source": [
        "import logging\n",
        "\n",
        "logging.basicConfig(level=logging.INFO, force=True)\n",
        "\n",
        "\n",
        "class TotalBalance:\n",
        "    account_balance: dict[int, int] = {}\n",
        "\n",
        "    def on_change(self, key, row, time, is_addition):\n",
        "        account_id = row[\"account_id\"]\n",
        "        balance = row[\"balance\"]\n",
        "\n",
        "        # When a row changes, two messages are created:\n",
        "        # one indicating the removal of an old value\n",
        "        # and another indicating the insertion of a new value.\n",
        "        if is_addition:\n",
        "            logging.info(f\"Account {account_id} balance: {balance}\")\n",
        "            self.account_balance[account_id] = balance\n",
        "        else:\n",
        "            logging.info(f\"Removing account {account_id} balance: {balance}\")\n",
        "            assert self.account_balance[account_id] == balance\n",
        "            del self.account_balance[account_id]\n",
        "\n",
        "    def on_time_end(self, time):\n",
        "        logging.info(f\"Total: {sum(self.account_balance.values())}\")\n",
        "\n",
        "    def on_end(self):\n",
        "        self.account_balance.clear()\n",
        "\n",
        "\n",
        "output = TotalBalance()\n",
        "\n",
        "pw.io.subscribe(\n",
        "    account_balance,\n",
        "    on_change=output.on_change,\n",
        "    on_time_end=output.on_time_end,\n",
        "    on_end=output.on_end,\n",
        ")"
      ]
    },
    {
      "cell_type": "markdown",
      "id": "a4784450",
      "metadata": {},
      "source": [
        "`TotalBalance` stores the current balance for each account. Method `on_change` updates and prints the status of a specific account whenever a change occurs in the table. Method `on_time_end` is invoked when a processing time ends."
      ]
    },
    {
      "cell_type": "markdown",
      "id": "03e8e080",
      "metadata": {},
      "source": [
        "All that's left is to run the pipeline:"
      ]
    },
    {
      "cell_type": "code",
      "execution_count": 6,
      "id": "e31bfa34",
      "metadata": {
        "execution": {
          "iopub.execute_input": "2024-03-21T07:39:17.490163Z",
          "iopub.status.busy": "2024-03-21T07:39:17.489937Z",
          "iopub.status.idle": "2024-03-21T07:39:21.598210Z",
          "shell.execute_reply": "2024-03-21T07:39:21.597885Z"
        }
      },
      "outputs": [
        {
          "name": "stderr",
          "output_type": "stream",
          "text": [
            "INFO:pathway_engine.engine.dataflow:Preparing Pathway computation\n"
          ]
        },
        {
          "name": "stderr",
          "output_type": "stream",
          "text": [
            "INFO:pathway_engine.connectors.monitoring:PythonReader-0: 0 entries (1 minibatch(es)) have been sent to the engine\n"
          ]
        },
        {
          "name": "stderr",
          "output_type": "stream",
          "text": [
            "INFO:root:Account 4 balance: -18\n"
          ]
        },
        {
          "name": "stderr",
          "output_type": "stream",
          "text": [
            "INFO:root:Account 2 balance: -19\n"
          ]
        },
        {
          "name": "stderr",
          "output_type": "stream",
          "text": [
            "INFO:root:Account 1 balance: 95\n"
          ]
        },
        {
          "name": "stderr",
          "output_type": "stream",
          "text": [
            "INFO:root:Account 9 balance: -58\n"
          ]
        },
        {
          "name": "stderr",
          "output_type": "stream",
          "text": [
            "INFO:root:Total: 0\n"
          ]
        },
        {
          "name": "stderr",
          "output_type": "stream",
          "text": [
            "INFO:root:Removing account 9 balance: -58\n"
          ]
        },
        {
          "name": "stderr",
          "output_type": "stream",
          "text": [
            "INFO:root:Removing account 1 balance: 95\n"
          ]
        },
        {
          "name": "stderr",
          "output_type": "stream",
          "text": [
            "INFO:root:Removing account 4 balance: -18\n"
          ]
        },
        {
          "name": "stderr",
          "output_type": "stream",
          "text": [
            "INFO:root:Account 4 balance: -90\n"
          ]
        },
        {
          "name": "stderr",
          "output_type": "stream",
          "text": [
            "INFO:root:Account 7 balance: 29\n"
          ]
        },
        {
          "name": "stderr",
          "output_type": "stream",
          "text": [
            "INFO:root:Account 9 balance: -75\n"
          ]
        },
        {
          "name": "stderr",
          "output_type": "stream",
          "text": [
            "INFO:root:Account 1 balance: 155\n"
          ]
        },
        {
          "name": "stderr",
          "output_type": "stream",
          "text": [
            "INFO:root:Total: 0\n"
          ]
        },
        {
          "name": "stderr",
          "output_type": "stream",
          "text": [
            "INFO:pathway_engine.connectors.monitoring:PythonReader-0: 10 entries (3 minibatch(es)) have been sent to the engine\n"
          ]
        },
        {
          "name": "stderr",
          "output_type": "stream",
          "text": [
            "WARNING:pathway_engine.connectors.monitoring:PythonReader-0: Closing the data source\n"
          ]
        },
        {
          "name": "stderr",
          "output_type": "stream",
          "text": [
            "INFO:root:Removing account 1 balance: 155\n"
          ]
        },
        {
          "name": "stderr",
          "output_type": "stream",
          "text": [
            "INFO:root:Removing account 7 balance: 29\n"
          ]
        },
        {
          "name": "stderr",
          "output_type": "stream",
          "text": [
            "INFO:root:Removing account 2 balance: -19\n"
          ]
        },
        {
          "name": "stderr",
          "output_type": "stream",
          "text": [
            "INFO:root:Removing account 4 balance: -90\n"
          ]
        },
        {
          "name": "stderr",
          "output_type": "stream",
          "text": [
            "INFO:root:Account 5 balance: -98\n"
          ]
        },
        {
          "name": "stderr",
          "output_type": "stream",
          "text": [
            "INFO:root:Account 6 balance: 50\n"
          ]
        },
        {
          "name": "stderr",
          "output_type": "stream",
          "text": [
            "INFO:root:Account 4 balance: -104\n"
          ]
        },
        {
          "name": "stderr",
          "output_type": "stream",
          "text": [
            "INFO:root:Account 2 balance: 27\n"
          ]
        },
        {
          "name": "stderr",
          "output_type": "stream",
          "text": [
            "INFO:root:Account 7 balance: -53\n"
          ]
        },
        {
          "name": "stderr",
          "output_type": "stream",
          "text": [
            "INFO:root:Account 1 balance: 253\n"
          ]
        },
        {
          "name": "stderr",
          "output_type": "stream",
          "text": [
            "INFO:root:Total: 0\n"
          ]
        }
      ],
      "source": [
        "pw.run()"
      ]
    },
    {
      "cell_type": "markdown",
      "id": "c5b16d1b",
      "metadata": {},
      "source": [
        "You can observe that Pathway processed all the events intended to be simultaneous at the same time, and the sum of operations always equals 0.\n",
        "\n",
        "# Persistency guarantees\n",
        "\n",
        "Pathway persists intermediate results recording the state of inputs with each saved datum. When restarted from a checkpoint, the saved state is loaded into memory first. Then all inputs are replayed starting at times recorded in the checkpoint. To avoid data loss, all streaming inputs should be buffered into a persistent message queue which allows multiple reads to recent items, such as a topic in Apache Kafka.\n",
        "\n",
        "Pathway gives \"at least once\" output data delivery guarantee for the data output in the different runs. More precisely, if some of the lines were outputted to a data sink in a non-closed Pathway's data batch, these output lines may appear on the output after the program has been re-run.\n",
        "\n",
        "The enterprise version of Pathway supports \"exactly once\" message delivery on selected combinations of input and output connectors which enable the use of the 2-phase commit protocol."
      ]
    }
  ],
  "metadata": {
    "kernelspec": {
      "display_name": "Python 3 (ipykernel)",
      "language": "python",
      "name": "python3"
    },
    "language_info": {
      "codemirror_mode": {
        "name": "ipython",
        "version": 3
      },
      "file_extension": ".py",
      "mimetype": "text/x-python",
      "name": "python",
      "nbconvert_exporter": "python",
      "pygments_lexer": "ipython3",
      "version": "3.11.8"
    }
  },
  "nbformat": 4,
  "nbformat_minor": 5
}