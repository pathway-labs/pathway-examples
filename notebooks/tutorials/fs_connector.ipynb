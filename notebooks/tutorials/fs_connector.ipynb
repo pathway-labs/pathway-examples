{
  "cells": [
    {
      "cell_type": "markdown",
      "metadata": {
        "id": "view-in-colab"
      },
      "source": [
        "<a href=\"https://colab.research.google.com/github/pathwaycom/pathway-examples/blob/main/tutorials/fs_connector.ipynb\" target=\"_parent\"><img src=\"https://pathway.com/assets/colab-badge.svg\" alt=\"Run In Colab\" class=\"inline\"/></a>"
      ]
    },
    {
      "cell_type": "markdown",
      "source": [
        "# Installing Pathway with Python 3.10+\n",
        "\n",
        "In the cell below, we install Pathway into a Python 3.10+ Linux runtime.\n",
        "\n",
        "> **If you are running in Google Colab, please run the colab notebook (Ctrl+F9)**, disregarding the 'not authored by Google' warning.\n",
        "> \n",
        "> **The installation and loading time is less than 1 minute**.\n"
      ],
      "metadata": {
        "id": "notebook-instructions"
      }
    },
    {
      "cell_type": "code",
      "source": [
        "%%capture --no-display\n",
        "!pip install --prefer-binary pathway"
      ],
      "metadata": {
        "id": "pip-installation-pathway",
        "cellView": "form"
      },
      "execution_count": null,
      "outputs": []
    },
    {
      "cell_type": "markdown",
      "id": "62cff63c",
      "metadata": {},
      "source": [
        "# File System Connectors\n",
        "This guide explains the [fs connectors](/developers/api-docs/pathway-io/fs) that connect Pathway to your file system to read and write data with the following basic formats: binary, plaintext, CSV, and JSON.\n",
        "\n",
        "The first part of this guide focuses on defining the source of the data for our connector (using plaintext data format to keep things simple). The second part explains additional configuration that can (or needs to) be defined for all simple data formats.\n",
        "In particular we show the input connectors ([`pw.io.fs.read`](/developers/api-docs/pathway-io/fs/#pathway.io.fs.read)) reading data in:\n",
        "- [`CSV` format](/developers/user-guide/connectors/fs-connector/#csv),\n",
        "- [`JSON` format](/developers/user-guide/connectors/fs-connector/#json),\n",
        "- [`plaintext`, `plaintext_by_file`, and `binary` formats](/developers/user-guide/connectors/fs-connector/#unstructured-data).\n",
        "\n",
        "The output connectors ([`pw.io.fs.write`](/developers/api-docs/pathway-io/fs/#pathway.io.fs.write)) write data in:\n",
        "- [`CSV` format](/developers/user-guide/connectors/fs-connector/#csv),\n",
        "- [`JSON` format](/developers/user-guide/connectors/fs-connector/#json).\n",
        "\n",
        "File system connectors work both in streaming and static modes. Be careful as the use of connectors differs depending on the chosen mode: see the [differences](/developers/user-guide/connecting-to-data/streaming-and-static-modes).\n",
        "For simplicity, all the examples below are in the \"static\" mode but can easily be changed to \"streaming\" mode by changing the `mode` parameter.\n",
        "\n",
        "## Location of files and filter.\n",
        "The code snippets below prepares the basic file structure that is used in the later part of this article. To keep tings simple, all examples work with data of type `str`, to see more on [schemas](/developers/user-guide/types-in-pathway/schema) and [types](/developers/user-guide/types-in-pathway/datatypes) in other places."
      ]
    },
    {
      "cell_type": "code",
      "execution_count": 1,
      "id": "1fceb13f",
      "metadata": {
        "execution": {
          "iopub.execute_input": "2024-03-21T07:35:55.729609Z",
          "iopub.status.busy": "2024-03-21T07:35:55.729429Z",
          "iopub.status.idle": "2024-03-21T07:35:56.170352Z",
          "shell.execute_reply": "2024-03-21T07:35:56.169995Z"
        },
        "lines_to_next_cell": 0
      },
      "outputs": [],
      "source": [
        "! mkdir -p plain_input\n",
        "! mkdir -p plain_output\n",
        "! echo -e \"test1\\ndata1\" > plain_input/in1.txt\n",
        "! echo -e \"test2\\ndata2\" > plain_input/in2.txt"
      ]
    },
    {
      "cell_type": "markdown",
      "id": "f6f68072",
      "metadata": {},
      "source": [
        "### Specify the input and output with `path` and `filename`.\n",
        "Below, you can find the simplest examples of input ([`pw.io.fs.read`](/developers/api-docs/pathway-io/fs/#pathway.io.fs.read)) and output ([`pw.io.fs.write`](/developers/api-docs/pathway-io/fs/#pathway.io.fs.write)) connectors. Both examples use plaintext as the input format (more on that [later](/developers/user-guide/connectors/fs-connector#data-formats)). The `path` parameter can point either to a directory or a particular file. If it point so a directory, it reads all files that are inside. Otherwise it reads only the file that is specified (and as such it makes sense only in the static mode)."
      ]
    },
    {
      "cell_type": "code",
      "execution_count": 2,
      "id": "6c530aa4",
      "metadata": {
        "execution": {
          "iopub.execute_input": "2024-03-21T07:35:56.171986Z",
          "iopub.status.busy": "2024-03-21T07:35:56.171886Z",
          "iopub.status.idle": "2024-03-21T07:36:01.847011Z",
          "shell.execute_reply": "2024-03-21T07:36:01.846780Z"
        }
      },
      "outputs": [],
      "source": [
        "%%capture\n",
        "import pathway as pw\n",
        "test1 = pw.io.fs.read(path = \"./plain_input/\", format = \"plaintext\", mode=\"static\")\n",
        "pw.io.fs.write(test1, filename=\"./plain_output/out1.txt\", format=\"json\")\n",
        "\n",
        "test2 = pw.io.fs.read(path = \"./plain_input/in1.txt\", format = \"plaintext\", mode=\"static\")\n",
        "pw.io.fs.write(test2, filename=\"./plain_output/out2.txt\", format=\"json\")\n",
        "\n",
        "pw.run()"
      ]
    },
    {
      "cell_type": "markdown",
      "id": "b53ca1ed",
      "metadata": {},
      "source": [
        "The output can be found in the `plain_output` directory."
      ]
    },
    {
      "cell_type": "code",
      "execution_count": 3,
      "id": "a9d28414",
      "metadata": {
        "execution": {
          "iopub.execute_input": "2024-03-21T07:36:01.848524Z",
          "iopub.status.busy": "2024-03-21T07:36:01.848210Z",
          "iopub.status.idle": "2024-03-21T07:36:02.300943Z",
          "shell.execute_reply": "2024-03-21T07:36:02.300593Z"
        }
      },
      "outputs": [
        {
          "name": "stdout",
          "output_type": "stream",
          "text": [
            "out1:\r\n"
          ]
        },
        {
          "name": "stdout",
          "output_type": "stream",
          "text": [
            "{\"data\":\"data2\",\"diff\":1,\"time\":1711006561842}\r\n",
            "{\"data\":\"data1\",\"diff\":1,\"time\":1711006561842}\r\n",
            "{\"data\":\"test2\",\"diff\":1,\"time\":1711006561842}\r\n",
            "{\"data\":\"test1\",\"diff\":1,\"time\":1711006561842}\r\n"
          ]
        },
        {
          "name": "stdout",
          "output_type": "stream",
          "text": [
            "out2:\r\n"
          ]
        },
        {
          "name": "stdout",
          "output_type": "stream",
          "text": [
            "{\"data\":\"data1\",\"diff\":1,\"time\":1711006561842}\r\n",
            "{\"data\":\"test1\",\"diff\":1,\"time\":1711006561842}\r\n"
          ]
        }
      ],
      "source": [
        "! echo \"out1:\"\n",
        "! cat plain_output/out1.txt\n",
        "! echo \"out2:\"\n",
        "! cat plain_output/out2.txt"
      ]
    },
    {
      "cell_type": "markdown",
      "id": "83d7912f",
      "metadata": {
        "lines_to_next_cell": 0
      },
      "source": [
        "As you can see, the first example read the data from both `in1.txt` and `in2.txt`, while the second read only the data from `in1.txt`.\n",
        "\n",
        "### Filter the files to read with `object_pattern`\n",
        "In case you want to specify a directory as the source of your data, but read only some of its contents, you can specify filter [pattern](https://www.gnu.org/software/findutils/manual/html_node/find_html/Shell-Pattern-Matching.html) and pass it using the `object_pattern` parameter."
      ]
    },
    {
      "cell_type": "code",
      "execution_count": 4,
      "id": "ca3e5a30",
      "metadata": {
        "execution": {
          "iopub.execute_input": "2024-03-21T07:36:02.302411Z",
          "iopub.status.busy": "2024-03-21T07:36:02.302302Z",
          "iopub.status.idle": "2024-03-21T07:36:02.318076Z",
          "shell.execute_reply": "2024-03-21T07:36:02.317868Z"
        }
      },
      "outputs": [],
      "source": [
        "%%capture\n",
        "test3 = pw.io.fs.read(\"./plain_input/\", format = \"plaintext\", mode=\"static\", object_pattern = \"*2*\")\n",
        "pw.io.fs.write(test3, \"./plain_output/output3.txt\", \"json\")\n",
        "pw.run()"
      ]
    },
    {
      "cell_type": "markdown",
      "id": "9d18cc54",
      "metadata": {},
      "source": [
        "The output can be found in the `plain_output` directory. As you can see, `out3.txt` contains data only from `in2.txt`, as it is the only file in the input directory that matches the `*2*` pattern:"
      ]
    },
    {
      "cell_type": "code",
      "execution_count": 5,
      "id": "b71691e2",
      "metadata": {
        "execution": {
          "iopub.execute_input": "2024-03-21T07:36:02.319285Z",
          "iopub.status.busy": "2024-03-21T07:36:02.319077Z",
          "iopub.status.idle": "2024-03-21T07:36:02.547336Z",
          "shell.execute_reply": "2024-03-21T07:36:02.546990Z"
        }
      },
      "outputs": [
        {
          "name": "stdout",
          "output_type": "stream",
          "text": [
            "out3:\r\n"
          ]
        },
        {
          "name": "stdout",
          "output_type": "stream",
          "text": [
            "{\"data\":\"data2\",\"diff\":1,\"time\":1711006562312}\r\n",
            "{\"data\":\"test2\",\"diff\":1,\"time\":1711006562312}\r\n"
          ]
        }
      ],
      "source": [
        "! echo \"out3:\"\n",
        "! cat plain_output/output3.txt"
      ]
    },
    {
      "cell_type": "markdown",
      "id": "15628709",
      "metadata": {},
      "source": [
        "## Data formats\n",
        "### CSV\n",
        "For the CSV format, each file on the input needs to have defined headers."
      ]
    },
    {
      "cell_type": "code",
      "execution_count": 6,
      "id": "b9217d61",
      "metadata": {
        "execution": {
          "iopub.execute_input": "2024-03-21T07:36:02.548671Z",
          "iopub.status.busy": "2024-03-21T07:36:02.548564Z",
          "iopub.status.idle": "2024-03-21T07:36:03.460922Z",
          "shell.execute_reply": "2024-03-21T07:36:03.460532Z"
        },
        "lines_to_next_cell": 0
      },
      "outputs": [
        {
          "name": "stdout",
          "output_type": "stream",
          "text": [
            "csv_in1.txt:\r\n"
          ]
        },
        {
          "name": "stdout",
          "output_type": "stream",
          "text": [
            "header1;header2\r\n",
            "data1;data2\r\n",
            "\r\n",
            "data3;data4\r\n"
          ]
        },
        {
          "name": "stdout",
          "output_type": "stream",
          "text": [
            "csv_in2.txt:\r\n"
          ]
        },
        {
          "name": "stdout",
          "output_type": "stream",
          "text": [
            "header1;header2\r\n",
            "data5;data6\r\n",
            "\r\n",
            "data7;data8\r\n"
          ]
        }
      ],
      "source": [
        "! mkdir -p csv_input\n",
        "! mkdir -p csv_output\n",
        "! echo -e \"header1;header2\\ndata1;data2\\n\\ndata3;data4\" > csv_input/csv_in1.txt\n",
        "! echo -e \"header1;header2\\ndata5;data6\\n\\ndata7;data8\" > csv_input/csv_in2.txt\n",
        "! echo -e \"csv_in1.txt:\"\n",
        "! cat csv_input/csv_in1.txt\n",
        "! echo -e \"csv_in2.txt:\"\n",
        "! cat csv_input/csv_in2.txt"
      ]
    },
    {
      "cell_type": "markdown",
      "id": "4456a73c",
      "metadata": {
        "lines_to_next_cell": 0
      },
      "source": [
        "In most cases, in order to read the data, you need to define its schema and pass it to the connector. Furthermore, for the `csv` format, you can use [CSVParserSettings](/developers/api-docs/pathway-io#pathway.io.CsvParserSettings) to accommodate for a nonstandard formatting of the input file. In the example below, it is configured to use `;` as a delimiter."
      ]
    },
    {
      "cell_type": "code",
      "execution_count": 7,
      "id": "9fa33d87",
      "metadata": {
        "execution": {
          "iopub.execute_input": "2024-03-21T07:36:03.462302Z",
          "iopub.status.busy": "2024-03-21T07:36:03.462191Z",
          "iopub.status.idle": "2024-03-21T07:36:03.480662Z",
          "shell.execute_reply": "2024-03-21T07:36:03.480441Z"
        },
        "lines_to_next_cell": 0
      },
      "outputs": [],
      "source": [
        "%%capture\n",
        "class csv_schema(pw.Schema):\n",
        "    header1: str\n",
        "    header2: str\n",
        "\n",
        "csv_settings = pw.io.CsvParserSettings(delimiter=\";\")\n",
        "csv_data = pw.io.fs.read(path = \"./csv_input/\", format=\"csv\", schema=csv_schema, csv_settings=csv_settings,mode=\"static\")\n",
        "pw.io.fs.write(table=csv_data, filename=\"./csv_output/csv_out1.txt\", format=\"csv\")\n",
        "pw.run()"
      ]
    },
    {
      "cell_type": "code",
      "execution_count": 8,
      "id": "714c6b65",
      "metadata": {
        "execution": {
          "iopub.execute_input": "2024-03-21T07:36:03.481763Z",
          "iopub.status.busy": "2024-03-21T07:36:03.481610Z",
          "iopub.status.idle": "2024-03-21T07:36:03.597325Z",
          "shell.execute_reply": "2024-03-21T07:36:03.597020Z"
        }
      },
      "outputs": [
        {
          "name": "stdout",
          "output_type": "stream",
          "text": [
            "header1,header2,time,diff\r\n",
            "\"data3\",\"data4\",1711006563474,1\r\n",
            "\"data1\",\"data2\",1711006563474,1\r\n",
            "\"data7\",\"data8\",1711006563474,1\r\n",
            "\"data5\",\"data6\",1711006563474,1\r\n"
          ]
        }
      ],
      "source": [
        "! cat ./csv_output/csv_out1.txt"
      ]
    },
    {
      "cell_type": "markdown",
      "id": "5b6b7781",
      "metadata": {
        "lines_to_next_cell": 0
      },
      "source": [
        "You can also use the dedicated [CSV connector](/developers/user-guide/connectors/csv_connectors).\n",
        "### JSON\n",
        "You can use the [JSON format](https://json.org) by setting the parameter `format` to `json`."
      ]
    },
    {
      "cell_type": "code",
      "execution_count": 9,
      "id": "969d9681",
      "metadata": {
        "execution": {
          "iopub.execute_input": "2024-03-21T07:36:03.598567Z",
          "iopub.status.busy": "2024-03-21T07:36:03.598465Z",
          "iopub.status.idle": "2024-03-21T07:36:04.513085Z",
          "shell.execute_reply": "2024-03-21T07:36:04.512705Z"
        },
        "lines_to_next_cell": 0
      },
      "outputs": [
        {
          "name": "stdout",
          "output_type": "stream",
          "text": [
            "json_in1.txt:\r\n"
          ]
        },
        {
          "name": "stdout",
          "output_type": "stream",
          "text": [
            "{\"header1\":data1\",\r\n",
            "\"header2\":\"data2\"}\r\n",
            "{\"header1\":\"data3\",\"header2\":\"data4\"}\r\n",
            "\r\n"
          ]
        },
        {
          "name": "stdout",
          "output_type": "stream",
          "text": [
            "json_in2.txt:\r\n"
          ]
        },
        {
          "name": "stdout",
          "output_type": "stream",
          "text": [
            "{\"header1\":\"data5\",\"header2\":\"data6\"}\r\n",
            "{\"header1\":\"data7\",\"header2\":\"data8\"}\r\n",
            "\r\n"
          ]
        }
      ],
      "source": [
        "! mkdir -p json_input\n",
        "! mkdir -p json_output\n",
        "! echo -e '{\"header1\":data1\",\\n\"header2\":\"data2\"}\\n{\"header1\":\"data3\",\"header2\":\"data4\"}\\n' > json_input/json_in1.txt\n",
        "! echo -e '{\"header1\":\"data5\",\"header2\":\"data6\"}\\n{\"header1\":\"data7\",\"header2\":\"data8\"}\\n' > json_input/json_in2.txt\n",
        "! echo -e \"json_in1.txt:\"\n",
        "! cat json_input/json_in1.txt\n",
        "! echo -e \"json_in2.txt:\"\n",
        "! cat json_input/json_in2.txt"
      ]
    },
    {
      "cell_type": "markdown",
      "id": "396a7970",
      "metadata": {
        "lines_to_next_cell": 0
      },
      "source": [
        "As in most cases, in order to read the data, you need to define a schema and pass it to the connector. Each input file needs to be a sequence of properly formatted JSON objects."
      ]
    },
    {
      "cell_type": "code",
      "execution_count": 10,
      "id": "116acf32",
      "metadata": {
        "execution": {
          "iopub.execute_input": "2024-03-21T07:36:04.515057Z",
          "iopub.status.busy": "2024-03-21T07:36:04.514930Z",
          "iopub.status.idle": "2024-03-21T07:36:04.541044Z",
          "shell.execute_reply": "2024-03-21T07:36:04.540840Z"
        },
        "lines_to_next_cell": 0
      },
      "outputs": [],
      "source": [
        "%%capture\n",
        "class json_schema(pw.Schema):\n",
        "    header1: str\n",
        "    header2: str\n",
        "\n",
        "json_data = pw.io.fs.read(path = \"./json_input/\", format=\"json\", schema=json_schema, mode=\"static\")\n",
        "pw.io.fs.write(table=json_data, filename=\"./json_output/json_out1.txt\", format=\"json\")\n",
        "pw.run()"
      ]
    },
    {
      "cell_type": "code",
      "execution_count": 11,
      "id": "b7109981",
      "metadata": {
        "execution": {
          "iopub.execute_input": "2024-03-21T07:36:04.542165Z",
          "iopub.status.busy": "2024-03-21T07:36:04.542031Z",
          "iopub.status.idle": "2024-03-21T07:36:04.658030Z",
          "shell.execute_reply": "2024-03-21T07:36:04.657652Z"
        },
        "lines_to_next_cell": 0
      },
      "outputs": [
        {
          "name": "stdout",
          "output_type": "stream",
          "text": [
            "{\"header1\":\"data3\",\"header2\":\"data4\",\"diff\":1,\"time\":1711006564528}\r\n",
            "{\"header1\":\"data5\",\"header2\":\"data6\",\"diff\":1,\"time\":1711006564528}\r\n",
            "{\"header1\":\"data7\",\"header2\":\"data8\",\"diff\":1,\"time\":1711006564528}\r\n"
          ]
        }
      ],
      "source": [
        "! cat ./json_output/json_out1.txt"
      ]
    },
    {
      "cell_type": "markdown",
      "id": "68756830",
      "metadata": {
        "lines_to_next_cell": 0
      },
      "source": [
        "### Unstructured data\n",
        "Pathway allows you to read unstructured data using three formats: `plaintext`, `plaintext_by_file`, and  `binary`. `binary` and `plaintext` considers each line as a separate row that will be stored in the column `data`, and the format `plaintext_by_file` treats each file as a single row."
      ]
    },
    {
      "cell_type": "code",
      "execution_count": 12,
      "id": "2cc41be8",
      "metadata": {
        "execution": {
          "iopub.execute_input": "2024-03-21T07:36:04.659812Z",
          "iopub.status.busy": "2024-03-21T07:36:04.659705Z",
          "iopub.status.idle": "2024-03-21T07:36:04.775639Z",
          "shell.execute_reply": "2024-03-21T07:36:04.775283Z"
        }
      },
      "outputs": [],
      "source": [
        "! mkdir -p unstructured_output"
      ]
    },
    {
      "cell_type": "code",
      "execution_count": 13,
      "id": "c234fdf4",
      "metadata": {
        "execution": {
          "iopub.execute_input": "2024-03-21T07:36:04.777351Z",
          "iopub.status.busy": "2024-03-21T07:36:04.777223Z",
          "iopub.status.idle": "2024-03-21T07:36:04.809710Z",
          "shell.execute_reply": "2024-03-21T07:36:04.809491Z"
        }
      },
      "outputs": [],
      "source": [
        "%%capture\n",
        "plaintext_data = pw.io.fs.read(path = \"./plain_input\", format = \"plaintext\", mode=\"static\")\n",
        "pw.io.fs.write(plaintext_data,\"./unstructured_output/output1.txt\", \"csv\")\n",
        "\n",
        "plaintext_by_file_data = pw.io.fs.read(path = \"./plain_input\", format = \"plaintext_by_file\", mode=\"static\")\n",
        "pw.io.fs.write(plaintext_by_file_data,\"./unstructured_output/output2.txt\", \"csv\")\n",
        "\n",
        "binary_data = pw.io.fs.read(path = \"./plain_input\", format = \"binary\", mode=\"static\")\n",
        "pw.io.fs.write(binary_data,\"./unstructured_output/output3.txt\", \"csv\")\n",
        "\n",
        "pw.run()"
      ]
    },
    {
      "cell_type": "code",
      "execution_count": 14,
      "id": "21bc9cf8",
      "metadata": {
        "execution": {
          "iopub.execute_input": "2024-03-21T07:36:04.810689Z",
          "iopub.status.busy": "2024-03-21T07:36:04.810573Z",
          "iopub.status.idle": "2024-03-21T07:36:05.494039Z",
          "shell.execute_reply": "2024-03-21T07:36:05.493669Z"
        },
        "lines_to_next_cell": 3
      },
      "outputs": [
        {
          "name": "stdout",
          "output_type": "stream",
          "text": [
            "plaintext\r\n"
          ]
        },
        {
          "name": "stdout",
          "output_type": "stream",
          "text": [
            "data,time,diff\r\n",
            "\"data2\",1711006564796,1\r\n",
            "\"data1\",1711006564796,1\r\n",
            "\"test2\",1711006564796,1\r\n",
            "\"test1\",1711006564796,1\r\n"
          ]
        },
        {
          "name": "stdout",
          "output_type": "stream",
          "text": [
            "plaintext by file\r\n"
          ]
        },
        {
          "name": "stdout",
          "output_type": "stream",
          "text": [
            "data,time,diff\r\n",
            "\"test2\\ndata2\",1711006564796,1\r\n",
            "\"test1\\ndata1\",1711006564796,1\r\n"
          ]
        },
        {
          "name": "stdout",
          "output_type": "stream",
          "text": [
            "binary\r\n"
          ]
        },
        {
          "name": "stdout",
          "output_type": "stream",
          "text": [
            "data,time,diff\r\n",
            "[116, 101, 115, 116, 50, 10, 100, 97, 116, 97, 50, 10],1711006564796,1\r\n",
            "[116, 101, 115, 116, 49, 10, 100, 97, 116, 97, 49, 10],1711006564796,1\r\n"
          ]
        }
      ],
      "source": [
        "! echo \"plaintext\"\n",
        "! cat ./unstructured_output/output1.txt\n",
        "! echo \"plaintext by file\"\n",
        "! cat ./unstructured_output/output2.txt\n",
        "! echo \"binary\"\n",
        "! cat ./unstructured_output/output3.txt"
      ]
    }
  ],
  "metadata": {
    "kernelspec": {
      "display_name": "Python 3 (ipykernel)",
      "language": "python",
      "name": "python3"
    },
    "language_info": {
      "codemirror_mode": {
        "name": "ipython",
        "version": 3
      },
      "file_extension": ".py",
      "mimetype": "text/x-python",
      "name": "python",
      "nbconvert_exporter": "python",
      "pygments_lexer": "ipython3",
      "version": "3.11.8"
    },
    "widgets": {
      "application/vnd.jupyter.widget-state+json": {
        "state": {
          "10e42c2dd7c84df2967e249fe8ba70ee": {
            "model_module": "@jupyter-widgets/base",
            "model_module_version": "2.0.0",
            "model_name": "LayoutModel",
            "state": {
              "_model_module": "@jupyter-widgets/base",
              "_model_module_version": "2.0.0",
              "_model_name": "LayoutModel",
              "_view_count": null,
              "_view_module": "@jupyter-widgets/base",
              "_view_module_version": "2.0.0",
              "_view_name": "LayoutView",
              "align_content": null,
              "align_items": null,
              "align_self": null,
              "border_bottom": null,
              "border_left": null,
              "border_right": null,
              "border_top": null,
              "bottom": null,
              "display": null,
              "flex": null,
              "flex_flow": null,
              "grid_area": null,
              "grid_auto_columns": null,
              "grid_auto_flow": null,
              "grid_auto_rows": null,
              "grid_column": null,
              "grid_gap": null,
              "grid_row": null,
              "grid_template_areas": null,
              "grid_template_columns": null,
              "grid_template_rows": null,
              "height": null,
              "justify_content": null,
              "justify_items": null,
              "left": null,
              "margin": null,
              "max_height": null,
              "max_width": null,
              "min_height": null,
              "min_width": null,
              "object_fit": null,
              "object_position": null,
              "order": null,
              "overflow": null,
              "padding": null,
              "right": null,
              "top": null,
              "visibility": null,
              "width": null
            }
          },
          "16cb198ee3c5410886adb56caa4dabb4": {
            "model_module": "@jupyter-widgets/output",
            "model_module_version": "1.0.0",
            "model_name": "OutputModel",
            "state": {
              "_dom_classes": [],
              "_model_module": "@jupyter-widgets/output",
              "_model_module_version": "1.0.0",
              "_model_name": "OutputModel",
              "_view_count": null,
              "_view_module": "@jupyter-widgets/output",
              "_view_module_version": "1.0.0",
              "_view_name": "OutputView",
              "layout": "IPY_MODEL_2f10ef9f6ba64fb4b27a3b03f98114b2",
              "msg_id": "",
              "outputs": [],
              "tabbable": null,
              "tooltip": null
            }
          },
          "2f10ef9f6ba64fb4b27a3b03f98114b2": {
            "model_module": "@jupyter-widgets/base",
            "model_module_version": "2.0.0",
            "model_name": "LayoutModel",
            "state": {
              "_model_module": "@jupyter-widgets/base",
              "_model_module_version": "2.0.0",
              "_model_name": "LayoutModel",
              "_view_count": null,
              "_view_module": "@jupyter-widgets/base",
              "_view_module_version": "2.0.0",
              "_view_name": "LayoutView",
              "align_content": null,
              "align_items": null,
              "align_self": null,
              "border_bottom": null,
              "border_left": null,
              "border_right": null,
              "border_top": null,
              "bottom": null,
              "display": null,
              "flex": null,
              "flex_flow": null,
              "grid_area": null,
              "grid_auto_columns": null,
              "grid_auto_flow": null,
              "grid_auto_rows": null,
              "grid_column": null,
              "grid_gap": null,
              "grid_row": null,
              "grid_template_areas": null,
              "grid_template_columns": null,
              "grid_template_rows": null,
              "height": null,
              "justify_content": null,
              "justify_items": null,
              "left": null,
              "margin": null,
              "max_height": null,
              "max_width": null,
              "min_height": null,
              "min_width": null,
              "object_fit": null,
              "object_position": null,
              "order": null,
              "overflow": null,
              "padding": null,
              "right": null,
              "top": null,
              "visibility": null,
              "width": null
            }
          },
          "35186c4d1e6a43fbaa3959d20229eab2": {
            "model_module": "@jupyter-widgets/output",
            "model_module_version": "1.0.0",
            "model_name": "OutputModel",
            "state": {
              "_dom_classes": [],
              "_model_module": "@jupyter-widgets/output",
              "_model_module_version": "1.0.0",
              "_model_name": "OutputModel",
              "_view_count": null,
              "_view_module": "@jupyter-widgets/output",
              "_view_module_version": "1.0.0",
              "_view_name": "OutputView",
              "layout": "IPY_MODEL_10e42c2dd7c84df2967e249fe8ba70ee",
              "msg_id": "",
              "outputs": [],
              "tabbable": null,
              "tooltip": null
            }
          },
          "7182e31588404d2288e7197a4e70abef": {
            "model_module": "@jupyter-widgets/base",
            "model_module_version": "2.0.0",
            "model_name": "LayoutModel",
            "state": {
              "_model_module": "@jupyter-widgets/base",
              "_model_module_version": "2.0.0",
              "_model_name": "LayoutModel",
              "_view_count": null,
              "_view_module": "@jupyter-widgets/base",
              "_view_module_version": "2.0.0",
              "_view_name": "LayoutView",
              "align_content": null,
              "align_items": null,
              "align_self": null,
              "border_bottom": null,
              "border_left": null,
              "border_right": null,
              "border_top": null,
              "bottom": null,
              "display": null,
              "flex": null,
              "flex_flow": null,
              "grid_area": null,
              "grid_auto_columns": null,
              "grid_auto_flow": null,
              "grid_auto_rows": null,
              "grid_column": null,
              "grid_gap": null,
              "grid_row": null,
              "grid_template_areas": null,
              "grid_template_columns": null,
              "grid_template_rows": null,
              "height": null,
              "justify_content": null,
              "justify_items": null,
              "left": null,
              "margin": null,
              "max_height": null,
              "max_width": null,
              "min_height": null,
              "min_width": null,
              "object_fit": null,
              "object_position": null,
              "order": null,
              "overflow": null,
              "padding": null,
              "right": null,
              "top": null,
              "visibility": null,
              "width": null
            }
          },
          "7aa50ac358394b178e0c58f190df954b": {
            "model_module": "@jupyter-widgets/base",
            "model_module_version": "2.0.0",
            "model_name": "LayoutModel",
            "state": {
              "_model_module": "@jupyter-widgets/base",
              "_model_module_version": "2.0.0",
              "_model_name": "LayoutModel",
              "_view_count": null,
              "_view_module": "@jupyter-widgets/base",
              "_view_module_version": "2.0.0",
              "_view_name": "LayoutView",
              "align_content": null,
              "align_items": null,
              "align_self": null,
              "border_bottom": null,
              "border_left": null,
              "border_right": null,
              "border_top": null,
              "bottom": null,
              "display": null,
              "flex": null,
              "flex_flow": null,
              "grid_area": null,
              "grid_auto_columns": null,
              "grid_auto_flow": null,
              "grid_auto_rows": null,
              "grid_column": null,
              "grid_gap": null,
              "grid_row": null,
              "grid_template_areas": null,
              "grid_template_columns": null,
              "grid_template_rows": null,
              "height": null,
              "justify_content": null,
              "justify_items": null,
              "left": null,
              "margin": null,
              "max_height": null,
              "max_width": null,
              "min_height": null,
              "min_width": null,
              "object_fit": null,
              "object_position": null,
              "order": null,
              "overflow": null,
              "padding": null,
              "right": null,
              "top": null,
              "visibility": null,
              "width": null
            }
          },
          "81304f7446ba48c4aa3df09eaa95ad74": {
            "model_module": "@jupyter-widgets/output",
            "model_module_version": "1.0.0",
            "model_name": "OutputModel",
            "state": {
              "_dom_classes": [],
              "_model_module": "@jupyter-widgets/output",
              "_model_module_version": "1.0.0",
              "_model_name": "OutputModel",
              "_view_count": null,
              "_view_module": "@jupyter-widgets/output",
              "_view_module_version": "1.0.0",
              "_view_name": "OutputView",
              "layout": "IPY_MODEL_d5638c7dee5448538ca69938a81746ad",
              "msg_id": "",
              "outputs": [],
              "tabbable": null,
              "tooltip": null
            }
          },
          "b3bcb5ef7e224e5b91558f0fb8e6582a": {
            "model_module": "@jupyter-widgets/output",
            "model_module_version": "1.0.0",
            "model_name": "OutputModel",
            "state": {
              "_dom_classes": [],
              "_model_module": "@jupyter-widgets/output",
              "_model_module_version": "1.0.0",
              "_model_name": "OutputModel",
              "_view_count": null,
              "_view_module": "@jupyter-widgets/output",
              "_view_module_version": "1.0.0",
              "_view_name": "OutputView",
              "layout": "IPY_MODEL_7182e31588404d2288e7197a4e70abef",
              "msg_id": "",
              "outputs": [],
              "tabbable": null,
              "tooltip": null
            }
          },
          "d5638c7dee5448538ca69938a81746ad": {
            "model_module": "@jupyter-widgets/base",
            "model_module_version": "2.0.0",
            "model_name": "LayoutModel",
            "state": {
              "_model_module": "@jupyter-widgets/base",
              "_model_module_version": "2.0.0",
              "_model_name": "LayoutModel",
              "_view_count": null,
              "_view_module": "@jupyter-widgets/base",
              "_view_module_version": "2.0.0",
              "_view_name": "LayoutView",
              "align_content": null,
              "align_items": null,
              "align_self": null,
              "border_bottom": null,
              "border_left": null,
              "border_right": null,
              "border_top": null,
              "bottom": null,
              "display": null,
              "flex": null,
              "flex_flow": null,
              "grid_area": null,
              "grid_auto_columns": null,
              "grid_auto_flow": null,
              "grid_auto_rows": null,
              "grid_column": null,
              "grid_gap": null,
              "grid_row": null,
              "grid_template_areas": null,
              "grid_template_columns": null,
              "grid_template_rows": null,
              "height": null,
              "justify_content": null,
              "justify_items": null,
              "left": null,
              "margin": null,
              "max_height": null,
              "max_width": null,
              "min_height": null,
              "min_width": null,
              "object_fit": null,
              "object_position": null,
              "order": null,
              "overflow": null,
              "padding": null,
              "right": null,
              "top": null,
              "visibility": null,
              "width": null
            }
          },
          "d7435c35d3ac4a748ee7b7e3e0c35997": {
            "model_module": "@jupyter-widgets/output",
            "model_module_version": "1.0.0",
            "model_name": "OutputModel",
            "state": {
              "_dom_classes": [],
              "_model_module": "@jupyter-widgets/output",
              "_model_module_version": "1.0.0",
              "_model_name": "OutputModel",
              "_view_count": null,
              "_view_module": "@jupyter-widgets/output",
              "_view_module_version": "1.0.0",
              "_view_name": "OutputView",
              "layout": "IPY_MODEL_7aa50ac358394b178e0c58f190df954b",
              "msg_id": "",
              "outputs": [],
              "tabbable": null,
              "tooltip": null
            }
          }
        },
        "version_major": 2,
        "version_minor": 0
      }
    }
  },
  "nbformat": 4,
  "nbformat_minor": 5
}