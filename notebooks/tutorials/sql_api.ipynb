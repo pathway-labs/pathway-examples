{
  "cells": [
    {
      "cell_type": "markdown",
      "metadata": {
        "id": "view-in-colab"
      },
      "source": [
        "<a href=\"https://colab.research.google.com/github/pathwaycom/pathway-examples/blob/main/documentation/sql_api.ipynb\" target=\"_parent\"><img src=\"https://pathway.com/assets/colab-badge.svg\" alt=\"Run In Colab\" class=\"inline\"/></a>"
      ]
    },
    {
      "cell_type": "markdown",
      "source": [
        "# Installing Pathway with Python 3.10+\n",
        "\n",
        "In the cell below, we install Pathway into a Python 3.10+ Linux runtime.\n",
        "\n",
        "> **If you are running in Google Colab, please run the colab notebook (Ctrl+F9)**, disregarding the 'not authored by Google' warning.\n",
        "> \n",
        "> **The installation and loading time is less than 1 minute**.\n"
      ],
      "metadata": {
        "id": "notebook-instructions"
      }
    },
    {
      "cell_type": "code",
      "source": [
        "%%capture --no-display\n",
        "!pip install --prefer-binary pathway"
      ],
      "metadata": {
        "id": "pip-installation-pathway",
        "cellView": "form"
      },
      "execution_count": null,
      "outputs": []
    },
    {
      "cell_type": "markdown",
      "id": "dffbad54",
      "metadata": {},
      "source": [
        "# Using SQL with Pathway\n",
        "Perform SQL commands using Pathway's `pw.sql` function.\n",
        "\n",
        "---\n",
        "\n",
        "Pathway provides a very simple way to use SQL commands directly in your Pathway application: the use of `pw.sql`.\n",
        "Pathway is significantly different from a usual SQL database, and not all SQL operations are available in Pathway.\n",
        "In the following, we present the SQL operations which are compatible with Pathway and how to use `pw.sql`.\n",
        "\n",
        "**This article is a summary of dos and don'ts on how to use Pathway to execute SQL queries, this is not an introduction to SQL.**\n",
        "\n",
        "## Usage\n",
        "You can very easily execute a SQL command by doing the following:\n",
        "\n",
        "```python\n",
        "pw.sql(query, tab=t)\n",
        "```\n",
        "\n",
        "This will execute the SQL command `query` where the Pathway table `t` (Python local variable) can be referred to as  `tab` (SQL table name) inside `query`.\n",
        "More generally, you can pass an arbitrary number of tables associations `name, table` using `**kwargs`: `pw.sql(query, tab1=t1, tab2=t2,.., tabn=tn)`.\n",
        "\n",
        "## Example"
      ]
    },
    {
      "cell_type": "code",
      "execution_count": 1,
      "id": "b1e9ebd1",
      "metadata": {
        "execution": {
          "iopub.execute_input": "2024-03-21T07:33:50.229452Z",
          "iopub.status.busy": "2024-03-21T07:33:50.229361Z",
          "iopub.status.idle": "2024-03-21T07:33:56.815028Z",
          "shell.execute_reply": "2024-03-21T07:33:56.814676Z"
        }
      },
      "outputs": [
        {
          "name": "stderr",
          "output_type": "stream",
          "text": [
            "[2024-03-21T08:33:56]:INFO:Preparing Pathway computation\n"
          ]
        },
        {
          "name": "stdout",
          "output_type": "stream",
          "text": [
            "            | a | b\n",
            "^YYY4HAB... | 1 | 2\n",
            "^3CZ78B4... | 4 | 7\n"
          ]
        }
      ],
      "source": [
        "import pathway as pw\n",
        "\n",
        "t = pw.debug.table_from_markdown(\n",
        "    \"\"\"\n",
        "    | a | b\n",
        " 1  | 1 | 2\n",
        " 2  | 4 | 3\n",
        " 3  | 4 | 7\n",
        " \"\"\"\n",
        ")\n",
        "\n",
        "ret = pw.sql(\"SELECT * FROM tab WHERE a<b\", tab=t)\n",
        "pw.debug.compute_and_print(ret)"
      ]
    },
    {
      "cell_type": "markdown",
      "id": "f0ad7a3d",
      "metadata": {},
      "source": [
        "## Column names\n",
        "Unlike in Pathway, column names are not case sensitive in SQL so **column names are NOT case sensitive when using `pw.sql`**.\n",
        "To improve the compatibility with Pathway, we encourage the use of the standard Python naming convention for column and table names: no special character other than \"\\_\", alphanumeric characters, and not starting with a number.\n",
        "Using a space will work in the SQL layer (e.g. returning a column called `\"a column\"`), though it may be impractical afterwards, when using the dot notation in Pathway: `t.a column` will raise an error. You can still use the `t[\"a column\"]` syntax in Pathway.\n",
        "\n",
        "## List of Available SQL Operations\n",
        "\n",
        "### `SELECT`\n",
        "Using select, you can access the different columns of a table:"
      ]
    },
    {
      "cell_type": "code",
      "execution_count": 2,
      "id": "d4257016",
      "metadata": {
        "execution": {
          "iopub.execute_input": "2024-03-21T07:33:56.816421Z",
          "iopub.status.busy": "2024-03-21T07:33:56.816273Z",
          "iopub.status.idle": "2024-03-21T07:33:56.825250Z",
          "shell.execute_reply": "2024-03-21T07:33:56.824959Z"
        }
      },
      "outputs": [
        {
          "name": "stderr",
          "output_type": "stream",
          "text": [
            "[2024-03-21T08:33:56]:INFO:Preparing Pathway computation\n"
          ]
        },
        {
          "name": "stdout",
          "output_type": "stream",
          "text": [
            "            | a\n",
            "^YYY4HAB... | 1\n",
            "^Z3QWT29... | 4\n",
            "^3CZ78B4... | 4\n"
          ]
        }
      ],
      "source": [
        "result_select = pw.sql(\"SELECT a FROM tab\", tab=t)\n",
        "pw.debug.compute_and_print(result_select)"
      ]
    },
    {
      "cell_type": "markdown",
      "id": "1af79d0c",
      "metadata": {},
      "source": [
        "\u26a0\ufe0f Pathway does not preserve the order of columns!"
      ]
    },
    {
      "cell_type": "markdown",
      "id": "5af6ac3f",
      "metadata": {},
      "source": [
        "#### Star notation\n",
        "Pathway supports the star notation `*` to select all the columns:"
      ]
    },
    {
      "cell_type": "code",
      "execution_count": 3,
      "id": "0724a7b1",
      "metadata": {
        "execution": {
          "iopub.execute_input": "2024-03-21T07:33:56.826580Z",
          "iopub.status.busy": "2024-03-21T07:33:56.826408Z",
          "iopub.status.idle": "2024-03-21T07:33:56.836691Z",
          "shell.execute_reply": "2024-03-21T07:33:56.836416Z"
        }
      },
      "outputs": [
        {
          "name": "stderr",
          "output_type": "stream",
          "text": [
            "[2024-03-21T08:33:56]:INFO:Preparing Pathway computation\n"
          ]
        },
        {
          "name": "stdout",
          "output_type": "stream",
          "text": [
            "            | a | b\n",
            "^YYY4HAB... | 1 | 2\n",
            "^Z3QWT29... | 4 | 3\n",
            "^3CZ78B4... | 4 | 7\n"
          ]
        }
      ],
      "source": [
        "result_star = pw.sql(\"SELECT * FROM tab\", tab=t)\n",
        "pw.debug.compute_and_print(result_star)"
      ]
    },
    {
      "cell_type": "markdown",
      "id": "e1536add",
      "metadata": {},
      "source": [
        "\u26a0\ufe0f Every Pathway table has a special column `id`: this column is NOT captured by `*` expressions in SQL."
      ]
    },
    {
      "cell_type": "markdown",
      "id": "bfc26ea4",
      "metadata": {},
      "source": [
        "### `WHERE`\n",
        "In a `SELECT` query, the `WHERE` clause can be used to select rows satisfying a given condition:"
      ]
    },
    {
      "cell_type": "code",
      "execution_count": 4,
      "id": "d29366dc",
      "metadata": {
        "execution": {
          "iopub.execute_input": "2024-03-21T07:33:56.837969Z",
          "iopub.status.busy": "2024-03-21T07:33:56.837807Z",
          "iopub.status.idle": "2024-03-21T07:33:56.859012Z",
          "shell.execute_reply": "2024-03-21T07:33:56.858714Z"
        }
      },
      "outputs": [
        {
          "name": "stderr",
          "output_type": "stream",
          "text": [
            "[2024-03-21T08:33:56]:INFO:Preparing Pathway computation\n"
          ]
        },
        {
          "name": "stdout",
          "output_type": "stream",
          "text": [
            "            | a | b\n",
            "^Z3QWT29... | 4 | 3\n",
            "^3CZ78B4... | 4 | 7\n"
          ]
        }
      ],
      "source": [
        "result_where = pw.sql(\"SELECT a,b FROM tab WHERE b>2\", tab=t)\n",
        "pw.debug.compute_and_print(result_where)"
      ]
    },
    {
      "cell_type": "markdown",
      "id": "b850a19d",
      "metadata": {},
      "source": [
        "### Boolean and Arithmetic Expressions\n",
        "With the `SELECT ...` and `WHERE ...` clauses, you can use the following operators:\n",
        "- boolean operators: `AND`, `OR`, `NOT`\n",
        "- arithmetic operators: `+`, `-`, `*`,  `/`, `DIV`, `MOD`, `==`, `!=`, `<`, `>`, `<=`, `>=`, `<>`\n",
        "- NULL"
      ]
    },
    {
      "cell_type": "code",
      "execution_count": 5,
      "id": "9a342edc",
      "metadata": {
        "execution": {
          "iopub.execute_input": "2024-03-21T07:33:56.860219Z",
          "iopub.status.busy": "2024-03-21T07:33:56.860106Z",
          "iopub.status.idle": "2024-03-21T07:33:56.887420Z",
          "shell.execute_reply": "2024-03-21T07:33:56.887144Z"
        }
      },
      "outputs": [
        {
          "name": "stderr",
          "output_type": "stream",
          "text": [
            "[2024-03-21T08:33:56]:INFO:Preparing Pathway computation\n"
          ]
        },
        {
          "name": "stdout",
          "output_type": "stream",
          "text": [
            "            | a | b\n",
            "^3CZ78B4... | 4 | 7\n"
          ]
        }
      ],
      "source": [
        "result_bool = pw.sql(\"SELECT a,b FROM tab WHERE b-a>0 AND a>3\", tab=t)\n",
        "pw.debug.compute_and_print(result_bool)"
      ]
    },
    {
      "cell_type": "markdown",
      "id": "13cae170",
      "metadata": {},
      "source": [
        "Both `!=` and `<>` can be used to check non-equality."
      ]
    },
    {
      "cell_type": "code",
      "execution_count": 6,
      "id": "f0c49631",
      "metadata": {
        "execution": {
          "iopub.execute_input": "2024-03-21T07:33:56.888583Z",
          "iopub.status.busy": "2024-03-21T07:33:56.888475Z",
          "iopub.status.idle": "2024-03-21T07:33:56.913744Z",
          "shell.execute_reply": "2024-03-21T07:33:56.913473Z"
        }
      },
      "outputs": [
        {
          "name": "stderr",
          "output_type": "stream",
          "text": [
            "[2024-03-21T08:33:56]:INFO:Preparing Pathway computation\n"
          ]
        },
        {
          "name": "stdout",
          "output_type": "stream",
          "text": [
            "            | a | b\n",
            "^YYY4HAB... | 1 | 2\n",
            "^3CZ78B4... | 4 | 7\n"
          ]
        }
      ],
      "source": [
        "result_neq = pw.sql(\"SELECT a,b FROM tab WHERE a != 4 OR b <> 3\", tab=t)\n",
        "pw.debug.compute_and_print(result_neq)"
      ]
    },
    {
      "cell_type": "markdown",
      "id": "b3335cf2",
      "metadata": {},
      "source": [
        "`NULL` can be used to filter out rows with missing values:"
      ]
    },
    {
      "cell_type": "code",
      "execution_count": 7,
      "id": "3cd7a89f",
      "metadata": {
        "execution": {
          "iopub.execute_input": "2024-03-21T07:33:56.915026Z",
          "iopub.status.busy": "2024-03-21T07:33:56.914811Z",
          "iopub.status.idle": "2024-03-21T07:33:56.943996Z",
          "shell.execute_reply": "2024-03-21T07:33:56.943712Z"
        }
      },
      "outputs": [
        {
          "name": "stderr",
          "output_type": "stream",
          "text": [
            "[2024-03-21T08:33:56]:INFO:Preparing Pathway computation\n"
          ]
        },
        {
          "name": "stdout",
          "output_type": "stream",
          "text": [
            "            | a | b\n",
            "^YYY4HAB... | 1 | 2\n",
            "^3CZ78B4... | 4 | 7\n"
          ]
        }
      ],
      "source": [
        "t_null = pw.debug.table_from_markdown(\n",
        "    \"\"\"\n",
        "    | a | b\n",
        " 1  | 1 | 2\n",
        " 2  | 4 |\n",
        " 3  | 4 | 7\n",
        " \"\"\"\n",
        ")\n",
        "\n",
        "result_null = pw.sql(\"SELECT a, b FROM tab WHERE b IS NOT NULL \", tab=t_null)\n",
        "pw.debug.compute_and_print(result_null)"
      ]
    },
    {
      "cell_type": "markdown",
      "id": "0917ccc1",
      "metadata": {},
      "source": [
        "You can use single row result subqueries in the `WHERE` clause to filter a table based on the subquery results:"
      ]
    },
    {
      "cell_type": "code",
      "execution_count": 8,
      "id": "34665555",
      "metadata": {
        "execution": {
          "iopub.execute_input": "2024-03-21T07:33:56.945190Z",
          "iopub.status.busy": "2024-03-21T07:33:56.945062Z",
          "iopub.status.idle": "2024-03-21T07:33:57.109793Z",
          "shell.execute_reply": "2024-03-21T07:33:57.109444Z"
        }
      },
      "outputs": [
        {
          "name": "stderr",
          "output_type": "stream",
          "text": [
            "[2024-03-21T08:33:57]:INFO:Preparing Pathway computation\n"
          ]
        },
        {
          "name": "stdout",
          "output_type": "stream",
          "text": [
            "            | employee | salary\n",
            "^Z3QWT29... | 2        | 11\n",
            "^3CZ78B4... | 3        | 12\n"
          ]
        }
      ],
      "source": [
        "t_subqueries = pw.debug.table_from_markdown(\n",
        "    \"\"\"\n",
        "    | employee | salary\n",
        " 1  | 1        | 10\n",
        " 2  | 2        | 11\n",
        " 3  | 3        | 12\n",
        " \"\"\"\n",
        ")\n",
        "result_subqueries = pw.sql(\n",
        "    \"SELECT employee, salary FROM t WHERE salary >= (SELECT AVG(salary) FROM t)\",\n",
        "    t=t_subqueries,\n",
        ")\n",
        "pw.debug.compute_and_print(result_subqueries)"
      ]
    },
    {
      "cell_type": "markdown",
      "id": "7d7adf15",
      "metadata": {},
      "source": [
        "\u26a0\ufe0f For now, only single row result subqueries are supported.\n",
        "Correlated subqueries and the associated operations `ANY`, `NONE`, and `EVERY` (or its alias `ALL`) are currently not supported."
      ]
    },
    {
      "cell_type": "markdown",
      "id": "026b3796",
      "metadata": {},
      "source": [
        "### `GROUP BY`\n",
        "You can use `GROUP BY` to group rows with the same value for a given column, and to use an aggregate function over the grouped rows."
      ]
    },
    {
      "cell_type": "code",
      "execution_count": 9,
      "id": "ddb0818c",
      "metadata": {
        "execution": {
          "iopub.execute_input": "2024-03-21T07:33:57.111209Z",
          "iopub.status.busy": "2024-03-21T07:33:57.110979Z",
          "iopub.status.idle": "2024-03-21T07:33:57.136573Z",
          "shell.execute_reply": "2024-03-21T07:33:57.136276Z"
        }
      },
      "outputs": [
        {
          "name": "stderr",
          "output_type": "stream",
          "text": [
            "[2024-03-21T08:33:57]:INFO:Preparing Pathway computation\n"
          ]
        },
        {
          "name": "stdout",
          "output_type": "stream",
          "text": [
            "            | a | _col_1\n",
            "^YYY4HAB... | 1 | 2\n",
            "^3HN31E1... | 4 | 10\n"
          ]
        }
      ],
      "source": [
        "result_groupby = pw.sql(\"SELECT a, SUM(b) FROM tab GROUP BY a\", tab=t)\n",
        "pw.debug.compute_and_print(result_groupby)"
      ]
    },
    {
      "cell_type": "markdown",
      "id": "e297ca11",
      "metadata": {},
      "source": [
        "\u26a0\ufe0f `GROUP BY` and `JOIN` should not be used together in a single `SELECT`."
      ]
    },
    {
      "cell_type": "markdown",
      "id": "8295621b",
      "metadata": {},
      "source": [
        "#### Aggregation functions\n",
        "With `GROUP BY`, you can use the following aggregation functions:\n",
        "- `AVG`\n",
        "- `COUNT`\n",
        "- `MAX`\n",
        "- `MIN`\n",
        "- `SUM`\n",
        "\n",
        "\u26a0\ufe0f Pathway reducers (`pw.count`, `pw.sum`, etc.) aggregate over `None` values, while traditional SQL aggregate functions skip `NULL` values: be careful to remove all the undefined values before using an aggregate function."
      ]
    },
    {
      "cell_type": "markdown",
      "id": "c63e343d",
      "metadata": {},
      "source": [
        "### `HAVING`"
      ]
    },
    {
      "cell_type": "code",
      "execution_count": 10,
      "id": "57c43d35",
      "metadata": {
        "execution": {
          "iopub.execute_input": "2024-03-21T07:33:57.137793Z",
          "iopub.status.busy": "2024-03-21T07:33:57.137578Z",
          "iopub.status.idle": "2024-03-21T07:33:57.182349Z",
          "shell.execute_reply": "2024-03-21T07:33:57.182075Z"
        }
      },
      "outputs": [
        {
          "name": "stderr",
          "output_type": "stream",
          "text": [
            "[2024-03-21T08:33:57]:INFO:Preparing Pathway computation\n"
          ]
        },
        {
          "name": "stdout",
          "output_type": "stream",
          "text": [
            "            | a | _col_1\n",
            "^3HN31E1... | 4 | 10\n"
          ]
        }
      ],
      "source": [
        "result_having = pw.sql(\"SELECT a, SUM(b) FROM tab GROUP BY a HAVING SUM(b)>5\", tab=t)\n",
        "pw.debug.compute_and_print(result_having)"
      ]
    },
    {
      "cell_type": "markdown",
      "id": "4e550356",
      "metadata": {},
      "source": [
        "### `AS` (alias)\n",
        "Pathway supports both notations: `old_name as new_name` and `old_name new_name`."
      ]
    },
    {
      "cell_type": "code",
      "execution_count": 11,
      "id": "879110d5",
      "metadata": {
        "execution": {
          "iopub.execute_input": "2024-03-21T07:33:57.183606Z",
          "iopub.status.busy": "2024-03-21T07:33:57.183407Z",
          "iopub.status.idle": "2024-03-21T07:33:57.193732Z",
          "shell.execute_reply": "2024-03-21T07:33:57.193500Z"
        }
      },
      "outputs": [
        {
          "name": "stderr",
          "output_type": "stream",
          "text": [
            "[2024-03-21T08:33:57]:INFO:Preparing Pathway computation\n"
          ]
        },
        {
          "name": "stdout",
          "output_type": "stream",
          "text": [
            "            | b | c\n",
            "^YYY4HAB... | 2 | 1\n",
            "^Z3QWT29... | 3 | 4\n",
            "^3CZ78B4... | 7 | 4\n"
          ]
        }
      ],
      "source": [
        "result_alias = pw.sql(\"SELECT b, a AS c FROM tab\", tab=t)\n",
        "pw.debug.compute_and_print(result_alias)"
      ]
    },
    {
      "cell_type": "code",
      "execution_count": 12,
      "id": "69275c48",
      "metadata": {
        "execution": {
          "iopub.execute_input": "2024-03-21T07:33:57.194865Z",
          "iopub.status.busy": "2024-03-21T07:33:57.194665Z",
          "iopub.status.idle": "2024-03-21T07:33:57.204553Z",
          "shell.execute_reply": "2024-03-21T07:33:57.204345Z"
        }
      },
      "outputs": [
        {
          "name": "stderr",
          "output_type": "stream",
          "text": [
            "[2024-03-21T08:33:57]:INFO:Preparing Pathway computation\n"
          ]
        },
        {
          "name": "stdout",
          "output_type": "stream",
          "text": [
            "            | b | c\n",
            "^YYY4HAB... | 2 | 1\n",
            "^Z3QWT29... | 3 | 4\n",
            "^3CZ78B4... | 7 | 4\n"
          ]
        }
      ],
      "source": [
        "result_alias = pw.sql(\"SELECT b, a c FROM tab\", tab=t)\n",
        "pw.debug.compute_and_print(result_alias)"
      ]
    },
    {
      "cell_type": "markdown",
      "id": "e7ed37af",
      "metadata": {},
      "source": [
        "### `UNION`\n",
        "Pathway provides the standard `UNION` SQL operator.\n",
        "Note that `UNION` requires matching column names."
      ]
    },
    {
      "cell_type": "code",
      "execution_count": 13,
      "id": "c1351246",
      "metadata": {
        "execution": {
          "iopub.execute_input": "2024-03-21T07:33:57.205612Z",
          "iopub.status.busy": "2024-03-21T07:33:57.205427Z",
          "iopub.status.idle": "2024-03-21T07:33:57.291710Z",
          "shell.execute_reply": "2024-03-21T07:33:57.291463Z"
        }
      },
      "outputs": [
        {
          "name": "stderr",
          "output_type": "stream",
          "text": [
            "[2024-03-21T08:33:57]:INFO:Preparing Pathway computation\n"
          ]
        },
        {
          "name": "stdout",
          "output_type": "stream",
          "text": [
            "            | a | b\n",
            "^KYCVNKF... | 1 | 2\n",
            "^856GZ16... | 2 | 7\n",
            "^H3J0A0V... | 4 | 3\n",
            "^GX1QVN0... | 4 | 7\n",
            "^7HC68KR... | 9 | 3\n"
          ]
        }
      ],
      "source": [
        "t_union = pw.debug.table_from_markdown(\n",
        "    \"\"\"\n",
        "    | a | b\n",
        " 4  | 9 | 3\n",
        " 5  | 2 | 7\n",
        " \"\"\"\n",
        ")\n",
        "\n",
        "result_union = pw.sql(\"SELECT * FROM tab UNION SELECT * FROM tab2\", tab=t, tab2=t_union)\n",
        "pw.debug.compute_and_print(result_union)"
      ]
    },
    {
      "cell_type": "markdown",
      "id": "a59ef387",
      "metadata": {},
      "source": [
        "### `INTERSECT`\n",
        "Pathway provides the standard `INTERSECT` SQL operator.\n",
        "Note that `INTERSECT` requires matching column names."
      ]
    },
    {
      "cell_type": "code",
      "execution_count": 14,
      "id": "229b8be4",
      "metadata": {
        "execution": {
          "iopub.execute_input": "2024-03-21T07:33:57.292849Z",
          "iopub.status.busy": "2024-03-21T07:33:57.292720Z",
          "iopub.status.idle": "2024-03-21T07:33:57.348173Z",
          "shell.execute_reply": "2024-03-21T07:33:57.347876Z"
        }
      },
      "outputs": [
        {
          "name": "stderr",
          "output_type": "stream",
          "text": [
            "[2024-03-21T08:33:57]:INFO:Preparing Pathway computation\n"
          ]
        },
        {
          "name": "stdout",
          "output_type": "stream",
          "text": [
            "            | a | b\n",
            "^KYCVNKF... | 1 | 2\n"
          ]
        }
      ],
      "source": [
        "t_inter = pw.debug.table_from_markdown(\n",
        "    \"\"\"\n",
        "    | a | b\n",
        " 4  | 9 | 3\n",
        " 5  | 2 | 7\n",
        " 6  | 1 | 2\n",
        " \"\"\"\n",
        ")\n",
        "\n",
        "result_inter = pw.sql(\n",
        "    \"SELECT * FROM tab INTERSECT SELECT * FROM tab2\", tab=t, tab2=t_inter\n",
        ")\n",
        "pw.debug.compute_and_print(result_inter)"
      ]
    },
    {
      "cell_type": "markdown",
      "id": "9136d33c",
      "metadata": {},
      "source": [
        "\u26a0\ufe0f `INTERSECT` does not support `INTERSECT ALL` (coming soon)."
      ]
    },
    {
      "cell_type": "markdown",
      "id": "7ba6dc71",
      "metadata": {},
      "source": [
        "### `JOIN`\n",
        "Pathway provides different join operations: `INNER JOIN`, `LEFT JOIN` (or `LEFT OUTER JOIN`), `RIGHT JOIN` (or `RIGHT OUTER JOIN`), `SELF JOIN`, and `CROSS JOIN`."
      ]
    },
    {
      "cell_type": "code",
      "execution_count": 15,
      "id": "bad4c8ab",
      "metadata": {
        "execution": {
          "iopub.execute_input": "2024-03-21T07:33:57.349277Z",
          "iopub.status.busy": "2024-03-21T07:33:57.349171Z",
          "iopub.status.idle": "2024-03-21T07:33:57.389660Z",
          "shell.execute_reply": "2024-03-21T07:33:57.389389Z"
        }
      },
      "outputs": [
        {
          "name": "stderr",
          "output_type": "stream",
          "text": [
            "[2024-03-21T08:33:57]:INFO:Preparing Pathway computation\n"
          ]
        },
        {
          "name": "stdout",
          "output_type": "stream",
          "text": [
            "            | a | b | c\n",
            "^J1AVR2S... | 4 | 3 | 4\n",
            "^8V184A9... | 4 | 7 | 5\n"
          ]
        }
      ],
      "source": [
        "t_join = pw.debug.table_from_markdown(\n",
        "    \"\"\"\n",
        "    | b | c\n",
        " 4  | 4 | 9\n",
        " 5  | 3 | 4\n",
        " 6  | 7 | 5\n",
        " \"\"\"\n",
        ")\n",
        "result_join = pw.sql(\n",
        "    \"SELECT * FROM left_table INNER JOIN right_table ON left_table.b==right_table.b\",\n",
        "    left_table=t,\n",
        "    right_table=t_join,\n",
        ")\n",
        "pw.debug.compute_and_print(result_join)"
      ]
    },
    {
      "cell_type": "markdown",
      "id": "7510babc",
      "metadata": {},
      "source": [
        "\u26a0\ufe0f `GROUP BY` and `JOIN` should not be used together in a single `SELECT`."
      ]
    },
    {
      "cell_type": "markdown",
      "id": "29213349",
      "metadata": {},
      "source": [
        "\u26a0\ufe0f `NATURAL JOIN` and `FULL JOIN` are not supported (coming soon)."
      ]
    },
    {
      "cell_type": "markdown",
      "id": "7c665bce",
      "metadata": {},
      "source": [
        "### `WITH`\n",
        "In addition to being placed inside a `WHERE` clause, subqueries can also be performed using the `WITH` keyword:"
      ]
    },
    {
      "cell_type": "code",
      "execution_count": 16,
      "id": "32cb4ae1",
      "metadata": {
        "execution": {
          "iopub.execute_input": "2024-03-21T07:33:57.390727Z",
          "iopub.status.busy": "2024-03-21T07:33:57.390619Z",
          "iopub.status.idle": "2024-03-21T07:33:57.418877Z",
          "shell.execute_reply": "2024-03-21T07:33:57.418581Z"
        }
      },
      "outputs": [
        {
          "name": "stderr",
          "output_type": "stream",
          "text": [
            "[2024-03-21T08:33:57]:INFO:Preparing Pathway computation\n"
          ]
        },
        {
          "name": "stdout",
          "output_type": "stream",
          "text": [
            "            | sumB\n",
            "^YYY4HAB... | 2\n",
            "^3HN31E1... | 10\n"
          ]
        }
      ],
      "source": [
        "result_with = pw.sql(\n",
        "    \"WITH group_table (a, sumB) AS (SELECT a, SUM(b) FROM tab GROUP BY a) SELECT sumB FROM group_table\",\n",
        "    tab=t,\n",
        ")\n",
        "pw.debug.compute_and_print(result_with)"
      ]
    },
    {
      "cell_type": "markdown",
      "id": "0245c9ba",
      "metadata": {},
      "source": [
        "## Differences from the SQL standard\n",
        "First of all, not all SQL queries can be executed in Pathway.\n",
        "This stems mainly from the fact that Pathway is built to process streaming and dynamic data efficiently.\n",
        "\n",
        "### No ordering\n",
        "In Pathway, indexes are separately generated and maintained by the engine, which does not guarantee any row order: SQL operations like `LIMIT`, `ORDER BY` or `SELECT TOP` don't always make sense in this context. In the future, we will support an `ORDER BY ... LIMIT ...` keyword combination, which is typically meaningful in Pathway.\n",
        "The column `id` is reserved and should not be used as a column name, this column is not captured by `*` expressions.\n",
        "\n",
        "Furthermore, there is no order on the columns and the column order used in a `SELECT` query need not be preserved.\n",
        "\n",
        "### Immutability\n",
        "Pathway tables are immutable: operations such as `INSERT INTO` are not supported.\n",
        "\n",
        "### Limits\n",
        "Correlated subqueries are currently not supported and keywords such as `LIKE`, `ANY`, `ALL`, or `EXISTS` are not supported.\n",
        "`COALESCE` and`IFNULL` are not supported but should be soon.\n",
        "We strongly suggest not to use anonymous columns: they might work but we cannot guarantee their behavior.\n",
        "\n",
        "## Conclusion\n",
        "Pathway provides a powerful API to ease the transition of SQL data transformations and pipelines into Pathway.\n",
        "However, Pathway and SQL serve different purposes. To benefit from all the possibilities Pathway has to offer we strongly encourage you to use the Python syntax directly, as much as you can. Most of the time, this syntax is at least as easy to follow as SQL - see for example our [join](/developers/user-guide/data-transformation/join-manual/) and [groupby](/developers/user-guide/data-transformation/groupby-reduce-manual/) manu[a]ls."
      ]
    }
  ],
  "metadata": {
    "jupytext": {
      "cell_metadata_filter": "-all",
      "main_language": "python",
      "notebook_metadata_filter": "-all"
    },
    "language_info": {
      "codemirror_mode": {
        "name": "ipython",
        "version": 3
      },
      "file_extension": ".py",
      "mimetype": "text/x-python",
      "name": "python",
      "nbconvert_exporter": "python",
      "pygments_lexer": "ipython3",
      "version": "3.11.8"
    }
  },
  "nbformat": 4,
  "nbformat_minor": 5
}