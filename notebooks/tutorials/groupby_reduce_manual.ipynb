{
  "cells": [
    {
      "cell_type": "markdown",
      "metadata": {
        "id": "view-in-colab"
      },
      "source": [
        "<a href=\"https://colab.research.google.com/github/pathwaycom/pathway-examples/blob/main/documentation/groupby_reduce_manual.ipynb\" target=\"_parent\"><img src=\"https://pathway.com/assets/colab-badge.svg\" alt=\"Run In Colab\" class=\"inline\"/></a>"
      ]
    },
    {
      "cell_type": "markdown",
      "source": [
        "# Installing Pathway with Python 3.10+\n",
        "\n",
        "In the cell below, we install Pathway into a Python 3.10+ Linux runtime.\n",
        "\n",
        "> **If you are running in Google Colab, please run the colab notebook (Ctrl+F9)**, disregarding the 'not authored by Google' warning.\n",
        "> \n",
        "> **The installation and loading time is less than 1 minute**.\n"
      ],
      "metadata": {
        "id": "notebook-instructions"
      }
    },
    {
      "cell_type": "code",
      "source": [
        "%%capture --no-display\n",
        "!pip install --prefer-binary pathway"
      ],
      "metadata": {
        "id": "pip-installation-pathway",
        "cellView": "form"
      },
      "execution_count": null,
      "outputs": []
    },
    {
      "cell_type": "markdown",
      "id": "5a2e0cbb",
      "metadata": {},
      "source": [
        "# Groupby - Reduce\n",
        "In this manu\\[a\\]l, you will learn how to aggregate data with the groupby-reduce scheme.\n",
        "\n",
        "Together, the [`groupby`](/developers/api-docs/pathway-table#pathway.Table.groupby) and [`reduce`](/developers/api-docs/pathway-table#pathway.Table.reduce) operations can be used\n",
        "to **aggregate data across the rows of the table**. In this guide,\n",
        "we expand upon a simple demonstration from the\n",
        "[First-steps Guide](/developers/user-guide/data-transformation/table-operations/)\n",
        "and:\n",
        "* explain syntax of [groupby](#groupby-syntax) and [reduce](#reduce-syntax)\n",
        "* explain [two kinds of columns we get from groupby](#groupby-reduce-column-constrains)\n",
        "* explain [automatic id generation](#auto-generated-id)\n",
        "* show [a few simple applications](#more-examples)"
      ]
    },
    {
      "cell_type": "markdown",
      "id": "9ba83254",
      "metadata": {},
      "source": [
        "## Prerequisites\n",
        "The assumption is that we are familiar with some basic operations\n",
        "explained in the [First-steps Guide](/developers/user-guide/data-transformation/table-operations/).\n",
        "As usual, we begin with importing Pathway."
      ]
    },
    {
      "cell_type": "code",
      "execution_count": 1,
      "id": "4551aade",
      "metadata": {
        "execution": {
          "iopub.execute_input": "2024-03-21T07:36:32.888905Z",
          "iopub.status.busy": "2024-03-21T07:36:32.888813Z",
          "iopub.status.idle": "2024-03-21T07:36:38.403239Z",
          "shell.execute_reply": "2024-03-21T07:36:38.402895Z"
        }
      },
      "outputs": [],
      "source": [
        "import pathway as pw"
      ]
    },
    {
      "cell_type": "markdown",
      "id": "d56d579f",
      "metadata": {
        "lines_to_next_cell": 2
      },
      "source": [
        "To demonstrate the capabilities of groupby and reduce operations,\n",
        "let us consider a made up scenario.\n",
        "\n",
        "**Storyline:** let's assume that you made a poll, asking whether a particular food item is a fruit or a vegetable.\n",
        "\n",
        "An answer to such a question is a tuple `(food_item, label, vote, fractional_vote)`.\n",
        "That is, if someone could tell that tomato is a fruit, but they are not really sure,\n",
        "it could be registered as two tuples:\n",
        "\n",
        "* (tomato, fruit, 1, 0.5),\n",
        "\n",
        "* (tomato, vegetable, 0, 0.5)\n",
        "\n",
        "Below, we have the results of the poll, stored in the table *poll*."
      ]
    },
    {
      "cell_type": "code",
      "execution_count": 2,
      "id": "36636905",
      "metadata": {
        "execution": {
          "iopub.execute_input": "2024-03-21T07:36:38.405659Z",
          "iopub.status.busy": "2024-03-21T07:36:38.404897Z",
          "iopub.status.idle": "2024-03-21T07:36:38.426640Z",
          "shell.execute_reply": "2024-03-21T07:36:38.426287Z"
        }
      },
      "outputs": [],
      "source": [
        "poll = pw.debug.table_from_markdown(\n",
        "    \"\"\"\n",
        "    | food_item | label     | vote  | fractional_vote   | time\n",
        "0   | tomato    | fruit     | 1     | 0.5               | 1669882728\n",
        "1   | tomato    | vegetable | 0     | 0.5               | 1669882728\n",
        "2   | apple     | fruit     | 1     | 1                 | 1669883612\n",
        "3   | apple     | vegetable | 0     | 0                 | 1669883612\n",
        "4   | pepper    | vegetable | 1     | 0.5               | 1669883059\n",
        "5   | pepper    | fruit     | 0     | 0.5               | 1669883059\n",
        "6   | tomato    | fruit     | 0     | 0.3               | 1669880159\n",
        "7   | tomato    | vegetable | 1     | 0.7               | 1669880159\n",
        "8   | corn      | fruit     | 0     | 0.3               | 1669876829\n",
        "9   | corn      | vegetable | 1     | 0.7               | 1669876829\n",
        "10  | tomato    | fruit     | 0     | 0.4               | 1669874325\n",
        "11  | tomato    | vegetable | 1     | 0.6               | 1669874325\n",
        "12  | pepper    | fruit     | 0     | 0.45              | 1669887207\n",
        "13  | pepper    | vegetable | 1     | 0.55              | 1669887207\n",
        "14  | apple     | fruit     | 1     | 1                 | 1669874325\n",
        "15  | apple     | vegetable | 0     | 0                 | 1669874325\n",
        "\n",
        "\"\"\"\n",
        ")"
      ]
    },
    {
      "cell_type": "markdown",
      "id": "411daa10",
      "metadata": {},
      "source": [
        "To demonstrate a simple groupby-reduce application, let's ask about\n",
        "the total `fractional_vote` that was assigned to any combination of `foot_item`, `label`.\n",
        "\n",
        "\n",
        "First we explain the syntax of both [`groupby`](#groupby-syntax) and [`reduce`](#reduce-syntax).\n",
        "Then, we show groupby-reduce code in [action](#groupby-reduce-simple-example)."
      ]
    },
    {
      "cell_type": "markdown",
      "id": "021cc96f",
      "metadata": {},
      "source": [
        "## Groupby Syntax\n",
        "The syntax of the [`groupby`](/developers/api-docs/pathway-table#pathway.Table.groupby) operation is fairly simple:"
      ]
    },
    {
      "cell_type": "code",
      "execution_count": 3,
      "id": "f82dee84",
      "metadata": {
        "execution": {
          "iopub.execute_input": "2024-03-21T07:36:38.428215Z",
          "iopub.status.busy": "2024-03-21T07:36:38.427948Z",
          "iopub.status.idle": "2024-03-21T07:36:38.429608Z",
          "shell.execute_reply": "2024-03-21T07:36:38.429338Z"
        }
      },
      "outputs": [],
      "source": [
        "table.groupby(*C)"
      ]
    },
    {
      "cell_type": "markdown",
      "id": "fa615883",
      "metadata": {},
      "source": [
        "\n",
        "It takes a list of columns `*C` as argument and groups the row according to their values in those columns.\n",
        "In other words, all the rows with the same values, column-wise, in each column of `*C` are put into the same group.\n",
        "\n",
        "As a result, it returns a [`GroupedTable`](/developers/api-docs/pathway/#pathway.GroupedTable) object, which stores\n",
        "a single row for each unique tuple from columns in `*C` and a collection\n",
        "of grouped items corresponding to each column that is not in `*C`.\n",
        "\n",
        "In the example above, if we groupby over a pair of columns `food_item`, `label`,\n",
        "the groupby computes a collection of `votes` and a collection of `fractional_votes`\n",
        "for each unique combination `food_item`, `label`.\n",
        "\n",
        "In order to use this object, we need to process those collections\n",
        "with the `reduce` operation.\n",
        "\n",
        "## Reduce Syntax\n",
        "The [`reduce`](/developers/api-docs/pathway/#pathway.GroupedTable.reduce) function behaves a little bit like [`select`](/developers/api-docs/pathway-table#pathway.Table.select), and it also takes\n",
        "two kinds of arguments:"
      ]
    },
    {
      "cell_type": "code",
      "execution_count": 4,
      "id": "2e8fde3a",
      "metadata": {
        "execution": {
          "iopub.execute_input": "2024-03-21T07:36:38.430791Z",
          "iopub.status.busy": "2024-03-21T07:36:38.430563Z",
          "iopub.status.idle": "2024-03-21T07:36:38.432097Z",
          "shell.execute_reply": "2024-03-21T07:36:38.431847Z"
        }
      },
      "outputs": [],
      "source": [
        "grouped_table.reduce(*SC, *NC)"
      ]
    },
    {
      "cell_type": "markdown",
      "id": "a858941f",
      "metadata": {},
      "source": [
        "* *SC is simply a list of columns that were present in the table before the groupby\n",
        "operation,\n",
        "* *NC is a list of new columns (i.e. columns with new name), each defined as\n",
        "some function of cells in the row of grouped_table.\n",
        "\n",
        "It can be used together with groupby, as follows:"
      ]
    },
    {
      "cell_type": "code",
      "execution_count": 5,
      "id": "3f4e02b8",
      "metadata": {
        "execution": {
          "iopub.execute_input": "2024-03-21T07:36:38.433216Z",
          "iopub.status.busy": "2024-03-21T07:36:38.433033Z",
          "iopub.status.idle": "2024-03-21T07:36:38.434556Z",
          "shell.execute_reply": "2024-03-21T07:36:38.434291Z"
        }
      },
      "outputs": [],
      "source": [
        "table.groupby(*C).reduce(*SC, *NC)"
      ]
    },
    {
      "cell_type": "markdown",
      "id": "009dcacc",
      "metadata": {},
      "source": [
        "The main difference between `reduce` and `select` is that each row of `grouped_table`\n",
        "has two kinds of entries, simple cells and groups.\n",
        "\n",
        "The `reduce` operation allows us to apply a reducer to transform a group into a value.\n",
        "\n",
        "## Counting Votes With Groupby-Reduce\n",
        "Below, you can see an example that uses the [`sum`](/developers/api-docs/reducers/#pathway.reducers.sum) reducer to compute the sum of all\n",
        "votes and the sum of all fractional votes."
      ]
    },
    {
      "cell_type": "code",
      "execution_count": 6,
      "id": "5da9427d",
      "metadata": {
        "execution": {
          "iopub.execute_input": "2024-03-21T07:36:38.435690Z",
          "iopub.status.busy": "2024-03-21T07:36:38.435459Z",
          "iopub.status.idle": "2024-03-21T07:36:38.567861Z",
          "shell.execute_reply": "2024-03-21T07:36:38.567567Z"
        }
      },
      "outputs": [
        {
          "name": "stderr",
          "output_type": "stream",
          "text": [
            "[2024-03-21T08:36:38]:INFO:Preparing Pathway computation\n"
          ]
        },
        {
          "name": "stdout",
          "output_type": "stream",
          "text": [
            "            | food_item | label     | total_votes | total_fractional_vote\n",
            "^8X6FZAN... | apple     | fruit     | 2           | 2.0\n",
            "^1PM8GGB... | apple     | vegetable | 0           | 0.0\n",
            "^Y7P7Z85... | corn      | fruit     | 0           | 0.3\n",
            "^R5DPRJ1... | corn      | vegetable | 1           | 0.7\n",
            "^MPW1XV7... | pepper    | fruit     | 0           | 0.95\n",
            "^TW138S3... | pepper    | vegetable | 2           | 1.05\n",
            "^Z7NB38W... | tomato    | fruit     | 1           | 1.2\n",
            "^E3Z6HDV... | tomato    | vegetable | 2           | 1.8\n"
          ]
        }
      ],
      "source": [
        "aggregated_results = poll.groupby(poll.food_item, poll.label).reduce(\n",
        "    poll.food_item,\n",
        "    poll.label,\n",
        "    total_votes=pw.reducers.sum(poll.vote),\n",
        "    total_fractional_vote=pw.reducers.sum(poll.fractional_vote),\n",
        ")\n",
        "\n",
        "pw.debug.compute_and_print(aggregated_results)\n"
      ]
    },
    {
      "cell_type": "markdown",
      "id": "b8e830d3",
      "metadata": {},
      "source": [
        "## Groupby-Reduce Column Constraints\n",
        "To briefly summarize, if $T$ is the set of all columns of a table\n",
        "* the columns from $C$ (used as comparison key) can be used as regular columns in the reduce function\n",
        "* for all the remaining columns (in $T \\setminus C$), we need to apply a reducer, before we use them in expressions\n",
        "\n",
        "In particular, we can mix columns from $C$ and reduced columns from $T \\setminus C$ in column expressions."
      ]
    },
    {
      "cell_type": "code",
      "execution_count": 7,
      "id": "b3ff6229",
      "metadata": {
        "execution": {
          "iopub.execute_input": "2024-03-21T07:36:38.569132Z",
          "iopub.status.busy": "2024-03-21T07:36:38.568892Z",
          "iopub.status.idle": "2024-03-21T07:36:38.607100Z",
          "shell.execute_reply": "2024-03-21T07:36:38.606809Z"
        }
      },
      "outputs": [
        {
          "name": "stderr",
          "output_type": "stream",
          "text": [
            "[2024-03-21T08:36:38]:INFO:Preparing Pathway computation\n"
          ]
        },
        {
          "name": "stdout",
          "output_type": "stream",
          "text": [
            "            | food_item | note\n",
            "^8X6FZAN... | apple     | fruit got 2 votes, with total fractional_vote of 2.0\n",
            "^1PM8GGB... | apple     | vegetable got 0 votes, with total fractional_vote of 0.0\n",
            "^Y7P7Z85... | corn      | fruit got 0 votes, with total fractional_vote of 0.3\n",
            "^R5DPRJ1... | corn      | vegetable got 1 votes, with total fractional_vote of 0.7\n",
            "^MPW1XV7... | pepper    | fruit got 0 votes, with total fractional_vote of 0.95\n",
            "^TW138S3... | pepper    | vegetable got 2 votes, with total fractional_vote of 1.05\n",
            "^Z7NB38W... | tomato    | fruit got 1 votes, with total fractional_vote of 1.2\n",
            "^E3Z6HDV... | tomato    | vegetable got 2 votes, with total fractional_vote of 1.8\n"
          ]
        }
      ],
      "source": [
        "def make_a_note(label: str, tot_votes: int, tot_fractional_vote: float):\n",
        "    return f\"{label} got {tot_votes} votes, with total fractional_vote of {round(tot_fractional_vote, 2)}\"\n",
        "\n",
        "\n",
        "aggregated_results_note = poll.groupby(poll.food_item, poll.label).reduce(\n",
        "    poll.food_item,\n",
        "    note=pw.apply(\n",
        "        make_a_note,\n",
        "        poll.label,\n",
        "        pw.reducers.sum(poll.vote),\n",
        "        pw.reducers.sum(poll.fractional_vote),\n",
        "    ),\n",
        ")\n",
        "\n",
        "pw.debug.compute_and_print(aggregated_results_note)"
      ]
    },
    {
      "cell_type": "markdown",
      "id": "d33ffbc5",
      "metadata": {},
      "source": [
        "## Auto generated id\n",
        "The `groupby(*C).reduce(...)` operation guarantees that each row of the\n",
        "output corresponds to a unique tuple of values from *C. Therefore *C\n",
        "can be used to generate a unique id for the resulting table.\n",
        "\n",
        "In fact that is the default behavior of Pathway' groupby operation and can be used e.g. to\n",
        "join the results of this table with some other table that has this id as a foreign key."
      ]
    },
    {
      "cell_type": "code",
      "execution_count": 8,
      "id": "5cf89d80",
      "metadata": {
        "execution": {
          "iopub.execute_input": "2024-03-21T07:36:38.608252Z",
          "iopub.status.busy": "2024-03-21T07:36:38.608136Z",
          "iopub.status.idle": "2024-03-21T07:36:38.647339Z",
          "shell.execute_reply": "2024-03-21T07:36:38.647037Z"
        }
      },
      "outputs": [
        {
          "name": "stderr",
          "output_type": "stream",
          "text": [
            "[2024-03-21T08:36:38]:INFO:Preparing Pathway computation\n"
          ]
        },
        {
          "name": "stdout",
          "output_type": "stream",
          "text": [
            "            | food_item | note\n",
            "^R5DPRJ1... | corn      | vegetable got 1 votes, with total fractional_vote of 0.7\n",
            "^TW138S3... | pepper    | vegetable got 2 votes, with total fractional_vote of 1.05\n",
            "^Z7NB38W... | tomato    | fruit got 1 votes, with total fractional_vote of 1.2\n"
          ]
        }
      ],
      "source": [
        "queries = pw.debug.table_from_markdown(\n",
        "    \"\"\"\n",
        "    | food_item | label\n",
        "1   | tomato    | fruit\n",
        "2   | pepper    | vegetable\n",
        "3   | corn      | vegetable\n",
        "\n",
        "\"\"\"\n",
        ").with_id_from(pw.this.food_item, pw.this.label)\n",
        "\n",
        "pw.debug.compute_and_print(\n",
        "    queries.join(\n",
        "        aggregated_results_note, queries.id == aggregated_results_note.id, id=queries.id\n",
        "    ).select(queries.food_item, aggregated_results_note.note)\n",
        ")"
      ]
    },
    {
      "cell_type": "markdown",
      "id": "cf4385f5",
      "metadata": {},
      "source": [
        "More examples of joins (including another example of a join over a foreign key)\n",
        "can be found in the join manual ([full article](/developers/user-guide/data-transformation/join-manual/), [foreign key example](/developers/user-guide/data-transformation/join-manual/#joins-on-a-foreign-key)).\n"
      ]
    },
    {
      "cell_type": "markdown",
      "id": "46a11a9a",
      "metadata": {},
      "source": [
        "## More Examples\n",
        "### Recent activity with max reducer\n",
        "Below, you can see a piece of code that finds the latest votes that were submitted to the poll.\n",
        "It is done with `groupby`-`reduce` operations chained with [`join`](/developers/api-docs/pathway-table#pathway.Table.join) and [`filter`](/developers/api-docs/pathway-table#pathway.Table.filter), using [`pw.this`](/developers/api-docs/pathway/#pathway.this).\n",
        "\n"
      ]
    },
    {
      "cell_type": "code",
      "execution_count": 9,
      "id": "22627f0e",
      "metadata": {
        "execution": {
          "iopub.execute_input": "2024-03-21T07:36:38.648579Z",
          "iopub.status.busy": "2024-03-21T07:36:38.648356Z",
          "iopub.status.idle": "2024-03-21T07:36:38.707514Z",
          "shell.execute_reply": "2024-03-21T07:36:38.707220Z"
        }
      },
      "outputs": [
        {
          "name": "stderr",
          "output_type": "stream",
          "text": [
            "[2024-03-21T08:36:38]:INFO:Preparing Pathway computation\n"
          ]
        },
        {
          "name": "stdout",
          "output_type": "stream",
          "text": [
            "            | food_item | label     | vote | fractional_vote\n",
            "^Z3QWT29... | apple     | fruit     | 1    | 1.0\n",
            "^3CZ78B4... | apple     | vegetable | 0    | 0.0\n",
            "^GFDBR0G... | pepper    | fruit     | 0    | 0.45\n",
            "^3S2X6B2... | pepper    | fruit     | 0    | 0.5\n",
            "^3HN31E1... | pepper    | vegetable | 1    | 0.5\n",
            "^3J2R55X... | pepper    | vegetable | 1    | 0.55\n",
            "^A984WV0... | tomato    | fruit     | 0    | 0.3\n",
            "^X1MXHYY... | tomato    | fruit     | 1    | 0.5\n",
            "^YYY4HAB... | tomato    | vegetable | 0    | 0.5\n",
            "^6A0QZMJ... | tomato    | vegetable | 1    | 0.7\n"
          ]
        }
      ],
      "source": [
        "hour = 3600\n",
        "pw.debug.compute_and_print(\n",
        "    poll.groupby()\n",
        "    .reduce(time=pw.reducers.max(poll.time))\n",
        "    .join(poll, id=poll.id)\n",
        "    .select(\n",
        "        poll.food_item,\n",
        "        poll.label,\n",
        "        poll.vote,\n",
        "        poll.fractional_vote,\n",
        "        poll.time,\n",
        "        latest=pw.left.time,\n",
        "    )\n",
        "    .filter(pw.this.time >= pw.this.latest - 2 * hour)\n",
        "    .select(\n",
        "        pw.this.food_item,\n",
        "        pw.this.label,\n",
        "        pw.this.vote,\n",
        "        pw.this.fractional_vote,\n",
        "    )\n",
        ")"
      ]
    },
    {
      "cell_type": "markdown",
      "id": "8e16f4bf",
      "metadata": {},
      "source": [
        "### Removing duplicates\n",
        "Below, duplicates are removed from the table with groupby-reduce.\n",
        "On its own, selecting `food_item` and `label` from poll returns duplicate rows:"
      ]
    },
    {
      "cell_type": "code",
      "execution_count": 10,
      "id": "592d498c",
      "metadata": {
        "execution": {
          "iopub.execute_input": "2024-03-21T07:36:38.708614Z",
          "iopub.status.busy": "2024-03-21T07:36:38.708516Z",
          "iopub.status.idle": "2024-03-21T07:36:38.715680Z",
          "shell.execute_reply": "2024-03-21T07:36:38.715421Z"
        }
      },
      "outputs": [
        {
          "name": "stderr",
          "output_type": "stream",
          "text": [
            "[2024-03-21T08:36:38]:INFO:Preparing Pathway computation\n"
          ]
        },
        {
          "name": "stdout",
          "output_type": "stream",
          "text": [
            "            | food_item | label\n",
            "^XTPZRQ2... | apple     | fruit\n",
            "^Z3QWT29... | apple     | fruit\n",
            "^3CZ78B4... | apple     | vegetable\n",
            "^MA4SK6C... | apple     | vegetable\n",
            "^SN0FH7F... | corn      | fruit\n",
            "^9KM937R... | corn      | vegetable\n",
            "^GFDBR0G... | pepper    | fruit\n",
            "^3S2X6B2... | pepper    | fruit\n",
            "^3HN31E1... | pepper    | vegetable\n",
            "^3J2R55X... | pepper    | vegetable\n",
            "^X1MXHYY... | tomato    | fruit\n",
            "^QECDZJF... | tomato    | fruit\n",
            "^A984WV0... | tomato    | fruit\n",
            "^YYY4HAB... | tomato    | vegetable\n",
            "^6A0QZMJ... | tomato    | vegetable\n",
            "^03PYXDQ... | tomato    | vegetable\n"
          ]
        }
      ],
      "source": [
        "pw.debug.compute_and_print(poll.select(poll.food_item, poll.label))"
      ]
    },
    {
      "cell_type": "markdown",
      "id": "b883eae7",
      "metadata": {},
      "source": [
        "However, we can apply groupby-reduce to select a set of unique rows:"
      ]
    },
    {
      "cell_type": "code",
      "execution_count": 11,
      "id": "5367d571",
      "metadata": {
        "execution": {
          "iopub.execute_input": "2024-03-21T07:36:38.716911Z",
          "iopub.status.busy": "2024-03-21T07:36:38.716720Z",
          "iopub.status.idle": "2024-03-21T07:36:38.736745Z",
          "shell.execute_reply": "2024-03-21T07:36:38.736480Z"
        },
        "lines_to_next_cell": 2
      },
      "outputs": [
        {
          "name": "stderr",
          "output_type": "stream",
          "text": [
            "[2024-03-21T08:36:38]:INFO:Preparing Pathway computation\n"
          ]
        },
        {
          "name": "stdout",
          "output_type": "stream",
          "text": [
            "            | food_item | label\n",
            "^8X6FZAN... | apple     | fruit\n",
            "^1PM8GGB... | apple     | vegetable\n",
            "^Y7P7Z85... | corn      | fruit\n",
            "^R5DPRJ1... | corn      | vegetable\n",
            "^MPW1XV7... | pepper    | fruit\n",
            "^TW138S3... | pepper    | vegetable\n",
            "^Z7NB38W... | tomato    | fruit\n",
            "^E3Z6HDV... | tomato    | vegetable\n"
          ]
        }
      ],
      "source": [
        "pw.debug.compute_and_print(\n",
        "    poll.groupby(poll.food_item, poll.label).reduce(poll.food_item, poll.label)\n",
        ")"
      ]
    },
    {
      "cell_type": "markdown",
      "id": "1321ade2",
      "metadata": {},
      "source": [
        "### Chained groupby-reduce-join-select\n",
        "Below, you can find an example of groupby - reduce chained with join -select,\n",
        "using `pw.this`.\n",
        "\n",
        "To demonstrate that, we can ask our poll about total fractional vote for each pair\n",
        "`food_item`, `label` and total fractional vote assigned to rows for each `food_item`."
      ]
    },
    {
      "cell_type": "code",
      "execution_count": 12,
      "id": "b8b91a59",
      "metadata": {
        "execution": {
          "iopub.execute_input": "2024-03-21T07:36:38.737772Z",
          "iopub.status.busy": "2024-03-21T07:36:38.737669Z",
          "iopub.status.idle": "2024-03-21T07:36:38.889527Z",
          "shell.execute_reply": "2024-03-21T07:36:38.889180Z"
        }
      },
      "outputs": [
        {
          "name": "stderr",
          "output_type": "stream",
          "text": [
            "[2024-03-21T08:36:38]:INFO:Preparing Pathway computation\n"
          ]
        },
        {
          "name": "stdout",
          "output_type": "stream",
          "text": [
            "            | food_item | label     | label_fractional_vote | total_fractional_vote\n",
            "^6CPAW8S... | apple     | fruit     | 2.0                   | 2.0\n",
            "^ZBB2ZBX... | apple     | vegetable | 0.0                   | 2.0\n",
            "^FQY71C0... | corn      | fruit     | 0.3                   | 1.0\n",
            "^AW3K860... | corn      | vegetable | 0.7                   | 1.0\n",
            "^FTB46A2... | pepper    | fruit     | 0.95                  | 2.0\n",
            "^2J54ZMA... | pepper    | vegetable | 1.05                  | 2.0\n",
            "^TZP679E... | tomato    | fruit     | 1.2                   | 3.0\n",
            "^KHA0EC4... | tomato    | vegetable | 1.8                   | 3.0\n"
          ]
        }
      ],
      "source": [
        "relative_score = (\n",
        "    poll.groupby(poll.food_item)\n",
        "    .reduce(\n",
        "        poll.food_item,\n",
        "        total_fractional_vote=pw.reducers.sum(poll.fractional_vote),\n",
        "    )\n",
        "    .join(aggregated_results, pw.left.food_item == pw.right.food_item)\n",
        "    .select(\n",
        "        pw.left.food_item,\n",
        "        pw.right.label,\n",
        "        label_fractional_vote=pw.right.total_fractional_vote,\n",
        "        total_fractional_vote=pw.left.total_fractional_vote,\n",
        "    )\n",
        ")\n",
        "\n",
        "pw.debug.compute_and_print(relative_score)"
      ]
    },
    {
      "cell_type": "markdown",
      "id": "c9e9dbf9",
      "metadata": {},
      "source": [
        "### Election using argmax reducer\n",
        "Below, we present a snippet of code, that in the context of a poll,\n",
        "finds the most obvious information: which label got the most votes."
      ]
    },
    {
      "cell_type": "markdown",
      "id": "3270b2f1",
      "metadata": {},
      "source": [
        "Let's take a look on what exactly is the result of [`argmax`](/developers/api-docs/reducers/#pathway.reducers.argmax) reducer:"
      ]
    },
    {
      "cell_type": "code",
      "execution_count": 13,
      "id": "665920cb",
      "metadata": {
        "execution": {
          "iopub.execute_input": "2024-03-21T07:36:38.890765Z",
          "iopub.status.busy": "2024-03-21T07:36:38.890649Z",
          "iopub.status.idle": "2024-03-21T07:36:38.908527Z",
          "shell.execute_reply": "2024-03-21T07:36:38.908251Z"
        }
      },
      "outputs": [
        {
          "name": "stderr",
          "output_type": "stream",
          "text": [
            "[2024-03-21T08:36:38]:INFO:Preparing Pathway computation\n"
          ]
        },
        {
          "name": "stdout",
          "output_type": "stream",
          "text": [
            "            | argmax_id"
          ]
        },
        {
          "name": "stdout",
          "output_type": "stream",
          "text": [
            "\n",
            "^NHNKR02... | ^KHA0EC4...\n",
            "^7YTG4C2... | ^6CPAW8S...\n",
            "^C50B2KX... | ^2J54ZMA...\n",
            "^PHR4QTJ... | ^AW3K860...\n"
          ]
        }
      ],
      "source": [
        "pw.debug.compute_and_print(\n",
        "    relative_score.groupby(relative_score.food_item).reduce(\n",
        "        argmax_id=pw.reducers.argmax(relative_score.label_fractional_vote)\n",
        "    )\n",
        ")"
      ]
    },
    {
      "cell_type": "markdown",
      "id": "c301ae3c",
      "metadata": {},
      "source": [
        "As you can see, it returns an ID of the row that maximizes `label_fractional_vote`\n",
        "for a fixed `food_item`.\n",
        "You can filter interesting rows using those ID-s as follows:"
      ]
    },
    {
      "cell_type": "code",
      "execution_count": 14,
      "id": "7285b622",
      "metadata": {
        "execution": {
          "iopub.execute_input": "2024-03-21T07:36:38.909619Z",
          "iopub.status.busy": "2024-03-21T07:36:38.909514Z",
          "iopub.status.idle": "2024-03-21T07:36:38.948972Z",
          "shell.execute_reply": "2024-03-21T07:36:38.948684Z"
        }
      },
      "outputs": [
        {
          "name": "stderr",
          "output_type": "stream",
          "text": [
            "[2024-03-21T08:36:38]:INFO:Preparing Pathway computation\n"
          ]
        },
        {
          "name": "stdout",
          "output_type": "stream",
          "text": [
            "            | food_item | label     | label_fractional_vote\n",
            "^CMYBP7J... | apple     | fruit     | 2.0\n",
            "^D3DFCGD... | corn      | vegetable | 0.7\n",
            "^TVZV54D... | pepper    | vegetable | 1.05\n",
            "^CBBY278... | tomato    | vegetable | 1.8\n"
          ]
        }
      ],
      "source": [
        "pw.debug.compute_and_print(\n",
        "    relative_score.groupby(relative_score.food_item)\n",
        "    .reduce(argmax_id=pw.reducers.argmax(relative_score.label_fractional_vote))\n",
        "    .join(relative_score, pw.left.argmax_id == relative_score.id)\n",
        "    .select(\n",
        "        relative_score.food_item,\n",
        "        relative_score.label,\n",
        "        relative_score.label_fractional_vote,\n",
        "    )\n",
        ")"
      ]
    },
    {
      "cell_type": "markdown",
      "id": "6eaf5c11",
      "metadata": {},
      "source": [
        "*Remark:* the code snippet above is equivalent to:"
      ]
    },
    {
      "cell_type": "code",
      "execution_count": 15,
      "id": "c2f4f703",
      "metadata": {
        "execution": {
          "iopub.execute_input": "2024-03-21T07:36:38.950032Z",
          "iopub.status.busy": "2024-03-21T07:36:38.949933Z",
          "iopub.status.idle": "2024-03-21T07:36:38.992198Z",
          "shell.execute_reply": "2024-03-21T07:36:38.991932Z"
        }
      },
      "outputs": [
        {
          "name": "stderr",
          "output_type": "stream",
          "text": [
            "[2024-03-21T08:36:38]:INFO:Preparing Pathway computation\n"
          ]
        },
        {
          "name": "stdout",
          "output_type": "stream",
          "text": [
            "            | food_item | label     | label_fractional_vote\n",
            "^7YTG4C2... | apple     | fruit     | 2.0\n",
            "^PHR4QTJ... | corn      | vegetable | 0.7\n",
            "^C50B2KX... | pepper    | vegetable | 1.05\n",
            "^NHNKR02... | tomato    | vegetable | 1.8\n"
          ]
        }
      ],
      "source": [
        "pw.debug.compute_and_print(\n",
        "    relative_score.groupby(relative_score.food_item)\n",
        "    .reduce(argmax_id=pw.reducers.argmax(relative_score.label_fractional_vote))\n",
        "    .select(\n",
        "        relative_score.ix(pw.this.argmax_id).food_item,\n",
        "        relative_score.ix(pw.this.argmax_id).label,\n",
        "        relative_score.ix(pw.this.argmax_id).label_fractional_vote,\n",
        "    )\n",
        ")"
      ]
    },
    {
      "cell_type": "markdown",
      "id": "94fd563a",
      "metadata": {},
      "source": [
        "You can read more about [joins](/developers/user-guide/data-transformation/join-manual/), [*.ix](/developers/api-docs/pathway/#property-ix) and [ID-s](/developers/user-guide/data-transformation/table-operations/#manipulating-the-table) in other places."
      ]
    }
  ],
  "metadata": {
    "jupytext": {
      "cell_metadata_filter": "-all",
      "main_language": "python",
      "notebook_metadata_filter": "-all"
    },
    "language_info": {
      "codemirror_mode": {
        "name": "ipython",
        "version": 3
      },
      "file_extension": ".py",
      "mimetype": "text/x-python",
      "name": "python",
      "nbconvert_exporter": "python",
      "pygments_lexer": "ipython3",
      "version": "3.11.8"
    }
  },
  "nbformat": 4,
  "nbformat_minor": 5
}