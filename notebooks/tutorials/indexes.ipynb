{
  "cells": [
    {
      "cell_type": "markdown",
      "metadata": {
        "id": "view-in-colab"
      },
      "source": [
        "<a href=\"https://colab.research.google.com/github/pathwaycom/pathway-examples/blob/main/tutorials/indexes.ipynb\" target=\"_parent\"><img src=\"https://pathway.com/assets/colab-badge.svg\" alt=\"Run In Colab\" class=\"inline\"/></a>"
      ]
    },
    {
      "cell_type": "markdown",
      "source": [
        "# Installing Pathway with Python 3.10+\n",
        "\n",
        "In the cell below, we install Pathway into a Python 3.10+ Linux runtime.\n",
        "\n",
        "> **If you are running in Google Colab, please run the colab notebook (Ctrl+F9)**, disregarding the 'not authored by Google' warning.\n",
        "> \n",
        "> **The installation and loading time is less than 1 minute**.\n"
      ],
      "metadata": {
        "id": "notebook-instructions"
      }
    },
    {
      "cell_type": "code",
      "source": [
        "%%capture --no-display\n",
        "!pip install --prefer-binary pathway"
      ],
      "metadata": {
        "id": "pip-installation-pathway",
        "cellView": "form"
      },
      "execution_count": null,
      "outputs": []
    },
    {
      "cell_type": "markdown",
      "id": "add1ff0c",
      "metadata": {},
      "source": [
        "# Indexes in Pathway\n",
        "In this article, you'll learn about reactive indexes in Pathway and how they differ from conventional indexes used in databases. You'll also see how to use them to respond to a stream of queries in real time.\n",
        "\n",
        "Indexes are data structures that improve the speed of queries. They are often used in databases. They are helpful if you want to retrieve records with a specific value in a given column (then you need an index based on this column). An example of this is answering a stream of queries using the contents of a database.\n",
        "\n",
        "![LSM index context drawing](https://pathway.com/assets/content/tutorials/indexes/index.svg)\n",
        "\n",
        "Indexes can also speed up joins - an existing index can be used if it is built on appropriate columns but also an index can be built ad-hoc, during query execution.\n",
        "Pathway offers indexes, but because it operates on streams, there are some differences as compared to database indexes. To learn about them, continue reading the article."
      ]
    },
    {
      "cell_type": "markdown",
      "id": "078a65f3",
      "metadata": {},
      "source": [
        "## Joins\n",
        "Pathway operates on streams. Unless it is informed otherwise, it assumes that new data can arrive from any stream. Thus, when joining two streams, Pathway has to keep these streams in memory. It builds [LSM trees](https://en.wikipedia.org/wiki/Log-structured_merge-tree) on both sides of a join. Thanks to that, new records arriving in any of the two streams can be joined quickly - it is enough to look them up in the index of the other table and no costly scans are needed.\n",
        "In contrast, normal databases only use an index on one side of a join because once the query is processed the join results are not updated.\n",
        "\n",
        "Let's consider a simple example in which you join two tables in Pathway. Here, a table is built from a simulated stream of changes to its rows. The value in the `__time__` column represents the arrival time of the record to the engine. Rows with the same value in the `__time__` column belong to a single batch.\n",
        "\n",
        "To use an example with a real streaming source it is enough to replace [`pw.debug.table_from_markdown`](/developers/api-docs/debug/#pathway.debug.table_from_markdown) with an appropriate [connector](/developers/user-guide/connecting-to-data/connectors/) (like Redpanda or Kafka connector).\n",
        "\n",
        "The tables are joined on the `instance` column."
      ]
    },
    {
      "cell_type": "code",
      "execution_count": 1,
      "id": "36a7d949",
      "metadata": {
        "execution": {
          "iopub.execute_input": "2024-03-21T07:36:44.234568Z",
          "iopub.status.busy": "2024-03-21T07:36:44.234476Z",
          "iopub.status.idle": "2024-03-21T07:36:49.940617Z",
          "shell.execute_reply": "2024-03-21T07:36:49.940367Z"
        }
      },
      "outputs": [
        {
          "name": "stderr",
          "output_type": "stream",
          "text": [
            "[2024-03-21T08:36:49]:INFO:Preparing Pathway computation\n"
          ]
        },
        {
          "name": "stdout",
          "output_type": "stream",
          "text": [
            "            | left_value | right_value | instance\n",
            "^MKZX8ZW... | 1          | 11          | 1\n",
            "^Z3GFZNM... | 1          | 13          | 1\n",
            "^G5A47FZ... | 2          | 11          | 1\n",
            "^PSJ822X... | 2          | 13          | 1\n",
            "^CRYASKY... | 3          | 12          | 2\n",
            "^1J8DF7F... | 4          | 12          | 2\n"
          ]
        }
      ],
      "source": [
        "import pathway as pw\n",
        "\n",
        "table_a = pw.debug.table_from_markdown(\n",
        "    \"\"\"\n",
        "    value | instance | __time__\n",
        "      1   |    1     |     2\n",
        "      2   |    1     |     6\n",
        "      3   |    2     |     8\n",
        "      4   |    2     |    12\n",
        "    \"\"\"\n",
        ")\n",
        "table_b = pw.debug.table_from_markdown(\n",
        "    \"\"\"\n",
        "    value | instance | __time__\n",
        "      11  |    1     |     4\n",
        "      12  |    2     |     6\n",
        "      13  |    1     |     8\n",
        "    \"\"\"\n",
        ")\n",
        "\n",
        "result = table_a.join(table_b, pw.left.instance == pw.right.instance).select(\n",
        "    left_value=pw.left.value, right_value=pw.right.value, instance=pw.this.instance\n",
        ")\n",
        "\n",
        "pw.debug.compute_and_print(result)"
      ]
    },
    {
      "cell_type": "markdown",
      "id": "3edfac7f",
      "metadata": {},
      "source": [
        "As you can see, the records from both sides get joined with the future records. It is expected, as Pathway incrementally updates all results to match the input data changes. However, if `table_a` would be `queries` on a `table_b` representing the `data` you want to query, you'd be surprised to see that answers to your queries are updated in the future when `data` changes. Let's say, you want to query the number of your website visits by location:"
      ]
    },
    {
      "cell_type": "code",
      "execution_count": 2,
      "id": "3584fff1",
      "metadata": {
        "execution": {
          "iopub.execute_input": "2024-03-21T07:36:49.941859Z",
          "iopub.status.busy": "2024-03-21T07:36:49.941749Z",
          "iopub.status.idle": "2024-03-21T07:36:49.992092Z",
          "shell.execute_reply": "2024-03-21T07:36:49.991851Z"
        }
      },
      "outputs": [
        {
          "name": "stderr",
          "output_type": "stream",
          "text": [
            "[2024-03-21T08:36:49]:INFO:Preparing Pathway computation\n"
          ]
        },
        {
          "name": "stdout",
          "output_type": "stream",
          "text": [
            "            | query_id | country | visits\n",
            "^EJPQJPQ... | 1        | France  | 4\n",
            "^ECX80QV... | 2        | Poland  | 3\n",
            "^ZVRZ99C... | 3        | Germany | 2\n",
            "^B55DT4V... | 4        | USA     | 4\n"
          ]
        }
      ],
      "source": [
        "import pathway as pw\n",
        "\n",
        "queries = pw.debug.table_from_markdown(\n",
        "    \"\"\"\n",
        "    query_id |  country  | __time__\n",
        "        1    |   France  |     4\n",
        "        2    |   Poland  |     6\n",
        "        3    |  Germany  |     8\n",
        "        4    |      USA  |    14\n",
        "    \"\"\"\n",
        ")\n",
        "visits = pw.debug.table_from_markdown(\n",
        "    \"\"\"\n",
        "     country | __time__\n",
        "      Poland |    2\n",
        "      France |    2\n",
        "      Spain  |    2\n",
        "      Poland |    2\n",
        "      France |    4\n",
        "         USA |    4\n",
        "         USA |    4\n",
        "     Germany |    6\n",
        "         USA |    6\n",
        "         USA |    8\n",
        "      Poland |    8\n",
        "      France |    8\n",
        "      France |   12\n",
        "     Germany |   14\n",
        "    \"\"\"\n",
        ")\n",
        "total_visits_by_country = visits.groupby(pw.this.country).reduce(\n",
        "    pw.this.country, visits=pw.reducers.count()\n",
        ")\n",
        "\n",
        "answers = queries.join(\n",
        "    total_visits_by_country, pw.left.country == pw.right.country\n",
        ").select(pw.left.query_id, pw.this.country, pw.right.visits)\n",
        "\n",
        "pw.debug.compute_and_print(answers)"
      ]
    },
    {
      "cell_type": "markdown",
      "id": "3196b0a4",
      "metadata": {},
      "source": [
        "Please note how the answer to your query with `query_no=1` is updated a few times. At first, it is equal to `2`. At time `8`, it changes to `3` and finally is equal to `4` (starting from time `12`). It may be a bit surprising if you're new to Pathway. It turns out, the `join` allows you to keep track of the updates! And it has many cool uses, for instance alerting. You can use it to set up a real-time alerting system. However, if that is not what you want and you'd like to get an answer to your query once, at its processing time, Pathway supports it as well!"
      ]
    },
    {
      "cell_type": "markdown",
      "id": "cb1ce664",
      "metadata": {},
      "source": [
        "## Asof now join\n",
        "Monitoring changes of answers to your queries might not be what you want. Especially if you have **a lot of** queries. If you want to get an answer for a query once, and then forget it, you can use [`asof_now_join`](/developers/api-docs/temporal/#pathway.stdlib.temporal.asof_now_join). Its left side is a queries table and the right side is the data you want to query. Note that the right side is still a table dynamically streaming row changes. You can update it but the updates will only affect future queries - no old answers will be updated.\n",
        "\n",
        "Let's see what `asof_now_join` would return in the example above:"
      ]
    },
    {
      "cell_type": "code",
      "execution_count": 3,
      "id": "b1105e91",
      "metadata": {
        "execution": {
          "iopub.execute_input": "2024-03-21T07:36:49.993282Z",
          "iopub.status.busy": "2024-03-21T07:36:49.993177Z",
          "iopub.status.idle": "2024-03-21T07:36:50.057229Z",
          "shell.execute_reply": "2024-03-21T07:36:50.056998Z"
        }
      },
      "outputs": [
        {
          "name": "stderr",
          "output_type": "stream",
          "text": [
            "[2024-03-21T08:36:50]:INFO:Preparing Pathway computation\n"
          ]
        },
        {
          "name": "stdout",
          "output_type": "stream",
          "text": [
            "            | query_id | country | visits\n",
            "^EJPQJPQ... | 1        | France  | 2\n",
            "^ECX80QV... | 2        | Poland  | 2\n",
            "^ZVRZ99C... | 3        | Germany | 1\n",
            "^B55DT4V... | 4        | USA     | 4\n"
          ]
        }
      ],
      "source": [
        "import pathway as pw\n",
        "\n",
        "queries = pw.debug.table_from_markdown(\n",
        "    \"\"\"\n",
        "    query_id |  country  | __time__\n",
        "        1    |   France  |     4\n",
        "        2    |   Poland  |     6\n",
        "        3    |  Germany  |     8\n",
        "        4    |      USA  |    14\n",
        "    \"\"\"\n",
        ")\n",
        "visits = pw.debug.table_from_markdown(\n",
        "    \"\"\"\n",
        "     country | __time__\n",
        "      Poland |    2\n",
        "      France |    2\n",
        "      Spain  |    2\n",
        "      Poland |    2\n",
        "      France |    4\n",
        "         USA |    4\n",
        "         USA |    4\n",
        "     Germany |    6\n",
        "         USA |    6\n",
        "         USA |    8\n",
        "      Poland |    8\n",
        "      France |    8\n",
        "      France |   12\n",
        "     Germany |   14\n",
        "    \"\"\"\n",
        ")\n",
        "total_visits_by_country = visits.groupby(pw.this.country).reduce(\n",
        "    pw.this.country, visits=pw.reducers.count()\n",
        ")\n",
        "\n",
        "answers = queries.asof_now_join(\n",
        "    total_visits_by_country, pw.left.country == pw.right.country\n",
        ").select(pw.left.query_id, pw.this.country, pw.right.visits)\n",
        "\n",
        "pw.debug.compute_and_print(answers)"
      ]
    },
    {
      "cell_type": "markdown",
      "id": "53d8fb98",
      "metadata": {
        "lines_to_next_cell": 2
      },
      "source": [
        "This time the answers to queries are not updated. In particular, the answer to the query with `query_no=1` is set to `2` at time `4` and remains equal to `2` until the end of the program.\n",
        "\n",
        "In contrast to an ordinary [`join`](/developers/user-guide/data-transformation/join-manual), `asof_now_join` is not symmetric. New rows on the left side of the join will produce a result under the condition they can be joined with at least one row from the right side. If you want to produce at least one result from every query, you can use `asof_now_join_left` - then all columns from the right side in the output row will be set to `None`. On the other hand, new rows on the right side of the join won't immediately produce any new rows in the output but will update the index and if they're matched with new records from the left side later, they will appear in the output.\n",
        "\n",
        "Please note that for a correct operation, the left table of the `asof_now_join` (`queries`) can only be extended with new queries. Pathway verifies it for you. You can't delete or update the queries. It is quite reasonable. Instead of updating the query, you can just send a new query because your previous query has been already forgotten anyway.\n",
        "\n",
        "Another important thing is that `asof_now_join` depends on the processing time and because of that is non-deterministic. When sending data to a distributed system like pathway, you don't have a guarantee which data will enter the system first (network latencies, etc.). If both queries and data streams are updated at the same time, the amount of data that is already present in the system when a given query is answered is non-deterministic. Thus if you repeat the same experiment with real connectors (like Redpanda or Kafka), you may get different answers in different runs. If you used an ordinary `join`, you would always get the same answers in the end because the answers would be updated with the arrival of the new data.\n",
        "\n",
        "The differences between an ordinary `join` and `asof_now_join` used to answer the queries are summarized in the table below. Let's denote the left side of the join as \"queries\" and the right side as \"data\".\n",
        "\n",
        "| `join` | `asof_now_join` |\n",
        "|--------|-----------------|\n",
        "| updates the answers to old queries | doesn't update the answers to old queries |\n",
        "| keeps the queries | forgets the queries |\n",
        "| consumes memory (approx.) proportional to the sum of sizes of the queries and data tables | consumes memory (approx.) proportional to the size of the data table |\n",
        "| final output deterministic | final output non-deterministic |"
      ]
    },
    {
      "cell_type": "markdown",
      "id": "85b7ab4a",
      "metadata": {},
      "source": [
        "## KNN Index\n",
        "An approximate [K Nearest Neighbors (KNN) Index](/developers/showcases/lsh/lsh_chapter1) behaves similarly to a join. The default method [`get_nearest_items`](/developers/api-docs/ml/#pathway.stdlib.ml.index.KNNIndex.get_nearest_items) maintains always up-to-date answers to all queries when the set of indexed documents changes. In fact, it uses a join under the hood.\n",
        "\n",
        "If you don't want answers to your queries to be updated, you can use [`get_nearest_items_asof_now`](/developers/api-docs/ml/#pathway.stdlib.ml.index.KNNIndex.get_nearest_items_asof_now) (experimental). It'll return the closest points once and will forget the query. However, it'll monitor the stream containing index data and update the index if new data arrives (but won't update old queries). As a result, if you ask the same query again and the index has changed in the meantime, you can get a different answer. This behavior is used in our [llm-app](/developers/user-guide/llm-xpack/llm-app-pathway/) to answer queries using an always up-to-date index of documents.\n",
        "\n",
        "To understand better the differences between the methods, you can analyze the examples below. In the first example, `index.get_nearest_items` is used which leads to updating the answers. In the second example, `index.get_nearest_items_asof_now` is used and thus the answers are not updated.\n",
        "Streams of changes to tables are simulated using `pw.debug.table_from_markdown` which, as earlier, uses `__time__` column to split the data into batches."
      ]
    },
    {
      "cell_type": "code",
      "execution_count": 4,
      "id": "951b25cd",
      "metadata": {
        "execution": {
          "iopub.execute_input": "2024-03-21T07:36:50.058398Z",
          "iopub.status.busy": "2024-03-21T07:36:50.058296Z",
          "iopub.status.idle": "2024-03-21T07:36:53.535314Z",
          "shell.execute_reply": "2024-03-21T07:36:53.535044Z"
        }
      },
      "outputs": [
        {
          "name": "stderr",
          "output_type": "stream",
          "text": [
            "[2024-03-21T08:36:53]:INFO:Preparing Pathway computation\n"
          ]
        },
        {
          "name": "stdout",
          "output_type": "stream",
          "text": [
            "            | query_id | coords   | nn_ids     | nns\n",
            "^X1MXHYY... | 1        | (0, 0)   | ('C', 'D') | ((-1, 0), (1, 2))\n",
            "^YYY4HAB... | 2        | (2, -2)  | ('B', 'F') | ((3, -2), (1, -4))\n",
            "^Z3QWT29... | 3        | (-1, 1)  | ('E', 'C') | ((-3, 1), (-1, 0))\n",
            "^3CZ78B4... | 4        | (-2, -3) | ('F', 'C') | ((1, -4), (-1, 0))\n"
          ]
        }
      ],
      "source": [
        "import pathway as pw\n",
        "from pathway.stdlib.ml.index import KNNIndex\n",
        "\n",
        "queries = pw.debug.table_from_markdown(\n",
        "    \"\"\"\n",
        "    query_id |  x |  y | __time__\n",
        "        1    |  0 |  0 |    4\n",
        "        2    |  2 | -2 |    6\n",
        "        3    | -1 |  1 |    8\n",
        "        4    | -2 | -3 |    10\n",
        "    \"\"\"\n",
        ").select(pw.this.query_id, coords=pw.make_tuple(pw.this.x, pw.this.y))\n",
        "\n",
        "data = pw.debug.table_from_markdown(\n",
        "    \"\"\"\n",
        "    point_id |  x |  y | __time__\n",
        "        A    |  2 |  2 |    2\n",
        "        B    |  3 | -2 |    2\n",
        "        C    | -1 |  0 |    6\n",
        "        D    |  1 |  2 |    8\n",
        "        E    | -3 |  1 |   10\n",
        "        F    |  1 | -4 |   12\n",
        "    \"\"\"\n",
        ").select(pw.this.point_id, coords=pw.make_tuple(pw.this.x, pw.this.y))\n",
        "\n",
        "index = KNNIndex(data.coords, data, n_dimensions=2, n_and=5)\n",
        "result_with_updates = queries + index.get_nearest_items(queries.coords, k=2).select(\n",
        "    nn_ids=pw.this.point_id, nns=pw.this.coords\n",
        ")\n",
        "pw.debug.compute_and_print(result_with_updates)"
      ]
    },
    {
      "cell_type": "markdown",
      "id": "de722fa5",
      "metadata": {
        "lines_to_next_cell": 0
      },
      "source": [
        "The example below uses the same streams but does not update the answers to the queries. Note the difference between the methods used - `get_nearest_items` vs `get_nearest_items_asof_now`."
      ]
    },
    {
      "cell_type": "code",
      "execution_count": 5,
      "id": "2c9488d8",
      "metadata": {
        "execution": {
          "iopub.execute_input": "2024-03-21T07:36:53.536561Z",
          "iopub.status.busy": "2024-03-21T07:36:53.536451Z",
          "iopub.status.idle": "2024-03-21T07:36:57.166327Z",
          "shell.execute_reply": "2024-03-21T07:36:57.166067Z"
        }
      },
      "outputs": [
        {
          "name": "stderr",
          "output_type": "stream",
          "text": [
            "[2024-03-21T08:36:57]:INFO:Preparing Pathway computation\n"
          ]
        },
        {
          "name": "stdout",
          "output_type": "stream",
          "text": [
            "            | query_id | coords   | nn_ids     | nns\n",
            "^X1MXHYY... | 1        | (0, 0)   | ('A', 'B') | ((2, 2), (3, -2))\n",
            "^YYY4HAB... | 2        | (2, -2)  | ('B', 'C') | ((3, -2), (-1, 0))\n",
            "^Z3QWT29... | 3        | (-1, 1)  | ('C', 'D') | ((-1, 0), (1, 2))\n",
            "^3CZ78B4... | 4        | (-2, -3) | ('E', 'C') | ((-3, 1), (-1, 0))\n"
          ]
        }
      ],
      "source": [
        "index = KNNIndex(data.coords, data, n_dimensions=2, n_and=5)\n",
        "result_asof_now = queries + index.get_nearest_items_asof_now(\n",
        "    queries.coords, k=2\n",
        ").select(nn_ids=pw.this.point_id, nns=pw.this.coords)\n",
        "pw.debug.compute_and_print(result_asof_now)"
      ]
    },
    {
      "cell_type": "markdown",
      "id": "dd39ba71",
      "metadata": {},
      "source": [
        "![Points and queries in knn example](https://pathway.com/assets/content/tutorials/indexes/knn.svg)\n",
        "Note the differences between two cases. For instance, for query with `query_id=2`, points returned by `get_nearest_items_asof_now` were B and C because other closer points were not available at the query time. On the other hand, `get_nearest_items` updated the results and they have changed to B, F.\n",
        "\n",
        "In the example above, 2-dimensional vectors were used to make the analysis simpler. The **llm-app** uses n-dimensional vectors but the general principle doesn't change."
      ]
    },
    {
      "cell_type": "markdown",
      "id": "1bacadc2",
      "metadata": {
        "lines_to_next_cell": 0
      },
      "source": [
        "## Applications of `asof_now` indexes to data read using HTTP REST connector\n",
        "\n",
        "If you want a more practical example, we can set up a webserver that answers queries about `k` nearest neighbors. The architecture of the app is presented on the diagram below:\n",
        "\n",
        "![KNN app architecture](https://pathway.com/assets/content/tutorials/indexes/rest_knn.svg)\n",
        "\n",
        "First you have to make necessary imports and define a schema of the data (we will use the same schema for data na queries)."
      ]
    },
    {
      "cell_type": "code",
      "execution_count": 6,
      "id": "570818b7",
      "metadata": {
        "execution": {
          "iopub.execute_input": "2024-03-21T07:36:57.167660Z",
          "iopub.status.busy": "2024-03-21T07:36:57.167550Z",
          "iopub.status.idle": "2024-03-21T07:36:57.169585Z",
          "shell.execute_reply": "2024-03-21T07:36:57.169374Z"
        },
        "lines_to_next_cell": 0
      },
      "outputs": [],
      "source": [
        "import pathway as pw\n",
        "from pathway.stdlib.ml.index import KNNIndex\n",
        "\n",
        "\n",
        "class PointSchema(pw.Schema):\n",
        "    x: int\n",
        "    y: int\n",
        "\n",
        "\n",
        "# To receive the queries, you can use the [`rest_connector`](/developers/api-docs/pathway-io/http/#pathway.io.http.rest_connector)."
      ]
    },
    {
      "cell_type": "code",
      "execution_count": 7,
      "id": "1723b922",
      "metadata": {
        "execution": {
          "iopub.execute_input": "2024-03-21T07:36:57.170682Z",
          "iopub.status.busy": "2024-03-21T07:36:57.170584Z",
          "iopub.status.idle": "2024-03-21T07:36:57.176919Z",
          "shell.execute_reply": "2024-03-21T07:36:57.176707Z"
        },
        "lines_to_next_cell": 0
      },
      "outputs": [],
      "source": [
        "host = \"0.0.0.0\"  # set as needed\n",
        "port = 8080  # set as needed\n",
        "queries, response_writer = pw.io.http.rest_connector(\n",
        "    host=host,\n",
        "    port=port,\n",
        "    schema=PointSchema,\n",
        "    autocommit_duration_ms=50,\n",
        "    delete_completed_queries=False,\n",
        ")"
      ]
    },
    {
      "cell_type": "markdown",
      "id": "da752a2d",
      "metadata": {
        "lines_to_next_cell": 0
      },
      "source": [
        "The database is represented as a directory containing CSV files with points from which you want to find closest ones. You can use a [CSV connector](/developers/user-guide/connectors/csv_connectors) to read a directory of CSV files. The `mode` parameter is set to `streaming`. If new files appear in the directory, their entries will be appended to the stream and hence will be added to the KNN index."
      ]
    },
    {
      "cell_type": "code",
      "execution_count": 8,
      "id": "6fad668a",
      "metadata": {
        "execution": {
          "iopub.execute_input": "2024-03-21T07:36:57.178065Z",
          "iopub.status.busy": "2024-03-21T07:36:57.177964Z",
          "iopub.status.idle": "2024-03-21T07:36:57.183467Z",
          "shell.execute_reply": "2024-03-21T07:36:57.183255Z"
        },
        "lines_to_next_cell": 0
      },
      "outputs": [],
      "source": [
        "data_dir = \"points\"\n",
        "data = pw.io.csv.read(\n",
        "    data_dir,\n",
        "    schema=PointSchema,\n",
        "    mode=\"streaming\",\n",
        "    autocommit_duration_ms=500,\n",
        ")"
      ]
    },
    {
      "cell_type": "markdown",
      "id": "2344104a",
      "metadata": {
        "lines_to_next_cell": 0
      },
      "source": [
        "To build the index you need to turn point coordinates into a vector:"
      ]
    },
    {
      "cell_type": "code",
      "execution_count": 9,
      "id": "919d287c",
      "metadata": {
        "execution": {
          "iopub.execute_input": "2024-03-21T07:36:57.184588Z",
          "iopub.status.busy": "2024-03-21T07:36:57.184411Z",
          "iopub.status.idle": "2024-03-21T07:36:57.304521Z",
          "shell.execute_reply": "2024-03-21T07:36:57.304286Z"
        },
        "lines_to_next_cell": 0
      },
      "outputs": [],
      "source": [
        "data = data.select(coords=pw.make_tuple(pw.this.x, pw.this.y))\n",
        "index = KNNIndex(data.coords, data, n_dimensions=2, n_and=5)"
      ]
    },
    {
      "cell_type": "markdown",
      "id": "3c2108d8",
      "metadata": {
        "lines_to_next_cell": 0
      },
      "source": [
        "To answer the queries, you can use the `get_nearest_items_asof_now` method of the index. It'll find the nearest points but won't update the queries in the future."
      ]
    },
    {
      "cell_type": "code",
      "execution_count": 10,
      "id": "e31ccb0a",
      "metadata": {
        "execution": {
          "iopub.execute_input": "2024-03-21T07:36:57.305748Z",
          "iopub.status.busy": "2024-03-21T07:36:57.305642Z",
          "iopub.status.idle": "2024-03-21T07:37:00.448331Z",
          "shell.execute_reply": "2024-03-21T07:37:00.448020Z"
        },
        "lines_to_next_cell": 0
      },
      "outputs": [],
      "source": [
        "queries = queries.select(coords=pw.make_tuple(pw.this.x, pw.this.y))\n",
        "result = queries + index.get_nearest_items_asof_now(queries.coords, k=2).select(\n",
        "    result=pw.this.coords\n",
        ")"
      ]
    },
    {
      "cell_type": "markdown",
      "id": "08a19617",
      "metadata": {
        "lines_to_next_cell": 0
      },
      "source": [
        "To send back query response to the user, you should use `response_writer` returned by the [`rest_connector`](/developers/api-docs/pathway-io/http#pathway.io.http.rest_connector)"
      ]
    },
    {
      "cell_type": "code",
      "execution_count": 11,
      "id": "20e847c0",
      "metadata": {
        "execution": {
          "iopub.execute_input": "2024-03-21T07:37:00.450200Z",
          "iopub.status.busy": "2024-03-21T07:37:00.450069Z",
          "iopub.status.idle": "2024-03-21T07:37:00.453172Z",
          "shell.execute_reply": "2024-03-21T07:37:00.452954Z"
        },
        "lines_to_next_cell": 0
      },
      "outputs": [],
      "source": [
        "response_writer(result)"
      ]
    },
    {
      "cell_type": "markdown",
      "id": "9564eb5f",
      "metadata": {
        "lines_to_next_cell": 0
      },
      "source": [
        "Firstly, let's populate the directory with a file containing some points. To do that you can run in your terminal:"
      ]
    },
    {
      "cell_type": "markdown",
      "id": "feeb5c5a",
      "metadata": {
        "lines_to_next_cell": 0
      },
      "source": [
        "```shell script\n",
        "mkdir points && echo -e \"x,y\\n2,2\\n-2,2\\n0,6\\n2,8\" > points/a.csv\n",
        "```"
      ]
    },
    {
      "cell_type": "markdown",
      "id": "305f2913",
      "metadata": {
        "lines_to_next_cell": 0
      },
      "source": [
        "Now you can start the computation:"
      ]
    },
    {
      "cell_type": "markdown",
      "id": "cacc5036",
      "metadata": {
        "lines_to_next_cell": 0
      },
      "source": [
        "```python\n",
        "pw.run()\n",
        "```"
      ]
    },
    {
      "cell_type": "markdown",
      "id": "70eeddbf",
      "metadata": {
        "lines_to_next_cell": 0
      },
      "source": [
        "It is most convenient to copy the whole code and run it as a standalone script:"
      ]
    },
    {
      "cell_type": "markdown",
      "id": "9d76d257",
      "metadata": {
        "lines_to_next_cell": 0
      },
      "source": [
        "```python\n",
        "import pathway as pw\n",
        "from pathway.stdlib.ml.index import KNNIndex\n",
        "import argparse\n",
        "\n",
        "\n",
        "class PointSchema(pw.Schema):\n",
        "    x: int\n",
        "    y: int\n",
        "\n",
        "\n",
        "def run(data_dir: str, host: str, port: int):\n",
        "    queries, response_writer = pw.io.http.rest_connector(\n",
        "        host=host,\n",
        "        port=port,\n",
        "        schema=PointSchema,\n",
        "        autocommit_duration_ms=50,\n",
        "        delete_completed_queries=False,\n",
        "    )\n",
        "    data = pw.io.csv.read(\n",
        "        data_dir,\n",
        "        schema=PointSchema,\n",
        "        mode=\"streaming\",\n",
        "        autocommit_duration_ms=500,\n",
        "    )\n",
        "    data = data.select(coords=pw.make_tuple(pw.this.x, pw.this.y))\n",
        "\n",
        "    index = KNNIndex(data.coords, data, n_dimensions=2, n_and=5)\n",
        "\n",
        "    queries = queries.select(coords=pw.make_tuple(pw.this.x, pw.this.y))\n",
        "\n",
        "    result = queries + index.get_nearest_items_asof_now(queries.coords, k=2).select(\n",
        "        result=pw.this.coords\n",
        "    )\n",
        "\n",
        "    response_writer(result)\n",
        "\n",
        "    pw.run()\n",
        "\n",
        "\n",
        "if __name__ == \"__main__\":\n",
        "    parser = argparse.ArgumentParser()\n",
        "    parser.add_argument(\"data_dir\")\n",
        "    parser.add_argument(\"--host\", default=\"0.0.0.0\")\n",
        "    parser.add_argument(\"--port\", type=int, default=8080)\n",
        "    args = parser.parse_args()\n",
        "    run(data_dir=args.data_dir, host=args.host, port=args.port)\n",
        "```"
      ]
    },
    {
      "cell_type": "markdown",
      "id": "02855bbd",
      "metadata": {
        "lines_to_next_cell": 0
      },
      "source": [
        "Now you can send a request to the webserver. You can play with it and try different points. You can use"
      ]
    },
    {
      "cell_type": "markdown",
      "id": "1e22d021",
      "metadata": {},
      "source": [
        "```shell script\n",
        "curl --data '{\"x\": 2, \"y\": -2}' http://localhost:8080/\n",
        "```"
      ]
    },
    {
      "cell_type": "markdown",
      "id": "e9db9889",
      "metadata": {
        "lines_to_next_cell": 0
      },
      "source": [
        "You can also add new points to the index by adding a new file to a directory:"
      ]
    },
    {
      "cell_type": "markdown",
      "id": "82d0c172",
      "metadata": {
        "lines_to_next_cell": 0
      },
      "source": [
        "```shell script\n",
        "echo -e \"x,y\\n-3,1\\n1,-4\" > points/b.csv\n",
        "````"
      ]
    },
    {
      "cell_type": "markdown",
      "id": "46d40d57",
      "metadata": {
        "lines_to_next_cell": 0
      },
      "source": [
        "Let's repeat the first query."
      ]
    },
    {
      "cell_type": "markdown",
      "id": "fbafc9d4",
      "metadata": {
        "lines_to_next_cell": 0
      },
      "source": [
        "```shell script\n",
        "curl --data '{\"x\": 2, \"y\": -2}' http://localhost:8080/\n",
        "```"
      ]
    },
    {
      "cell_type": "markdown",
      "id": "6d4fa4e4",
      "metadata": {
        "lines_to_next_cell": 0
      },
      "source": [
        "The result has changed which indicates that the index has been updated.\n",
        "\n",
        "In this case, you didn't need to keep the queries. However, if you wanted to alert your users (for example via email) that answers to their queries have changed, you could use the normal `get_nearest_items` method instead of `get_nearest_items_asof_now` and keep watching the changes in the output stream. To not complicate the example, instead of sending an email, we print a message to the console.\n",
        "To intercept messages in a stream, you can use the [`pw.io.subscribe`](/developers/api-docs/pathway-io#pathway.io.subscribe) method. The function you provide, is called on every row of the stream. It'll also include deletion rows and that's why we check if `is_addition` argument is true before printing (an update in a stream consists of two records - a deletion record with the content of the old row and an addition record with a content of the new row).\n",
        "The code below is a slight modification of the code answering queries. You can run and experiment with it in the same way as you did with the code above."
      ]
    },
    {
      "cell_type": "markdown",
      "id": "3a154c40",
      "metadata": {
        "lines_to_next_cell": 0
      },
      "source": [
        "```python\n",
        "import pathway as pw\n",
        "from pathway.stdlib.ml.index import KNNIndex\n",
        "import argparse\n",
        "import logging\n",
        "\n",
        "\n",
        "class PointSchema(pw.Schema):\n",
        "    x: int\n",
        "    y: int\n",
        "\n",
        "\n",
        "def run(data_dir: str, host: str, port: int):\n",
        "    queries, response_writer = pw.io.http.rest_connector(\n",
        "        host=host,\n",
        "        port=port,\n",
        "        schema=PointSchema,\n",
        "        autocommit_duration_ms=50,\n",
        "        delete_completed_queries=False,\n",
        "    )\n",
        "    data = pw.io.csv.read(\n",
        "        data_dir,\n",
        "        schema=PointSchema,\n",
        "        mode=\"streaming\",\n",
        "        autocommit_duration_ms=500,\n",
        "    )\n",
        "    data = data.select(coords=pw.make_tuple(pw.this.x, pw.this.y))\n",
        "\n",
        "    index = KNNIndex(data.coords, data, n_dimensions=2, n_and=5)\n",
        "\n",
        "    queries = queries.select(coords=pw.make_tuple(pw.this.x, pw.this.y))\n",
        "\n",
        "    result = queries + index.get_nearest_items(queries.coords, k=2).select(\n",
        "        result=pw.this.coords\n",
        "    )\n",
        "\n",
        "    response_writer(result)\n",
        "\n",
        "    def on_change(key, row, time, is_addition):\n",
        "        if is_addition:\n",
        "            query_coords = row[\"coords\"]\n",
        "            result_coords = row[\"result\"]\n",
        "            logging.info(\n",
        "                f\"The current answer to query {query_coords} is {result_coords}.\"\n",
        "            )\n",
        "\n",
        "    pw.io.subscribe(result, on_change)\n",
        "\n",
        "    pw.run()\n",
        "\n",
        "\n",
        "if __name__ == \"__main__\":\n",
        "    parser = argparse.ArgumentParser()\n",
        "    parser.add_argument(\"data_dir\")\n",
        "    parser.add_argument(\"--host\", default=\"0.0.0.0\")\n",
        "    parser.add_argument(\"--port\", type=int, default=8080)\n",
        "    args = parser.parse_args()\n",
        "    run(data_dir=args.data_dir, host=args.host, port=args.port)\n",
        "```"
      ]
    },
    {
      "cell_type": "markdown",
      "id": "b6bf9a4d",
      "metadata": {
        "lines_to_next_cell": 0
      },
      "source": [
        "A similar approach was taken in our [alerting example](/developers/showcases/llm-alert-pathway/).\n",
        "It is an LLM app that can send you alerts on slack when the response to your query has  changed significantly."
      ]
    },
    {
      "cell_type": "markdown",
      "id": "daeda894",
      "metadata": {},
      "source": [
        "## Summary\n",
        "In this article you learned about the differences in indexing between databases and Pathway. You can see that both approaches - keeping the queries to update them in the future or forgetting queries immediately after answering, are useful. It depends on your objective which approach should be used. Pathway provides methods to handle both variants."
      ]
    }
  ],
  "metadata": {
    "jupytext": {
      "cell_metadata_filter": "-all",
      "main_language": "python",
      "notebook_metadata_filter": "-all"
    },
    "language_info": {
      "codemirror_mode": {
        "name": "ipython",
        "version": 3
      },
      "file_extension": ".py",
      "mimetype": "text/x-python",
      "name": "python",
      "nbconvert_exporter": "python",
      "pygments_lexer": "ipython3",
      "version": "3.11.8"
    }
  },
  "nbformat": 4,
  "nbformat_minor": 5
}