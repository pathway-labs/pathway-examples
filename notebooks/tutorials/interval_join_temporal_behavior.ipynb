{
  "cells": [
    {
      "cell_type": "markdown",
      "metadata": {
        "id": "view-in-colab"
      },
      "source": [
        "<a href=\"https://colab.research.google.com/github/pathwaycom/pathway-examples/blob/main/tutorials/interval_join_temporal_behavior.ipynb\" target=\"_parent\"><img src=\"https://pathway.com/assets/colab-badge.svg\" alt=\"Run In Colab\" class=\"inline\"/></a>"
      ]
    },
    {
      "cell_type": "markdown",
      "source": [
        "# Installing Pathway with Python 3.10+\n",
        "\n",
        "In the cell below, we install Pathway into a Python 3.10+ Linux runtime.\n",
        "\n",
        "> **If you are running in Google Colab, please run the colab notebook (Ctrl+F9)**, disregarding the 'not authored by Google' warning.\n",
        "> \n",
        "> **The installation and loading time is less than 1 minute**.\n"
      ],
      "metadata": {
        "id": "notebook-instructions"
      }
    },
    {
      "cell_type": "code",
      "source": [
        "%%capture --no-display\n",
        "!pip install --prefer-binary pathway"
      ],
      "metadata": {
        "id": "pip-installation-pathway",
        "cellView": "form"
      },
      "execution_count": null,
      "outputs": []
    },
    {
      "cell_type": "markdown",
      "id": "55ec7c00",
      "metadata": {},
      "source": [
        "# Controlling temporal behavior of interval join\n",
        "This article explores concepts related to the temporal behavior of Pathway's interval join, like filtering out\n",
        "late records, freeing memory that is no longer needed, or decreasing the frequency of updates.\n",
        "\n",
        "Interval join is a temporal join that joins events within a specified time interval.\n",
        "You can read more about it in [Performing Interval Joins](/developers/user-guide/temporal-data/interval-join) article.\n",
        "\n",
        "Let's consider a scenario in which you track customers ordering products. Each order is placed at some specific time (`order_time`) and reaches the tracking system written in Pathway at time `__time__`.\n",
        "In a real-world scenario, you don't have perfect control over the time between the moment the order is placed and the moment it reaches the data processing engine. Packets can take different routes over the network, or, in rare cases, a sneaky Georgian woman can cut off internet access for [a whole country](https://www.theguardian.com/world/2011/apr/06/georgian-woman-cuts-web-access). As such, times `order_time` can arrive in the processing system out of order, very late, or even not arrive at all.\n",
        "\n",
        "To deliver streaming data in a production system, you can use a connector like Kafka or Redpanda (you can read more about them in [Kafka connector](/developers/user-guide/connectors/kafka_connectors/) or [Redpanda connector](/developers/user-guide/connectors/switching-to-redpanda/) articles). Below, `pw.debug.table_from_markdown` with `__time__` column simulates a connector that delivers data out-of-order to demonstrate configurable _temporal behavior_ of interval join."
      ]
    },
    {
      "cell_type": "code",
      "execution_count": 1,
      "id": "55866df8",
      "metadata": {
        "execution": {
          "iopub.execute_input": "2024-03-21T07:38:23.979988Z",
          "iopub.status.busy": "2024-03-21T07:38:23.979810Z",
          "iopub.status.idle": "2024-03-21T07:38:29.714095Z",
          "shell.execute_reply": "2024-03-21T07:38:29.713709Z"
        },
        "tags": []
      },
      "outputs": [],
      "source": [
        "import pathway as pw\n",
        "\n",
        "orders = pw.debug.table_from_markdown(\n",
        "    \"\"\"\n",
        "    customer | product  | order_time | __time__\n",
        "    Austin   | mouse    |     120    |    122\n",
        "    Brenda   | keyboard |     120    |    122\n",
        "    Carl     | mouse    |     124    |    124\n",
        "    Evelyn   | cable    |     128    |    128\n",
        "    Frank    | mouse    |     120    |    130\n",
        "    Min      | mouse    |     124    |    130\n",
        "    Nicole   | cable    |     130    |    132\n",
        "    Sam      | keyboard |     128    |    134\n",
        "    Theresa  | keyboard |     134    |    136\n",
        "    Yichen   | cable    |     136    |    138\n",
        "\"\"\"\n",
        ")\n",
        "\n",
        "discounts = pw.debug.table_from_markdown(\n",
        "    \"\"\"\n",
        "    price | product  | start_time | __time__\n",
        "      42  | mouse    |    120     |    122\n",
        "     128  | keyboard |    118     |    122\n",
        "       8  | cable    |    128     |    134\n",
        "     135  | keyboard |    132     |    140\n",
        "      10  | cable    |    122     |    150\n",
        "\"\"\"\n",
        ")"
      ]
    },
    {
      "cell_type": "markdown",
      "id": "bdf3bdff",
      "metadata": {
        "lines_to_next_cell": 2
      },
      "source": [
        "The store gives discounts on some products and they all last six time units since `start_time` (incl. `start_time`).\n",
        "The clients place orders but they get a guarantee that the order is executed only if the product is discounted.\n",
        "\n",
        "![Customers orders with their event and processing times](https://pathway.com/assets/content/tutorials/interval_join_temporal_behavior/orders.svg)\n",
        "\n",
        "To get the price paid by a customer, you can perform interval join between `orders` and `product` streams.\n",
        "An order, to be associated with the product, has to come no earlier than the product\n",
        "was discounted and no later than the discount ended. So, it has to satisfy\n",
        "`start_time` $\\le$ `order_time` $\\le$ `start_time+5`. This can be expressed as an interval join:"
      ]
    },
    {
      "cell_type": "code",
      "execution_count": 2,
      "id": "f5e563e9",
      "metadata": {
        "execution": {
          "iopub.execute_input": "2024-03-21T07:38:29.715765Z",
          "iopub.status.busy": "2024-03-21T07:38:29.715617Z",
          "iopub.status.idle": "2024-03-21T07:38:30.230673Z",
          "shell.execute_reply": "2024-03-21T07:38:30.230316Z"
        },
        "tags": []
      },
      "outputs": [
        {
          "name": "stderr",
          "output_type": "stream",
          "text": [
            "[2024-03-21T08:38:30]:INFO:Preparing Pathway computation\n"
          ]
        },
        {
          "name": "stdout",
          "output_type": "stream",
          "text": [
            "            | customer | product  | price | order_time | start_time | __time__ | __diff__\n",
            "^MKZX8ZW... | Austin   | mouse    | 42    | 120        | 120        | 122      | 1\n",
            "^04VMVCM... | Brenda   | keyboard | 128   | 120        | 118        | 122      | 1\n",
            "^Z3GFZNM... | Carl     | mouse    | 42    | 124        | 120        | 124      | 1\n",
            "^04JRWV4... | Frank    | mouse    | 42    | 120        | 120        | 130      | 1\n",
            "^5CVX0JZ... | Min      | mouse    | 42    | 124        | 120        | 130      | 1\n",
            "^S5QY939... | Evelyn   | cable    | 8     | 128        | 128        | 134      | 1\n",
            "^M2BCK8N... | Nicole   | cable    | 8     | 130        | 128        | 134      | 1\n",
            "^33FPTJF... | Theresa  | keyboard | 135   | 134        | 132        | 140      | 1\n"
          ]
        }
      ],
      "source": [
        "result = discounts.interval_join(\n",
        "    orders,\n",
        "    discounts.start_time,\n",
        "    orders.order_time,\n",
        "    pw.temporal.interval(0, 5),\n",
        "    discounts.product == orders.product,\n",
        ").select(\n",
        "    orders.customer,\n",
        "    orders.product,\n",
        "    discounts.price,\n",
        "    orders.order_time,\n",
        "    discounts.start_time,\n",
        ")\n",
        "pw.debug.compute_and_print_update_stream(result)"
      ]
    },
    {
      "cell_type": "markdown",
      "id": "66cd89c8",
      "metadata": {},
      "source": [
        "As time progresses, new orders and products arrive, and you get new information about the prices paid for the products.\n",
        "Note that two customers were not able to purchase a product:\n",
        "- Sam wanted to buy a keyboard at time $128$, but it was not discounted then. It was discounted only at times $[118, 122]$ and $[132, 136]$.\n",
        "- Yichen wanted to buy a cable at time $136$, but it also wasn't discounted.\n",
        "\n",
        "As such, their orders are not present in the `result` table. If you want to include all orders (also those that can't be executed), you can use `interval_join_right`."
      ]
    },
    {
      "cell_type": "markdown",
      "id": "41085018",
      "metadata": {},
      "source": [
        "## Forgetting old records\n",
        "As mentioned before, you don't have any control over the time between the event creation (an example event can be a store that registers that a product X is available at price Y, starting from time Z) and the event arrival at the processing engine. In our scenario, an example of such an event is the `cable` entry in the `products` table that was discounted at time $122$ and only reached Pathway at time $150$.\n",
        "\n",
        "In principle, you don't know if more old records won't come in the future. As such, to guarantee that a join on such possibly late data returns correct answers, the processing engine needs to store all the records in its memory.\n",
        "\n",
        "Practically, keeping all the old records just to handle some very overdue orders may be a price you are not willing to pay, and it's better to ignore such orders while cleaning memory from some old entries.\n",
        "\n",
        "To make that trade-off possible, Pathway provides the `behavior` parameter for `interval_join`, which defines its temporal behavior. Roughly speaking, it allows you to tell Pathway to ignore the records that are too late.  Subsequently, that allows you to forget the records that you know won't be joined with any new incoming records in the future.\n",
        "To be more precise: if you set the `behavior` to e.g. `pw.temporal.common_behavior(cutoff=6)`, Pathway will ignore all records that have times less or equal to maximal already seen time minus $6$. Small remark: the maximal already seen time is held separately for each side of the join, as it allows expressing a join with historical data slightly easier."
      ]
    },
    {
      "cell_type": "code",
      "execution_count": 3,
      "id": "91c0d245",
      "metadata": {
        "execution": {
          "iopub.execute_input": "2024-03-21T07:38:30.231949Z",
          "iopub.status.busy": "2024-03-21T07:38:30.231811Z",
          "iopub.status.idle": "2024-03-21T07:38:30.590777Z",
          "shell.execute_reply": "2024-03-21T07:38:30.590431Z"
        },
        "tags": []
      },
      "outputs": [
        {
          "name": "stderr",
          "output_type": "stream",
          "text": [
            "[2024-03-21T08:38:30]:INFO:Preparing Pathway computation\n"
          ]
        },
        {
          "name": "stdout",
          "output_type": "stream",
          "text": [
            "            | customer | product  | price | order_time | start_time | __time__ | __diff__\n",
            "^MKZX8ZW... | Austin   | mouse    | 42    | 120        | 120        | 122      | 1\n",
            "^04VMVCM... | Brenda   | keyboard | 128   | 120        | 118        | 122      | 1\n",
            "^Z3GFZNM... | Carl     | mouse    | 42    | 124        | 120        | 124      | 1\n",
            "^5CVX0JZ... | Min      | mouse    | 42    | 124        | 120        | 130      | 1\n",
            "^S5QY939... | Evelyn   | cable    | 8     | 128        | 128        | 134      | 1\n",
            "^M2BCK8N... | Nicole   | cable    | 8     | 130        | 128        | 134      | 1\n",
            "^33FPTJF... | Theresa  | keyboard | 135   | 134        | 132        | 140      | 1\n"
          ]
        }
      ],
      "source": [
        "result = discounts.interval_join(\n",
        "    orders,\n",
        "    discounts.start_time,\n",
        "    orders.order_time,\n",
        "    pw.temporal.interval(0, 5),\n",
        "    discounts.product == orders.product,\n",
        "    behavior=pw.temporal.common_behavior(cutoff=6),\n",
        ").select(\n",
        "    orders.customer,\n",
        "    orders.product,\n",
        "    discounts.price,\n",
        "    orders.order_time,\n",
        "    discounts.start_time,\n",
        ")\n",
        "pw.debug.compute_and_print_update_stream(result)"
      ]
    },
    {
      "cell_type": "markdown",
      "id": "f04f210a",
      "metadata": {},
      "source": [
        "Let's see what happens in this case. The final result doesn't contain Frank's order.\n",
        "His order was performed at time $120$ and could be joined with the mouse being discounted at time $120$.\n",
        "However, the maximal seen time in the `orders` stream when Frank's order arrived was $128$\n",
        "(`order_time` of Evelyn's order). All new records with `order_time` less\n",
        "or equal to $128-6=122$ had to be ignored. Note that Min's order came to Pathway at\n",
        "the same time, but its `order_time` was $124$ $(>122)$, so it was not ignored.\n",
        "\n",
        "The `cutoff` threshold doesn't have to be that tight. Setting a higher `cutoff` will\n",
        "allow you to process more late records, but the memory footprint of an interval join might\n",
        "increase then. It'll just store all records that are above the maximal seen time minus `cutoff`."
      ]
    },
    {
      "cell_type": "markdown",
      "id": "6ec79f39",
      "metadata": {},
      "source": [
        "## Keeping only the most up-to-date data\n",
        "Imagine you want to create a dashboard with the most recent orders. You don't want to\n",
        "display (or even store) old orders. Don't worry! Pathway can solve this problem too.\n",
        "It is enough to set the `keep_results` parameter of `common_behavior` to `False`.\n",
        "Then, all records with event time no larger than the maximal seen time minus `cutoff` will be removed from the output. Let's have a look at how it works:"
      ]
    },
    {
      "cell_type": "code",
      "execution_count": 4,
      "id": "88f98139",
      "metadata": {
        "execution": {
          "iopub.execute_input": "2024-03-21T07:38:30.591984Z",
          "iopub.status.busy": "2024-03-21T07:38:30.591871Z",
          "iopub.status.idle": "2024-03-21T07:38:30.944742Z",
          "shell.execute_reply": "2024-03-21T07:38:30.944435Z"
        },
        "tags": []
      },
      "outputs": [
        {
          "name": "stderr",
          "output_type": "stream",
          "text": [
            "[2024-03-21T08:38:30]:INFO:Preparing Pathway computation\n"
          ]
        },
        {
          "name": "stdout",
          "output_type": "stream",
          "text": [
            "            | customer | product  | price | order_time | start_time | __time__ | __diff__\n",
            "^MKZX8ZW... | Austin   | mouse    | 42    | 120        | 120        | 122      | 1\n",
            "^04VMVCM... | Brenda   | keyboard | 128   | 120        | 118        | 122      | 1\n",
            "^Z3GFZNM... | Carl     | mouse    | 42    | 124        | 120        | 124      | 1\n",
            "^MKZX8ZW... | Austin   | mouse    | 42    | 120        | 120        | 130      | -1\n",
            "^04VMVCM... | Brenda   | keyboard | 128   | 120        | 118        | 130      | -1\n",
            "^5CVX0JZ... | Min      | mouse    | 42    | 124        | 120        | 130      | 1\n",
            "^S5QY939... | Evelyn   | cable    | 8     | 128        | 128        | 134      | 1\n",
            "^M2BCK8N... | Nicole   | cable    | 8     | 130        | 128        | 134      | 1\n",
            "^Z3GFZNM... | Carl     | mouse    | 42    | 124        | 120        | 138      | -1\n",
            "^5CVX0JZ... | Min      | mouse    | 42    | 124        | 120        | 138      | -1\n",
            "^33FPTJF... | Theresa  | keyboard | 135   | 134        | 132        | 140      | 1\n"
          ]
        }
      ],
      "source": [
        "result = discounts.interval_join(\n",
        "    orders,\n",
        "    discounts.start_time,\n",
        "    orders.order_time,\n",
        "    pw.temporal.interval(0, 5),\n",
        "    discounts.product == orders.product,\n",
        "    behavior=pw.temporal.common_behavior(cutoff=8, keep_results=False),\n",
        ").select(\n",
        "    orders.customer,\n",
        "    orders.product,\n",
        "    discounts.price,\n",
        "    orders.order_time,\n",
        "    discounts.start_time,\n",
        ")\n",
        "pw.debug.compute_and_print_update_stream(result)"
      ]
    },
    {
      "cell_type": "markdown",
      "id": "6a475220",
      "metadata": {},
      "source": [
        "In the end, the maximal seen time in the `orders` stream is $136$. That's why all\n",
        "records with a time less or equal to $136-8=128$ are forgotten."
      ]
    },
    {
      "cell_type": "markdown",
      "id": "453be82d",
      "metadata": {
        "lines_to_next_cell": 2
      },
      "source": [
        "## Stabilizing the stream\n",
        "Another feature of temporal behavior is the ability to delay the results production.\n",
        "It can be useful if the input stream is unstable, with several possible updates to the input records, and the output that should not contain every intermediate result.\n",
        "Let's return to our shop scenario and consider a situation in which product prices are updated. For instance, it can be caused by a store employee entering an incorrect price first and later fixing it.\n",
        "\n",
        "In this example, a special column `__diff__` is used to tell Pathway whether a record\n",
        "should be added ($1$) or removed ($-1$). Remember that `pw.debug.table_from_markdown`\n",
        "is used to simulate a streaming behavior. In a real system, the way of deleting entries\n",
        "depends on an input connector you plan to use."
      ]
    },
    {
      "cell_type": "code",
      "execution_count": 5,
      "id": "16fc84e7",
      "metadata": {
        "execution": {
          "iopub.execute_input": "2024-03-21T07:38:30.945919Z",
          "iopub.status.busy": "2024-03-21T07:38:30.945810Z",
          "iopub.status.idle": "2024-03-21T07:38:31.388088Z",
          "shell.execute_reply": "2024-03-21T07:38:31.387694Z"
        },
        "lines_to_next_cell": 2,
        "tags": []
      },
      "outputs": [
        {
          "name": "stderr",
          "output_type": "stream",
          "text": [
            "[2024-03-21T08:38:31]:INFO:Preparing Pathway computation\n"
          ]
        },
        {
          "name": "stdout",
          "output_type": "stream",
          "text": [
            "            | customer | product  | price | order_time | start_time | __time__ | __diff__\n",
            "^G5A47FZ... | Austin   | mouse    | 42    | 120        | 120        | 122      | 1\n",
            "^CRYASKY... | Brenda   | keyboard | 128   | 120        | 118        | 122      | 1\n",
            "^G5A47FZ... | Austin   | mouse    | 42    | 120        | 120        | 124      | -1\n",
            "^G5A47FZ... | Austin   | mouse    | 43    | 120        | 120        | 124      | 1\n",
            "^PSJ822X... | Carl     | mouse    | 43    | 124        | 120        | 124      | 1\n",
            "^3MFB1C1... | Frank    | mouse    | 43    | 120        | 120        | 130      | 1\n",
            "^51VRDBC... | Min      | mouse    | 43    | 124        | 120        | 130      | 1\n",
            "^TT1GT7R... | Evelyn   | cable    | 8     | 128        | 128        | 134      | 1\n",
            "^8V184A9... | Nicole   | cable    | 8     | 130        | 128        | 134      | 1\n",
            "^TT1GT7R... | Evelyn   | cable    | 8     | 128        | 128        | 138      | -1\n",
            "^8V184A9... | Nicole   | cable    | 8     | 130        | 128        | 138      | -1\n",
            "^TT1GT7R... | Evelyn   | cable    | 10    | 128        | 128        | 138      | 1\n",
            "^8V184A9... | Nicole   | cable    | 10    | 130        | 128        | 138      | 1\n",
            "^65SNT84... | Theresa  | keyboard | 135   | 134        | 132        | 140      | 1\n"
          ]
        }
      ],
      "source": [
        "discounts_with_updates = pw.debug.table_from_markdown(\n",
        "    \"\"\"\n",
        "    id | price | product  | start_time | __time__ | __diff__\n",
        "     1 |   42  | mouse    |     120    |    122   |     1\n",
        "     2 |  128  | keyboard |     118    |    122   |     1\n",
        "     1 |   42  | mouse    |     120    |    124   |    -1\n",
        "     1 |   43  | mouse    |     120    |    124   |     1\n",
        "     3 |    8  | cable    |     128    |    134   |     1\n",
        "     3 |    8  | cable    |     128    |    138   |    -1\n",
        "     3 |   10  | cable    |     128    |    138   |     1\n",
        "     4 |  135  | keyboard |     132    |    140   |     1\n",
        "     5 |   10  | cable    |     122    |    150   |     1\n",
        "\"\"\"\n",
        ")\n",
        "\n",
        "result = discounts_with_updates.interval_join(\n",
        "    orders,\n",
        "    discounts_with_updates.start_time,\n",
        "    orders.order_time,\n",
        "    pw.temporal.interval(0, 5),\n",
        "    discounts_with_updates.product == orders.product,\n",
        ").select(\n",
        "    orders.customer,\n",
        "    orders.product,\n",
        "    discounts_with_updates.price,\n",
        "    orders.order_time,\n",
        "    discounts_with_updates.start_time,\n",
        ")\n",
        "pw.debug.compute_and_print_update_stream(result)"
      ]
    },
    {
      "cell_type": "markdown",
      "id": "ce4af017",
      "metadata": {},
      "source": [
        "The above script is run without any delays. Because of that, in the output the price Austin\n",
        "paid for a mouse is updated from $42$ at time $122$ to $43$ at time $124$. A similar situation\n",
        "happens to Evelyn - one price is present at times $134, 136$, and a new price is present from time $138$.\n",
        "If you are willing to wait until the results stabilize, you can\n",
        "use the `delay` parameter of temporal behavior to buffer the results before producing them.\n",
        "Let's set it to $4$ and see what happens."
      ]
    },
    {
      "cell_type": "code",
      "execution_count": 6,
      "id": "2bedcd5f",
      "metadata": {
        "execution": {
          "iopub.execute_input": "2024-03-21T07:38:31.389370Z",
          "iopub.status.busy": "2024-03-21T07:38:31.389250Z",
          "iopub.status.idle": "2024-03-21T07:38:31.724278Z",
          "shell.execute_reply": "2024-03-21T07:38:31.723942Z"
        },
        "tags": []
      },
      "outputs": [
        {
          "name": "stderr",
          "output_type": "stream",
          "text": [
            "[2024-03-21T08:38:31]:INFO:Preparing Pathway computation\n"
          ]
        },
        {
          "name": "stdout",
          "output_type": "stream",
          "text": [
            "            | customer | product  | price | order_time | start_time | __time__             | __diff__\n",
            "^G5A47FZ... | Austin   | mouse    | 43    | 120        | 120        | 138                  | 1\n",
            "^CRYASKY... | Brenda   | keyboard | 128   | 120        | 118        | 138                  | 1\n",
            "^PSJ822X... | Carl     | mouse    | 43    | 124        | 120        | 138                  | 1\n",
            "^3MFB1C1... | Frank    | mouse    | 43    | 120        | 120        | 138                  | 1\n",
            "^51VRDBC... | Min      | mouse    | 43    | 124        | 120        | 138                  | 1\n",
            "^TT1GT7R... | Evelyn   | cable    | 10    | 128        | 128        | 150                  | 1\n",
            "^8V184A9... | Nicole   | cable    | 10    | 130        | 128        | 150                  | 1\n",
            "^65SNT84... | Theresa  | keyboard | 135   | 134        | 132        | 18446744073709551614 | 1\n"
          ]
        }
      ],
      "source": [
        "result = discounts_with_updates.interval_join(\n",
        "    orders,\n",
        "    discounts_with_updates.start_time,\n",
        "    orders.order_time,\n",
        "    pw.temporal.interval(0, 5),\n",
        "    discounts_with_updates.product == orders.product,\n",
        "    behavior=pw.temporal.common_behavior(delay=4),\n",
        ").select(\n",
        "    orders.customer,\n",
        "    orders.product,\n",
        "    discounts_with_updates.price,\n",
        "    orders.order_time,\n",
        "    discounts_with_updates.start_time,\n",
        ")\n",
        "pw.debug.compute_and_print_update_stream(result)"
      ]
    },
    {
      "cell_type": "markdown",
      "id": "f88f4875",
      "metadata": {},
      "source": [
        "Now, records wait for maximal seen time to become at least `record_time+4` before being\n",
        "joined. (By `record_time+4` I mean `order_time+4` for `orders` stream, `start_time+4`\n",
        "for `products` stream). Thanks to the delay, the stream can stabilize, and there are\n",
        "no price fluctuations in the output. Of course, you should choose a proper value of `delay`\n",
        "parameter depending on the times in your application."
      ]
    },
    {
      "cell_type": "markdown",
      "id": "f9190cc4",
      "metadata": {},
      "source": [
        "You could also combine `delay` and `cutoff` to stabilize the stream and forget old records.\n",
        "\n",
        "Thank you for following this tutorial. I hope you now have a better understanding of\n",
        "the ways to control the temporal behavior of the interval join."
      ]
    }
  ],
  "metadata": {
    "jupytext": {
      "cell_metadata_filter": "tags,-all",
      "main_language": "python",
      "notebook_metadata_filter": "-all"
    },
    "language_info": {
      "codemirror_mode": {
        "name": "ipython",
        "version": 3
      },
      "file_extension": ".py",
      "mimetype": "text/x-python",
      "name": "python",
      "nbconvert_exporter": "python",
      "pygments_lexer": "ipython3",
      "version": "3.11.8"
    }
  },
  "nbformat": 4,
  "nbformat_minor": 5
}