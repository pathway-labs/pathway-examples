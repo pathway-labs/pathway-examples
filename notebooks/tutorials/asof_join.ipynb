{
  "cells": [
    {
      "cell_type": "markdown",
      "metadata": {
        "id": "view-in-colab"
      },
      "source": [
        "<a href=\"https://colab.research.google.com/github/pathwaycom/pathway-examples/blob/main/tutorials/asof_join.ipynb\" target=\"_parent\"><img src=\"https://pathway.com/assets/colab-badge.svg\" alt=\"Run In Colab\" class=\"inline\"/></a>"
      ]
    },
    {
      "cell_type": "markdown",
      "source": [
        "# Installing Pathway with Python 3.10+\n",
        "\n",
        "In the cell below, we install Pathway into a Python 3.10+ Linux runtime.\n",
        "\n",
        "> **If you are running in Google Colab, please run the colab notebook (Ctrl+F9)**, disregarding the 'not authored by Google' warning.\n",
        "> \n",
        "> **The installation and loading time is less than 1 minute**.\n"
      ],
      "metadata": {
        "id": "notebook-instructions"
      }
    },
    {
      "cell_type": "code",
      "source": [
        "%%capture --no-display\n",
        "!pip install --prefer-binary pathway"
      ],
      "metadata": {
        "id": "pip-installation-pathway",
        "cellView": "form"
      },
      "execution_count": null,
      "outputs": []
    },
    {
      "cell_type": "markdown",
      "id": "b744bb11",
      "metadata": {
        "tags": []
      },
      "source": [
        "# Bridging Financial Data Streams: A Look at ASOF Join in Pathway\n",
        "\n",
        "\n",
        "This tutorial provides an in-depth exploration of ASOF joins in pathway. You will learn how to employ this feature to align stock prices and corporate events, showcasing the practicality and efficiency of ASOF joins in financial data analysis.\n",
        "\n",
        "An ASOF join, is a type of join operation that combines data based on the closest preceding or succeeding timestamp. It is commonly used in realtime streaming data processing frameworks to align and correlate data based on temporal relationships. The term \"ASOF\" stands for \"As-Of,\" indicating that the join operation considers data as of a specific point in time. There are three primary modes of asof join: backward, forward, and nearest.\n",
        "\n",
        "* `Backward`: is the default mode, it finds the last row in the other table where the time is less than or equal to the time in the current row of the self table.\n",
        "\n",
        "* `Forward`: It finds the next row in the other table where the time is greater than or equal to the time in the current row of the self table.\n",
        "\n",
        "* `Nearest`: This mode identifies the closest time match in the other table, whether it's in the past or future. If two times are equally distant, it defaults to the backward method.\n",
        "\n",
        "\n",
        "![Illustration of ASOF Join](https://pathway.com/assets/content/tutorials/finance_ts_asof_join/asof_join_illustration.png)\n\n",
        "\n",
        "There are few reasons that emphasize its importance:\n",
        "\n",
        "1.  **Temporal Alignment**: Realtime data is time-stamped and is often required to be analyzed in conjunction with other time-stamped data. However, these different data streams may not always arrive at exactly the same time. An asof join enables you to combine these different data streams in a time-aware manner, aligning data points that are closest in time, even if they are not exactly the same.\n",
        "\n",
        "3.  **Data from Different Frequencies**: Realtime data streams can come in different frequencies. For instance, one stream might be generating data every second, while another generates data every minute. An asof join can reconcile these different frequencies by joining on the most recent available data from the less frequent stream.\n",
        "\n",
        "4.  **Realtime Analysis**: Many realtime applications, such as algorithmic trading, IoT analytics, or realtime monitoring, require asof joins to effectively combine and analyze multiple data streams in realtime. For example, in algorithmic trading, traders might need to join realtime trade data with less frequent reference data (like company earnings reports) to make immediate trading decisions.\n",
        "\n",
        "5.  **Resource Optimization**: By performing asof joins, systems can reduce the volume of data that needs to be kept in memory for joining, because you only need to keep the most recent relevant data points. This is especially important for high-throughput realtime systems, where optimizing memory usage can significantly impact system performance and cost.\n",
        "\n",
        "\n",
        "## Objective: Unveiling the Impact of Events on Stock Prices\n",
        "\n",
        "The ultimate goal in this tutorial is to unravel the impact of various corporate events on stock prices. To understand this dynamic, you will be combining two separate data sets: one containing key corporate events and the other encapsulating the corresponding stock prices for five major US companies.\n",
        "\n",
        "However, a conventional join operation is insufficient in this context. Why? Because corporate events and stock prices don't align perfectly in time. Corporate events are sporadic, whereas stock prices fluctuate continuously throughout trading hours. To correlate these events with stock prices effectively, you'd need a more sophisticated join operation that can accurately pair an event with the closest corresponding stock price, in terms of timing.\n",
        "\n",
        "In the scope of this tutorial, you will be leveraging data from a public API in a static mode purely for illustrative purposes. However, a more typical use-case would involve the processing of realtime data streams. In such scenarios, Pathway input connectors come into play, seamlessly integrating with the remaining parts of your code to facilitate uninterrupted data flow and processing. The events data comes with dates instead of datetimes. Hence the choice of daily stock prices.\n",
        "\n",
        "\n",
        "## Prerequisites\n",
        "\n",
        "For this tutorial, you would need to have Python installed along with the `pandas`, `yahooquery`, and of course, `pathway` libraries. If you haven't installed these yet, you can do so using pip:"
      ]
    },
    {
      "cell_type": "code",
      "execution_count": 1,
      "id": "16bc38ee",
      "metadata": {
        "execution": {
          "iopub.execute_input": "2024-03-21T07:37:53.137326Z",
          "iopub.status.busy": "2024-03-21T07:37:53.137148Z",
          "iopub.status.idle": "2024-03-21T07:37:53.140673Z",
          "shell.execute_reply": "2024-03-21T07:37:53.140434Z"
        },
        "tags": []
      },
      "outputs": [],
      "source": [
        "%%capture --no-display\n",
        "# !pip install pandas yahooquery -U pathway"
      ]
    },
    {
      "cell_type": "markdown",
      "id": "5786361a",
      "metadata": {
        "lines_to_next_cell": 2,
        "tags": []
      },
      "source": [
        "## Fetching the Data\n",
        "\n",
        "kick-start this tutorial by fetching data from Yahoo Finance using the `yahooquery` library. You'll be looking at data for five major US companies: Apple, Google, Microsoft, Amazon, and Meta."
      ]
    },
    {
      "cell_type": "code",
      "execution_count": 2,
      "id": "dd56f22b",
      "metadata": {
        "execution": {
          "iopub.execute_input": "2024-03-21T07:37:53.141920Z",
          "iopub.status.busy": "2024-03-21T07:37:53.141738Z",
          "iopub.status.idle": "2024-03-21T07:37:58.671876Z",
          "shell.execute_reply": "2024-03-21T07:37:58.671526Z"
        },
        "tags": []
      },
      "outputs": [],
      "source": [
        "import pandas as pd\n",
        "from yahooquery import Ticker\n",
        "\n",
        "import pathway as pw\n",
        "\n",
        "# Define the list of ticker symbols for the 5 major US companies\n",
        "tickers = [\"AAPL\", \"GOOGL\", \"MSFT\", \"AMZN\", \"META\"]\n",
        "start = \"2023-01-01\"\n",
        "fmt = \"%Y-%m-%d\"\n",
        "period = \"1y\""
      ]
    },
    {
      "cell_type": "markdown",
      "id": "c96a639c",
      "metadata": {
        "tags": []
      },
      "source": [
        "\n",
        "Let's fetch the historical daily prices and corporate events data for each company."
      ]
    },
    {
      "cell_type": "code",
      "execution_count": 3,
      "id": "b0cde515",
      "metadata": {
        "execution": {
          "iopub.execute_input": "2024-03-21T07:37:58.673954Z",
          "iopub.status.busy": "2024-03-21T07:37:58.673439Z",
          "iopub.status.idle": "2024-03-21T07:37:59.576153Z",
          "shell.execute_reply": "2024-03-21T07:37:59.575796Z"
        },
        "tags": []
      },
      "outputs": [],
      "source": [
        "# Instantiate Ticker object with the list of tickers\n",
        "t = Ticker(tickers)\n",
        "\n",
        "# Fetch the historical daily close prices for each company\n",
        "prices = t.history(period=period, start=start).reset_index()\n",
        "prices.date = pd.to_datetime(prices.date, utc=True).dt.tz_localize(None)\n",
        "\n",
        "\n",
        "# Now fetch the corporate events data\n",
        "events = t.corporate_events.reset_index()"
      ]
    },
    {
      "cell_type": "markdown",
      "id": "13df842d",
      "metadata": {
        "tags": []
      },
      "source": [
        "## Using Pathway to Process Data\n",
        "\n",
        "The next phase involves transforming the two dataframes into Pathway Tables and calculating the Daily Return - the percentage change between the opening and closing prices for the chosen companies. This crucial step will provide us with insights into the relationship between corporate events and corresponding price fluctuations."
      ]
    },
    {
      "cell_type": "code",
      "execution_count": 4,
      "id": "7223823c",
      "metadata": {
        "execution": {
          "iopub.execute_input": "2024-03-21T07:37:59.577697Z",
          "iopub.status.busy": "2024-03-21T07:37:59.577582Z",
          "iopub.status.idle": "2024-03-21T07:37:59.643026Z",
          "shell.execute_reply": "2024-03-21T07:37:59.642710Z"
        },
        "lines_to_next_cell": 2,
        "tags": []
      },
      "outputs": [],
      "source": [
        "from datetime import datetime, timedelta\n",
        "\n",
        "events_table = (\n",
        "    pw.debug.table_from_pandas(events)\n",
        "    .select(pw.this.symbol, pw.this.headline, t=pw.this.date)\n",
        "    .filter(pw.this.t >= datetime.strptime(start, fmt))\n",
        ")\n",
        "\n",
        "price_table = pw.debug.table_from_pandas(prices).select(\n",
        "    pw.this.symbol,\n",
        "    pw.this.open,\n",
        "    pw.this.close,\n",
        "    daily_return=(pw.this.close - pw.this.open) / pw.this.open * 100.0,\n",
        "    t=pw.this.date,\n",
        ")"
      ]
    },
    {
      "cell_type": "markdown",
      "id": "62b9b817",
      "metadata": {
        "lines_to_next_cell": 2,
        "tags": []
      },
      "source": [
        "The `table_from_pandas` function converts pandas DataFrames into Pathway tables. The `select` function is used to choose the columns you want to keep in the new tables.\n",
        "\n",
        "## Previewing Your Data\n",
        "Pathway is a powerful tool designed to work with both static and real-time streaming data, though its primary strength lies in handling real-time data processing.\n",
        "\n",
        "During the development and testing stages of your data processing pipeline, it's essential to validate that the data is processed correctly. To facilitate this, you could define a function named preview_table for data inspection. However, keep in mind that this function should not be utilized in a production setting. It employs pw.debug.compute_and_print and uses static data. For a production environment involving real-time data streams, you should rely on [Pathway's output connectors](/developers/documentation/input-and-output-streams/connectors/) to access the data.\n",
        "\n",
        "Let's take a look at the first few rows of our newly created tables."
      ]
    },
    {
      "cell_type": "code",
      "execution_count": 5,
      "id": "ca01555f",
      "metadata": {
        "execution": {
          "iopub.execute_input": "2024-03-21T07:37:59.644471Z",
          "iopub.status.busy": "2024-03-21T07:37:59.644366Z",
          "iopub.status.idle": "2024-03-21T07:37:59.794701Z",
          "shell.execute_reply": "2024-03-21T07:37:59.794407Z"
        },
        "tags": []
      },
      "outputs": [
        {
          "name": "stderr",
          "output_type": "stream",
          "text": [
            "[2024-03-21T08:37:59]:INFO:Preparing Pathway computation\n"
          ]
        },
        {
          "name": "stderr",
          "output_type": "stream",
          "text": [
            "[2024-03-21T08:37:59]:INFO:Preparing Pathway computation\n"
          ]
        },
        {
          "name": "stdout",
          "output_type": "stream",
          "text": [
            "            | symbol | headline                                                                             | t\n",
            "^NQT6FDF... | AMZN   | Amazon has secured a category-III power trading licence in India- Mint               | 2023-01-03 00:00:00\n",
            "^0A95ZP7... | AMZN   | Amazon.com Says Term Loan Agreement Provides Co With An Unsecured $8.0 Bln Term Loan | 2023-01-03 00:00:00\n",
            "            | symbol | open               | close              | daily_return        | t\n",
            "^X1MXHYY... | AAPL   | 130.27999877929688 | 125.06999969482422 | -3.9990782417021253 | 2023-01-03 00:00:00\n",
            "^YEZ0CZ6... | AMZN   | 85.45999908447266  | 85.81999969482422  | 0.4212504261739121  | 2023-01-03 00:00:00\n",
            "^04AD071... | GOOGL  | 89.58999633789062  | 89.12000274658203  | -0.5246049899767856 | 2023-01-03 00:00:00\n",
            "^QZ9HVY0... | META   | 122.81999969482422 | 124.73999786376953 | 1.5632618252043713  | 2023-01-03 00:00:00\n",
            "^Z39Q57T... | MSFT   | 243.0800018310547  | 239.5800018310547  | -1.4398551808604017 | 2023-01-03 00:00:00\n"
          ]
        }
      ],
      "source": [
        "def preview_table(table, time_col=\"t\"):\n",
        "    end = datetime.strptime(\"2023-01-03\", fmt)\n",
        "    table = table.filter(table[time_col] <= end)\n",
        "    pw.debug.compute_and_print(table)\n",
        "\n",
        "\n",
        "preview_table(events_table)\n",
        "preview_table(price_table)"
      ]
    },
    {
      "cell_type": "markdown",
      "id": "e3d67e6d",
      "metadata": {
        "tags": []
      },
      "source": [
        "## Applying `asof_join`\n",
        "\n",
        "With your Pathway tables prepared, you can now perform the `asof_join` operation."
      ]
    },
    {
      "cell_type": "code",
      "execution_count": 6,
      "id": "4d7837d6",
      "metadata": {
        "execution": {
          "iopub.execute_input": "2024-03-21T07:37:59.795926Z",
          "iopub.status.busy": "2024-03-21T07:37:59.795814Z",
          "iopub.status.idle": "2024-03-21T07:38:03.500977Z",
          "shell.execute_reply": "2024-03-21T07:38:03.500630Z"
        },
        "tags": []
      },
      "outputs": [
        {
          "name": "stderr",
          "output_type": "stream",
          "text": [
            "[2024-03-21T08:38:02]:INFO:Preparing Pathway computation\n"
          ]
        },
        {
          "name": "stdout",
          "output_type": "stream",
          "text": [
            "            | symbol | headline                                                                             | daily_return       | event_t             | price_t\n",
            "^2K45AY2... | AMZN   | Amazon has secured a category-III power trading licence in India- Mint               | 0.4212504261739121 | 2023-01-03 00:00:00 | 2023-01-03 00:00:00\n",
            "^8DMVBGZ... | AMZN   | Amazon.com Says Term Loan Agreement Provides Co With An Unsecured $8.0 Bln Term Loan | 0.4212504261739121 | 2023-01-03 00:00:00 | 2023-01-03 00:00:00\n"
          ]
        }
      ],
      "source": [
        "merged = events_table.asof_join(\n",
        "    price_table,\n",
        "    events_table.t,\n",
        "    price_table.t,\n",
        "    events_table.symbol == price_table.symbol,\n",
        "    how=pw.JoinMode.LEFT,\n",
        "    direction=pw.temporal.Direction.FORWARD,\n",
        ").select(\n",
        "    symbol=events_table.symbol,\n",
        "    headline=events_table.headline,\n",
        "    daily_return=price_table.daily_return,\n",
        "    event_t=events_table.t,\n",
        "    price_t=price_table.t,\n",
        ")\n",
        "\n",
        "preview_table(merged, time_col=\"event_t\")"
      ]
    },
    {
      "cell_type": "markdown",
      "id": "1a22d8b2",
      "metadata": {
        "tags": []
      },
      "source": [
        "In the above `asof_join` function call, you're joining the events table with the prices table. Let's break down its parameters:\n",
        "\n",
        "* `other`: `Table`, This is the table that will be joined with the main table (events_table in our case). In our context, this is price_table.\n",
        "\n",
        "* `self_time` and `other_time`: `ColumnExpression`, These are the time-like columns in both the self and other tables used as the basis for the join. In our example, `events_table.t` and `price_table.t` respectively.\n",
        "\n",
        "* `*on`: `ColumnExpression`: This represents the list of column expressions that specify the conditions for the join. In our case, we use `events_table.symbol == price_table.symbol` to ensure we're matching events and prices for the same company.\n",
        "\n",
        "* `how`: `JoinMode`: This sets the join mode, which can be `LEFT`, `RIGHT`, or `FULL`. `JoinMode.LEFT` is chosen to retain all rows from `events_table` and attach corresponding data from `price_table` where available.\n",
        "\n",
        "* `defaults`: `Dict[ColumnReference, Any]`: This dictionary maps columns to default values for cases where the join operation doesn't find a match in the other table.\n",
        "\n",
        "* `direction`: `Direction`: The direction of the join, either `BACKWARD`, `FORWARD`, or `NEAREST`. We set `direction=Direction.FORWARD` to find the closest subsequent match in `price_table` for each row in `events_table`. This choice aligns with our goal of understanding the future impact of events on stock prices.\n",
        "\n",
        "\n",
        "## Filtering the Data\n",
        "First you will filter out the rows where the time difference between the event and the price is greater than 3 days."
      ]
    },
    {
      "cell_type": "code",
      "execution_count": 7,
      "id": "ab6d7cb7",
      "metadata": {
        "execution": {
          "iopub.execute_input": "2024-03-21T07:38:03.502258Z",
          "iopub.status.busy": "2024-03-21T07:38:03.502104Z",
          "iopub.status.idle": "2024-03-21T07:38:05.008099Z",
          "shell.execute_reply": "2024-03-21T07:38:05.007718Z"
        },
        "tags": []
      },
      "outputs": [
        {
          "name": "stderr",
          "output_type": "stream",
          "text": [
            "[2024-03-21T08:38:03]:INFO:Preparing Pathway computation\n"
          ]
        },
        {
          "name": "stdout",
          "output_type": "stream",
          "text": [
            "            | symbol | headline                                                                             | daily_return       | event_t             | price_t\n",
            "^2K45AY2... | AMZN   | Amazon has secured a category-III power trading licence in India- Mint               | 0.4212504261739121 | 2023-01-03 00:00:00 | 2023-01-03 00:00:00\n",
            "^8DMVBGZ... | AMZN   | Amazon.com Says Term Loan Agreement Provides Co With An Unsecured $8.0 Bln Term Loan | 0.4212504261739121 | 2023-01-03 00:00:00 | 2023-01-03 00:00:00\n"
          ]
        }
      ],
      "source": [
        "filtered = merged.filter(merged.price_t.is_not_none()).filter(\n",
        "    pw.this.price_t - pw.this.event_t <= timedelta(days=3)\n",
        ")\n",
        "\n",
        "preview_table(filtered, time_col=\"event_t\")"
      ]
    },
    {
      "cell_type": "markdown",
      "id": "6215cf3b",
      "metadata": {
        "tags": []
      },
      "source": [
        "Now let's filter for the events with the highest impact and display the resulting table:"
      ]
    },
    {
      "cell_type": "code",
      "execution_count": 8,
      "id": "b87f4567",
      "metadata": {
        "execution": {
          "iopub.execute_input": "2024-03-21T07:38:05.009368Z",
          "iopub.status.busy": "2024-03-21T07:38:05.009257Z",
          "iopub.status.idle": "2024-03-21T07:38:06.509972Z",
          "shell.execute_reply": "2024-03-21T07:38:06.509591Z"
        },
        "tags": []
      },
      "outputs": [
        {
          "name": "stderr",
          "output_type": "stream",
          "text": [
            "[2024-03-21T08:38:05]:INFO:Preparing Pathway computation\n"
          ]
        },
        {
          "name": "stdout",
          "output_type": "stream",
          "text": [
            "            | symbol | headline                                                                                                             | daily_return        | event_t\n",
            "^ADV320P... | AMZN   | Amazon Plans To Launch Ad Tier For Prime Video Streaming Service - WSJ                                               | -4.55082173221072   | 2023-06-07\n",
            "^66CF1GC... | AMZN   | Amazon Reports CEO Andy Jassy 2022 Total Compensation Of $1.3 Mln                                                    | 3.4866141324302555  | 2023-04-13\n",
            "^4QMW365... | AMZN   | Amazon Web Services Plans To Invest $35 Billion In Virginia Data Centres By 2040 - Governor Of Virginia Statement    | 3.6117615252546287  | 2023-01-20\n",
            "^9AQYTNV... | AMZN   | Amazon.Com Confident About Plans To Lower Costs, Reduce Delivery Times                                               | 3.4866141324302555  | 2023-04-13\n",
            "^AQW7AF1... | AMZN   | Miller Value Partners' Bill Miller III Says Personally Shorted More Tesla Today, Bought More Amazon \u2013 CNBC Interview | 3.6733748001912723  | 2023-01-06\n",
            "^TBMEQ4A... | AMZN   | Twitch CEO Emmett Shear To Resign As CEO - Tweet                                                                     | 4.4804187107335185  | 2023-03-16\n",
            "^G4VY2SB... | META   | Meta CEO Zuckerberg says there is 'more we can do' to improve productivity, speed and cost structure                 | 3.4384897519856628  | 2023-02-01\n",
            "^G1WBBJR... | META   | Meta Misses Q4 EPS Estimates                                                                                         | 3.4384897519856628  | 2023-02-01\n",
            "^X8PDFZ9... | META   | Meta Misses Q4 EPS Estimates                                                                                         | 3.4384897519856628  | 2023-02-01\n",
            "^84NF6C6... | META   | Meta Platforms Inc Says Expect Full-Year 2023 Total Expenses To Be In Range Of $86 Bln to $92 Bln                    | 3.433203101899149   | 2023-03-14\n",
            "^S1NM934... | META   | Meta Reports Fourth Quarter And Full Year 2022 Results                                                               | 3.4384897519856628  | 2023-02-01\n",
            "^537JENW... | META   | Meta posts Q3 EPS USD 4.39                                                                                           | -3.3774197486139115 | 2023-10-25\n",
            "^RBZW8MD... | META   | Meta posts Q3 EPS USD 4.39                                                                                           | -3.3774197486139115 | 2023-10-25\n"
          ]
        }
      ],
      "source": [
        "threshold = 3.0\n",
        "\n",
        "highest_impact_events = filtered.filter(\n",
        "    pw.apply_with_type(lambda x: abs(x) >= threshold, bool, pw.this.daily_return)\n",
        ").select(\n",
        "    pw.this.symbol,\n",
        "    pw.this.headline,\n",
        "    pw.this.daily_return,\n",
        "    event_t=pw.this.event_t.dt.strftime(fmt),\n",
        ")\n",
        "\n",
        "pw.debug.compute_and_print(highest_impact_events)"
      ]
    },
    {
      "cell_type": "markdown",
      "id": "606644c6",
      "metadata": {
        "tags": []
      },
      "source": [
        "## Conclusion\n",
        "\n",
        "And there you have it! By using the `asof_join` in Pathway, you have efficiently combined realtime stock price data with corporate event data for multiple companies. This can provide valuable insights for financial analysis. As you can see, Pathway provides a powerful framework for managing and manipulating time-series data.\n",
        "\n",
        "Thank you for following this tutorial, and we hope you've found it valuable. As always, we welcome your questions and feedback."
      ]
    }
  ],
  "metadata": {
    "jupytext": {
      "cell_metadata_filter": "tags,-all",
      "main_language": "python",
      "notebook_metadata_filter": "-all"
    },
    "language_info": {
      "codemirror_mode": {
        "name": "ipython",
        "version": 3
      },
      "file_extension": ".py",
      "mimetype": "text/x-python",
      "name": "python",
      "nbconvert_exporter": "python",
      "pygments_lexer": "ipython3",
      "version": "3.11.8"
    }
  },
  "nbformat": 4,
  "nbformat_minor": 5
}