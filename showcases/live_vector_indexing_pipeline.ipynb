{
  "cells": [
    {
      "cell_type": "markdown",
      "metadata": {
        "id": "view-in-colab"
      },
      "source": [
        "<a href=\"https://colab.research.google.com/github/pathwaycom/pathway-examples/blob/main/showcases/live_vector_indexing_pipeline.ipynb\" target=\"_parent\"><img src=\"https://pathway.com/assets/colab-badge.svg\" alt=\"Run In Colab\" class=\"inline\"/></a>"
      ]
    },
    {
      "cell_type": "markdown",
      "source": [
        "# Installing Pathway with Python 3.10+\n",
        "\n",
        "In the cell below, we install Pathway into a Python 3.10+ Linux runtime.\n",
        "\n",
        "> **If you are running in Google Colab, please run the colab notebook (Ctrl+F9)**, disregarding the 'not authored by Google' warning.\n",
        "> \n",
        "> **The installation and loading time is less than 1 minute**.\n"
      ],
      "metadata": {
        "id": "notebook-instructions"
      }
    },
    {
      "cell_type": "code",
      "source": [
        "%%capture --no-display\n",
        "!pip install pathway"
      ],
      "metadata": {
        "id": "pip-installation-pathway",
        "cellView": "form"
      },
      "execution_count": null,
      "outputs": []
    },
    {
      "cell_type": "markdown",
      "id": "274f8207",
      "metadata": {},
      "source": [
        "# Always up-to-date data indexing pipeline\n",
        "\n",
        "This showcase shows how to use Pathway to deploy a live data indexing pipeline, which can be queried like a typical vector store. However, under the hood, Pathway updates the index on each data change, always giving up-to-date answers.\n",
        "<!-- canva link: https://www.canva.com/design/DAF1cxQW5Vg/LcFdDrPApBrgwM5kyirY6w/edit  -->\n",
        "::article-img\n",
        "---\n",
        "src: '/assets/content/showcases/vectorstore/vectorstore_doc.png'\n",
        "alt: 'Pathway data indexing pipeline'\n",
        "class: 'mx-auto'\n",
        "zoomable: true\n",
        "---\n",
        "::\n",
        "\n",
        "Pathway Vectorstore enables building a document index on top of you documents without the\n",
        "complexity of ETL pipelines, managing different containers for storing, embedding, and serving.\n",
        "It allows for easy to manage, always up-to-date, LLM pipelines accesible using a RESTful API\n",
        "and with integrations to popular LLM toolkits such as Langchain and Llama-index.\n",
        "\n",
        "\n",
        "In this article, we will use a simple document processing pipeline that:\n",
        "1. Monitors several data sources (files, S3 folders, cloud storages) for data changes.\n",
        "2. Parses, splits and embeds the documents.\n",
        "3. Builds a vector index for the data.\n",
        "\n",
        "We will connect to the index using a `VectorStore` client, which allows retrieval of semantically similar documents."
      ]
    },
    {
      "cell_type": "markdown",
      "id": "3148dee1",
      "metadata": {},
      "source": [
        "## Prerequisites\n",
        "\n",
        "Install the `pathway` package. You can also install the `unstructured` package to use the most powerful `unstructured.io`-based parser.\n",
        "Finally, install `pathway llm-app` to use the LLM model wrappers."
      ]
    },
    {
      "cell_type": "code",
      "execution_count": 1,
      "id": "b3954352",
      "metadata": {
        "execution": {
          "iopub.execute_input": "2024-01-11T14:27:55.202219Z",
          "iopub.status.busy": "2024-01-11T14:27:55.202015Z",
          "iopub.status.idle": "2024-01-11T14:27:55.369781Z",
          "shell.execute_reply": "2024-01-11T14:27:55.369475Z"
        }
      },
      "outputs": [],
      "source": [
        "# !pip install pathway llm-app\n"
      ]
    },
    {
      "cell_type": "markdown",
      "id": "1112b87a",
      "metadata": {},
      "source": [
        "## Building the data pipeline\n",
        "\n",
        "First, make sure you have an API key with an LLM provider such as OpenAI."
      ]
    },
    {
      "cell_type": "code",
      "execution_count": 2,
      "id": "8b90520b",
      "metadata": {
        "execution": {
          "iopub.execute_input": "2024-01-11T14:27:55.371520Z",
          "iopub.status.busy": "2024-01-11T14:27:55.371381Z",
          "iopub.status.idle": "2024-01-11T14:27:55.373449Z",
          "shell.execute_reply": "2024-01-11T14:27:55.373178Z"
        }
      },
      "outputs": [],
      "source": [
        "import getpass\n",
        "import os\n",
        "\n",
        "if \"OPENAI_API_KEY\" not in os.environ:\n",
        "    os.environ[\"OPENAI_API_KEY\"] = getpass.getpass(\"OpenAI API Key:\")"
      ]
    },
    {
      "cell_type": "markdown",
      "id": "23a8f229",
      "metadata": {},
      "source": [
        "We will now assemble the data vectorization pipeline, using a simple `UTF8` file parser, and a  character splitter and embedder from the [llm-app](https://github.com/pathwaycom/llm-app).\n",
        "\n",
        "First, we define the data sources. We use the files-based one for simplicity, but any supported `pathway` [connector](https://pathway.com/developers/api-docs/pathway-io/), such as [s3](https://pathway.com/developers/api-docs/pathway-io-s3/) or [Google Drive](https://pathway.com/developers/api-docs/pathway-io-gdrive/#pathway.io.gdrive.read) will also work.\n",
        "\n",
        "Then, we define the embedder and splitter.\n",
        "\n",
        "Last, we assemble the data pipeline. We will start it running in a background thread to be able to query it immediately from the demonstration. Please note that in a production deployment, the server will run in another process, possibly on another machine. For the quick-start, we keep the server and client as different threads of the same Python process."
      ]
    },
    {
      "cell_type": "code",
      "execution_count": 3,
      "id": "cbfe4b2e",
      "metadata": {
        "execution": {
          "iopub.execute_input": "2024-01-11T14:27:55.374801Z",
          "iopub.status.busy": "2024-01-11T14:27:55.374648Z",
          "iopub.status.idle": "2024-01-11T14:27:58.786900Z",
          "shell.execute_reply": "2024-01-11T14:27:58.786546Z"
        }
      },
      "outputs": [],
      "source": [
        "from llm_app.model_wrappers import OpenAIEmbeddingModel\n",
        "\n",
        "import pathway as pw\n",
        "from pathway.xpacks.llm.splitter import TokenCountSplitter\n",
        "from pathway.xpacks.llm.vector_store import VectorStoreClient, VectorStoreServer\n",
        "\n",
        "# This creates a connector that reads a single file.\n",
        "data_sources = []\n",
        "data_sources.append(\n",
        "    pw.io.fs.read(\n",
        "        \"./sample_documents\",\n",
        "        format=\"binary\",\n",
        "        mode=\"streaming\",\n",
        "        with_metadata=True,\n",
        "    )\n",
        ")\n",
        "\n",
        "# This creates a connector that tracks files in Google Drive.\n",
        "# Please follow the instructions at https://pathway.com/developers/tutorials/connectors/gdrive-connector/ to get credentials.\n",
        "# data_sources.append(\n",
        "#     pw.io.gdrive.read(object_id=\"17H4YpBOAKQzEJ93xmC2z170l0bP2npMy\", service_user_credentials_file=\"credentials.json\", with_metadata=True))\n",
        "\n",
        "# Choose document transformers\n",
        "text_splitter = TokenCountSplitter()\n",
        "embeddings_model = OpenAIEmbeddingModel(api_key=os.environ[\"OPENAI_API_KEY\"])\n",
        "\n",
        "# The `PathwayVectorServer` is a wrapper over `pathway.xpacks.llm.vector_store` to accept LangChain transformers.\n",
        "# Fell free to fork it to develop bespoke document processing pipelines.\n",
        "vector_server = VectorStoreServer(\n",
        "    *data_sources,\n",
        "    embedder=embeddings_model,\n",
        "    splitter=text_splitter,\n",
        ")\n",
        "vector_server.run_server(host=\"127.0.0.1\", port=\"8765\", threaded=True, with_cache=False)"
      ]
    },
    {
      "cell_type": "markdown",
      "id": "0b5c9ded",
      "metadata": {},
      "source": [
        "We now instantiate and configure the client"
      ]
    },
    {
      "cell_type": "code",
      "execution_count": 4,
      "id": "224de7b3",
      "metadata": {
        "execution": {
          "iopub.execute_input": "2024-01-11T14:27:58.788683Z",
          "iopub.status.busy": "2024-01-11T14:27:58.788544Z",
          "iopub.status.idle": "2024-01-11T14:27:58.790505Z",
          "shell.execute_reply": "2024-01-11T14:27:58.790236Z"
        }
      },
      "outputs": [],
      "source": [
        "client = VectorStoreClient(\n",
        "    host=\"127.0.0.1\",\n",
        "    port=\"8765\",\n",
        ")"
      ]
    },
    {
      "cell_type": "markdown",
      "id": "5c1c4464",
      "metadata": {},
      "source": [
        "And we can start asking queries"
      ]
    },
    {
      "cell_type": "code",
      "execution_count": 5,
      "id": "5c614209",
      "metadata": {
        "execution": {
          "iopub.execute_input": "2024-01-11T14:27:58.791728Z",
          "iopub.status.busy": "2024-01-11T14:27:58.791602Z",
          "iopub.status.idle": "2024-01-11T14:27:58.793330Z",
          "shell.execute_reply": "2024-01-11T14:27:58.793049Z"
        },
        "lines_to_next_cell": 2
      },
      "outputs": [],
      "source": [
        "query = \"What is Pathway?\"\n",
        "docs = client(query)"
      ]
    },
    {
      "cell_type": "markdown",
      "id": "97f20a5f",
      "metadata": {},
      "source": [
        "**Your turn!** Now make a change to the source documents or make a fresh one and retry the query!"
      ]
    },
    {
      "cell_type": "markdown",
      "id": "6b16de5e",
      "metadata": {},
      "source": [
        "## Integrations\n",
        "\n",
        "### Langchain\n",
        "\n",
        "This currently is submitted to Langchain in [a PR](https://github.com/langchain-ai/langchain/pull/14859)\n"
      ]
    },
    {
      "cell_type": "code",
      "execution_count": 6,
      "id": "22fb7c4d",
      "metadata": {
        "execution": {
          "iopub.execute_input": "2024-01-11T14:27:58.794625Z",
          "iopub.status.busy": "2024-01-11T14:27:58.794479Z",
          "iopub.status.idle": "2024-01-11T14:27:58.796202Z",
          "shell.execute_reply": "2024-01-11T14:27:58.795935Z"
        }
      },
      "outputs": [],
      "source": [
        "# !pip install langchain"
      ]
    },
    {
      "cell_type": "markdown",
      "id": "6fd5edb9",
      "metadata": {},
      "source": [
        "```python\n",
        "from langchain.vectorstores import PathwayVectorClient\n",
        "\n",
        "# PathwayVectorClient implements regular VectorStore API of Langchain\n",
        "client = PathwayVectorClient(host=\"127.0.0.1\", port=\"8765\")\n",
        "docs = client.similarity_search(\"What is Pathway?\")\n",
        "```"
      ]
    },
    {
      "cell_type": "markdown",
      "id": "44a7c37c",
      "metadata": {
        "lines_to_next_cell": 0
      },
      "source": [
        "### LLama-index\n",
        "\n",
        "See `Pathway Retriever` cookbook [here](https://docs.llamaindex.ai/en/stable/examples/retrievers/pathway_retriever.html)\n",
        "Also see `Pathway Reader` cookbook [here](https://docs.llamaindex.ai/en/stable/examples/data_connectors/PathwayReaderDemo.html)\n"
      ]
    },
    {
      "cell_type": "code",
      "execution_count": 7,
      "id": "054a4acf",
      "metadata": {
        "execution": {
          "iopub.execute_input": "2024-01-11T14:27:58.797464Z",
          "iopub.status.busy": "2024-01-11T14:27:58.797335Z",
          "iopub.status.idle": "2024-01-11T14:27:58.799008Z",
          "shell.execute_reply": "2024-01-11T14:27:58.798743Z"
        }
      },
      "outputs": [],
      "source": [
        "# !pip install llama-index"
      ]
    },
    {
      "cell_type": "markdown",
      "id": "92fea5bc",
      "metadata": {},
      "source": [
        "```python\n",
        "from llama_index.retrievers import PathwayRetriever\n",
        "\n",
        "# PathwayRetriever implements the Retriever interface\n",
        "pr = PathwayRetriever(host=\"127.0.0.1\", port=\"8765\")\n",
        "pr.retrieve(str_or_query_bundle=\"something\")\n",
        "```"
      ]
    },
    {
      "cell_type": "markdown",
      "id": "d6a57e80",
      "metadata": {},
      "source": [
        "## Advanced topics\n",
        "\n",
        "### Getting information on indexed files"
      ]
    },
    {
      "cell_type": "markdown",
      "id": "56d4bfb3",
      "metadata": {},
      "source": [
        "`PathwayVectorClient.get_vectorstore_statistics()` gives essential statistics on the state of the vector store, like the number of indexed files and the timestamp of the last updated one. You can use it in your chains to tell the user how fresh your knowledge base is."
      ]
    },
    {
      "cell_type": "code",
      "execution_count": 8,
      "id": "c661b7e2",
      "metadata": {
        "execution": {
          "iopub.execute_input": "2024-01-11T14:27:58.800298Z",
          "iopub.status.busy": "2024-01-11T14:27:58.800169Z",
          "iopub.status.idle": "2024-01-11T14:27:58.801956Z",
          "shell.execute_reply": "2024-01-11T14:27:58.801689Z"
        }
      },
      "outputs": [],
      "source": [
        "client.get_vectorstore_statistics()"
      ]
    },
    {
      "cell_type": "markdown",
      "id": "6a52133d",
      "metadata": {},
      "source": [
        "### Filtering based on file metadata\n",
        "\n",
        "We support document filtering using [jmespath](https://jmespath.org/) expressions, for instance:"
      ]
    },
    {
      "cell_type": "code",
      "execution_count": 9,
      "id": "8e75dee6",
      "metadata": {
        "execution": {
          "iopub.execute_input": "2024-01-11T14:27:58.803185Z",
          "iopub.status.busy": "2024-01-11T14:27:58.803053Z",
          "iopub.status.idle": "2024-01-11T14:27:58.804822Z",
          "shell.execute_reply": "2024-01-11T14:27:58.804565Z"
        }
      },
      "outputs": [],
      "source": [
        "# take into account only sources modified later than unix timestamp\n",
        "docs = client(query, metadata_filter=\"modified_at >= `1702672093`\")\n",
        "\n",
        "# take into account only sources modified later than unix timestamp\n",
        "docs = client(query, metadata_filter=\"owner == `james`\")\n",
        "\n",
        "# take into account only sources with path containing 'repo_readme'\n",
        "docs = client(query, metadata_filter=\"contains(path, 'repo_readme')\")\n",
        "\n",
        "# and of two conditions\n",
        "docs = client(query, metadata_filter=\"owner == `james` && modified_at >= `1702672093`\")\n",
        "\n",
        "# or of two conditions\n",
        "docs = client(query, metadata_filter=\"owner == `james` || modified_at >= `1702672093`\")"
      ]
    },
    {
      "cell_type": "markdown",
      "id": "a828affb",
      "metadata": {},
      "source": [
        "### Configuring the parser\n",
        "\n",
        "The vectorization pipeline supports pluggable parsers. If not provided, defaults to `UTF-8` parser. You can find available parsers [here](https://github.com/pathwaycom/pathway/blob/main/python/pathway/xpacks/llm/parser.py).\n",
        "An example parser that can read PDFs, Word documents and other formats is provided with `parsers.ParseUnstructured`:"
      ]
    },
    {
      "cell_type": "code",
      "execution_count": 10,
      "id": "975e219b",
      "metadata": {
        "execution": {
          "iopub.execute_input": "2024-01-11T14:27:58.806123Z",
          "iopub.status.busy": "2024-01-11T14:27:58.805998Z",
          "iopub.status.idle": "2024-01-11T14:27:58.807715Z",
          "shell.execute_reply": "2024-01-11T14:27:58.807449Z"
        }
      },
      "outputs": [],
      "source": [
        "# !pip install unstructured[all-docs]  # if you will need to parse complex documents"
      ]
    },
    {
      "cell_type": "markdown",
      "id": "5b30dd9f",
      "metadata": {},
      "source": [
        "```python\n",
        "from pathway.xpacks.llm import parser\n",
        "\n",
        "vector_server = VectorStoreServer(\n",
        "    *data_sources,\n",
        "    parser=parser.ParseUnstructured(),\n",
        "    embedder=embeddings_model,\n",
        "    splitter=text_splitter,\n",
        ")\n",
        "```"
      ]
    },
    {
      "cell_type": "markdown",
      "id": "57704960",
      "metadata": {
        "lines_to_next_cell": 2
      },
      "source": [
        "### Configuring the cache\n",
        "\n",
        "The Pathway vectorizing pipeline comes with an embeddings cache:\n",
        "```python\n",
        "vector_server.run_server(..., with_cache=True)\n",
        "```\n",
        "\n",
        "The default cache configuration is the locally hosted disk cache, stored in the `./Cache` directory. However, it can be customized by explicitly specifying the caching backend chosen among several persistent backend [options](/developers/api-docs/persistence-api/#pathway.persistence.Backend)."
      ]
    },
    {
      "cell_type": "markdown",
      "id": "9b539b28",
      "metadata": {},
      "source": [
        "### Running in production\n",
        "\n",
        "A production deployment will typically run the server in a separate process. We provide a template application under [`templates`](https://github.com/langchain-ai/langchain/tree/master/templates/rag-pathway). We recommend running the Pathway data indexing pipeline in a container-based deployment environment like Docker or Kubernetes. For more info, see [Pathway's deployment guide](https://pathway.com/developers/user-guide/deployment/docker-deployment/)."
      ]
    }
  ],
  "metadata": {
    "kernelspec": {
      "display_name": "Python 3 (ipykernel)",
      "language": "python",
      "name": "python3"
    },
    "language_info": {
      "codemirror_mode": {
        "name": "ipython",
        "version": 3
      },
      "file_extension": ".py",
      "mimetype": "text/x-python",
      "name": "python",
      "nbconvert_exporter": "python",
      "pygments_lexer": "ipython3",
      "version": "3.11.6"
    }
  },
  "nbformat": 4,
  "nbformat_minor": 5
}