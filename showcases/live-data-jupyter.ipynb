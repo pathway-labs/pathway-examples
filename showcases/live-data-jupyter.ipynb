{
  "cells": [
    {
      "cell_type": "markdown",
      "metadata": {
        "id": "view-in-colab"
      },
      "source": [
        "<a href=\"https://colab.research.google.com/github/pathwaycom/pathway-examples/blob/main/showcases/live-data-jupyter.ipynb\" target=\"_parent\"><img src=\"https://pathway.com/assets/colab-badge.svg\" alt=\"Run In Colab\" class=\"inline\"/></a>"
      ]
    },
    {
      "cell_type": "markdown",
      "source": [
        "# Installing Pathway with Python 3.10+\n",
        "\n",
        "In the cell below, we install Pathway into a Python 3.10+ Linux runtime.\n",
        "\n",
        "> **If you are running in Google Colab, please run the colab notebook (Ctrl+F9)**, disregarding the 'not authored by Google' warning.\n",
        "> \n",
        "> **The installation and loading time is less than 1 minute**.\n"
      ],
      "metadata": {
        "id": "notebook-instructions"
      }
    },
    {
      "cell_type": "code",
      "source": [
        "%%capture --no-display\n",
        "!pip install pathway"
      ],
      "metadata": {
        "id": "pip-installation-pathway",
        "cellView": "form"
      },
      "execution_count": null,
      "outputs": []
    },
    {
      "cell_type": "markdown",
      "id": "743c76fb",
      "metadata": {},
      "source": [
        "# Transform live data streams in Jupyter\n",
        "\n",
        "In this notebook we implement a very simple trading algorithm that uses [Bollinger Bands](https://en.wikipedia.org/wiki/Bollinger_Bands). Concretely, we compute the 1 minute running mean of Volume Weighted Average Price (`vwap`) and the 20 minute volatility, the Volume Weighted Standard Deviation (`wvstd`) on the price timeseries. This creates two bands around the mean price, with most of price movements happening between the bands. Intuitively, when a price approaches the upper band, it means that it is abnormally high and may likely drop - it is a good moment to _SELL_. Likewise, when the price approaches the lower band, it indicates it is low and may grow to revert to the mean - it is a good moment to _BUY_. For further reliability, the BUY/SELL actions are performed only when there was a significant volume of trades, indicating that the outlying price is not a one-off event.\n",
        "\n",
        "Let's jump right into the code now!\n",
        "\n",
        "![image](https://github.com/pathwaycom/pathway-examples/blob/c20cd69a6c9c87fc70a9082de57666c50f2ab3c2/documentation/from_jupyter_to_deploy/jupyter-demo-final-smallest-compressed.gif?raw=true)"
      ]
    },
    {
      "cell_type": "markdown",
      "id": "a9aba33c",
      "metadata": {},
      "source": [
        "## Imports and setup\n",
        "\n",
        "First we import the necessary libraries:\n",
        "\n",
        "- [`pathway`](https://pathway.com/developers/user-guide/welcome/) for data processing,\n",
        "- `datetime` for date manipulation,\n",
        "- [`bokeh`](https://bokeh.org/) for interactive plotting,\n",
        "- [`panel`](https://panel.holoviz.org/) for dashboard layout."
      ]
    },
    {
      "cell_type": "code",
      "execution_count": 1,
      "id": "31966ac7",
      "metadata": {
        "execution": {
          "iopub.execute_input": "2023-11-30T12:33:26.665889Z",
          "iopub.status.busy": "2023-11-30T12:33:26.665773Z",
          "iopub.status.idle": "2023-11-30T12:34:14.876844Z",
          "shell.execute_reply": "2023-11-30T12:34:14.876278Z"
        }
      },
      "outputs": [],
      "source": [
        "import datetime\n",
        "\n",
        "import bokeh.models\n",
        "import bokeh.plotting\n",
        "import panel\n",
        "\n",
        "import pathway as pw"
      ]
    },
    {
      "cell_type": "code",
      "execution_count": 2,
      "id": "5a8d0273",
      "metadata": {
        "execution": {
          "iopub.execute_input": "2023-11-30T12:34:14.879534Z",
          "iopub.status.busy": "2023-11-30T12:34:14.879056Z",
          "iopub.status.idle": "2023-11-30T12:34:15.044402Z",
          "shell.execute_reply": "2023-11-30T12:34:15.043958Z"
        }
      },
      "outputs": [
        {
          "name": "stdout",
          "output_type": "stream",
          "text": [
            "File \u2018ticker.csv\u2019 already there; not retrieving.\r\n",
            "\r\n"
          ]
        }
      ],
      "source": [
        "!wget -nc https://gist.githubusercontent.com/janchorowski/e351af72ecd8d206a34763a428826ab7/raw/ticker.csv"
      ]
    },
    {
      "cell_type": "markdown",
      "id": "9a2dbd1d",
      "metadata": {},
      "source": [
        "## Data source setup\n",
        "\n",
        "Create a streaming data source which replays data in a `csv` file. the `input_rate` parameter controls how fast the data is replayed.\n",
        "\n",
        "No data processing happens at this time, we are building a computational graph to be executed at the end of the notebook."
      ]
    },
    {
      "cell_type": "code",
      "execution_count": 3,
      "id": "16942dd3",
      "metadata": {
        "execution": {
          "iopub.execute_input": "2023-11-30T12:34:15.046365Z",
          "iopub.status.busy": "2023-11-30T12:34:15.046227Z",
          "iopub.status.idle": "2023-11-30T12:34:15.204377Z",
          "shell.execute_reply": "2023-11-30T12:34:15.203967Z"
        }
      },
      "outputs": [],
      "source": [
        "fname = \"ticker.csv\"\n",
        "schema = pw.schema_from_csv(fname)\n",
        "data = pw.demo.replay_csv(fname, schema=schema, input_rate=1000)\n",
        "\n",
        "# # For static data exploration use\n",
        "# data = pw.io.csv.read(fname, schema=schema, mode=\"static\")\n",
        "\n",
        "# Parse the timestamps\n",
        "data = data.with_columns(\n",
        "    t=pw.apply_with_type(\n",
        "        datetime.datetime.fromtimestamp, pw.DATE_TIME_NAIVE, data.t / 1000.0\n",
        "    )\n",
        ")"
      ]
    },
    {
      "cell_type": "markdown",
      "id": "533cd86c",
      "metadata": {},
      "source": [
        "## 20 minutes rolling statistics\n",
        "\n",
        "We use a [`sliding window`](https://pathway.com/developers/user-guide/guides/windowby-reduce-manual/#temporal-sliding-windowing) to compute every minute the volume weighted price mean and standard deviation aggretage on past past 20 minutes of data. The `behavior` option tells Pathway that the window should emit the statistics only when it is finished - we do not want to see the incomplete results.\n",
        "\n",
        "To compute the standard deviation we use the identity\n",
        "\n",
        "$$\n",
        "\\sigma(X) = \\sqrt{\\operatorname E\\left[(X - \\operatorname E[X])^2\\right]} = \\sqrt{\\operatorname E\\left[X^2\\right] - (\\operatorname E[X])^2},\n",
        "$$\n",
        "\n",
        "which is easily expressible using [Pathway reducers](https://pathway.com/developers/api-docs/reducers/): we first compute the total $\\mathrm{volume}$, $\\mathrm{price}$, and $\\mathrm{price}^2$. We then postprocess them to obtain the mean ($\\mathrm{vwap}$), standard deviation ($\\mathrm{vwstd}$), and Bollinger Bands places at $\\mathrm{vwap} \\pm 2\\cdot \\mathrm{vwstd}$."
      ]
    },
    {
      "cell_type": "code",
      "execution_count": 4,
      "id": "761029df",
      "metadata": {
        "execution": {
          "iopub.execute_input": "2023-11-30T12:34:15.206461Z",
          "iopub.status.busy": "2023-11-30T12:34:15.206047Z",
          "iopub.status.idle": "2023-11-30T12:34:15.600516Z",
          "shell.execute_reply": "2023-11-30T12:34:15.600157Z"
        }
      },
      "outputs": [],
      "source": [
        "minute_20_stats = (\n",
        "    data.windowby(\n",
        "        pw.this.t,\n",
        "        window=pw.temporal.sliding(\n",
        "            hop=datetime.timedelta(minutes=1), duration=datetime.timedelta(minutes=20)\n",
        "        ),\n",
        "        behavior=pw.temporal.common_behavior(delay=datetime.timedelta(minutes=20)),\n",
        "        instance=pw.this.ticker,\n",
        "    )\n",
        "    .reduce(\n",
        "        ticker=pw.this._pw_instance,\n",
        "        t=pw.this._pw_window_end,\n",
        "        volume=pw.reducers.sum(pw.this.volume),\n",
        "        transact_total=pw.reducers.sum(pw.this.volume * pw.this.vwap),\n",
        "        transact_total2=pw.reducers.sum(pw.this.volume * pw.this.vwap**2),\n",
        "    )\n",
        "    .with_columns(vwap=pw.this.transact_total / pw.this.volume)\n",
        "    .with_columns(\n",
        "        vwstd=(pw.this.transact_total2 / pw.this.volume - pw.this.vwap**2) ** 0.5\n",
        "    )\n",
        "    .with_columns(\n",
        "        bollinger_upper=pw.this.vwap + 2 * pw.this.vwstd,\n",
        "        bollinger_lower=pw.this.vwap - 2 * pw.this.vwstd,\n",
        "    )\n",
        ")"
      ]
    },
    {
      "cell_type": "markdown",
      "id": "128c9c11",
      "metadata": {},
      "source": [
        "## 1 minute rolling statistics\n",
        "\n",
        "We now compute the mean price over the past minute of trades - the code is analogous to the 20 minute statistics, but simpler - we can use `tumbling window` and don't have to compute the standard deviation."
      ]
    },
    {
      "cell_type": "code",
      "execution_count": 5,
      "id": "9cf44a31",
      "metadata": {
        "execution": {
          "iopub.execute_input": "2023-11-30T12:34:15.602588Z",
          "iopub.status.busy": "2023-11-30T12:34:15.602453Z",
          "iopub.status.idle": "2023-11-30T12:34:15.754437Z",
          "shell.execute_reply": "2023-11-30T12:34:15.754072Z"
        }
      },
      "outputs": [],
      "source": [
        "minute_1_stats = (\n",
        "    data.windowby(\n",
        "        pw.this.t,\n",
        "        window=pw.temporal.tumbling(datetime.timedelta(minutes=1)),\n",
        "        instance=pw.this.ticker,\n",
        "    )\n",
        "    .reduce(\n",
        "        ticker=pw.this._pw_instance,\n",
        "        t=pw.this._pw_window_end,\n",
        "        volume=pw.reducers.sum(pw.this.volume),\n",
        "        transact_total=pw.reducers.sum(pw.this.volume * pw.this.vwap),\n",
        "    )\n",
        "    .with_columns(vwap=pw.this.transact_total / pw.this.volume)\n",
        ")"
      ]
    },
    {
      "cell_type": "markdown",
      "id": "b1ef3b1f",
      "metadata": {},
      "source": [
        "## Joining the statistics\n",
        "\n",
        "We now join the 20 minutes and 1 minutes statistics, gathering all information needed for alerting in one place. Alert triggering is now a breeze."
      ]
    },
    {
      "cell_type": "code",
      "execution_count": 6,
      "id": "a6241f99",
      "metadata": {
        "execution": {
          "iopub.execute_input": "2023-11-30T12:34:15.756207Z",
          "iopub.status.busy": "2023-11-30T12:34:15.755982Z",
          "iopub.status.idle": "2023-11-30T12:34:15.883708Z",
          "shell.execute_reply": "2023-11-30T12:34:15.883353Z"
        },
        "lines_to_next_cell": 2
      },
      "outputs": [],
      "source": [
        "joint_stats = (\n",
        "    minute_1_stats.join(\n",
        "        minute_20_stats, pw.left.t == pw.right.t, pw.left.ticker == pw.right.ticker\n",
        "    )\n",
        "    .select(\n",
        "        *pw.left,\n",
        "        bollinger_lower=pw.right.bollinger_lower,\n",
        "        bollinger_upper=pw.right.bollinger_upper,\n",
        "    )\n",
        "    .with_columns(\n",
        "        is_alert=(pw.this.volume > 10000)\n",
        "        & (\n",
        "            (pw.this.vwap > pw.this.bollinger_upper)\n",
        "            | (pw.this.vwap < pw.this.bollinger_lower)\n",
        "        )\n",
        "    )\n",
        "    .with_columns(\n",
        "        action=pw.if_else(\n",
        "            pw.this.is_alert,\n",
        "            pw.if_else(pw.this.vwap > pw.this.bollinger_upper, \"sell\", \"buy\"),\n",
        "            \"hodl\",\n",
        "        )\n",
        "    )\n",
        ")\n",
        "alerts = joint_stats.filter(pw.this.is_alert)"
      ]
    },
    {
      "cell_type": "markdown",
      "id": "1d12cfd8",
      "metadata": {
        "lines_to_next_cell": 2
      },
      "source": [
        "## Dashboard creation\n",
        "\n",
        "We now create a `Bokeh` plot and `Panel` table vizualization: the plot shows the Bollinger Bands along with price running mean and indicates the price of buy and sell decisions. The table gathers all the decisions in a convenient for for further processing, such as reducing it to compute a historical evaluation of the gains of the strategy.\n",
        "\n",
        "When the cell is executed we get placeholder containers for the plot and table visualization. They will be populated with live data when computation is started."
      ]
    },
    {
      "cell_type": "code",
      "execution_count": 7,
      "id": "e9ec1fdd",
      "metadata": {
        "execution": {
          "iopub.execute_input": "2023-11-30T12:34:15.885411Z",
          "iopub.status.busy": "2023-11-30T12:34:15.885287Z",
          "iopub.status.idle": "2023-11-30T12:34:16.348958Z",
          "shell.execute_reply": "2023-11-30T12:34:16.348575Z"
        }
      },
      "outputs": [],
      "source": [
        "def stats_plotter(src):\n",
        "    actions = [\"buy\", \"sell\", \"hodl\"]\n",
        "    color_map = bokeh.models.CategoricalColorMapper(\n",
        "        factors=actions, palette=(\"#00ff00\", \"#ff0000\", \"#00000000\")\n",
        "    )\n",
        "\n",
        "    fig = bokeh.plotting.figure(\n",
        "        height=400,\n",
        "        width=600,\n",
        "        title=\"20 minutes Bollinger bands with last 1 minute average\",\n",
        "        x_axis_type=\"datetime\",\n",
        "        y_range=(188.5, 191),\n",
        "    )\n",
        "    fig.line(\"t\", \"vwap\", source=src)\n",
        "    band = bokeh.models.Band(\n",
        "        base=\"t\",\n",
        "        lower=\"bollinger_lower\",\n",
        "        upper=\"bollinger_upper\",\n",
        "        source=src,\n",
        "        fill_alpha=0.3,\n",
        "        fill_color=\"gray\",\n",
        "        line_color=\"black\",\n",
        "    )\n",
        "\n",
        "    fig.scatter(\n",
        "        \"t\",\n",
        "        \"vwap\",\n",
        "        color={\"field\": \"action\", \"transform\": color_map},\n",
        "        size=10,\n",
        "        marker=\"circle\",\n",
        "        source=src,\n",
        "    )\n",
        "\n",
        "    fig.add_layout(band)\n",
        "    return fig\n",
        "\n",
        "\n",
        "viz = panel.Row(\n",
        "    joint_stats.plot(stats_plotter, sorting_col=\"t\"),\n",
        "    alerts.select(pw.this.ticker, pw.this.t, pw.this.vwap, pw.this.action).show(\n",
        "        include_id=False, sorters=[{\"field\": \"t\", \"dir\": \"desc\"}]\n",
        "    ),\n",
        ")\n",
        "viz"
      ]
    },
    {
      "cell_type": "markdown",
      "id": "ea399d1b",
      "metadata": {
        "lines_to_next_cell": 2
      },
      "source": [
        "## Running the computation\n",
        "\n",
        "Finally, we start the Pathway data processing engine. Watch how the dashboard is updated in realtime! The basic Bollinger Bands action trigger seems to be working - the green buy decision markers are frequently followed by th red sell markers at a slightly higher price.\n",
        "\n",
        "While the computation is running, `pathway` prints important statistics such as message processing latency.\n",
        "\n",
        "Successful evaluation of the code should result in the animation:\n",
        "![image](https://github.com/pathwaycom/pathway-examples/blob/c20cd69a6c9c87fc70a9082de57666c50f2ab3c2/documentation/from_jupyter_to_deploy/jupyter-demo-final-smallest-compressed.gif?raw=true)"
      ]
    },
    {
      "cell_type": "code",
      "execution_count": 8,
      "id": "639d6d00",
      "metadata": {
        "execution": {
          "iopub.execute_input": "2023-11-30T12:34:16.350981Z",
          "iopub.status.busy": "2023-11-30T12:34:16.350828Z",
          "iopub.status.idle": "2023-11-30T12:34:16.352901Z",
          "shell.execute_reply": "2023-11-30T12:34:16.352629Z"
        }
      },
      "outputs": [],
      "source": [
        "pw.run()"
      ]
    },
    {
      "cell_type": "markdown",
      "id": "ce702dac",
      "metadata": {},
      "source": [
        "# What else can you do with Pathway?\n",
        "\n",
        "* Perform machine learning in real-time. e.g. [ real-time\n",
        "Classification](https://pathway.com/developers/showcases/lsh/lsh_chapter1/) , [real-time fuzzy joins](https://pathway.com/developers/showcases/fuzzy_join/fuzzy_join_chapter2/)\n",
        "\n",
        "* Transform unstructured data to structured data using [live LLM pipelines](https://github.com/pathwaycom/llm-app)\n",
        "\n",
        "* Making [joins](https://pathway.com/developers/tutorials/fleet_eta_interval_join/) simple with timeseries data\n",
        "\n",
        "And so much more..  This list only skims the surface of what Pathway can do. Read more about what we can do in the [developer docs](https://pathway.com/developers/user-guide/welcome/).\n",
        "\n",
        "We would love to have you trying out [Pathway on GitHub ](https://github.com/pathwaycom/pathway)."
      ]
    },
    {
      "cell_type": "code",
      "execution_count": null,
      "id": "e5549d15",
      "metadata": {},
      "outputs": [],
      "source": [
        ""
      ]
    }
  ],
  "metadata": {
    "kernelspec": {
      "display_name": "Python 3 (ipykernel)",
      "language": "python",
      "name": "python3"
    },
    "language_info": {
      "codemirror_mode": {
        "name": "ipython",
        "version": 3
      },
      "file_extension": ".py",
      "mimetype": "text/x-python",
      "name": "python",
      "nbconvert_exporter": "python",
      "pygments_lexer": "ipython3",
      "version": "3.11.6"
    }
  },
  "nbformat": 4,
  "nbformat_minor": 5
}