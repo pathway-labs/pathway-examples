{
  "cells": [
    {
      "cell_type": "markdown",
      "metadata": {
        "id": "view-in-colab"
      },
      "source": [
        "<a href=\"https://colab.research.google.com/github/pathwaycom/pathway-examples/blob/main/showcases/live-data-jupyter.ipynb\" target=\"_parent\"><img src=\"https://pathway.com/assets/colab-badge.svg\" alt=\"Run In Colab\" class=\"inline\"/></a>"
      ]
    },
    {
      "cell_type": "markdown",
      "source": [
        "# Installing Pathway with Python 3.10+\n",
        "\n",
        "In the cell below, we install Pathway into a Python 3.10+ Linux runtime.\n",
        "\n",
        "> **If you are running in Google Colab, please run the colab notebook (Ctrl+F9)**, disregarding the 'not authored by Google' warning.\n",
        "> \n",
        "> **The installation and loading time is less than 1 minute**.\n"
      ],
      "metadata": {
        "id": "notebook-instructions"
      }
    },
    {
      "cell_type": "code",
      "source": [
        "%%capture --no-display\n",
        "!pip install --prefer-binary pathway"
      ],
      "metadata": {
        "id": "pip-installation-pathway",
        "cellView": "form"
      },
      "execution_count": null,
      "outputs": []
    },
    {
      "cell_type": "markdown",
      "id": "cecd2452",
      "metadata": {
        "lines_to_next_cell": 0
      },
      "source": [
        "# Working with live data streams in Jupyter\n",
        "\n",
        "<b> \ud83d\udca1 This notebook is one part of a [full-length tutorial](/developers/user-guide/exploring-pathway/from-jupyter-to-deploy/) depicting a production-grade data science scenario from data exploration to interactive dashboarding and containerized deploy.</b>\n",
        "\n",
        "## Jupyter notebooks & streaming data\n",
        "Jupyter notebooks are a great tool for working with data. They give you a friendly interactive interface in which you can process data comfortably and visualise it in intuitive, human-readable ways.\n",
        "\n",
        "Most data analysts use Jupyter notebooks with static (or \"batch\") workflows. Using Jupyter with streaming workflows can feel intimidating or have mixed results due to inadequate tooling.\n",
        "\n",
        "In this notebook you will learn how to visualise a live data stream in real-time from the familiar context of a Jupyter Notebook. You will use Pathway, [Bokeh](https://bokeh.org/) and [Panel](https://panel.holoviz.org/) to build a real-time data visualisation that will alert you when the data hits a critical threshold. You can follow along on this page or run the code for yourself [in Colab](https://colab.research.google.com/github/pathwaycom/pathway-examples/blob/main/showcases/live-data-jupyter.ipynb) or [from Github](https://github.com/pathwaycom/pathway-examples/blob/main/showcases/live-data-jupyter.ipynb).\n",
        "\n",
        "Because Pathway [unites static and stream processing](/developers/user-guide/connecting-to-data/switch-from-batch-to-streaming/#switching-from-batch-to-streaming) in a single syntax, you can use the exact same code for both batch and streaming. This way you can test your workflow with a static snapshot and then simply switch out the data source for a live stream when you want to visualise the full data flow in real-time.\n",
        "\n",
        "Let's jump in! \ud83e\ude82\n",
        "\n",
        "![image](https://github.com/pathwaycom/pathway-examples/blob/c20cd69a6c9c87fc70a9082de57666c50f2ab3c2/documentation/from_jupyter_to_deploy/jupyter-demo-final-smallest-compressed.gif?raw=true)\n",
        "\n",
        "## What we'll do\n",
        "\n",
        "In this notebook, we will take a stream of financial data and implement a simple trading algorithm using [Bollinger Bands](https://en.wikipedia.org/wiki/Bollinger_Bands). This will be a helpful example of visualizing streaming data and will also show the usefulness of getting critical alerts in real-time.\n",
        "\n",
        "You don't need to fully understand the algorithm or the financial terminology. Focus on the steps you will to take a live data stream, perform some computation on it in real-time, and output a data visualisation in your Jupyter Notebook that updates on-the-fly. These steps are generalizable to any data streaming use case.\n",
        "\n",
        "Concretely, we will compute the 1-minute running mean of Volume Weighted Average Price (`vwap`) and the 20-minute volatility, the Volume Weighted Standard Deviation (`wvstd`) on the price time series. This creates two bands around the mean price, with most price movements happening between the bands. Intuitively, when a price approaches the upper band, it is abnormally high and may likely drop - it is a good moment to _SELL_ and we'll raise an alert. Likewise, when the price approaches the lower band, it indicates it is low and may grow to revert to the mean - we'll raise an alert that it's a good moment to _BUY_. For further reliability, the BUY/SELL actions are performed only when there is a significant volume of trades, indicating that the outlying price is not a one-off event."
      ]
    },
    {
      "cell_type": "markdown",
      "id": "82284a09",
      "metadata": {},
      "source": [
        "## Imports and setup\n",
        "\n",
        "First, import the necessary libraries:\n",
        "\n",
        "- [`pathway`](/developers/user-guide/introduction/welcome/) for data processing,\n",
        "- `datetime` for date manipulation,\n",
        "- `panel` and `bokeh` for dashboarding."
      ]
    },
    {
      "cell_type": "code",
      "execution_count": 1,
      "id": "a98750e3",
      "metadata": {
        "execution": {
          "iopub.execute_input": "2024-03-21T07:41:14.448224Z",
          "iopub.status.busy": "2024-03-21T07:41:14.448005Z",
          "iopub.status.idle": "2024-03-21T07:41:19.788174Z",
          "shell.execute_reply": "2024-03-21T07:41:19.787792Z"
        }
      },
      "outputs": [],
      "source": [
        "import datetime\n",
        "\n",
        "import bokeh.models\n",
        "import bokeh.plotting\n",
        "import panel\n",
        "\n",
        "import pathway as pw"
      ]
    },
    {
      "cell_type": "markdown",
      "id": "e8d2cc05",
      "metadata": {},
      "source": [
        "And then fetch the sample data from Github. This data was generated using [polygon.io](https://polygon.io)."
      ]
    },
    {
      "cell_type": "code",
      "execution_count": 2,
      "id": "a0885c51",
      "metadata": {
        "execution": {
          "iopub.execute_input": "2024-03-21T07:41:19.790125Z",
          "iopub.status.busy": "2024-03-21T07:41:19.789743Z",
          "iopub.status.idle": "2024-03-21T07:41:19.916263Z",
          "shell.execute_reply": "2024-03-21T07:41:19.915836Z"
        }
      },
      "outputs": [],
      "source": [
        "%%capture --no-display\n",
        "!wget -nc https://gist.githubusercontent.com/janchorowski/e351af72ecd8d206a34763a428826ab7/raw/ticker.csv"
      ]
    },
    {
      "cell_type": "markdown",
      "id": "07117ba7",
      "metadata": {},
      "source": [
        "## Data source setup\n",
        "\n",
        "Create a streaming data source that replays data in a CSV file. This is an easy way to simulate a live data stream without any infrastructure hassle. You can of course use Pathway with a real, production-grade data stream, for example [from Kafka](/developers/user-guide/exploring-pathway/from-jupyter-to-deploy/#kafka-integration) or [Redpanda](/developers/user-guide/connectors/switching-to-redpanda/).\n",
        "\n",
        "The `input_rate` parameter controls how fast the data is replayed.\n",
        "\n",
        "\ud83d\udca1 No data processing actually happens when you run this cell. We are building a computational graph that will only be executed at the end of the notebook. This allows Pathway to optimise the computations and perform them as fast as possible when the data starts streaming."
      ]
    },
    {
      "cell_type": "code",
      "execution_count": 3,
      "id": "f40bfd1b",
      "metadata": {
        "execution": {
          "iopub.execute_input": "2024-03-21T07:41:19.918011Z",
          "iopub.status.busy": "2024-03-21T07:41:19.917852Z",
          "iopub.status.idle": "2024-03-21T07:41:20.060253Z",
          "shell.execute_reply": "2024-03-21T07:41:20.059890Z"
        }
      },
      "outputs": [],
      "source": [
        "fname = \"ticker.csv\"\n",
        "schema = pw.schema_from_csv(fname)\n",
        "data = pw.demo.replay_csv(fname, schema=schema, input_rate=1000)\n",
        "\n",
        "# # For static data exploration use\n",
        "# data = pw.io.csv.read(fname, schema=schema, mode=\"static\")\n",
        "\n",
        "# Parse the timestamps\n",
        "data = data.with_columns(t=data.t.dt.utc_from_timestamp(unit=\"ms\"))"
      ]
    },
    {
      "cell_type": "markdown",
      "id": "a61d0294",
      "metadata": {},
      "source": [
        "## Switching between static and stream processing\n",
        "\n",
        "As you probably noticed, the code block above also includes a commented-out section. You can use this line instead of `data = pw.demo.replay_csv(...)` to test the workflow with static data. This is the only change you need to make in your code to switch between static and stream processing. Learn more about Pathway's unified engine and single syntax in [our User Guide](/developers/user-guide/connecting-to-data/switch-from-batch-to-streaming#switching-from-batch-to-streaming).\n",
        "\n",
        "## 20-minute rolling statistics\n",
        "\n",
        "Now it's time to build your trading algorithm. There is no need to fully understand the terminology or the math here. What's most important to grasp is how you are taking a stream of data and performing a windowing transformation to get more analytical value out of the raw data.\n",
        "\n",
        "Start by creating the first of our two Bollinger Bands: the 20-minute volatility measured as the Volume Weighted Standard Deviation. Use a [`sliding window`](/developers/user-guide/temporal-data/windows-manual/#temporal-sliding-windowing) to compute at every minute the volume weighted price mean and standard deviation aggregate on the past 20 minutes of data. The `behavior` option tells Pathway that the window should emit the statistics only when it is finished - we do not want to see incomplete results.\n",
        "\n",
        "To compute the standard deviation, use the identity:\n",
        "\n",
        "$$\n",
        "\\sigma(X) = \\sqrt{\\operatorname E\\left[(X - \\operatorname E[X])^2\\right]} = \\sqrt{\\operatorname E\\left[X^2\\right] - (\\operatorname E[X])^2},\n",
        "$$\n",
        "\n",
        "which is easily expressible using [Pathway reducers](/developers/api-docs/reducers/): we first compute the total $\\mathrm{volume}$, $\\mathrm{price}$, and $\\mathrm{price}^2$. We then postprocess them to obtain the mean ($\\mathrm{vwap}$), standard deviation ($\\mathrm{vwstd}$), and Bollinger Bands places at $\\mathrm{vwap} \\pm 2\\cdot \\mathrm{vwstd}$.\n",
        "\n",
        "<b>Or in simpler terms: the code block below takes your incoming data stream and calculates important statistics in real-time. These statistics are continually updated as the data comes in so that you can identify critical moments as they happen.</b>"
      ]
    },
    {
      "cell_type": "code",
      "execution_count": 4,
      "id": "2de6b100",
      "metadata": {
        "execution": {
          "iopub.execute_input": "2024-03-21T07:41:20.061666Z",
          "iopub.status.busy": "2024-03-21T07:41:20.061521Z",
          "iopub.status.idle": "2024-03-21T07:41:20.318289Z",
          "shell.execute_reply": "2024-03-21T07:41:20.317939Z"
        }
      },
      "outputs": [],
      "source": [
        "minute_20_stats = (\n",
        "    data.windowby(\n",
        "        pw.this.t,\n",
        "        window=pw.temporal.sliding(\n",
        "            hop=datetime.timedelta(minutes=1), duration=datetime.timedelta(minutes=20)\n",
        "        ),\n",
        "        behavior=pw.temporal.exactly_once_behavior(),\n",
        "        instance=pw.this.ticker,\n",
        "    )\n",
        "    .reduce(\n",
        "        ticker=pw.this._pw_instance,\n",
        "        t=pw.this._pw_window_end,\n",
        "        volume=pw.reducers.sum(pw.this.volume),\n",
        "        transact_total=pw.reducers.sum(pw.this.volume * pw.this.vwap),\n",
        "        transact_total2=pw.reducers.sum(pw.this.volume * pw.this.vwap**2),\n",
        "    )\n",
        "    .with_columns(vwap=pw.this.transact_total / pw.this.volume)\n",
        "    .with_columns(\n",
        "        vwstd=(pw.this.transact_total2 / pw.this.volume - pw.this.vwap**2) ** 0.5\n",
        "    )\n",
        "    .with_columns(\n",
        "        bollinger_upper=pw.this.vwap + 2 * pw.this.vwstd,\n",
        "        bollinger_lower=pw.this.vwap - 2 * pw.this.vwstd,\n",
        "    )\n",
        ")"
      ]
    },
    {
      "cell_type": "markdown",
      "id": "727fbbf7",
      "metadata": {},
      "source": [
        "## 1-minute rolling statistics\n",
        "\n",
        "Now it's time to compute the second Bollinger Bands: the 1-minute running mean. You will need to compute the mean price over the last minute of trades.\n",
        "\n",
        "The code is analogous to the 20-minute statistics but simpler: you can use a [`tumbling window`](/glossary/tumbling-window) and don't have to compute the standard deviation."
      ]
    },
    {
      "cell_type": "code",
      "execution_count": 5,
      "id": "bcd906b3",
      "metadata": {
        "execution": {
          "iopub.execute_input": "2024-03-21T07:41:20.319792Z",
          "iopub.status.busy": "2024-03-21T07:41:20.319673Z",
          "iopub.status.idle": "2024-03-21T07:41:20.513494Z",
          "shell.execute_reply": "2024-03-21T07:41:20.513183Z"
        }
      },
      "outputs": [],
      "source": [
        "minute_1_stats = (\n",
        "    data.windowby(\n",
        "        pw.this.t,\n",
        "        window=pw.temporal.tumbling(datetime.timedelta(minutes=1)),\n",
        "        behavior=pw.temporal.exactly_once_behavior(),\n",
        "        instance=pw.this.ticker,\n",
        "    )\n",
        "    .reduce(\n",
        "        ticker=pw.this._pw_instance,\n",
        "        t=pw.this._pw_window_end,\n",
        "        volume=pw.reducers.sum(pw.this.volume),\n",
        "        transact_total=pw.reducers.sum(pw.this.volume * pw.this.vwap),\n",
        "    )\n",
        "    .with_columns(vwap=pw.this.transact_total / pw.this.volume)\n",
        ")"
      ]
    },
    {
      "cell_type": "markdown",
      "id": "26f4f98b",
      "metadata": {},
      "source": [
        "## Joining the statistics\n",
        "\n",
        "Now join the 20-minute and 1-minute statistics, gathering all the information needed for alerting in one place. Alert triggering is now a breeze."
      ]
    },
    {
      "cell_type": "code",
      "execution_count": 6,
      "id": "90fb956f",
      "metadata": {
        "execution": {
          "iopub.execute_input": "2024-03-21T07:41:20.515130Z",
          "iopub.status.busy": "2024-03-21T07:41:20.514987Z",
          "iopub.status.idle": "2024-03-21T07:41:20.736664Z",
          "shell.execute_reply": "2024-03-21T07:41:20.736300Z"
        },
        "lines_to_next_cell": 2
      },
      "outputs": [],
      "source": [
        "joint_stats = (\n",
        "    minute_1_stats.join(\n",
        "        minute_20_stats, pw.left.t == pw.right.t, pw.left.ticker == pw.right.ticker\n",
        "    )\n",
        "    .select(\n",
        "        *pw.left,\n",
        "        bollinger_lower=pw.right.bollinger_lower,\n",
        "        bollinger_upper=pw.right.bollinger_upper,\n",
        "    )\n",
        "    .with_columns(\n",
        "        is_alert=(pw.this.volume > 10000)\n",
        "        & (\n",
        "            (pw.this.vwap > pw.this.bollinger_upper)\n",
        "            | (pw.this.vwap < pw.this.bollinger_lower)\n",
        "        )\n",
        "    )\n",
        "    .with_columns(\n",
        "        action=pw.if_else(\n",
        "            pw.this.is_alert,\n",
        "            pw.if_else(pw.this.vwap > pw.this.bollinger_upper, \"sell\", \"buy\"),\n",
        "            \"hodl\",\n",
        "        )\n",
        "    )\n",
        ")\n",
        "alerts = joint_stats.filter(pw.this.is_alert)"
      ]
    },
    {
      "cell_type": "markdown",
      "id": "ddd7a547",
      "metadata": {
        "lines_to_next_cell": 2
      },
      "source": [
        "## Dashboard creation\n",
        "\n",
        "Now create a `Bokeh` plot and `Panel` table visualization: the plot shows the Bollinger Bands along with the price running mean and indicates the price of buy and sell decisions. The table gathers all the decisions conveniently for further processing, such as reducing it to compute a historical evaluation of the gains of the strategy.\n",
        "\n",
        "When the cell is executed, placeholder containers are created for the plot and table visualization. They will be populated with live data when the computation is started (i.e. when running the final `pw.run()` at the end of this notebook)."
      ]
    },
    {
      "cell_type": "code",
      "execution_count": 7,
      "id": "66c86154",
      "metadata": {
        "execution": {
          "iopub.execute_input": "2024-03-21T07:41:20.738166Z",
          "iopub.status.busy": "2024-03-21T07:41:20.738048Z",
          "iopub.status.idle": "2024-03-21T07:41:21.094483Z",
          "shell.execute_reply": "2024-03-21T07:41:21.094123Z"
        }
      },
      "outputs": [],
      "source": [
        "def stats_plotter(src):\n",
        "    actions = [\"buy\", \"sell\", \"hodl\"]\n",
        "    color_map = bokeh.models.CategoricalColorMapper(\n",
        "        factors=actions, palette=(\"#00ff00\", \"#ff0000\", \"#00000000\")\n",
        "    )\n",
        "\n",
        "    fig = bokeh.plotting.figure(\n",
        "        height=400,\n",
        "        width=600,\n",
        "        title=\"20 minutes Bollinger bands with last 1 minute average\",\n",
        "        x_axis_type=\"datetime\",\n",
        "        y_range=(188.5, 191),\n",
        "    )\n",
        "    fig.line(\"t\", \"vwap\", source=src)\n",
        "    band = bokeh.models.Band(\n",
        "        base=\"t\",\n",
        "        lower=\"bollinger_lower\",\n",
        "        upper=\"bollinger_upper\",\n",
        "        source=src,\n",
        "        fill_alpha=0.3,\n",
        "        fill_color=\"gray\",\n",
        "        line_color=\"black\",\n",
        "    )\n",
        "\n",
        "    fig.scatter(\n",
        "        \"t\",\n",
        "        \"vwap\",\n",
        "        color={\"field\": \"action\", \"transform\": color_map},\n",
        "        size=10,\n",
        "        marker=\"circle\",\n",
        "        source=src,\n",
        "    )\n",
        "\n",
        "    fig.add_layout(band)\n",
        "    return fig\n",
        "\n",
        "\n",
        "viz = panel.Row(\n",
        "    joint_stats.plot(stats_plotter, sorting_col=\"t\"),\n",
        "    alerts.select(pw.this.ticker, pw.this.t, pw.this.vwap, pw.this.action).show(\n",
        "        include_id=False, sorters=[{\"field\": \"t\", \"dir\": \"desc\"}]\n",
        "    ),\n",
        ")\n",
        "viz"
      ]
    },
    {
      "cell_type": "markdown",
      "id": "9bfc6ab4",
      "metadata": {
        "lines_to_next_cell": 0
      },
      "source": [
        "## Running the computation\n",
        "\n",
        "All the hard work is done! The final step is to start the Pathway data processing engine using the `pw.run()` command:\n"
      ]
    },
    {
      "cell_type": "code",
      "execution_count": 8,
      "id": "cb35d4ba",
      "metadata": {
        "execution": {
          "iopub.execute_input": "2024-03-21T07:41:21.095874Z",
          "iopub.status.busy": "2024-03-21T07:41:21.095726Z",
          "iopub.status.idle": "2024-03-21T07:41:42.039031Z",
          "shell.execute_reply": "2024-03-21T07:41:42.038775Z"
        },
        "lines_to_next_cell": 0
      },
      "outputs": [
        {
          "data": {
            "application/vnd.jupyter.widget-view+json": {
              "model_id": "61a19303840e4c13a152e8697e2d7f85",
              "version_major": 2,
              "version_minor": 0
            },
            "text/plain": [
              "Output()"
            ]
          },
          "metadata": {},
          "output_type": "display_data"
        },
        {
          "data": {
            "text/html": [
              "<pre style=\"white-space:pre;overflow-x:auto;line-height:normal;font-family:Menlo,'DejaVu Sans Mono',consolas,'Courier New',monospace\"></pre>\n"
            ],
            "text/plain": []
          },
          "metadata": {},
          "output_type": "display_data"
        }
      ],
      "source": [
        "%%capture --no-display\n",
        "pw.run()"
      ]
    },
    {
      "cell_type": "markdown",
      "id": "da69bd32",
      "metadata": {},
      "source": [
        "Watch how the dashboard is updated in realtime! The basic Bollinger Bands action trigger seems to be working - the green buy decision markers are frequently followed by the red sell markers at a slightly higher price.\n",
        "\n",
        "While the computation is running, `pathway` prints important statistics such as message processing latency.\n",
        "\n",
        "Successful evaluation of the code should result in the animation:\n",
        "![image](https://github.com/pathwaycom/pathway-examples/blob/c20cd69a6c9c87fc70a9082de57666c50f2ab3c2/documentation/from_jupyter_to_deploy/jupyter-demo-final-smallest-compressed.gif?raw=true)"
      ]
    },
    {
      "cell_type": "code",
      "execution_count": 9,
      "id": "b6b84112",
      "metadata": {
        "execution": {
          "iopub.execute_input": "2024-03-21T07:41:42.106570Z",
          "iopub.status.busy": "2024-03-21T07:41:42.106486Z",
          "iopub.status.idle": "2024-03-21T07:41:42.107899Z",
          "shell.execute_reply": "2024-03-21T07:41:42.107708Z"
        }
      },
      "outputs": [],
      "source": [
        "# Due to the bug described in https://github.com/jupyter/notebook/issues/1622\n",
        "# Please execute `pw.run()` manually, after the widget above is initialized and visible.\n",
        "\n",
        "# pw.run()"
      ]
    },
    {
      "cell_type": "markdown",
      "id": "712d7679",
      "metadata": {},
      "source": [
        "## Jupyter Notebooks & Streaming Data in Production\n",
        "\n",
        "Congratulations! You have succesfully built a live data streaming pipeline with useful data visualisations and real-time alerts, right from a Jupyter notebook \ud83d\ude04\n",
        "\n",
        "This is just a taste of what is possible. If you're interested in diving deeper and building a production-grade data science pipeline all the way from data exploration to deployment, you may want to check out the full-length [From Jupyter to Deploy](/developers/user-guide/exploring-pathway/from-jupyter-to-deploy/) tutorial.\n",
        "\n",
        "## What else can you do with Pathway?\n",
        "\n",
        "* Perform machine learning in real time. e.g. [ real-time\n",
        "Classification](/developers/showcases/lsh/lsh_chapter1/) , [real-time fuzzy joins](/developers/showcases/fuzzy_join/fuzzy_join_chapter2/)\n",
        "\n",
        "* Transform unstructured data to structured data using [live LLM pipelines](https://github.com/pathwaycom/llm-app)\n",
        "\n",
        "* Making [joins](/developers/user-guide/temporal-data/interval-join) simple with timeseries data\n",
        "\n",
        "And so much more... Read more about what we can do in the [developer docs](/developers/user-guide/introduction/welcome/).\n",
        "\n",
        "We would love to have you try out [Pathway on GitHub](https://github.com/pathwaycom/pathway)."
      ]
    }
  ],
  "metadata": {
    "kernelspec": {
      "display_name": "Python 3 (ipykernel)",
      "language": "python",
      "name": "python3"
    },
    "language_info": {
      "codemirror_mode": {
        "name": "ipython",
        "version": 3
      },
      "file_extension": ".py",
      "mimetype": "text/x-python",
      "name": "python",
      "nbconvert_exporter": "python",
      "pygments_lexer": "ipython3",
      "version": "3.11.8"
    },
    "widgets": {
      "application/vnd.jupyter.widget-state+json": {
        "state": {
          "062df466dcde41dab936517436e48d70": {
            "model_module": "@jupyter-widgets/base",
            "model_module_version": "2.0.0",
            "model_name": "LayoutModel",
            "state": {
              "_model_module": "@jupyter-widgets/base",
              "_model_module_version": "2.0.0",
              "_model_name": "LayoutModel",
              "_view_count": null,
              "_view_module": "@jupyter-widgets/base",
              "_view_module_version": "2.0.0",
              "_view_name": "LayoutView",
              "align_content": null,
              "align_items": null,
              "align_self": null,
              "border_bottom": null,
              "border_left": null,
              "border_right": null,
              "border_top": null,
              "bottom": null,
              "display": null,
              "flex": null,
              "flex_flow": null,
              "grid_area": null,
              "grid_auto_columns": null,
              "grid_auto_flow": null,
              "grid_auto_rows": null,
              "grid_column": null,
              "grid_gap": null,
              "grid_row": null,
              "grid_template_areas": null,
              "grid_template_columns": null,
              "grid_template_rows": null,
              "height": null,
              "justify_content": null,
              "justify_items": null,
              "left": null,
              "margin": null,
              "max_height": null,
              "max_width": null,
              "min_height": null,
              "min_width": null,
              "object_fit": null,
              "object_position": null,
              "order": null,
              "overflow": null,
              "padding": null,
              "right": null,
              "top": null,
              "visibility": null,
              "width": null
            }
          },
          "61a19303840e4c13a152e8697e2d7f85": {
            "model_module": "@jupyter-widgets/output",
            "model_module_version": "1.0.0",
            "model_name": "OutputModel",
            "state": {
              "_dom_classes": [],
              "_model_module": "@jupyter-widgets/output",
              "_model_module_version": "1.0.0",
              "_model_name": "OutputModel",
              "_view_count": null,
              "_view_module": "@jupyter-widgets/output",
              "_view_module_version": "1.0.0",
              "_view_name": "OutputView",
              "layout": "IPY_MODEL_062df466dcde41dab936517436e48d70",
              "msg_id": "",
              "outputs": [
                {
                  "data": {
                    "text/html": "<pre style=\"white-space:pre;overflow-x:auto;line-height:normal;font-family:Menlo,'DejaVu Sans Mono',consolas,'Courier New',monospace\">                                            PATHWAY PROGRESS DASHBOARD                                             \n                                                                                                                   \n   <span style=\"font-weight: bold\">             </span> <span style=\"font-weight: bold\">        no. </span> <span style=\"font-weight: bold\">             </span> <span style=\"font-weight: bold\">            </span>  <span style=\"font-weight: bold\">          </span> <span style=\"font-weight: bold\"> latency to wall clock </span> <span style=\"font-weight: bold\">                   </span>   \n   <span style=\"font-weight: bold\">             </span> <span style=\"font-weight: bold\">   messages </span> <span style=\"font-weight: bold\">             </span> <span style=\"font-weight: bold\">            </span>  <span style=\"font-weight: bold\"> operator </span> <span style=\"font-weight: bold\">                  [ms] </span> <span style=\"font-weight: bold\"> lag to input [ms] </span>   \n   <span style=\"font-weight: bold\">             </span> <span style=\"font-weight: bold\">     in the </span> <span style=\"font-weight: bold\">             </span> <span style=\"font-weight: bold\">            </span>  \u2500\u2500\u2500\u2500\u2500\u2500\u2500\u2500\u2500\u2500\u2500\u2500\u2500\u2500\u2500\u2500\u2500\u2500\u2500\u2500\u2500\u2500\u2500\u2500\u2500\u2500\u2500\u2500\u2500\u2500\u2500\u2500\u2500\u2500\u2500\u2500\u2500\u2500\u2500\u2500\u2500\u2500\u2500\u2500\u2500\u2500\u2500\u2500\u2500\u2500\u2500\u2500\u2500\u2500   \n   <span style=\"font-weight: bold\">             </span> <span style=\"font-weight: bold\">       last </span> <span style=\"font-weight: bold\"> in the last </span> <span style=\"font-weight: bold\">      since </span>   input                          7                        \n   <span style=\"font-weight: bold\"> connector   </span> <span style=\"font-weight: bold\">  minibatch </span> <span style=\"font-weight: bold\">      minute </span> <span style=\"font-weight: bold\">      start </span>   output                        92                  85    \n   \u2500\u2500\u2500\u2500\u2500\u2500\u2500\u2500\u2500\u2500\u2500\u2500\u2500\u2500\u2500\u2500\u2500\u2500\u2500\u2500\u2500\u2500\u2500\u2500\u2500\u2500\u2500\u2500\u2500\u2500\u2500\u2500\u2500\u2500\u2500\u2500\u2500\u2500\u2500\u2500\u2500\u2500\u2500\u2500\u2500\u2500\u2500\u2500\u2500\u2500\u2500\u2500\u2500                                                           \n    PythonRead\u2026            4         18157        18157  <span style=\"color: #7f7f7f; text-decoration-color: #7f7f7f; font-style: italic\">   Above you can see the latency of input and output    </span>  \n                                                         <span style=\"color: #7f7f7f; text-decoration-color: #7f7f7f; font-style: italic\">  operators. The latency is measured as the difference  </span>  \n                                                         <span style=\"color: #7f7f7f; text-decoration-color: #7f7f7f; font-style: italic\"> between the time when the operator processed the data  </span>  \n                                                         <span style=\"color: #7f7f7f; text-decoration-color: #7f7f7f; font-style: italic\">      and the time when pathway acquired the data.      </span>  \n                                                                                                                   \n                                                                                                                   \n                                                                                                                   \n                                                                                                                   \n                                                                                                                   \n                                                                                                                   \n                                                                                                                   \n                                                                                                                   \n                                                                                                                   \n                                                                                                                   \n                                                                                                                   \n                                                                                                                   \n                                                                                                                   \n                                                                                                                   \n                                                                                                                   \n                                                                                                                   \n                                                                                                                   \n                                                                                                                   \n                                                                                                                   \n                                                                                                                   \n                                                                                                                   \n                                                                                                                   \n                                                                                                                   \n                                                                                                                   \n                                                                                                                   \n                                                                                                                   \n                                                                                                                   \n                                                                                                                   \n                                                                                                                   \n                                                                                                                   \n                                                                                                                   \n                                                                                                                   \n                                                                                                                   \n                                                                                                                   \n                                                                                                                   \n                                                                                                                   \n                                                                                                                   \n                                                                                                                   \n                                                       LOGS                                                        \n  <span style=\"color: #7fbfbf; text-decoration-color: #7fbfbf\">[03/21/24 08:41:21] </span><span style=\"color: #000080; text-decoration-color: #000080\">INFO    </span> Preparing Pathway computation                                                       \n  <span style=\"color: #7fbfbf; text-decoration-color: #7fbfbf\">                    </span><span style=\"color: #000080; text-decoration-color: #000080\">INFO    </span> PythonReader-<span style=\"color: #008080; text-decoration-color: #008080; font-weight: bold\">0</span>: <span style=\"color: #008080; text-decoration-color: #008080; font-weight: bold\">0</span> entries <span style=\"font-weight: bold\">(</span><span style=\"color: #008080; text-decoration-color: #008080; font-weight: bold\">1</span> <span style=\"color: #800080; text-decoration-color: #800080; font-weight: bold\">minibatch</span><span style=\"font-weight: bold\">(</span>es<span style=\"font-weight: bold\">))</span> have been sent to the engine            \n  <span style=\"color: #7fbfbf; text-decoration-color: #7fbfbf\">[03/21/24 08:41:26] </span><span style=\"color: #000080; text-decoration-color: #000080\">INFO    </span> PythonReader-<span style=\"color: #008080; text-decoration-color: #008080; font-weight: bold\">0</span>: <span style=\"color: #008080; text-decoration-color: #008080; font-weight: bold\">4482</span> entries <span style=\"font-weight: bold\">(</span><span style=\"color: #008080; text-decoration-color: #008080; font-weight: bold\">5027</span> <span style=\"color: #800080; text-decoration-color: #800080; font-weight: bold\">minibatch</span><span style=\"font-weight: bold\">(</span>es<span style=\"font-weight: bold\">))</span> have been sent to the engine      \n  <span style=\"color: #7fbfbf; text-decoration-color: #7fbfbf\">[03/21/24 08:41:31] </span><span style=\"color: #000080; text-decoration-color: #000080\">INFO    </span> PythonReader-<span style=\"color: #008080; text-decoration-color: #008080; font-weight: bold\">0</span>: <span style=\"color: #008080; text-decoration-color: #008080; font-weight: bold\">4442</span> entries <span style=\"font-weight: bold\">(</span><span style=\"color: #008080; text-decoration-color: #008080; font-weight: bold\">5000</span> <span style=\"color: #800080; text-decoration-color: #800080; font-weight: bold\">minibatch</span><span style=\"font-weight: bold\">(</span>es<span style=\"font-weight: bold\">))</span> have been sent to the engine      \n  <span style=\"color: #7fbfbf; text-decoration-color: #7fbfbf\">[03/21/24 08:41:36] </span><span style=\"color: #000080; text-decoration-color: #000080\">INFO    </span> PythonReader-<span style=\"color: #008080; text-decoration-color: #008080; font-weight: bold\">0</span>: <span style=\"color: #008080; text-decoration-color: #008080; font-weight: bold\">4448</span> entries <span style=\"font-weight: bold\">(</span><span style=\"color: #008080; text-decoration-color: #008080; font-weight: bold\">5001</span> <span style=\"color: #800080; text-decoration-color: #800080; font-weight: bold\">minibatch</span><span style=\"font-weight: bold\">(</span>es<span style=\"font-weight: bold\">))</span> have been sent to the engine      \n  <span style=\"color: #7fbfbf; text-decoration-color: #7fbfbf\">[03/21/24 08:41:41] </span><span style=\"color: #000080; text-decoration-color: #000080\">INFO    </span> PythonReader-<span style=\"color: #008080; text-decoration-color: #008080; font-weight: bold\">0</span>: <span style=\"color: #008080; text-decoration-color: #008080; font-weight: bold\">4428</span> entries <span style=\"font-weight: bold\">(</span><span style=\"color: #008080; text-decoration-color: #008080; font-weight: bold\">5000</span> <span style=\"color: #800080; text-decoration-color: #800080; font-weight: bold\">minibatch</span><span style=\"font-weight: bold\">(</span>es<span style=\"font-weight: bold\">))</span> have been sent to the engine      \n                                                                                                                   \n                                                                                                                   \n                                                                                                                   \n                                                                                                                   \n                                                                                                                   \n                                                                                                                   \n                                                                                                                   \n                                                                                                                   \n                                                                                                                   \n                                                                                                                   \n                                                                                                                   \n                                                                                                                   \n                                                                                                                   \n                                                                                                                   \n                                                                                                                   \n                                                                                                                   \n                                                                                                                   \n                                                                                                                   \n                                                                                                                   \n                                                                                                                   \n                                                                                                                   \n                                                                                                                   \n                                                                                                                   \n                                                                                                                   \n                                                                                                                   \n                                                                                                                   \n                                                                                                                   \n                                                                                                                   \n                                                                                                                   \n                                                                                                                   \n                                                                                                                   \n                                                                                                                   \n                                                                                                                   \n                                                                                                                   \n                                                                                                                   \n                                                                                                                   \n                                                                                                                   \n                                                                                                                   \n                                                                                                                   \n                                                                                                                   \n                                                                                                                   \n                                                                                                                   \n                                                                                                                   \n</pre>\n",
                    "text/plain": "                                            PATHWAY PROGRESS DASHBOARD                                             \n                                                                                                                   \n   \u001b[1m             \u001b[0m \u001b[1m \u001b[0m\u001b[1m       no.\u001b[0m\u001b[1m \u001b[0m \u001b[1m             \u001b[0m \u001b[1m            \u001b[0m  \u001b[1m          \u001b[0m \u001b[1m \u001b[0m\u001b[1mlatency to wall clock\u001b[0m\u001b[1m \u001b[0m \u001b[1m                   \u001b[0m   \n   \u001b[1m             \u001b[0m \u001b[1m \u001b[0m\u001b[1m  messages\u001b[0m\u001b[1m \u001b[0m \u001b[1m             \u001b[0m \u001b[1m            \u001b[0m  \u001b[1m \u001b[0m\u001b[1moperator\u001b[0m\u001b[1m \u001b[0m \u001b[1m \u001b[0m\u001b[1m                 [ms]\u001b[0m\u001b[1m \u001b[0m \u001b[1m \u001b[0m\u001b[1mlag to input [ms]\u001b[0m\u001b[1m \u001b[0m   \n   \u001b[1m             \u001b[0m \u001b[1m \u001b[0m\u001b[1m    in the\u001b[0m\u001b[1m \u001b[0m \u001b[1m             \u001b[0m \u001b[1m            \u001b[0m  \u2500\u2500\u2500\u2500\u2500\u2500\u2500\u2500\u2500\u2500\u2500\u2500\u2500\u2500\u2500\u2500\u2500\u2500\u2500\u2500\u2500\u2500\u2500\u2500\u2500\u2500\u2500\u2500\u2500\u2500\u2500\u2500\u2500\u2500\u2500\u2500\u2500\u2500\u2500\u2500\u2500\u2500\u2500\u2500\u2500\u2500\u2500\u2500\u2500\u2500\u2500\u2500\u2500\u2500   \n   \u001b[1m             \u001b[0m \u001b[1m \u001b[0m\u001b[1m      last\u001b[0m\u001b[1m \u001b[0m \u001b[1m \u001b[0m\u001b[1min the last\u001b[0m\u001b[1m \u001b[0m \u001b[1m \u001b[0m\u001b[1m     since\u001b[0m\u001b[1m \u001b[0m   input                          7                        \n   \u001b[1m \u001b[0m\u001b[1mconnector  \u001b[0m\u001b[1m \u001b[0m \u001b[1m \u001b[0m\u001b[1m minibatch\u001b[0m\u001b[1m \u001b[0m \u001b[1m \u001b[0m\u001b[1m     minute\u001b[0m\u001b[1m \u001b[0m \u001b[1m \u001b[0m\u001b[1m     start\u001b[0m\u001b[1m \u001b[0m   output                        92                  85    \n   \u2500\u2500\u2500\u2500\u2500\u2500\u2500\u2500\u2500\u2500\u2500\u2500\u2500\u2500\u2500\u2500\u2500\u2500\u2500\u2500\u2500\u2500\u2500\u2500\u2500\u2500\u2500\u2500\u2500\u2500\u2500\u2500\u2500\u2500\u2500\u2500\u2500\u2500\u2500\u2500\u2500\u2500\u2500\u2500\u2500\u2500\u2500\u2500\u2500\u2500\u2500\u2500\u2500                                                           \n    PythonRead\u2026            4         18157        18157  \u001b[2;3m   Above you can see the latency of input and output    \u001b[0m  \n                                                         \u001b[2;3m  operators. The latency is measured as the difference  \u001b[0m  \n                                                         \u001b[2;3m between the time when the operator processed the data  \u001b[0m  \n                                                         \u001b[2;3m      and the time when pathway acquired the data.      \u001b[0m  \n                                                                                                                   \n                                                                                                                   \n                                                                                                                   \n                                                                                                                   \n                                                                                                                   \n                                                                                                                   \n                                                                                                                   \n                                                                                                                   \n                                                                                                                   \n                                                                                                                   \n                                                                                                                   \n                                                                                                                   \n                                                                                                                   \n                                                                                                                   \n                                                                                                                   \n                                                                                                                   \n                                                                                                                   \n                                                                                                                   \n                                                                                                                   \n                                                                                                                   \n                                                                                                                   \n                                                                                                                   \n                                                                                                                   \n                                                                                                                   \n                                                                                                                   \n                                                                                                                   \n                                                                                                                   \n                                                                                                                   \n                                                                                                                   \n                                                                                                                   \n                                                                                                                   \n                                                                                                                   \n                                                                                                                   \n                                                                                                                   \n                                                                                                                   \n                                                                                                                   \n                                                                                                                   \n                                                                                                                   \n                                                       LOGS                                                        \n  \u001b[2;36m[03/21/24 08:41:21]\u001b[0m\u001b[2;36m \u001b[0m\u001b[34mINFO    \u001b[0m Preparing Pathway computation                                                       \n  \u001b[2;36m                   \u001b[0m\u001b[2;36m \u001b[0m\u001b[34mINFO    \u001b[0m PythonReader-\u001b[1;36m0\u001b[0m: \u001b[1;36m0\u001b[0m entries \u001b[1m(\u001b[0m\u001b[1;36m1\u001b[0m \u001b[1;35mminibatch\u001b[0m\u001b[1m(\u001b[0mes\u001b[1m)\u001b[0m\u001b[1m)\u001b[0m have been sent to the engine            \n  \u001b[2;36m[03/21/24 08:41:26]\u001b[0m\u001b[2;36m \u001b[0m\u001b[34mINFO    \u001b[0m PythonReader-\u001b[1;36m0\u001b[0m: \u001b[1;36m4482\u001b[0m entries \u001b[1m(\u001b[0m\u001b[1;36m5027\u001b[0m \u001b[1;35mminibatch\u001b[0m\u001b[1m(\u001b[0mes\u001b[1m)\u001b[0m\u001b[1m)\u001b[0m have been sent to the engine      \n  \u001b[2;36m[03/21/24 08:41:31]\u001b[0m\u001b[2;36m \u001b[0m\u001b[34mINFO    \u001b[0m PythonReader-\u001b[1;36m0\u001b[0m: \u001b[1;36m4442\u001b[0m entries \u001b[1m(\u001b[0m\u001b[1;36m5000\u001b[0m \u001b[1;35mminibatch\u001b[0m\u001b[1m(\u001b[0mes\u001b[1m)\u001b[0m\u001b[1m)\u001b[0m have been sent to the engine      \n  \u001b[2;36m[03/21/24 08:41:36]\u001b[0m\u001b[2;36m \u001b[0m\u001b[34mINFO    \u001b[0m PythonReader-\u001b[1;36m0\u001b[0m: \u001b[1;36m4448\u001b[0m entries \u001b[1m(\u001b[0m\u001b[1;36m5001\u001b[0m \u001b[1;35mminibatch\u001b[0m\u001b[1m(\u001b[0mes\u001b[1m)\u001b[0m\u001b[1m)\u001b[0m have been sent to the engine      \n  \u001b[2;36m[03/21/24 08:41:41]\u001b[0m\u001b[2;36m \u001b[0m\u001b[34mINFO    \u001b[0m PythonReader-\u001b[1;36m0\u001b[0m: \u001b[1;36m4428\u001b[0m entries \u001b[1m(\u001b[0m\u001b[1;36m5000\u001b[0m \u001b[1;35mminibatch\u001b[0m\u001b[1m(\u001b[0mes\u001b[1m)\u001b[0m\u001b[1m)\u001b[0m have been sent to the engine      \n                                                                                                                   \n                                                                                                                   \n                                                                                                                   \n                                                                                                                   \n                                                                                                                   \n                                                                                                                   \n                                                                                                                   \n                                                                                                                   \n                                                                                                                   \n                                                                                                                   \n                                                                                                                   \n                                                                                                                   \n                                                                                                                   \n                                                                                                                   \n                                                                                                                   \n                                                                                                                   \n                                                                                                                   \n                                                                                                                   \n                                                                                                                   \n                                                                                                                   \n                                                                                                                   \n                                                                                                                   \n                                                                                                                   \n                                                                                                                   \n                                                                                                                   \n                                                                                                                   \n                                                                                                                   \n                                                                                                                   \n                                                                                                                   \n                                                                                                                   \n                                                                                                                   \n                                                                                                                   \n                                                                                                                   \n                                                                                                                   \n                                                                                                                   \n                                                                                                                   \n                                                                                                                   \n                                                                                                                   \n                                                                                                                   \n                                                                                                                   \n                                                                                                                   \n                                                                                                                   \n                                                                                                                   \n"
                  },
                  "metadata": {},
                  "output_type": "display_data"
                }
              ],
              "tabbable": null,
              "tooltip": null
            }
          }
        },
        "version_major": 2,
        "version_minor": 0
      }
    }
  },
  "nbformat": 4,
  "nbformat_minor": 5
}