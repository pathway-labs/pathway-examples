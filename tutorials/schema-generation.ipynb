{
  "cells": [
    {
      "cell_type": "markdown",
      "metadata": {
        "id": "view-in-colab"
      },
      "source": [
        "<a href=\"https://colab.research.google.com/github/pathwaycom/pathway-examples/blob/main/tutorials/schema-generation.ipynb\" target=\"_parent\"><img src=\"https://pathway.com/assets/colab-badge.svg\" alt=\"Run In Colab\" class=\"inline\"/></a>"
      ]
    },
    {
      "cell_type": "markdown",
      "source": [
        "# Installing Pathway with Python 3.10+\n",
        "\n",
        "In the cell below, we install Pathway into a Python 3.10+ Linux runtime.\n",
        "\n",
        "> **If you are running in Google Colab, please run the colab notebook (Ctrl+F9)**, disregarding the 'not authored by Google' warning.\n",
        "> \n",
        "> **The installation and loading time is less than 1 minute**.\n"
      ],
      "metadata": {
        "id": "notebook-instructions"
      }
    },
    {
      "cell_type": "code",
      "source": [
        "%%capture --no-display\n",
        "!pip install pathway"
      ],
      "metadata": {
        "id": "pip-installation-pathway",
        "cellView": "form"
      },
      "execution_count": null,
      "outputs": []
    },
    {
      "cell_type": "markdown",
      "id": "c8f2a993",
      "metadata": {
        "lines_to_next_cell": 2
      },
      "source": [
        "# Automatic Generation of Schema in Pathway\n",
        "\n",
        "In this article, you will learn how to easily generate Schemas, which are used to define the\n",
        "structure of a Pathway Table."
      ]
    },
    {
      "cell_type": "markdown",
      "id": "535c3d2b",
      "metadata": {},
      "source": [
        "In Pathway, Schemas are used to define the structure of a Table, that is, names and types\n",
        "of columns. To learn the basics of Schemas in Pathway, and how you can create them by writing\n",
        "a class definition in Python, read our [user guide](/developers/user-guide/introduction/types/).\n",
        "In this tutorial, you will learn alternative ways to create Schemas, either by providing a dictionary of column definitions or sample input data in CSV format."
      ]
    },
    {
      "cell_type": "markdown",
      "id": "7c8cf8d3",
      "metadata": {},
      "source": [
        "To run the examples in this tutorial, you can download the needed files by uncommenting and executing the following code:"
      ]
    },
    {
      "cell_type": "code",
      "execution_count": 1,
      "id": "bdcfb378",
      "metadata": {
        "execution": {
          "iopub.execute_input": "2023-11-09T13:26:27.952105Z",
          "iopub.status.busy": "2023-11-09T13:26:27.951991Z",
          "iopub.status.idle": "2023-11-09T13:26:27.956423Z",
          "shell.execute_reply": "2023-11-09T13:26:27.956154Z"
        },
        "lines_to_next_cell": 2
      },
      "outputs": [],
      "source": [
        "%%capture --no-display\n",
        "# !wget https://public-pathway-releases.s3.eu-central-1.amazonaws.com/data/schema-generation-sample-data.csv -O data.csv\n",
        "# !wget https://public-pathway-releases.s3.eu-central-1.amazonaws.com/data/schema-generation-schema.json -O schema.json"
      ]
    },
    {
      "cell_type": "markdown",
      "id": "548490d6",
      "metadata": {},
      "source": [
        "## Schema generation from JSON\n",
        "\n",
        "In Pathway, you can build a Schema from a dictionary using the\n",
        "[schema_builder function](/developers/user-guide/introduction/types/#schema-as-a-dictionary), described in our user guide.\n",
        "The values in the dictionary given as an input to `pw.schema_builder`, however, are instances of `pw.column_definition`, which has some limitations, e.g. they can't be easily serialized in a JSON file. For this purpose, in Pathway there is a `pw.schema_from_dict` function, which takes\n",
        "as an input a dictionary whose keys are names of the columns, and values are either:\n",
        "- type of a column\n",
        "- a dictionary with keys \"dtype\", \"primary_key\", \"default_value\", which define respectively the type of the column, whether it is a primary key of the Table, and what is its default value."
      ]
    },
    {
      "cell_type": "markdown",
      "id": "06889eda",
      "metadata": {},
      "source": [
        "To see a working example of `pw.schema_from_dict`, start by creating a JSON file with a definition of the Schema you want to generate."
      ]
    },
    {
      "cell_type": "markdown",
      "id": "f307c17a",
      "metadata": {
        "lines_to_next_cell": 2
      },
      "source": [
        "```JSON\n",
        "{\n",
        "    \"key\": {\n",
        "        \"dtype\": \"int\",\n",
        "        \"primary_key\": true\n",
        "    },\n",
        "    \"name\": {\n",
        "        \"dtype\": \"str\",\n",
        "        \"default_value\": \"\"\n",
        "    },\n",
        "    \"value\": \"int\"\n",
        "}\n",
        "```"
      ]
    },
    {
      "cell_type": "markdown",
      "id": "497dd13a",
      "metadata": {},
      "source": [
        "Now, you need to load it into Python, where it will be represented as a `dict` type."
      ]
    },
    {
      "cell_type": "code",
      "execution_count": 2,
      "id": "ebf987c1",
      "metadata": {
        "execution": {
          "iopub.execute_input": "2023-11-09T13:26:27.958127Z",
          "iopub.status.busy": "2023-11-09T13:26:27.957893Z",
          "iopub.status.idle": "2023-11-09T13:26:27.960088Z",
          "shell.execute_reply": "2023-11-09T13:26:27.959842Z"
        }
      },
      "outputs": [],
      "source": [
        "import json\n",
        "\n",
        "with open(\"schema.json\") as f:\n",
        "    schema_definition = json.load(f)"
      ]
    },
    {
      "cell_type": "markdown",
      "id": "b043b6a3",
      "metadata": {},
      "source": [
        "Then all you need to do is pass it as an argument to `pw.schema_from_dict` which will return a Schema object."
      ]
    },
    {
      "cell_type": "code",
      "execution_count": 3,
      "id": "ecd64c35",
      "metadata": {
        "execution": {
          "iopub.execute_input": "2023-11-09T13:26:27.961599Z",
          "iopub.status.busy": "2023-11-09T13:26:27.961385Z",
          "iopub.status.idle": "2023-11-09T13:26:29.551894Z",
          "shell.execute_reply": "2023-11-09T13:26:29.551488Z"
        }
      },
      "outputs": [
        {
          "data": {
            "text/plain": [
              "(<pathway.Schema types={'key': <class 'int'>, 'name': <class 'str'>, 'value': <class 'int'>}>,\n",
              " ['key'],\n",
              " {'name': ''})"
            ]
          },
          "execution_count": 3,
          "metadata": {},
          "output_type": "execute_result"
        }
      ],
      "source": [
        "import pathway as pw\n",
        "\n",
        "schema = pw.schema_from_dict(schema_definition)\n",
        "\n",
        "# Check the resulting Schema\n",
        "schema, schema.primary_key_columns(), schema.default_values()"
      ]
    },
    {
      "cell_type": "markdown",
      "id": "5408951a",
      "metadata": {},
      "source": [
        "You can now use the created Schema as an argument to the connector you want to use."
      ]
    },
    {
      "cell_type": "markdown",
      "id": "de9ced20",
      "metadata": {},
      "source": [
        "## Schema generation from data in a CSV file\n",
        "\n",
        "If you have a CSV file with sample data, you can use it to generate a schema in Pathway. The name of columns will be taken from the header of the CSV file, whereas types of columns are inferred by checking if values in the given column can be parsed to int or float. This method of Schema generation does not support choosing primary keys or setting default values. Still, once you generate a Schema, you can generate a class definition using the method described later in this tutorial and then edit it to suit your needs.\n",
        "\n",
        "To generate a Schema based on a CSV file, use a `pw.schema_from_csv` function. To see how it works, you will use the following example data in CSV format:\n",
        "```csv\n",
        "age,owner,pet\n",
        "10,Alice,dog\n",
        "9,Bob,dog\n",
        "8,Alice,cat\n",
        "7,Bob,dog\n",
        "```"
      ]
    },
    {
      "cell_type": "markdown",
      "id": "5b20a64a",
      "metadata": {},
      "source": [
        "To use `pw.schema_from_csv`, you only need to provide a path of CSV file, but it also has some number of optional arguments:\n",
        "- name - the name of the resulting Schema class\n",
        "- properties - an instance of `SchemaProperties`\n",
        "- delimiter - the delimiter used in the CSV file\n",
        "- comment_character - the character used to denote that a row is a comment\n",
        "- escape - the escape character used in the CSV file\n",
        "- num_parsed_rows - how many rows should be parsed. If None, all rows will be parsed."
      ]
    },
    {
      "cell_type": "markdown",
      "id": "7d5d9ac9",
      "metadata": {},
      "source": [
        "For the example, you can use the default values of the optional arguments, so the Python code is:"
      ]
    },
    {
      "cell_type": "code",
      "execution_count": 4,
      "id": "85c510ba",
      "metadata": {
        "execution": {
          "iopub.execute_input": "2023-11-09T13:26:29.553977Z",
          "iopub.status.busy": "2023-11-09T13:26:29.553571Z",
          "iopub.status.idle": "2023-11-09T13:26:29.556916Z",
          "shell.execute_reply": "2023-11-09T13:26:29.556593Z"
        }
      },
      "outputs": [
        {
          "data": {
            "text/plain": [
              "<pathway.Schema types={'age': <class 'int'>, 'owner': <class 'str'>, 'pet': <class 'str'>}>"
            ]
          },
          "execution_count": 4,
          "metadata": {},
          "output_type": "execute_result"
        }
      ],
      "source": [
        "schema = pw.schema_from_csv(\"data.csv\")\n",
        "\n",
        "# Check the resulting Schema\n",
        "schema"
      ]
    },
    {
      "cell_type": "markdown",
      "id": "9d911110",
      "metadata": {},
      "source": [
        "## Persisting generated Schema as a Python class definition\n",
        "\n",
        "If you have a Schema object, you may choose to generate a class definition, either\n",
        "to make the codebase independent of other files you need to generate the Schema or to\n",
        "change it, for example, adding default values to a Schema generated based on a CSV file.\n",
        "\n",
        "To do that, you can use a method in the Schema class called `generate_class` to generate a string with a class definition or `generate_class_to_file` to generate a class definition and save it to a file. If you use `generate_class_to_file`, the necessary imports will be added."
      ]
    },
    {
      "cell_type": "markdown",
      "id": "8f705818",
      "metadata": {},
      "source": [
        "Let's go through an example of using `generate_class` and `generate_class_to_file`. In the example, you will work on the schema generated in the Section on `schema_from_dict`."
      ]
    },
    {
      "cell_type": "code",
      "execution_count": 5,
      "id": "d26508be",
      "metadata": {
        "execution": {
          "iopub.execute_input": "2023-11-09T13:26:29.558466Z",
          "iopub.status.busy": "2023-11-09T13:26:29.558341Z",
          "iopub.status.idle": "2023-11-09T13:26:29.561082Z",
          "shell.execute_reply": "2023-11-09T13:26:29.560768Z"
        }
      },
      "outputs": [],
      "source": [
        "with open(\"schema.json\") as f:\n",
        "    schema_definition = json.load(f)\n",
        "schema = pw.schema_from_dict(schema_definition)"
      ]
    },
    {
      "cell_type": "markdown",
      "id": "30dc80f4",
      "metadata": {},
      "source": [
        "The first method - `generate_class` - has no required arguments, and its only optional argument, `class_name`, is the name of the class with the generated Schema. If `class_name` is not provided, the schema's name will be used, or if it is not a correct identifier, the default name `CustomSchema` will be used."
      ]
    },
    {
      "cell_type": "code",
      "execution_count": 6,
      "id": "c71dec01",
      "metadata": {
        "execution": {
          "iopub.execute_input": "2023-11-09T13:26:29.562704Z",
          "iopub.status.busy": "2023-11-09T13:26:29.562493Z",
          "iopub.status.idle": "2023-11-09T13:26:29.565016Z",
          "shell.execute_reply": "2023-11-09T13:26:29.564599Z"
        }
      },
      "outputs": [
        {
          "name": "stdout",
          "output_type": "stream",
          "text": [
            "class MySchema(pw.Schema):\n",
            "\tkey: dt.INT = pw.column_definition(primary_key=True,append_only=False)\n",
            "\tname: dt.STR = pw.column_definition(default_value='',append_only=False)\n",
            "\tvalue: dt.INT = pw.column_definition(append_only=False)\n"
          ]
        }
      ],
      "source": [
        "print(schema.generate_class(class_name=\"MySchema\"))"
      ]
    },
    {
      "cell_type": "markdown",
      "id": "99e297b6",
      "metadata": {},
      "source": [
        "Method `generate_class_to_file` has one required argument, which is the path where class definition is to be saved. Its optional argument `class_name` is the same as for `generate_class` method."
      ]
    },
    {
      "cell_type": "code",
      "execution_count": 7,
      "id": "fe9d8171",
      "metadata": {
        "execution": {
          "iopub.execute_input": "2023-11-09T13:26:29.566575Z",
          "iopub.status.busy": "2023-11-09T13:26:29.566283Z",
          "iopub.status.idle": "2023-11-09T13:26:29.569750Z",
          "shell.execute_reply": "2023-11-09T13:26:29.569407Z"
        }
      },
      "outputs": [
        {
          "name": "stdout",
          "output_type": "stream",
          "text": [
            "import pathway as pw\n",
            "from pathway.internals import dtype as dt\n",
            "\n",
            "class MySchema(pw.Schema):\n",
            "\tkey: dt.INT = pw.column_definition(primary_key=True,append_only=False)\n",
            "\tname: dt.STR = pw.column_definition(default_value='',append_only=False)\n",
            "\tvalue: dt.INT = pw.column_definition(append_only=False)\n"
          ]
        }
      ],
      "source": [
        "schema.generate_class_to_file(\"myschema.py\", class_name=\"MySchema\")\n",
        "with open(\"myschema.py\") as f:\n",
        "    print(f.read())"
      ]
    }
  ],
  "metadata": {
    "jupytext": {
      "cell_metadata_filter": "-all",
      "main_language": "python",
      "notebook_metadata_filter": "-all"
    },
    "language_info": {
      "codemirror_mode": {
        "name": "ipython",
        "version": 3
      },
      "file_extension": ".py",
      "mimetype": "text/x-python",
      "name": "python",
      "nbconvert_exporter": "python",
      "pygments_lexer": "ipython3",
      "version": "3.11.6"
    }
  },
  "nbformat": 4,
  "nbformat_minor": 5
}