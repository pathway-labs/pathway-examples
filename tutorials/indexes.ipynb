{
  "cells": [
    {
      "cell_type": "markdown",
      "metadata": {
        "id": "view-in-colab"
      },
      "source": [
        "<a href=\"https://colab.research.google.com/github/pathwaycom/pathway-examples/blob/main/tutorials/indexes.ipynb\" target=\"_parent\"><img src=\"https://pathway.com/assets/colab-badge.svg\" alt=\"Run In Colab\" class=\"inline\"/></a>"
      ]
    },
    {
      "cell_type": "markdown",
      "source": [
        "# Installing Pathway with Python 3.10+\n",
        "\n",
        "In the cell below, we install Pathway into a Python 3.10+ Linux runtime.\n",
        "\n",
        "> **If you are running in Google Colab, please run the colab notebook (Ctrl+F9)**, disregarding the 'not authored by Google' warning.\n",
        "> \n",
        "> **The installation and loading time is less than 1 minute**.\n"
      ],
      "metadata": {
        "id": "notebook-instructions"
      }
    },
    {
      "cell_type": "code",
      "source": [
        "%%capture --no-display\n",
        "!pip install pathway"
      ],
      "metadata": {
        "id": "pip-installation-pathway",
        "cellView": "form"
      },
      "execution_count": null,
      "outputs": []
    },
    {
      "cell_type": "markdown",
      "id": "aefac988",
      "metadata": {},
      "source": [
        "# Indexes in Pathway\n",
        "In this article, you'll learn about reactive indexes in Pathway and how they differ from conventional indexes used in databases. You'll also see how to use them to respond to a stream of queries in real time.\n",
        "\n",
        "Indexes are data structures that improve the speed of queries. They are often used in databases. They are helpful if you want to retrieve records with a specific value in a given column (then you need an index based on this column). An example of this is answering a stream of queries using contents of a database.\n",
        "Indexes can also speed up joins - an existing index can be used if it is built on appropriate columns but also an index can be built ad-hoc, during query execution.\n",
        "Pathway offers indexes, but because it operates on streams, there are some differences as compared to database indexes. To learn about them, continue reading the article."
      ]
    },
    {
      "cell_type": "markdown",
      "id": "c5024913",
      "metadata": {},
      "source": [
        "## Joins\n",
        "Pathway operates on streams. Unless it is informed otherwise, it assumes that new data can arrive from any stream. Thus, when joining two streams, Pathway has to keep these streams in memory. It builds LSM indexes on both sides of a join. Thanks to that, new records arriving in any of the two streams can be joined quickly - it is enough to look them up in the index of the other table and no costly scans are needed.\n",
        "In contrast, normal databases, only use an index on one sides of a join because once the query is processed the join results are not updated.\n",
        "Let's consider a simple example in which you join two tables in Pathway. Here, a table is built from a simulated stream of changes to its rows. The value in the `__time__` column represents an arrival time of the record to the engine. To use an example with a real streaming source it is enough to replace `pw.debug.table_from_markdown` with an appropriate [connector](/developers/user-guide/input-and-output-streams/connectors/) (like Redpanda or Kafka connector).\n",
        "The tables are joined on the `instance` column."
      ]
    },
    {
      "cell_type": "code",
      "execution_count": 1,
      "id": "0635731d",
      "metadata": {
        "execution": {
          "iopub.execute_input": "2023-11-17T11:13:23.776558Z",
          "iopub.status.busy": "2023-11-17T11:13:23.776394Z",
          "iopub.status.idle": "2023-11-17T11:16:50.127765Z",
          "shell.execute_reply": "2023-11-17T11:16:50.119588Z"
        }
      },
      "outputs": [
        {
          "name": "stderr",
          "output_type": "stream",
          "text": [
            "[2023-11-17T12:16:50]:INFO:Preparing Pathway computation\n"
          ]
        },
        {
          "name": "stdout",
          "output_type": "stream",
          "text": [
            "            | left_value | right_value | instance\n",
            "^MKZX8ZW... | 1          | 11          | 1\n",
            "^Z3GFZNM... | 1          | 13          | 1\n",
            "^G5A47FZ... | 2          | 11          | 1\n",
            "^PSJ822X... | 2          | 13          | 1\n",
            "^CRYASKY... | 3          | 12          | 2\n",
            "^1J8DF7F... | 4          | 12          | 2\n"
          ]
        }
      ],
      "source": [
        "import pathway as pw\n",
        "\n",
        "table_a = pw.debug.table_from_markdown(\n",
        "    \"\"\"\n",
        "    value | instance | __time__\n",
        "      1   |    1     |     2\n",
        "      2   |    1     |     6\n",
        "      3   |    2     |     8\n",
        "      4   |    2     |    12\n",
        "    \"\"\"\n",
        ")\n",
        "table_b = pw.debug.table_from_markdown(\n",
        "    \"\"\"\n",
        "    value | instance | __time__\n",
        "      11  |    1     |     4\n",
        "      12  |    2     |     6\n",
        "      13  |    1     |     8\n",
        "    \"\"\"\n",
        ")\n",
        "\n",
        "result = table_a.join(table_b, pw.left.instance == pw.right.instance).select(\n",
        "    left_value=pw.left.value, right_value=pw.right.value, instance=pw.this.instance\n",
        ")\n",
        "\n",
        "pw.debug.compute_and_print(result)"
      ]
    },
    {
      "cell_type": "markdown",
      "id": "3b583555",
      "metadata": {},
      "source": [
        "As you can see, the records from both sides get joined with the future records. It is expected, as Pathway incrementally updates all results to match the input data changes. However, if `table_a` would be `queries` on a `table_b` representing the `data` you want to query, you'd be surprised to see that answers to your queries are updated in the future when `data` changes. Let's say, you want to query the number of your website visits by location:"
      ]
    },
    {
      "cell_type": "code",
      "execution_count": 2,
      "id": "da4ea4d3",
      "metadata": {
        "execution": {
          "iopub.execute_input": "2023-11-17T11:16:50.133629Z",
          "iopub.status.busy": "2023-11-17T11:16:50.133377Z",
          "iopub.status.idle": "2023-11-17T11:16:50.273776Z",
          "shell.execute_reply": "2023-11-17T11:16:50.265759Z"
        }
      },
      "outputs": [
        {
          "name": "stderr",
          "output_type": "stream",
          "text": [
            "[2023-11-17T12:16:50]:INFO:Preparing Pathway computation\n"
          ]
        },
        {
          "name": "stdout",
          "output_type": "stream",
          "text": [
            "            | query_id | country | visits\n",
            "^EJPQJPQ... | 1        | France  | 4\n",
            "^ECX80QV... | 2        | Poland  | 3\n",
            "^ZVRZ99C... | 3        | Germany | 2\n",
            "^B55DT4V... | 4        | USA     | 4\n"
          ]
        }
      ],
      "source": [
        "import pathway as pw\n",
        "\n",
        "queries = pw.debug.table_from_markdown(\n",
        "    \"\"\"\n",
        "    query_id |  country  | __time__\n",
        "        1    |   France  |     4\n",
        "        2    |   Poland  |     6\n",
        "        3    |  Germany  |     8\n",
        "        4    |      USA  |    14\n",
        "    \"\"\"\n",
        ")\n",
        "visits = pw.debug.table_from_markdown(\n",
        "    \"\"\"\n",
        "     country | __time__\n",
        "      Poland |    2\n",
        "      France |    2\n",
        "      Spain  |    2\n",
        "      Poland |    2\n",
        "      France |    4\n",
        "         USA |    4\n",
        "         USA |    4\n",
        "     Germany |    6\n",
        "         USA |    6\n",
        "         USA |    8\n",
        "      Poland |    8\n",
        "      France |    8\n",
        "      France |   12\n",
        "     Germany |   14\n",
        "    \"\"\"\n",
        ")\n",
        "total_visits_by_country = visits.groupby(pw.this.country).reduce(\n",
        "    pw.this.country, visits=pw.reducers.count()\n",
        ")\n",
        "\n",
        "answers = queries.join(\n",
        "    total_visits_by_country, pw.left.country == pw.right.country\n",
        ").select(pw.left.query_id, pw.this.country, pw.right.visits)\n",
        "\n",
        "pw.debug.compute_and_print(answers)"
      ]
    },
    {
      "cell_type": "markdown",
      "id": "6c8e32d0",
      "metadata": {},
      "source": [
        "Please note how the answer to your query with `query_no=3` is updated a few times. It may be a bit surprising if you're new to Pathway. It turns out, the `join` allows you to keep track of the updates! And it has many cool uses, for instance alerting. You can use it to set up a real-time alerting system. However, if that is not what you want and you'd like to get an answer to you query once, at its processing time, Pathway supports it as well!"
      ]
    },
    {
      "cell_type": "markdown",
      "id": "791a247d",
      "metadata": {},
      "source": [
        "## Asof now join\n",
        "Monitoring changes of anwers to your queries might not be what you want. Especially if you have **a lot of** queries. If you want to get an answer for a query once, and then forget it, you can use `asof_now_join`. Its left side is a queries table and the right side is the data you want to query. Note that the right side is still a table dynamically streaming row changes. You can update it but the updates will only affect future queries - no old answers will be updated.\n",
        "Let's see what `asof_now_join` would return in the example above:"
      ]
    },
    {
      "cell_type": "code",
      "execution_count": 3,
      "id": "1284a4b4",
      "metadata": {
        "execution": {
          "iopub.execute_input": "2023-11-17T11:16:50.278617Z",
          "iopub.status.busy": "2023-11-17T11:16:50.278359Z",
          "iopub.status.idle": "2023-11-17T11:16:50.427491Z",
          "shell.execute_reply": "2023-11-17T11:16:50.426653Z"
        }
      },
      "outputs": [
        {
          "name": "stderr",
          "output_type": "stream",
          "text": [
            "[2023-11-17T12:16:50]:INFO:Preparing Pathway computation\n"
          ]
        },
        {
          "name": "stdout",
          "output_type": "stream",
          "text": [
            "            | query_id | country | visits\n",
            "^EJPQJPQ... | 1        | France  | 2\n",
            "^ECX80QV... | 2        | Poland  | 2\n",
            "^ZVRZ99C... | 3        | Germany | 1\n",
            "^B55DT4V... | 4        | USA     | 4\n"
          ]
        }
      ],
      "source": [
        "import pathway as pw\n",
        "\n",
        "queries = pw.debug.table_from_markdown(\n",
        "    \"\"\"\n",
        "    query_id |  country  | __time__\n",
        "        1    |   France  |     4\n",
        "        2    |   Poland  |     6\n",
        "        3    |  Germany  |     8\n",
        "        4    |      USA  |    14\n",
        "    \"\"\"\n",
        ")\n",
        "visits = pw.debug.table_from_markdown(\n",
        "    \"\"\"\n",
        "     country | __time__\n",
        "      Poland |    2\n",
        "      France |    2\n",
        "      Spain  |    2\n",
        "      Poland |    2\n",
        "      France |    4\n",
        "         USA |    4\n",
        "         USA |    4\n",
        "     Germany |    6\n",
        "         USA |    6\n",
        "         USA |    8\n",
        "      Poland |    8\n",
        "      France |    8\n",
        "      France |   12\n",
        "     Germany |   14\n",
        "    \"\"\"\n",
        ")\n",
        "total_visits_by_country = visits.groupby(pw.this.country).reduce(\n",
        "    pw.this.country, visits=pw.reducers.count()\n",
        ")\n",
        "\n",
        "answers = queries.asof_now_join(\n",
        "    total_visits_by_country, pw.left.country == pw.right.country\n",
        ").select(pw.left.query_id, pw.this.country, pw.right.visits)\n",
        "\n",
        "pw.debug.compute_and_print(answers)"
      ]
    },
    {
      "cell_type": "markdown",
      "id": "1ca25ce9",
      "metadata": {
        "lines_to_next_cell": 2
      },
      "source": [
        "In contrast to an ordinary `join`, `asof_now_join` is not symmetric. New rows on the left side of the join will produce a result under the condition they can be joined with at least one row from the right side. If you want to produce at least one result from every query, you can use `asof_now_join_left` - then all columns from the right side in the output row will be set to `None`. On the other hand, new rows on the right side of the join won't immediately produce any new rows in the output but will update the index and if they're matched with new records from the left side later, they will appear in the output.\n",
        "Please note that for correct operation, the left table of the `asof_now_join` (`queries`) can only be extended with new queries. Pathway verifies it for you. You can't delete or update the queries. It is quite reasonable. Instead of updating the query, you can just send a new query because your previous query has been already forgotten anyway."
      ]
    },
    {
      "cell_type": "markdown",
      "id": "674eff3b",
      "metadata": {},
      "source": [
        "## KNN Index\n",
        "An approximate [K Nearest Neighbors (KNN) Index](/developers/showcases/lsh/lsh_chapter1) behaves similarly to a join. The default method `get_nearest_items` maintains always up-to-date answers to all queries when the set of indexed documents changes. In fact, it uses a join under the hood.\n",
        "If you don't want answers to your queries to be updated, you can use `get_nearest_items_asof_now` (experimental). It'll return the closest points once and will forget the query. However, it'll monitor the stream containing index data and update the index if new data arrives (but won't update old queries). As a result, if you ask the same query again and the index has changed in the meantime, you can get a different answer. This behavior is used in our [llm-app](/developers/showcases/llm-app-pathway/) to answer queries using an always up-to-date index of documents.\n",
        "In the examples below, you can see the differences between these methods."
      ]
    },
    {
      "cell_type": "code",
      "execution_count": 4,
      "id": "bd5af10b",
      "metadata": {
        "execution": {
          "iopub.execute_input": "2023-11-17T11:16:50.430017Z",
          "iopub.status.busy": "2023-11-17T11:16:50.429797Z",
          "iopub.status.idle": "2023-11-17T11:16:55.151946Z",
          "shell.execute_reply": "2023-11-17T11:16:55.151605Z"
        }
      },
      "outputs": [
        {
          "name": "stderr",
          "output_type": "stream",
          "text": [
            "[2023-11-17T12:16:55]:INFO:Preparing Pathway computation\n"
          ]
        },
        {
          "name": "stdout",
          "output_type": "stream",
          "text": [
            "            | query_id | coords   | nns\n",
            "^X1MXHYY... | 1        | (0, 0)   | ((-1, 0), (1, 2))\n",
            "^YYY4HAB... | 2        | (2, -2)  | ((1, -4), (3, -2))\n",
            "^Z3QWT29... | 3        | (-1, 1)  | ((-3, 1), (-1, 0))\n",
            "^3CZ78B4... | 4        | (-2, -3) | ((-1, 0), (1, -4))\n"
          ]
        }
      ],
      "source": [
        "import pathway as pw\n",
        "from pathway.stdlib.ml.index import KNNIndex\n",
        "\n",
        "queries = pw.debug.table_from_markdown(\n",
        "    \"\"\"\n",
        "    query_id |  x |  y | __time__\n",
        "        1    |  0 |  0 |    4\n",
        "        2    |  2 | -2 |    6\n",
        "        3    | -1 |  1 |    8\n",
        "        4    | -2 | -3 |    10\n",
        "    \"\"\"\n",
        ").select(pw.this.query_id, coords=pw.make_tuple(pw.this.x, pw.this.y))\n",
        "\n",
        "data = pw.debug.table_from_markdown(\n",
        "    \"\"\"\n",
        "     x |  y | __time__\n",
        "     2 |  2 |    2\n",
        "     3 | -2 |    2\n",
        "    -1 |  0 |    6\n",
        "     1 |  2 |    8\n",
        "    -3 |  1 |   10\n",
        "     1 | -4 |   12\n",
        "    \"\"\"\n",
        ").select(coords=pw.make_tuple(pw.this.x, pw.this.y))\n",
        "\n",
        "index = KNNIndex(data.coords, data, n_dimensions=2, n_and=5)\n",
        "result = queries + index.get_nearest_items(queries.coords, k=2).select(\n",
        "    nns=pw.this.coords\n",
        ")\n",
        "pw.debug.compute_and_print(result)"
      ]
    },
    {
      "cell_type": "code",
      "execution_count": 5,
      "id": "268c5492",
      "metadata": {
        "execution": {
          "iopub.execute_input": "2023-11-17T11:16:55.153299Z",
          "iopub.status.busy": "2023-11-17T11:16:55.153130Z",
          "iopub.status.idle": "2023-11-17T11:17:00.375714Z",
          "shell.execute_reply": "2023-11-17T11:17:00.375250Z"
        }
      },
      "outputs": [
        {
          "name": "stderr",
          "output_type": "stream",
          "text": [
            "[2023-11-17T12:17:00]:INFO:Preparing Pathway computation\n"
          ]
        },
        {
          "name": "stdout",
          "output_type": "stream",
          "text": [
            "            | query_id | coords   | nns\n",
            "^X1MXHYY... | 1        | (0, 0)   | ((2, 2), (3, -2))\n",
            "^YYY4HAB... | 2        | (2, -2)  | ((-1, 0), (3, -2))\n",
            "^Z3QWT29... | 3        | (-1, 1)  | ((-1, 0), (1, 2))\n",
            "^3CZ78B4... | 4        | (-2, -3) | ((-3, 1), (-1, 0))\n"
          ]
        }
      ],
      "source": [
        "index = KNNIndex(data.coords, data, n_dimensions=2, n_and=5)\n",
        "result = queries + index.get_nearest_items_asof_now(queries.coords, k=2).select(\n",
        "    nns=pw.this.coords\n",
        ")\n",
        "pw.debug.compute_and_print(result)"
      ]
    },
    {
      "cell_type": "markdown",
      "id": "2aca2c46",
      "metadata": {},
      "source": [
        "In the example above, 2-dimensional vectors were used to make the analysis simpler. The **llm-app** uses n-dimensional vectors but the general principle doesn't change."
      ]
    },
    {
      "cell_type": "markdown",
      "id": "84f36fe3",
      "metadata": {},
      "source": [
        "## Applications of `asof_now` indexes to data read using HTTP REST connector\n",
        "If you want a more practical example, you can set up a webserver that answers queries. You can read our [llm-app](/developers/showcases/llm-app-pathway/) article to see how it can be done.\n",
        "\n",
        "## Summary\n",
        "In this article you learned about the differences in indexing between databases and Pathway. You can see that both approaches - keeping the queries to update them in the future or forgetting queries immediately after answering, are useful. It depends on your objective which approach should be used. Pathway provides methods to handle both variants."
      ]
    }
  ],
  "metadata": {
    "jupytext": {
      "cell_metadata_filter": "-all",
      "main_language": "python",
      "notebook_metadata_filter": "-all"
    },
    "language_info": {
      "codemirror_mode": {
        "name": "ipython",
        "version": 3
      },
      "file_extension": ".py",
      "mimetype": "text/x-python",
      "name": "python",
      "nbconvert_exporter": "python",
      "pygments_lexer": "ipython3",
      "version": "3.11.6"
    }
  },
  "nbformat": 4,
  "nbformat_minor": 5
}