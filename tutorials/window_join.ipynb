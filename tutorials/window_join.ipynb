{
  "cells": [
    {
      "cell_type": "markdown",
      "metadata": {
        "id": "view-in-colab"
      },
      "source": [
        "<a href=\"https://colab.research.google.com/github/pathwaycom/pathway-examples/blob/main/tutorials/window_join.ipynb\" target=\"_parent\"><img src=\"https://pathway.com/assets/colab-badge.svg\" alt=\"Run In Colab\" class=\"inline\"/></a>"
      ]
    },
    {
      "cell_type": "markdown",
      "source": [
        "# Installing Pathway with Python 3.10+\n",
        "\n",
        "In the cell below, we install Pathway into a Python 3.10+ Linux runtime.\n",
        "\n",
        "> **If you are running in Google Colab, please run the colab notebook (Ctrl+F9)**, disregarding the 'not authored by Google' warning.\n",
        "> \n",
        "> **The installation and loading time is less than 1 minute**.\n"
      ],
      "metadata": {
        "id": "notebook-instructions"
      }
    },
    {
      "cell_type": "code",
      "source": [
        "%%capture --no-display\n",
        "!pip install pathway"
      ],
      "metadata": {
        "id": "pip-installation-pathway",
        "cellView": "form"
      },
      "execution_count": null,
      "outputs": []
    },
    {
      "cell_type": "markdown",
      "id": "57945920",
      "metadata": {},
      "source": [
        "# User Behavior Analysis with Window Join on Clickstream Data\n",
        "\n",
        "Welcome to this detailed tutorial on how to analyze user behavior by correlating clickstream data with purchase data using Pathway's window join functionality. Joining clickstream data with purchase data can be particularly useful for businesses in analyzing the success of product page visits converting into purchases, improving their marketing strategies and product offerings.\n",
        "\n",
        "The `window_join` function from Pathway associates records from two different tables that occur within the same time frame, specified by a window of time, creating sets of temporally correlated records.\n",
        "\n",
        "In a `window_join`, all pairs of records that fall within the same window and satisfy the specified conditions are joined together. This operation is performed for each window whether it is a sliding window, a session window or a tumbling window. In the case of a sliding window, this means the window slides across the time axis, capturing different subsets of records at each step.\n",
        "\n",
        "![Illustration of Window Join](https://pathway.com/assets/content/tutorials/clickstream_window_join/window_join_illustrative.png)\n\n",
        "Consider an e-commerce example: the window join can be used to identify instances where product page visits and purchases occurred within the same hour. The time window and conditions could be adjusted to cater to different business questions and analysis requirements. This makes the window join an incredibly powerful tool for temporal data analysis, allowing us to track and analyze patterns over time and within specific timeframes.\n",
        "\n",
        "In our hypothetical e-commerce example, there are two datasets:\n",
        "\n",
        "* Clickstream data: It captures the user's interaction with the website. Each row records a user visit to a specific product page.\n",
        "\n",
        "* Purchase data: It records all successful purchases made by the users.\n",
        "\n",
        "The goal here is to monitor the evolution of conversion rates for each product page. In this context, a conversion refers to a scenario where a page visit and a purchase occur within a defined time window. You will be using the window_join functionality provided by Pathway for this purpose.\n",
        "\n",
        "Let's break down the process into step-by-step instructions.\n",
        "\n",
        "## Setting Up the Data\n",
        "\n",
        "First, import the necessary Pathway library and load the clickstream and purchase data."
      ]
    },
    {
      "cell_type": "code",
      "execution_count": 1,
      "id": "2b73416d",
      "metadata": {
        "execution": {
          "iopub.execute_input": "2023-11-21T10:56:41.477355Z",
          "iopub.status.busy": "2023-11-21T10:56:41.477218Z",
          "iopub.status.idle": "2023-11-21T10:56:43.948774Z",
          "shell.execute_reply": "2023-11-21T10:56:43.948439Z"
        }
      },
      "outputs": [],
      "source": [
        "import pathway as pw"
      ]
    },
    {
      "cell_type": "code",
      "execution_count": 2,
      "id": "ac227d80",
      "metadata": {
        "execution": {
          "iopub.execute_input": "2023-11-21T10:56:43.950893Z",
          "iopub.status.busy": "2023-11-21T10:56:43.950519Z",
          "iopub.status.idle": "2023-11-21T10:56:43.969472Z",
          "shell.execute_reply": "2023-11-21T10:56:43.969235Z"
        }
      },
      "outputs": [],
      "source": [
        "clickstream_data = pw.debug.table_from_markdown(\n",
        "    \"\"\"\n",
        "    |   user_id |   session_id  |   datetime            |   page_url\n",
        "1   |  0x1f8b4c |   0x64a0c7    |   2023-06-06T14:00:12 |   /home\n",
        "2   |  0x1f8b4c |   0x64a0c7    |   2023-06-06T14:01:38 |   /products/0x11b87b\n",
        "3   |  0x2eaf7f |   0x22e5b3    |   2023-06-06T14:18:32 |   /products/0x04g7d5\n",
        "4   |  0x2eaf7f |   0xf508e6    |   2023-06-06T14:19:17 |   /products/0x04g7d5\n",
        "5   |  0x31a32e |   0x13f6c4    |   2023-06-06T14:21:55 |   /products/0x11b87b\n",
        "6   |  0x442d6e |   0x31d4a2    |   2023-06-06T14:23:51 |   /products/0x11b87b\n",
        "7   |  0x5c2d6e |   0x13f6c4    |   2023-06-06T14:29:59 |   /products/0x04g7d5\n",
        "\"\"\"\n",
        ")\n",
        "purchase_data = pw.debug.table_from_markdown(\n",
        "    \"\"\"\n",
        "    | purchase_id | user_id | datetime              | product_url\n",
        " 1  | 0x0a1b2c    | 0x1f8b4c| 2023-06-06T14:02:15   | /products/0x11b87b\n",
        " 2  | 0x0b1a2d    | 0x32ad44| 2023-06-06T14:03:25   | /products/0x04g7d5\n",
        " 3  | 0x0c1b3d    | 0x11da93| 2023-06-06T14:23:11   | /products/0x11b87b\n",
        " 4  | 0x0d1e3f    | 0x2eaf7f| 2023-06-06T14:27:32   | /products/0x04g7d5\n",
        " 5  | 0x023cc3    | 0x5c2d6e| 2023-06-06T14:45:56   | /products/0x04g7d5\n",
        " 6  | 0x0e1f4g    | 0x442d6e| 2023-06-06T14:55:22   | /products/0x11b87b\n",
        "\"\"\"\n",
        ")"
      ]
    },
    {
      "cell_type": "markdown",
      "id": "0b806eb7",
      "metadata": {},
      "source": [
        "## Preprocessing the Data\n",
        "Records that do not pertain to product page visits are filtered out, and the datetime string column is converted to a datetime object. This process ensures that the datasets involved are not only relevant to the analysis but also formatted appropriately for the window_join function."
      ]
    },
    {
      "cell_type": "code",
      "execution_count": 3,
      "id": "aee6d1fa",
      "metadata": {
        "execution": {
          "iopub.execute_input": "2023-11-21T10:56:43.970795Z",
          "iopub.status.busy": "2023-11-21T10:56:43.970646Z",
          "iopub.status.idle": "2023-11-21T10:56:44.012716Z",
          "shell.execute_reply": "2023-11-21T10:56:44.012480Z"
        }
      },
      "outputs": [],
      "source": [
        "fmt = \"%Y-%m-%dT%H:%M:%S\"\n",
        "\n",
        "clickstream_data = clickstream_data.with_columns(\n",
        "    datetime=pw.this.datetime.dt.strptime(fmt)\n",
        ").filter(pw.this.page_url.str.startswith(\"/products/\"))\n",
        "\n",
        "\n",
        "purchase_data = purchase_data.with_columns(datetime=pw.this.datetime.dt.strptime(fmt))\n"
      ]
    },
    {
      "cell_type": "markdown",
      "id": "e6145f7f",
      "metadata": {},
      "source": [
        "## Perform the Window Join\n",
        "The critical step in this process is performing a window join on the prepared data. The idea is to monitor the fluctuations of the hourly conversion rates. To achieve this, a sliding window is an appropriate tool. The frequency at which new values are produced can be parameterized by the choice of the hop. By opting for a left join, purchases without any corresponding clickstream data are omitted, effectively disregarding purchases made through other channels."
      ]
    },
    {
      "cell_type": "code",
      "execution_count": 4,
      "id": "a7953bdb",
      "metadata": {
        "execution": {
          "iopub.execute_input": "2023-11-21T10:56:44.014103Z",
          "iopub.status.busy": "2023-11-21T10:56:44.013932Z",
          "iopub.status.idle": "2023-11-21T10:56:44.155175Z",
          "shell.execute_reply": "2023-11-21T10:56:44.154874Z"
        },
        "lines_to_next_cell": 2
      },
      "outputs": [],
      "source": [
        "matched_data = clickstream_data.window_join_left(\n",
        "    purchase_data,\n",
        "    clickstream_data.datetime,\n",
        "    purchase_data.datetime,\n",
        "    pw.temporal.sliding(hop=pw.Duration(\"10m\"), duration=pw.Duration(\"1h\")),\n",
        "    pw.left.user_id == pw.right.user_id,\n",
        "    pw.left.page_url == pw.right.product_url,\n",
        ").select(\n",
        "    window_start=pw.left._pw_window_start,\n",
        "    user_id=pw.left.user_id,\n",
        "    page_url=pw.left.page_url,\n",
        "    product_url=pw.right.product_url,\n",
        "    purchase_id=pw.right.purchase_id,\n",
        ")"
      ]
    },
    {
      "cell_type": "markdown",
      "id": "862dcbed",
      "metadata": {},
      "source": [
        "Let's dissect the `window_join_left` function and its arguments:\n",
        "\n",
        "This function joins the clickstream data (left) with the purchase data (right) in each window. The arguments of this function are:\n",
        "\n",
        "* `purchase_data`: The right side of the join.\n",
        "* `clickstream_data.datetime` and `purchase_data.datetime`: These are the time expressions that will be used for joining the datasets.\n",
        "* `pw.temporal.sliding(hop=Duration('10m'), duration=Duration('1h'))`: This creates a sliding window of 1 hour with a hop duration of 10 minutes. It means that a new window is created every 10 minutes, and each window spans 1 hour.\n",
        "* `pw.left.user_id == pw.right.user_id` and `pw.left.page_url == pw.right.product_url`: These conditions are used to join the datasets. Only those records that meet these conditions will be joined together.\n",
        "\n",
        "This approach helps in identifying instances where a user visited a product page and made a purchase of the same product within that hour. For more accuracy, it is logical to expect purchases to occur after the page visits. To ensure this, you can filter out the records where the purchase datetime is earlier than the clickstream datetime or use another type of temporal join known as an `interval_join`."
      ]
    },
    {
      "cell_type": "code",
      "execution_count": 5,
      "id": "dfc93bc9",
      "metadata": {
        "execution": {
          "iopub.execute_input": "2023-11-21T10:56:44.156704Z",
          "iopub.status.busy": "2023-11-21T10:56:44.156491Z",
          "iopub.status.idle": "2023-11-21T10:56:44.158161Z",
          "shell.execute_reply": "2023-11-21T10:56:44.157954Z"
        }
      },
      "outputs": [],
      "source": [
        "from datetime import datetime"
      ]
    },
    {
      "cell_type": "code",
      "execution_count": 6,
      "id": "d1e841df",
      "metadata": {
        "execution": {
          "iopub.execute_input": "2023-11-21T10:56:44.159227Z",
          "iopub.status.busy": "2023-11-21T10:56:44.159068Z",
          "iopub.status.idle": "2023-11-21T10:56:44.205279Z",
          "shell.execute_reply": "2023-11-21T10:56:44.205058Z"
        }
      },
      "outputs": [
        {
          "name": "stderr",
          "output_type": "stream",
          "text": [
            "[2023-11-21T11:56:44]:INFO:Preparing Pathway computation\n"
          ]
        },
        {
          "name": "stdout",
          "output_type": "stream",
          "text": [
            "            | window_start        | user_id  | page_url           | product_url        | purchase_id\n",
            "^FHDN5P1... | 2023-06-06 13:30:00 | 0x1f8b4c | /products/0x11b87b | /products/0x11b87b | 0x0a1b2c\n",
            "^T3B5J85... | 2023-06-06 13:30:00 | 0x2eaf7f | /products/0x04g7d5 | /products/0x04g7d5 | 0x0d1e3f\n",
            "^0W8F91H... | 2023-06-06 13:30:00 | 0x2eaf7f | /products/0x04g7d5 | /products/0x04g7d5 | 0x0d1e3f\n",
            "^JTWVZM4... | 2023-06-06 13:30:00 | 0x31a32e | /products/0x11b87b |                    |\n",
            "^DDMDF6E... | 2023-06-06 13:30:00 | 0x442d6e | /products/0x11b87b |                    |\n",
            "^2KVP4EW... | 2023-06-06 13:30:00 | 0x5c2d6e | /products/0x04g7d5 |                    |\n"
          ]
        }
      ],
      "source": [
        "view_window_start = datetime(2023, 6, 6, 13, 30, 0)\n",
        "pw.debug.compute_and_print(\n",
        "    matched_data.filter(pw.this.window_start == view_window_start)\n",
        ")"
      ]
    },
    {
      "cell_type": "markdown",
      "id": "c8f97cd7",
      "metadata": {},
      "source": [
        "## Calculating Conversion Rates\n",
        "\n",
        "The next step is to calculate the conversion rate, i.e., the proportion of product page visits that resulted in a purchase. Prior to that, it's crucial to first address a potential data discrepancy that could skew our analysis - the presence of duplicate matches within each window. Let's consider a situation where a user visits a product page twice and makes a purchase within the same time window. This would lead to the generation of two matches - a redundancy you'd want to avoid. To ensure the robustness of the data, you could employ a comprehensive groupby operation across all columns, effectively eliminating these duplicate entries. By retaining the `purchase_id` and `user_id` columns, you'll ascertain that within each window, each purchase and user is unique and accurately represented.\n",
        "\n",
        "Here's how you can do it:"
      ]
    },
    {
      "cell_type": "code",
      "execution_count": 7,
      "id": "e3124aba",
      "metadata": {
        "execution": {
          "iopub.execute_input": "2023-11-21T10:56:44.206362Z",
          "iopub.status.busy": "2023-11-21T10:56:44.206193Z",
          "iopub.status.idle": "2023-11-21T10:56:44.235980Z",
          "shell.execute_reply": "2023-11-21T10:56:44.235758Z"
        }
      },
      "outputs": [],
      "source": [
        "matched_data = matched_data.groupby(*pw.this).reduce(*pw.this)\n"
      ]
    },
    {
      "cell_type": "markdown",
      "id": "6fce0d6d",
      "metadata": {},
      "source": [
        "Next, the `groupby()` function is used to group the data by the `window_start` and the `page_url`. Following this, the `reduce()` function is applied to compute the aggregate of conversions and the page visits per group. Determining the number of visits involves a simple tally for each window and page. When it comes to tracking conversions, you would count only those purchase_ids that are not set to None."
      ]
    },
    {
      "cell_type": "code",
      "execution_count": 8,
      "id": "b822beed",
      "metadata": {
        "execution": {
          "iopub.execute_input": "2023-11-21T10:56:44.237228Z",
          "iopub.status.busy": "2023-11-21T10:56:44.237052Z",
          "iopub.status.idle": "2023-11-21T10:56:44.270984Z",
          "shell.execute_reply": "2023-11-21T10:56:44.270707Z"
        }
      },
      "outputs": [],
      "source": [
        "traffic_threshold = 2\n",
        "\n",
        "conversions = (\n",
        "    matched_data.groupby(pw.this.page_url, pw.this.window_start)\n",
        "    .reduce(\n",
        "        pw.this.page_url,\n",
        "        pw.this.window_start,\n",
        "        conversions=pw.reducers.sum(pw.cast(int, pw.this.purchase_id.is_not_none())),\n",
        "        visits=pw.reducers.count(),\n",
        "    )\n",
        "    .filter(pw.this.visits >= traffic_threshold)\n",
        ")\n"
      ]
    },
    {
      "cell_type": "markdown",
      "id": "45674ae6",
      "metadata": {},
      "source": [
        "Nonetheless, to guarantee the statistical significance of the data, only product pages that receive a minimum amount of traffic will be taken into consideration. For the small dataset at hand, a traffic threshold has been established at 2 visits."
      ]
    },
    {
      "cell_type": "code",
      "execution_count": 9,
      "id": "f75fa6de",
      "metadata": {
        "execution": {
          "iopub.execute_input": "2023-11-21T10:56:44.272409Z",
          "iopub.status.busy": "2023-11-21T10:56:44.272240Z",
          "iopub.status.idle": "2023-11-21T10:56:44.310745Z",
          "shell.execute_reply": "2023-11-21T10:56:44.310522Z"
        }
      },
      "outputs": [
        {
          "name": "stderr",
          "output_type": "stream",
          "text": [
            "[2023-11-21T11:56:44]:INFO:Preparing Pathway computation\n"
          ]
        },
        {
          "name": "stdout",
          "output_type": "stream",
          "text": [
            "            | page_url           | window_start        | conversions | visits\n",
            "^ZBCKQZA... | /products/0x04g7d5 | 2023-06-06 13:30:00 | 1           | 2\n",
            "^VJ5XMJK... | /products/0x11b87b | 2023-06-06 13:30:00 | 1           | 3\n"
          ]
        }
      ],
      "source": [
        "pw.debug.compute_and_print(\n",
        "    conversions.filter(pw.this.window_start == view_window_start)\n",
        ")"
      ]
    },
    {
      "cell_type": "markdown",
      "id": "26e1d010",
      "metadata": {},
      "source": [
        "Finally, you could calculate the conversion rate for each product:"
      ]
    },
    {
      "cell_type": "code",
      "execution_count": 10,
      "id": "5f1a0b49",
      "metadata": {
        "execution": {
          "iopub.execute_input": "2023-11-21T10:56:44.311983Z",
          "iopub.status.busy": "2023-11-21T10:56:44.311810Z",
          "iopub.status.idle": "2023-11-21T10:56:44.344291Z",
          "shell.execute_reply": "2023-11-21T10:56:44.344051Z"
        }
      },
      "outputs": [
        {
          "name": "stderr",
          "output_type": "stream",
          "text": [
            "[2023-11-21T11:56:44]:INFO:Preparing Pathway computation\n"
          ]
        },
        {
          "name": "stdout",
          "output_type": "stream",
          "text": [
            "            | page_url           | window_start        | conversion_rate\n",
            "^ZBCKQZA... | /products/0x04g7d5 | 2023-06-06 13:30:00 | 0.5\n",
            "^GXDKSD3... | /products/0x04g7d5 | 2023-06-06 13:40:00 | 0.5\n",
            "^0DNPPQA... | /products/0x04g7d5 | 2023-06-06 13:50:00 | 1.0\n",
            "^RYYN8DD... | /products/0x04g7d5 | 2023-06-06 14:00:00 | 1.0\n",
            "^E727Y7M... | /products/0x04g7d5 | 2023-06-06 14:10:00 | 1.0\n",
            "^VJ5XMJK... | /products/0x11b87b | 2023-06-06 13:30:00 | 0.3333333333333333\n",
            "^NT20C7A... | /products/0x11b87b | 2023-06-06 13:40:00 | 0.3333333333333333\n",
            "^E85BG17... | /products/0x11b87b | 2023-06-06 13:50:00 | 0.3333333333333333\n",
            "^GXT3RCT... | /products/0x11b87b | 2023-06-06 14:00:00 | 0.6666666666666666\n",
            "^D7ZPED7... | /products/0x11b87b | 2023-06-06 14:10:00 | 0.5\n",
            "^B5AZ4FX... | /products/0x11b87b | 2023-06-06 14:20:00 | 0.5\n"
          ]
        }
      ],
      "source": [
        "\n",
        "results = conversions.select(\n",
        "    pw.this.page_url,\n",
        "    pw.this.window_start,\n",
        "    conversion_rate=pw.this.conversions / pw.this.visits,\n",
        ")\n",
        "\n",
        "pw.debug.compute_and_print(results)"
      ]
    },
    {
      "cell_type": "markdown",
      "id": "d63694e6",
      "metadata": {},
      "source": [
        "By printing the results, you now have a clear overview of the conversion rate for each product page within the specified time window. This powerful insight can help you understand which product pages are performing well and which ones need improvement.\n",
        "\n",
        "And that concludes the demonstration of the comprehensive, data-driven approach to analyzing user behavior and conversion rates on your e-commerce website using Pathway.\n",
        "\n",
        "If you found this demonstration useful and want to dive deeper into Pathway's capabilities, we recommend exploring tutorials about [Interval Joins](/developers/tutorials/fleet_eta_interval_join) and [Asof Joins](/developers/tutorials/finance_ts_asof_join), which are alternative ways for merging time-based datasets. As always, feel free to reach out to our community for any questions and further discussions. Happy analyzing!"
      ]
    }
  ],
  "metadata": {
    "jupytext": {
      "cell_metadata_filter": "-all",
      "main_language": "python",
      "notebook_metadata_filter": "-all"
    },
    "language_info": {
      "codemirror_mode": {
        "name": "ipython",
        "version": 3
      },
      "file_extension": ".py",
      "mimetype": "text/x-python",
      "name": "python",
      "nbconvert_exporter": "python",
      "pygments_lexer": "ipython3",
      "version": "3.11.6"
    }
  },
  "nbformat": 4,
  "nbformat_minor": 5
}