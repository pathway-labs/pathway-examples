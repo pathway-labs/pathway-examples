{
  "cells": [
    {
      "cell_type": "markdown",
      "metadata": {
        "id": "view-in-colab"
      },
      "source": [
        "<a href=\"https://colab.research.google.com/github/pathwaycom/pathway-examples/blob/main/tutorials/fs_connector.ipynb\" target=\"_parent\"><img src=\"https://pathway.com/assets/colab-badge.svg\" alt=\"Run In Colab\" class=\"inline\"/></a>"
      ]
    },
    {
      "cell_type": "markdown",
      "source": [
        "# Installing Pathway with Python 3.10+\n",
        "\n",
        "In the cell below, we install Pathway into a Python 3.10+ Linux runtime.\n",
        "\n",
        "> **If you are running in Google Colab, please run the colab notebook (Ctrl+F9)**, disregarding the 'not authored by Google' warning.\n",
        "> \n",
        "> **The installation and loading time is less than 1 minute**.\n"
      ],
      "metadata": {
        "id": "notebook-instructions"
      }
    },
    {
      "cell_type": "code",
      "source": [
        "%%capture --no-display\n",
        "!pip install pathway"
      ],
      "metadata": {
        "id": "pip-installation-pathway",
        "cellView": "form"
      },
      "execution_count": null,
      "outputs": []
    },
    {
      "cell_type": "markdown",
      "id": "64b1d6a9",
      "metadata": {},
      "source": [
        "# File System Connectors\n",
        "This guide explains the [fs connectors](/developers/api-docs/pathway-io/fs) that connect Pathway to your file system to read and write data with the following basic formats: binary, plaintext, CSV, and JSON.\n",
        "\n",
        "The first part of this guide focuses on defining the source of the data for our connector (using plaintext data format to keep things simple). The second part explains additional configuration that can (or needs to) be defined for all simple data formats.\n",
        "In particular we show the input connectors ([`pw.io.fs.read`](/developers/api-docs/pathway-io/fs/#pathway.io.fs.read)) reading data in:\n",
        "- [`CSV` format](/developers/user-guide/connectors/fs-connector/#csv),\n",
        "- [`JSON` format](/developers/user-guide/connectors/fs-connector/#json),\n",
        "- [`plaintext`, `plaintext_by_file`, and `binary` formats](/developers/user-guide/connectors/fs-connector/#unstructured-data).\n",
        "\n",
        "The output connectors ([`pw.io.fs.write`](/developers/api-docs/pathway-io/fs/#pathway.io.fs.write)) write data in:\n",
        "- [`CSV` format](/developers/user-guide/connectors/fs-connector/#csv),\n",
        "- [`JSON` format](/developers/user-guide/connectors/fs-connector/#json).\n",
        "\n",
        "File system connectors work both in streaming and static modes. Be careful as the use of connectors differs depending on the chosen mode: see the [differences](/developers/user-guide/connecting-to-data/streaming-and-static-modes).\n",
        "For simplicity, all the examples below are in the \"static\" mode but can easily be changed to \"streaming\" mode by changing the `mode` parameter.\n",
        "\n",
        "## Location of files and filter.\n",
        "The code snippets below prepares the basic file structure that is used in the later part of this article. To keep tings simple, all examples work with data of type `str`, to see more on [schemas](/developers/user-guide/types-in-pathway/schema) and [types](/developers/user-guide/types-in-pathway/datatypes) in other places."
      ]
    },
    {
      "cell_type": "code",
      "execution_count": 1,
      "id": "1c8b1742",
      "metadata": {
        "execution": {
          "iopub.execute_input": "2024-03-01T13:58:35.047663Z",
          "iopub.status.busy": "2024-03-01T13:58:35.047422Z",
          "iopub.status.idle": "2024-03-01T13:58:35.660748Z",
          "shell.execute_reply": "2024-03-01T13:58:35.660187Z"
        },
        "lines_to_next_cell": 0
      },
      "outputs": [],
      "source": [
        "! mkdir -p plain_input\n",
        "! mkdir -p plain_output\n",
        "! echo -e \"test1\\ndata1\" > plain_input/in1.txt\n",
        "! echo -e \"test2\\ndata2\" > plain_input/in2.txt"
      ]
    },
    {
      "cell_type": "markdown",
      "id": "8d6cd4b0",
      "metadata": {},
      "source": [
        "### Specify the input and output with `path` and `filename`.\n",
        "Below, you can find the simplest examples of input ([`pw.io.fs.read`](/developers/api-docs/pathway-io/fs/#pathway.io.fs.read)) and output ([`pw.io.fs.write`](/developers/api-docs/pathway-io/fs/#pathway.io.fs.write)) connectors. Both examples use plaintext as the input format (more on that [later](/developers/user-guide/connectors/fs-connector#data-formats)). The `path` parameter can point either to a directory or a particular file. If it point so a directory, it reads all files that are inside. Otherwise it reads only the file that is specified (and as such it makes sense only in the static mode)."
      ]
    },
    {
      "cell_type": "code",
      "execution_count": 2,
      "id": "9af32d8c",
      "metadata": {
        "execution": {
          "iopub.execute_input": "2024-03-01T13:58:35.662813Z",
          "iopub.status.busy": "2024-03-01T13:58:35.662657Z",
          "iopub.status.idle": "2024-03-01T13:58:55.053589Z",
          "shell.execute_reply": "2024-03-01T13:58:55.053267Z"
        }
      },
      "outputs": [],
      "source": [
        "%%capture\n",
        "import pathway as pw\n",
        "test1 = pw.io.fs.read(path = \"./plain_input/\", format = \"plaintext\", mode=\"static\")\n",
        "pw.io.fs.write(test1, filename=\"./plain_output/out1.txt\", format=\"json\")\n",
        "\n",
        "test2 = pw.io.fs.read(path = \"./plain_input/in1.txt\", format = \"plaintext\", mode=\"static\")\n",
        "pw.io.fs.write(test2, filename=\"./plain_output/out2.txt\", format=\"json\")\n",
        "\n",
        "pw.run()"
      ]
    },
    {
      "cell_type": "markdown",
      "id": "4ed2e476",
      "metadata": {},
      "source": [
        "The output can be found in the `plain_output` directory."
      ]
    },
    {
      "cell_type": "code",
      "execution_count": 3,
      "id": "1eab2de9",
      "metadata": {
        "execution": {
          "iopub.execute_input": "2024-03-01T13:58:55.055631Z",
          "iopub.status.busy": "2024-03-01T13:58:55.055193Z",
          "iopub.status.idle": "2024-03-01T13:58:55.695495Z",
          "shell.execute_reply": "2024-03-01T13:58:55.695050Z"
        }
      },
      "outputs": [
        {
          "name": "stdout",
          "output_type": "stream",
          "text": [
            "out1:\r\n"
          ]
        },
        {
          "name": "stdout",
          "output_type": "stream",
          "text": [
            "{\"data\":\"data2\",\"diff\":1,\"time\":1709301535048}\r\n",
            "{\"data\":\"test1\",\"diff\":1,\"time\":1709301535048}\r\n",
            "{\"data\":\"data1\",\"diff\":1,\"time\":1709301535048}\r\n",
            "{\"data\":\"test2\",\"diff\":1,\"time\":1709301535048}\r\n"
          ]
        },
        {
          "name": "stdout",
          "output_type": "stream",
          "text": [
            "out2:\r\n"
          ]
        },
        {
          "name": "stdout",
          "output_type": "stream",
          "text": [
            "{\"data\":\"test1\",\"diff\":1,\"time\":1709301535048}\r\n",
            "{\"data\":\"data1\",\"diff\":1,\"time\":1709301535048}\r\n"
          ]
        }
      ],
      "source": [
        "! echo \"out1:\"\n",
        "! cat plain_output/out1.txt\n",
        "! echo \"out2:\"\n",
        "! cat plain_output/out2.txt"
      ]
    },
    {
      "cell_type": "markdown",
      "id": "6c6258e9",
      "metadata": {
        "lines_to_next_cell": 0
      },
      "source": [
        "As you can see, the first example read the data from both `in1.txt` and `in2.txt`, while the second read only the data from `in1.txt`.\n",
        "\n",
        "### Filter the files to read with `object_pattern`\n",
        "In case you want to specify a directory as the source of your data, but read only some of its contents, you can specify filter [pattern](https://www.gnu.org/software/findutils/manual/html_node/find_html/Shell-Pattern-Matching.html) and pass it using the `object_pattern` parameter."
      ]
    },
    {
      "cell_type": "code",
      "execution_count": 4,
      "id": "bb2c21e8",
      "metadata": {
        "execution": {
          "iopub.execute_input": "2024-03-01T13:58:55.697409Z",
          "iopub.status.busy": "2024-03-01T13:58:55.697253Z",
          "iopub.status.idle": "2024-03-01T13:58:55.716464Z",
          "shell.execute_reply": "2024-03-01T13:58:55.716182Z"
        }
      },
      "outputs": [],
      "source": [
        "%%capture\n",
        "test3 = pw.io.fs.read(\"./plain_input/\", format = \"plaintext\", mode=\"static\", object_pattern = \"*2*\")\n",
        "pw.io.fs.write(test3, \"./plain_output/output3.txt\", \"json\")\n",
        "pw.run()"
      ]
    },
    {
      "cell_type": "markdown",
      "id": "225fdecd",
      "metadata": {},
      "source": [
        "The output can be found in the `plain_output` directory. As you can see, `out3.txt` contains data only from `in2.txt`, as it is the only file in the input directory that matches the `*2*` pattern:"
      ]
    },
    {
      "cell_type": "code",
      "execution_count": 5,
      "id": "75b6b453",
      "metadata": {
        "execution": {
          "iopub.execute_input": "2024-03-01T13:58:55.718103Z",
          "iopub.status.busy": "2024-03-01T13:58:55.717836Z",
          "iopub.status.idle": "2024-03-01T13:58:56.036979Z",
          "shell.execute_reply": "2024-03-01T13:58:56.036561Z"
        }
      },
      "outputs": [
        {
          "name": "stdout",
          "output_type": "stream",
          "text": [
            "out3:\r\n"
          ]
        },
        {
          "name": "stdout",
          "output_type": "stream",
          "text": [
            "{\"data\":\"data2\",\"diff\":1,\"time\":1709301535710}\r\n",
            "{\"data\":\"test2\",\"diff\":1,\"time\":1709301535710}\r\n"
          ]
        }
      ],
      "source": [
        "! echo \"out3:\"\n",
        "! cat plain_output/output3.txt"
      ]
    },
    {
      "cell_type": "markdown",
      "id": "e166a7b2",
      "metadata": {},
      "source": [
        "## Data formats\n",
        "### CSV\n",
        "For the CSV format, each file on the input needs to have defined headers."
      ]
    },
    {
      "cell_type": "code",
      "execution_count": 6,
      "id": "4cca915c",
      "metadata": {
        "execution": {
          "iopub.execute_input": "2024-03-01T13:58:56.039059Z",
          "iopub.status.busy": "2024-03-01T13:58:56.038668Z",
          "iopub.status.idle": "2024-03-01T13:58:57.317019Z",
          "shell.execute_reply": "2024-03-01T13:58:57.316556Z"
        },
        "lines_to_next_cell": 0
      },
      "outputs": [
        {
          "name": "stdout",
          "output_type": "stream",
          "text": [
            "csv_in1.txt:\r\n"
          ]
        },
        {
          "name": "stdout",
          "output_type": "stream",
          "text": [
            "header1;header2\r\n",
            "data1;data2\r\n",
            "\r\n",
            "data3;data4\r\n"
          ]
        },
        {
          "name": "stdout",
          "output_type": "stream",
          "text": [
            "csv_in2.txt:\r\n"
          ]
        },
        {
          "name": "stdout",
          "output_type": "stream",
          "text": [
            "header1;header2\r\n",
            "data5;data6\r\n",
            "\r\n",
            "data7;data8\r\n"
          ]
        }
      ],
      "source": [
        "! mkdir -p csv_input\n",
        "! mkdir -p csv_output\n",
        "! echo -e \"header1;header2\\ndata1;data2\\n\\ndata3;data4\" > csv_input/csv_in1.txt\n",
        "! echo -e \"header1;header2\\ndata5;data6\\n\\ndata7;data8\" > csv_input/csv_in2.txt\n",
        "! echo -e \"csv_in1.txt:\"\n",
        "! cat csv_input/csv_in1.txt\n",
        "! echo -e \"csv_in2.txt:\"\n",
        "! cat csv_input/csv_in2.txt"
      ]
    },
    {
      "cell_type": "markdown",
      "id": "377b1709",
      "metadata": {
        "lines_to_next_cell": 0
      },
      "source": [
        "In most cases, in order to read the data, you need to define its schema and pass it to the connector. Furthermore, for the `csv` format, you can use [CSVParserSettings](/developers/api-docs/pathway-io#pathway.io.CsvParserSettings) to accommodate for a nonstandard formatting of the input file. In the example below, it is configured to use `;` as a delimiter."
      ]
    },
    {
      "cell_type": "code",
      "execution_count": 7,
      "id": "5b912587",
      "metadata": {
        "execution": {
          "iopub.execute_input": "2024-03-01T13:58:57.318843Z",
          "iopub.status.busy": "2024-03-01T13:58:57.318701Z",
          "iopub.status.idle": "2024-03-01T13:58:57.340451Z",
          "shell.execute_reply": "2024-03-01T13:58:57.340166Z"
        },
        "lines_to_next_cell": 0
      },
      "outputs": [],
      "source": [
        "%%capture\n",
        "class csv_schema(pw.Schema):\n",
        "    header1: str\n",
        "    header2: str\n",
        "\n",
        "csv_settings = pw.io.CsvParserSettings(delimiter=\";\")\n",
        "csv_data = pw.io.fs.read(path = \"./csv_input/\", format=\"csv\", schema=csv_schema, csv_settings=csv_settings,mode=\"static\")\n",
        "pw.io.fs.write(table=csv_data, filename=\"./csv_output/csv_out1.txt\", format=\"csv\")\n",
        "pw.run()"
      ]
    },
    {
      "cell_type": "code",
      "execution_count": 8,
      "id": "f8721b01",
      "metadata": {
        "execution": {
          "iopub.execute_input": "2024-03-01T13:58:57.341923Z",
          "iopub.status.busy": "2024-03-01T13:58:57.341637Z",
          "iopub.status.idle": "2024-03-01T13:58:57.503318Z",
          "shell.execute_reply": "2024-03-01T13:58:57.502887Z"
        }
      },
      "outputs": [
        {
          "name": "stdout",
          "output_type": "stream",
          "text": [
            "header1,header2,time,diff\r\n",
            "\"data3\",\"data4\",1709301537332,1\r\n",
            "\"data5\",\"data6\",1709301537332,1\r\n",
            "\"data7\",\"data8\",1709301537332,1\r\n",
            "\"data1\",\"data2\",1709301537332,1\r\n"
          ]
        }
      ],
      "source": [
        "! cat ./csv_output/csv_out1.txt"
      ]
    },
    {
      "cell_type": "markdown",
      "id": "8190ed1c",
      "metadata": {
        "lines_to_next_cell": 0
      },
      "source": [
        "You can also use the dedicated [CSV connector](/developers/user-guide/connectors/csv_connectors).\n",
        "### JSON\n",
        "You can use the [JSON format](https://json.org) by setting the parameter `format` to `json`."
      ]
    },
    {
      "cell_type": "code",
      "execution_count": 9,
      "id": "29e16bae",
      "metadata": {
        "execution": {
          "iopub.execute_input": "2024-03-01T13:58:57.505157Z",
          "iopub.status.busy": "2024-03-01T13:58:57.505018Z",
          "iopub.status.idle": "2024-03-01T13:58:58.783681Z",
          "shell.execute_reply": "2024-03-01T13:58:58.783233Z"
        },
        "lines_to_next_cell": 0
      },
      "outputs": [
        {
          "name": "stdout",
          "output_type": "stream",
          "text": [
            "json_in1.txt:\r\n"
          ]
        },
        {
          "name": "stdout",
          "output_type": "stream",
          "text": [
            "{\"header1\":data1\",\r\n",
            "\"header2\":\"data2\"}\r\n",
            "{\"header1\":\"data3\",\"header2\":\"data4\"}\r\n",
            "\r\n"
          ]
        },
        {
          "name": "stdout",
          "output_type": "stream",
          "text": [
            "json_in2.txt:\r\n"
          ]
        },
        {
          "name": "stdout",
          "output_type": "stream",
          "text": [
            "{\"header1\":\"data5\",\"header2\":\"data6\"}\r\n",
            "{\"header1\":\"data7\",\"header2\":\"data8\"}\r\n",
            "\r\n"
          ]
        }
      ],
      "source": [
        "! mkdir -p json_input\n",
        "! mkdir -p json_output\n",
        "! echo -e '{\"header1\":data1\",\\n\"header2\":\"data2\"}\\n{\"header1\":\"data3\",\"header2\":\"data4\"}\\n' > json_input/json_in1.txt\n",
        "! echo -e '{\"header1\":\"data5\",\"header2\":\"data6\"}\\n{\"header1\":\"data7\",\"header2\":\"data8\"}\\n' > json_input/json_in2.txt\n",
        "! echo -e \"json_in1.txt:\"\n",
        "! cat json_input/json_in1.txt\n",
        "! echo -e \"json_in2.txt:\"\n",
        "! cat json_input/json_in2.txt"
      ]
    },
    {
      "cell_type": "markdown",
      "id": "280b1763",
      "metadata": {
        "lines_to_next_cell": 0
      },
      "source": [
        "As in most cases, in order to read the data, you need to define a schema and pass it to the connector. Each input file needs to be a sequence of properly formatted JSON objects."
      ]
    },
    {
      "cell_type": "code",
      "execution_count": 10,
      "id": "843ab5e4",
      "metadata": {
        "execution": {
          "iopub.execute_input": "2024-03-01T13:58:58.785528Z",
          "iopub.status.busy": "2024-03-01T13:58:58.785380Z",
          "iopub.status.idle": "2024-03-01T13:58:58.815961Z",
          "shell.execute_reply": "2024-03-01T13:58:58.815669Z"
        },
        "lines_to_next_cell": 0
      },
      "outputs": [],
      "source": [
        "%%capture\n",
        "class json_schema(pw.Schema):\n",
        "    header1: str\n",
        "    header2: str\n",
        "\n",
        "json_data = pw.io.fs.read(path = \"./json_input/\", format=\"json\", schema=json_schema, mode=\"static\")\n",
        "pw.io.fs.write(table=json_data, filename=\"./json_output/json_out1.txt\", format=\"json\")\n",
        "pw.run()"
      ]
    },
    {
      "cell_type": "code",
      "execution_count": 11,
      "id": "5f0fc9a3",
      "metadata": {
        "execution": {
          "iopub.execute_input": "2024-03-01T13:58:58.817639Z",
          "iopub.status.busy": "2024-03-01T13:58:58.817284Z",
          "iopub.status.idle": "2024-03-01T13:58:58.979135Z",
          "shell.execute_reply": "2024-03-01T13:58:58.978749Z"
        },
        "lines_to_next_cell": 0
      },
      "outputs": [
        {
          "name": "stdout",
          "output_type": "stream",
          "text": [
            "{\"header1\":\"data5\",\"header2\":\"data6\",\"diff\":1,\"time\":1709301538800}\r\n",
            "{\"header1\":\"data3\",\"header2\":\"data4\",\"diff\":1,\"time\":1709301538800}\r\n",
            "{\"header1\":\"data7\",\"header2\":\"data8\",\"diff\":1,\"time\":1709301538800}\r\n"
          ]
        }
      ],
      "source": [
        "! cat ./json_output/json_out1.txt"
      ]
    },
    {
      "cell_type": "markdown",
      "id": "bea6425e",
      "metadata": {
        "lines_to_next_cell": 0
      },
      "source": [
        "### Unstructured data\n",
        "Pathway allows you to read unstructured data using three formats: `plaintext`, `plaintext_by_file`, and  `binary`. `binary` and `plaintext` considers each line as a separate row that will be stored in the column `data`, and the format `plaintext_by_file` treats each file as a single row."
      ]
    },
    {
      "cell_type": "code",
      "execution_count": 12,
      "id": "a333bf5d",
      "metadata": {
        "execution": {
          "iopub.execute_input": "2024-03-01T13:58:58.980787Z",
          "iopub.status.busy": "2024-03-01T13:58:58.980644Z",
          "iopub.status.idle": "2024-03-01T13:58:59.142674Z",
          "shell.execute_reply": "2024-03-01T13:58:59.142145Z"
        }
      },
      "outputs": [],
      "source": [
        "! mkdir -p unstructured_output"
      ]
    },
    {
      "cell_type": "code",
      "execution_count": 13,
      "id": "eeace76e",
      "metadata": {
        "execution": {
          "iopub.execute_input": "2024-03-01T13:58:59.144736Z",
          "iopub.status.busy": "2024-03-01T13:58:59.144573Z",
          "iopub.status.idle": "2024-03-01T13:58:59.184709Z",
          "shell.execute_reply": "2024-03-01T13:58:59.184415Z"
        }
      },
      "outputs": [],
      "source": [
        "%%capture\n",
        "plaintext_data = pw.io.fs.read(path = \"./plain_input\", format = \"plaintext\", mode=\"static\")\n",
        "pw.io.fs.write(plaintext_data,\"./unstructured_output/output1.txt\", \"csv\")\n",
        "\n",
        "plaintext_by_file_data = pw.io.fs.read(path = \"./plain_input\", format = \"plaintext_by_file\", mode=\"static\")\n",
        "pw.io.fs.write(plaintext_by_file_data,\"./unstructured_output/output2.txt\", \"csv\")\n",
        "\n",
        "binary_data = pw.io.fs.read(path = \"./plain_input\", format = \"binary\", mode=\"static\")\n",
        "pw.io.fs.write(binary_data,\"./unstructured_output/output3.txt\", \"csv\")\n",
        "\n",
        "pw.run()"
      ]
    },
    {
      "cell_type": "code",
      "execution_count": 14,
      "id": "41bf5c71",
      "metadata": {
        "execution": {
          "iopub.execute_input": "2024-03-01T13:58:59.186378Z",
          "iopub.status.busy": "2024-03-01T13:58:59.186108Z",
          "iopub.status.idle": "2024-03-01T13:59:00.145651Z",
          "shell.execute_reply": "2024-03-01T13:59:00.145266Z"
        },
        "lines_to_next_cell": 3
      },
      "outputs": [
        {
          "name": "stdout",
          "output_type": "stream",
          "text": [
            "plaintext\r\n"
          ]
        },
        {
          "name": "stdout",
          "output_type": "stream",
          "text": [
            "data,time,diff\r\n",
            "\"data2\",1709301539166,1\r\n",
            "\"test1\",1709301539166,1\r\n",
            "\"data1\",1709301539166,1\r\n",
            "\"test2\",1709301539166,1\r\n"
          ]
        },
        {
          "name": "stdout",
          "output_type": "stream",
          "text": [
            "plaintext by file\r\n"
          ]
        },
        {
          "name": "stdout",
          "output_type": "stream",
          "text": [
            "data,time,diff\r\n",
            "\"test2\\ndata2\",1709301539166,1\r\n",
            "\"test1\\ndata1\",1709301539166,1\r\n"
          ]
        },
        {
          "name": "stdout",
          "output_type": "stream",
          "text": [
            "binary\r\n"
          ]
        },
        {
          "name": "stdout",
          "output_type": "stream",
          "text": [
            "data,time,diff\r\n",
            "[116, 101, 115, 116, 50, 10, 100, 97, 116, 97, 50, 10],1709301539166,1\r\n",
            "[116, 101, 115, 116, 49, 10, 100, 97, 116, 97, 49, 10],1709301539166,1\r\n"
          ]
        }
      ],
      "source": [
        "! echo \"plaintext\"\n",
        "! cat ./unstructured_output/output1.txt\n",
        "! echo \"plaintext by file\"\n",
        "! cat ./unstructured_output/output2.txt\n",
        "! echo \"binary\"\n",
        "! cat ./unstructured_output/output3.txt"
      ]
    }
  ],
  "metadata": {
    "kernelspec": {
      "display_name": "Python 3 (ipykernel)",
      "language": "python",
      "name": "python3"
    },
    "language_info": {
      "codemirror_mode": {
        "name": "ipython",
        "version": 3
      },
      "file_extension": ".py",
      "mimetype": "text/x-python",
      "name": "python",
      "nbconvert_exporter": "python",
      "pygments_lexer": "ipython3",
      "version": "3.11.8"
    },
    "widgets": {
      "application/vnd.jupyter.widget-state+json": {
        "state": {
          "208e7701709c45279bc5b9c81eaacf5f": {
            "model_module": "@jupyter-widgets/base",
            "model_module_version": "2.0.0",
            "model_name": "LayoutModel",
            "state": {
              "_model_module": "@jupyter-widgets/base",
              "_model_module_version": "2.0.0",
              "_model_name": "LayoutModel",
              "_view_count": null,
              "_view_module": "@jupyter-widgets/base",
              "_view_module_version": "2.0.0",
              "_view_name": "LayoutView",
              "align_content": null,
              "align_items": null,
              "align_self": null,
              "border_bottom": null,
              "border_left": null,
              "border_right": null,
              "border_top": null,
              "bottom": null,
              "display": null,
              "flex": null,
              "flex_flow": null,
              "grid_area": null,
              "grid_auto_columns": null,
              "grid_auto_flow": null,
              "grid_auto_rows": null,
              "grid_column": null,
              "grid_gap": null,
              "grid_row": null,
              "grid_template_areas": null,
              "grid_template_columns": null,
              "grid_template_rows": null,
              "height": null,
              "justify_content": null,
              "justify_items": null,
              "left": null,
              "margin": null,
              "max_height": null,
              "max_width": null,
              "min_height": null,
              "min_width": null,
              "object_fit": null,
              "object_position": null,
              "order": null,
              "overflow": null,
              "padding": null,
              "right": null,
              "top": null,
              "visibility": null,
              "width": null
            }
          },
          "5456f64f68ad49aab2e1d34fb0e3e06d": {
            "model_module": "@jupyter-widgets/base",
            "model_module_version": "2.0.0",
            "model_name": "LayoutModel",
            "state": {
              "_model_module": "@jupyter-widgets/base",
              "_model_module_version": "2.0.0",
              "_model_name": "LayoutModel",
              "_view_count": null,
              "_view_module": "@jupyter-widgets/base",
              "_view_module_version": "2.0.0",
              "_view_name": "LayoutView",
              "align_content": null,
              "align_items": null,
              "align_self": null,
              "border_bottom": null,
              "border_left": null,
              "border_right": null,
              "border_top": null,
              "bottom": null,
              "display": null,
              "flex": null,
              "flex_flow": null,
              "grid_area": null,
              "grid_auto_columns": null,
              "grid_auto_flow": null,
              "grid_auto_rows": null,
              "grid_column": null,
              "grid_gap": null,
              "grid_row": null,
              "grid_template_areas": null,
              "grid_template_columns": null,
              "grid_template_rows": null,
              "height": null,
              "justify_content": null,
              "justify_items": null,
              "left": null,
              "margin": null,
              "max_height": null,
              "max_width": null,
              "min_height": null,
              "min_width": null,
              "object_fit": null,
              "object_position": null,
              "order": null,
              "overflow": null,
              "padding": null,
              "right": null,
              "top": null,
              "visibility": null,
              "width": null
            }
          },
          "5dc4b7fdf1ca4a9e892b7341454c0694": {
            "model_module": "@jupyter-widgets/output",
            "model_module_version": "1.0.0",
            "model_name": "OutputModel",
            "state": {
              "_dom_classes": [],
              "_model_module": "@jupyter-widgets/output",
              "_model_module_version": "1.0.0",
              "_model_name": "OutputModel",
              "_view_count": null,
              "_view_module": "@jupyter-widgets/output",
              "_view_module_version": "1.0.0",
              "_view_name": "OutputView",
              "layout": "IPY_MODEL_8009e78830cd48d2a75f823edfeff8a8",
              "msg_id": "",
              "outputs": [],
              "tabbable": null,
              "tooltip": null
            }
          },
          "7e28e43beee54f8ca8f9b78c1869d1b0": {
            "model_module": "@jupyter-widgets/output",
            "model_module_version": "1.0.0",
            "model_name": "OutputModel",
            "state": {
              "_dom_classes": [],
              "_model_module": "@jupyter-widgets/output",
              "_model_module_version": "1.0.0",
              "_model_name": "OutputModel",
              "_view_count": null,
              "_view_module": "@jupyter-widgets/output",
              "_view_module_version": "1.0.0",
              "_view_name": "OutputView",
              "layout": "IPY_MODEL_d371f159d4eb40c79aa22e87c849ff04",
              "msg_id": "",
              "outputs": [],
              "tabbable": null,
              "tooltip": null
            }
          },
          "8009e78830cd48d2a75f823edfeff8a8": {
            "model_module": "@jupyter-widgets/base",
            "model_module_version": "2.0.0",
            "model_name": "LayoutModel",
            "state": {
              "_model_module": "@jupyter-widgets/base",
              "_model_module_version": "2.0.0",
              "_model_name": "LayoutModel",
              "_view_count": null,
              "_view_module": "@jupyter-widgets/base",
              "_view_module_version": "2.0.0",
              "_view_name": "LayoutView",
              "align_content": null,
              "align_items": null,
              "align_self": null,
              "border_bottom": null,
              "border_left": null,
              "border_right": null,
              "border_top": null,
              "bottom": null,
              "display": null,
              "flex": null,
              "flex_flow": null,
              "grid_area": null,
              "grid_auto_columns": null,
              "grid_auto_flow": null,
              "grid_auto_rows": null,
              "grid_column": null,
              "grid_gap": null,
              "grid_row": null,
              "grid_template_areas": null,
              "grid_template_columns": null,
              "grid_template_rows": null,
              "height": null,
              "justify_content": null,
              "justify_items": null,
              "left": null,
              "margin": null,
              "max_height": null,
              "max_width": null,
              "min_height": null,
              "min_width": null,
              "object_fit": null,
              "object_position": null,
              "order": null,
              "overflow": null,
              "padding": null,
              "right": null,
              "top": null,
              "visibility": null,
              "width": null
            }
          },
          "a47ac15917e941d89120e438aa946342": {
            "model_module": "@jupyter-widgets/output",
            "model_module_version": "1.0.0",
            "model_name": "OutputModel",
            "state": {
              "_dom_classes": [],
              "_model_module": "@jupyter-widgets/output",
              "_model_module_version": "1.0.0",
              "_model_name": "OutputModel",
              "_view_count": null,
              "_view_module": "@jupyter-widgets/output",
              "_view_module_version": "1.0.0",
              "_view_name": "OutputView",
              "layout": "IPY_MODEL_208e7701709c45279bc5b9c81eaacf5f",
              "msg_id": "",
              "outputs": [],
              "tabbable": null,
              "tooltip": null
            }
          },
          "a6b2e2530fd045f292aae18ba0d4757f": {
            "model_module": "@jupyter-widgets/output",
            "model_module_version": "1.0.0",
            "model_name": "OutputModel",
            "state": {
              "_dom_classes": [],
              "_model_module": "@jupyter-widgets/output",
              "_model_module_version": "1.0.0",
              "_model_name": "OutputModel",
              "_view_count": null,
              "_view_module": "@jupyter-widgets/output",
              "_view_module_version": "1.0.0",
              "_view_name": "OutputView",
              "layout": "IPY_MODEL_5456f64f68ad49aab2e1d34fb0e3e06d",
              "msg_id": "",
              "outputs": [],
              "tabbable": null,
              "tooltip": null
            }
          },
          "bd375d47be34400d81f46a76a130791c": {
            "model_module": "@jupyter-widgets/base",
            "model_module_version": "2.0.0",
            "model_name": "LayoutModel",
            "state": {
              "_model_module": "@jupyter-widgets/base",
              "_model_module_version": "2.0.0",
              "_model_name": "LayoutModel",
              "_view_count": null,
              "_view_module": "@jupyter-widgets/base",
              "_view_module_version": "2.0.0",
              "_view_name": "LayoutView",
              "align_content": null,
              "align_items": null,
              "align_self": null,
              "border_bottom": null,
              "border_left": null,
              "border_right": null,
              "border_top": null,
              "bottom": null,
              "display": null,
              "flex": null,
              "flex_flow": null,
              "grid_area": null,
              "grid_auto_columns": null,
              "grid_auto_flow": null,
              "grid_auto_rows": null,
              "grid_column": null,
              "grid_gap": null,
              "grid_row": null,
              "grid_template_areas": null,
              "grid_template_columns": null,
              "grid_template_rows": null,
              "height": null,
              "justify_content": null,
              "justify_items": null,
              "left": null,
              "margin": null,
              "max_height": null,
              "max_width": null,
              "min_height": null,
              "min_width": null,
              "object_fit": null,
              "object_position": null,
              "order": null,
              "overflow": null,
              "padding": null,
              "right": null,
              "top": null,
              "visibility": null,
              "width": null
            }
          },
          "d27eebeaf60442e3bec6ff6fd94b68fd": {
            "model_module": "@jupyter-widgets/output",
            "model_module_version": "1.0.0",
            "model_name": "OutputModel",
            "state": {
              "_dom_classes": [],
              "_model_module": "@jupyter-widgets/output",
              "_model_module_version": "1.0.0",
              "_model_name": "OutputModel",
              "_view_count": null,
              "_view_module": "@jupyter-widgets/output",
              "_view_module_version": "1.0.0",
              "_view_name": "OutputView",
              "layout": "IPY_MODEL_bd375d47be34400d81f46a76a130791c",
              "msg_id": "",
              "outputs": [],
              "tabbable": null,
              "tooltip": null
            }
          },
          "d371f159d4eb40c79aa22e87c849ff04": {
            "model_module": "@jupyter-widgets/base",
            "model_module_version": "2.0.0",
            "model_name": "LayoutModel",
            "state": {
              "_model_module": "@jupyter-widgets/base",
              "_model_module_version": "2.0.0",
              "_model_name": "LayoutModel",
              "_view_count": null,
              "_view_module": "@jupyter-widgets/base",
              "_view_module_version": "2.0.0",
              "_view_name": "LayoutView",
              "align_content": null,
              "align_items": null,
              "align_self": null,
              "border_bottom": null,
              "border_left": null,
              "border_right": null,
              "border_top": null,
              "bottom": null,
              "display": null,
              "flex": null,
              "flex_flow": null,
              "grid_area": null,
              "grid_auto_columns": null,
              "grid_auto_flow": null,
              "grid_auto_rows": null,
              "grid_column": null,
              "grid_gap": null,
              "grid_row": null,
              "grid_template_areas": null,
              "grid_template_columns": null,
              "grid_template_rows": null,
              "height": null,
              "justify_content": null,
              "justify_items": null,
              "left": null,
              "margin": null,
              "max_height": null,
              "max_width": null,
              "min_height": null,
              "min_width": null,
              "object_fit": null,
              "object_position": null,
              "order": null,
              "overflow": null,
              "padding": null,
              "right": null,
              "top": null,
              "visibility": null,
              "width": null
            }
          }
        },
        "version_major": 2,
        "version_minor": 0
      }
    }
  },
  "nbformat": 4,
  "nbformat_minor": 5
}