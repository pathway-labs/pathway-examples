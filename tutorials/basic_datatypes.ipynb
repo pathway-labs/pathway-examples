{
  "cells": [
    {
      "cell_type": "markdown",
      "metadata": {
        "id": "view-in-colab"
      },
      "source": [
        "<a href=\"https://colab.research.google.com/github/pathwaycom/pathway-examples/blob/main/tutorials/basic_datatypes.ipynb\" target=\"_parent\"><img src=\"https://pathway.com/assets/colab-badge.svg\" alt=\"Run In Colab\" class=\"inline\"/></a>"
      ]
    },
    {
      "cell_type": "markdown",
      "source": [
        "# Installing Pathway with Python 3.10+\n",
        "\n",
        "In the cell below, we install Pathway into a Python 3.10+ Linux runtime.\n",
        "\n",
        "> **If you are running in Google Colab, please run the colab notebook (Ctrl+F9)**, disregarding the 'not authored by Google' warning.\n",
        "> \n",
        "> **The installation and loading time is less than 1 minute**.\n"
      ],
      "metadata": {
        "id": "notebook-instructions"
      }
    },
    {
      "cell_type": "code",
      "source": [
        "%%capture --no-display\n",
        "!pip install pathway"
      ],
      "metadata": {
        "id": "pip-installation-pathway",
        "cellView": "form"
      },
      "execution_count": null,
      "outputs": []
    },
    {
      "cell_type": "markdown",
      "id": "3e7617f7",
      "metadata": {
        "lines_to_next_cell": 0
      },
      "source": [
        "# Basic Data Types\n",
        "This guide is about basic data types in Pathway: it covers the list of basic data types that can be used in Pathway, explores several available conversion methods, and wraps up with examples of operators that require a column of specific data type as input.\n",
        "\n",
        "Currently, Pathway allows using the following basic Python types: `bool`, `str`, `int`, `float`, and `bytes`. Additionally, there is support for types `datetime` and `duration` from `datetime` module, distinguishing between `utc datetimes` and `naive datetimes`. Finally, Pathway also introduces an additional type for columns representing pointers, called `Pointer`. Below, you can find an example table with six columns, one example column for each of the basic Python types, and one column of type Pointer. The complex types (as datetime) need some conversion, and they are covered in [the later part of the article](/developers/user-guide/types-in-pathway/datatypes#temporal-data-types).\n",
        "The standard way to define a type in Pathway is to use a [`schema`](/developers/api-docs/pathway/#pathway.Schema) (you can learn more about schemas in this [article](/developers/user-guide/types-in-pathway/schema/)):"
      ]
    },
    {
      "cell_type": "code",
      "execution_count": 1,
      "id": "511980cd",
      "metadata": {
        "execution": {
          "iopub.execute_input": "2024-02-14T13:41:47.850314Z",
          "iopub.status.busy": "2024-02-14T13:41:47.849976Z",
          "iopub.status.idle": "2024-02-14T13:41:52.701719Z",
          "shell.execute_reply": "2024-02-14T13:41:52.700721Z"
        },
        "lines_to_next_cell": 0
      },
      "outputs": [
        {
          "name": "stderr",
          "output_type": "stream",
          "text": [
            "[2024-02-14T14:41:52]:INFO:Preparing Pathway computation\n"
          ]
        },
        {
          "name": "stdout",
          "output_type": "stream",
          "text": [
            "bool_column | str_column | bytes_column | int_column | float_column | id_in_column\n",
            "False       | text       | b'text'      | 16         | -16.42       | ^Z3QWT29...\n",
            "True        | example    | b'example'   | 42         | 42.16        | ^YYY4HAB...\n"
          ]
        }
      ],
      "source": [
        "import datetime\n",
        "import pathway as pw\n",
        "\n",
        "\n",
        "class SimpleTypesInputSchema(pw.Schema):\n",
        "    bool_column: bool\n",
        "    str_column: str\n",
        "    bytes_column: bytes\n",
        "    int_column: int\n",
        "    float_column: float\n",
        "\n",
        "example_table = pw.debug.table_from_markdown(\n",
        "    '''\n",
        "      | bool_column | str_column | bytes_column | int_column | float_column\n",
        "    1 | True        | example    | example      | 42         | 42.16\n",
        "    2 | False       | text       | text         | 16         | -16.42\n",
        "    ''', schema = SimpleTypesInputSchema\n",
        ").with_columns(id_in_column = pw.this.id)\n",
        "\n",
        "pw.debug.compute_and_print(example_table, include_id = False)"
      ]
    },
    {
      "cell_type": "markdown",
      "id": "1c9295ba",
      "metadata": {},
      "source": [
        ""
      ]
    },
    {
      "cell_type": "code",
      "execution_count": 2,
      "id": "3495b31f",
      "metadata": {
        "execution": {
          "iopub.execute_input": "2024-02-14T13:41:52.704378Z",
          "iopub.status.busy": "2024-02-14T13:41:52.703975Z",
          "iopub.status.idle": "2024-02-14T13:41:52.707613Z",
          "shell.execute_reply": "2024-02-14T13:41:52.707063Z"
        }
      },
      "outputs": [
        {
          "name": "stdout",
          "output_type": "stream",
          "text": [
            "bool_column | str_column | bytes_column | int_column | float_column | id_in_column\n",
            "BOOL        | STR        | BYTES        | INT        | FLOAT        | Pointer     \n"
          ]
        }
      ],
      "source": [
        "print(example_table.schema)"
      ]
    },
    {
      "cell_type": "markdown",
      "id": "a3edfa69",
      "metadata": {},
      "source": [
        "## Implicit Typing\n",
        "By default, you don't need to worry about they types of columns created with `select` or `with_columns`. The expressions used in those operators have defined output type, Pathway knows it, and assigns the types of new columns automatically.\n",
        "In the example below, the new column is of type `float`, as it is a result of multiplication of\n",
        "`int` column with a `float` constant."
      ]
    },
    {
      "cell_type": "code",
      "execution_count": 3,
      "id": "2a297f1f",
      "metadata": {
        "execution": {
          "iopub.execute_input": "2024-02-14T13:41:52.709541Z",
          "iopub.status.busy": "2024-02-14T13:41:52.709252Z",
          "iopub.status.idle": "2024-02-14T13:41:52.754914Z",
          "shell.execute_reply": "2024-02-14T13:41:52.754087Z"
        },
        "lines_to_next_cell": 0
      },
      "outputs": [
        {
          "name": "stderr",
          "output_type": "stream",
          "text": [
            "[2024-02-14T14:41:52]:INFO:Preparing Pathway computation\n"
          ]
        },
        {
          "name": "stdout",
          "output_type": "stream",
          "text": [
            "int_number | should_be_float_number\n",
            "16         | 8.0\n",
            "42         | 21.0\n"
          ]
        }
      ],
      "source": [
        "example_table = pw.debug.table_from_markdown(\n",
        "    '''\n",
        "      | int_number\n",
        "    1 | 16\n",
        "    2 | 42\n",
        "    '''\n",
        ")\n",
        "example_table += example_table.select(should_be_float_number = example_table.int_number*0.5)\n",
        "pw.debug.compute_and_print(example_table, include_id=False)"
      ]
    },
    {
      "cell_type": "markdown",
      "id": "6660dbc4",
      "metadata": {
        "lines_to_next_cell": 0
      },
      "source": [
        "As you can see, the type of int_number is `int`, and the new column is of type `float`."
      ]
    },
    {
      "cell_type": "code",
      "execution_count": 4,
      "id": "bad8eafb",
      "metadata": {
        "execution": {
          "iopub.execute_input": "2024-02-14T13:41:52.757426Z",
          "iopub.status.busy": "2024-02-14T13:41:52.757047Z",
          "iopub.status.idle": "2024-02-14T13:41:52.761048Z",
          "shell.execute_reply": "2024-02-14T13:41:52.760352Z"
        },
        "lines_to_next_cell": 1
      },
      "outputs": [
        {
          "name": "stdout",
          "output_type": "stream",
          "text": [
            "int_number | should_be_float_number\n",
            "INT        | FLOAT                 \n"
          ]
        }
      ],
      "source": [
        "print(example_table.schema)"
      ]
    },
    {
      "cell_type": "markdown",
      "id": "4893bf1f",
      "metadata": {
        "lines_to_next_cell": 0
      },
      "source": [
        "Similarly, the special columns produced by some of the Pathway operators (examples in the later part of the article) have fixed types and as such, you don't need to bother with the types of those columns.\n",
        "\n",
        "## Apply With Type\n",
        "Sometimes you may want to compute a value of a column, using e.g. a function from an external library, that does not define the output type explicitly. In this case, you can use either [`pw.apply`](/developers/api-docs/pathway/#pathway.apply) or [`pw.apply_with_type`](/developers/api-docs/pathway/#pathway.apply_with_type). The first creates a new column of type `any` and the other requires you to specify the type of the output of function that is applied. <!-- You can find examples of `pw.apply` or `pw.apply_with_type` in the remainder of this article, and in other dedicated article [link needed]. -->\n",
        "\n",
        "## Data types for columns storing text and unstructured data\n",
        "In Pathway you can store unstructured data either as `str` or as `bytes`. Both can be converted to other data types, either by built in methods (some examples in this article) or by user defined functions (i.e. via [`pw.apply`](/developers/api-docs/pathway/#pathway.apply) or [`pw.apply_with_type`](/developers/api-docs/pathway/#pathway.apply_with_type)).\n",
        "\n",
        "### Type `str`"
      ]
    },
    {
      "cell_type": "code",
      "execution_count": 5,
      "id": "08f4f5e6",
      "metadata": {
        "execution": {
          "iopub.execute_input": "2024-02-14T13:41:52.763114Z",
          "iopub.status.busy": "2024-02-14T13:41:52.762895Z",
          "iopub.status.idle": "2024-02-14T13:41:52.781269Z",
          "shell.execute_reply": "2024-02-14T13:41:52.780580Z"
        },
        "lines_to_next_cell": 0
      },
      "outputs": [],
      "source": [
        "class StrExampleInputSchema(pw.Schema):\n",
        "    text: str\n",
        "\n",
        "str_table = pw.debug.table_from_markdown(\n",
        "    '''\n",
        "      | text\n",
        "    1 | cd\n",
        "    2 | dd\n",
        "    ''', schema = StrExampleInputSchema\n",
        ")"
      ]
    },
    {
      "cell_type": "markdown",
      "id": "157f602c",
      "metadata": {
        "lines_to_next_cell": 0
      },
      "source": [
        "Below is an example of conversion from `str` to `bytes`. Currently, there is no built-in conversion method. The recommended way is to use `apply_with_type`."
      ]
    },
    {
      "cell_type": "code",
      "execution_count": 6,
      "id": "49c96b15",
      "metadata": {
        "execution": {
          "iopub.execute_input": "2024-02-14T13:41:52.784259Z",
          "iopub.status.busy": "2024-02-14T13:41:52.783857Z",
          "iopub.status.idle": "2024-02-14T13:41:52.806496Z",
          "shell.execute_reply": "2024-02-14T13:41:52.805910Z"
        },
        "lines_to_next_cell": 0
      },
      "outputs": [
        {
          "name": "stderr",
          "output_type": "stream",
          "text": [
            "[2024-02-14T14:41:52]:INFO:Preparing Pathway computation\n"
          ]
        },
        {
          "name": "stdout",
          "output_type": "stream",
          "text": [
            "text | text_as_bytes\n",
            "cd   | b'cd'\n",
            "dd   | b'dd'\n"
          ]
        }
      ],
      "source": [
        "str_table = str_table.with_columns(text_as_bytes = pw.apply_with_type(lambda x: x.encode(\"utf8\"), bytes, str_table.text))\n",
        "\n",
        "pw.debug.compute_and_print(str_table, include_id=False)"
      ]
    },
    {
      "cell_type": "markdown",
      "id": "2f6110e5",
      "metadata": {},
      "source": [
        ""
      ]
    },
    {
      "cell_type": "code",
      "execution_count": 7,
      "id": "f190699a",
      "metadata": {
        "execution": {
          "iopub.execute_input": "2024-02-14T13:41:52.808482Z",
          "iopub.status.busy": "2024-02-14T13:41:52.808083Z",
          "iopub.status.idle": "2024-02-14T13:41:52.811143Z",
          "shell.execute_reply": "2024-02-14T13:41:52.810649Z"
        },
        "lines_to_next_cell": 0
      },
      "outputs": [
        {
          "name": "stdout",
          "output_type": "stream",
          "text": [
            "text | text_as_bytes\n",
            "STR  | BYTES        \n"
          ]
        }
      ],
      "source": [
        "print(str_table.schema)"
      ]
    },
    {
      "cell_type": "markdown",
      "id": "1010958d",
      "metadata": {
        "lines_to_next_cell": 0
      },
      "source": [
        "### Module `str`\n",
        "Furthermore, Pathway provides a [string module](/developers/api-docs/pathway/#pathway.internals.expressions.StringNamespace) containing string operations. Among other things, it provides several methods that allow parsing converting `str` to other simple types, accessible via the `str` namespace of column (e.g. `table_name.column_name.str.parse_*`). You can find examples of usage of those methods in the [remaining part of this article](/developers/user-guide/types-in-pathway/datatypes#parse-numbers-from-str).\n",
        "\n",
        "### Type `bytes`"
      ]
    },
    {
      "cell_type": "code",
      "execution_count": 8,
      "id": "864d4cfe",
      "metadata": {
        "execution": {
          "iopub.execute_input": "2024-02-14T13:41:52.812956Z",
          "iopub.status.busy": "2024-02-14T13:41:52.812571Z",
          "iopub.status.idle": "2024-02-14T13:41:52.822684Z",
          "shell.execute_reply": "2024-02-14T13:41:52.822190Z"
        }
      },
      "outputs": [],
      "source": [
        "class BytesExampleInputSchema(pw.Schema):\n",
        "    bytes_from_markdown: bytes\n",
        "\n",
        "bytes_table = pw.debug.table_from_markdown(\n",
        "    '''\n",
        "      | bytes_from_markdown\n",
        "    1 | cd\n",
        "    2 | dd\n",
        "    ''', schema = BytesExampleInputSchema\n",
        ")"
      ]
    },
    {
      "cell_type": "markdown",
      "id": "b261b2e8",
      "metadata": {
        "lines_to_next_cell": 0
      },
      "source": [
        "Below is an example of conversion from `bytes` to `str`. Currently, there is no built-in conversion method. The recommended way is to use `apply_with_type`. Remark: the `to_string` function does not decode the bytes, but shows a string representation of byte numbers."
      ]
    },
    {
      "cell_type": "code",
      "execution_count": 9,
      "id": "87f3ff45",
      "metadata": {
        "execution": {
          "iopub.execute_input": "2024-02-14T13:41:52.824286Z",
          "iopub.status.busy": "2024-02-14T13:41:52.824140Z",
          "iopub.status.idle": "2024-02-14T13:41:52.852350Z",
          "shell.execute_reply": "2024-02-14T13:41:52.851601Z"
        },
        "lines_to_next_cell": 0
      },
      "outputs": [
        {
          "name": "stderr",
          "output_type": "stream",
          "text": [
            "[2024-02-14T14:41:52]:INFO:Preparing Pathway computation\n"
          ]
        },
        {
          "name": "stdout",
          "output_type": "stream",
          "text": [
            "bytes_from_markdown | text_from_bytes | text_representation_of_bytes\n",
            "b'cd'               | cd              | [99, 100]\n",
            "b'dd'               | dd              | [100, 100]\n"
          ]
        }
      ],
      "source": [
        "bytes_table = bytes_table.with_columns(\n",
        "    text_from_bytes = pw.apply_with_type(lambda x: x.decode(\"utf8\"), str, bytes_table.bytes_from_markdown),\n",
        "    text_representation_of_bytes = bytes_table.bytes_from_markdown.to_string()\n",
        ")\n",
        "\n",
        "pw.debug.compute_and_print(bytes_table, include_id=False)"
      ]
    },
    {
      "cell_type": "markdown",
      "id": "db836d87",
      "metadata": {
        "lines_to_next_cell": 0
      },
      "source": [
        ""
      ]
    },
    {
      "cell_type": "code",
      "execution_count": 10,
      "id": "a2b44f37",
      "metadata": {
        "execution": {
          "iopub.execute_input": "2024-02-14T13:41:52.854442Z",
          "iopub.status.busy": "2024-02-14T13:41:52.854055Z",
          "iopub.status.idle": "2024-02-14T13:41:52.857505Z",
          "shell.execute_reply": "2024-02-14T13:41:52.856973Z"
        },
        "lines_to_next_cell": 1
      },
      "outputs": [
        {
          "name": "stdout",
          "output_type": "stream",
          "text": [
            "bytes_from_markdown | text_from_bytes | text_representation_of_bytes\n",
            "BYTES               | STR             | STR                         \n"
          ]
        }
      ],
      "source": [
        "print(bytes_table.schema)"
      ]
    },
    {
      "cell_type": "markdown",
      "id": "3e86a6ba",
      "metadata": {
        "lines_to_next_cell": 0
      },
      "source": [
        "## Numerical Data Types\n",
        "Pathway supports operations on Python `int` and `float` types, and on their `numpy` counterparts. Below, you can find a few short examples that read and convert numbers in Pathway.\n",
        "\n",
        "### Type `int`"
      ]
    },
    {
      "cell_type": "code",
      "execution_count": 11,
      "id": "14e71f65",
      "metadata": {
        "execution": {
          "iopub.execute_input": "2024-02-14T13:41:52.859299Z",
          "iopub.status.busy": "2024-02-14T13:41:52.858948Z",
          "iopub.status.idle": "2024-02-14T13:41:52.870371Z",
          "shell.execute_reply": "2024-02-14T13:41:52.869815Z"
        }
      },
      "outputs": [],
      "source": [
        "class IntExampleInputSchema(pw.Schema):\n",
        "    int_number: int\n",
        "\n",
        "int_table = pw.debug.table_from_markdown(\n",
        "        '''\n",
        "    | int_number\n",
        "  1 | 2\n",
        "  2 | 3\n",
        "  ''', schema = IntExampleInputSchema\n",
        ")"
      ]
    },
    {
      "cell_type": "markdown",
      "id": "ca39ec2e",
      "metadata": {
        "lines_to_next_cell": 0
      },
      "source": [
        "Similarly, as in the conversion between `str` and `bytes`, you can use `apply_with_type` to convert a column of type `int` into a column of type `float`. Furthermore, it can be expressed in a more concise way, with `apply`. Moreover, in this case you can also use the built-in `cast` function. All mentioned examples can be found in the code snippet below:"
      ]
    },
    {
      "cell_type": "code",
      "execution_count": 12,
      "id": "3d3d2b57",
      "metadata": {
        "execution": {
          "iopub.execute_input": "2024-02-14T13:41:52.872363Z",
          "iopub.status.busy": "2024-02-14T13:41:52.871881Z",
          "iopub.status.idle": "2024-02-14T13:41:52.907452Z",
          "shell.execute_reply": "2024-02-14T13:41:52.906823Z"
        },
        "lines_to_next_cell": 0
      },
      "outputs": [
        {
          "name": "stderr",
          "output_type": "stream",
          "text": [
            "[2024-02-14T14:41:52]:INFO:Preparing Pathway computation\n"
          ]
        },
        {
          "name": "stdout",
          "output_type": "stream",
          "text": [
            "int_number | int_as_float | int_as_float_via_constructor | int_as_float_casted\n",
            "2          | 2.0          | 2.0                          | 2.0\n",
            "3          | 3.0          | 3.0                          | 3.0\n"
          ]
        }
      ],
      "source": [
        "int_table = int_table.with_columns(\n",
        "    int_as_float = pw.apply_with_type(lambda x: float(x), float, int_table.int_number),\n",
        "    int_as_float_via_constructor = pw.apply(float, int_table.int_number),\n",
        "    int_as_float_casted = pw.cast(float, int_table.int_number)\n",
        ")\n",
        "\n",
        "\n",
        "pw.debug.compute_and_print(int_table, include_id=False)"
      ]
    },
    {
      "cell_type": "markdown",
      "id": "ef4e1b3d",
      "metadata": {},
      "source": [
        ""
      ]
    },
    {
      "cell_type": "code",
      "execution_count": 13,
      "id": "ceb4f718",
      "metadata": {
        "execution": {
          "iopub.execute_input": "2024-02-14T13:41:52.909459Z",
          "iopub.status.busy": "2024-02-14T13:41:52.908985Z",
          "iopub.status.idle": "2024-02-14T13:41:52.912564Z",
          "shell.execute_reply": "2024-02-14T13:41:52.911976Z"
        },
        "lines_to_next_cell": 1
      },
      "outputs": [
        {
          "name": "stdout",
          "output_type": "stream",
          "text": [
            "int_number | int_as_float | int_as_float_via_constructor | int_as_float_casted\n",
            "INT        | FLOAT        | FLOAT                        | FLOAT              \n"
          ]
        }
      ],
      "source": [
        "print(int_table.schema)"
      ]
    },
    {
      "cell_type": "markdown",
      "id": "cd2bac36",
      "metadata": {
        "lines_to_next_cell": 0
      },
      "source": [
        "### Type `float`"
      ]
    },
    {
      "cell_type": "code",
      "execution_count": 14,
      "id": "f6c40b8a",
      "metadata": {
        "execution": {
          "iopub.execute_input": "2024-02-14T13:41:52.914516Z",
          "iopub.status.busy": "2024-02-14T13:41:52.914116Z",
          "iopub.status.idle": "2024-02-14T13:41:52.927302Z",
          "shell.execute_reply": "2024-02-14T13:41:52.926768Z"
        }
      },
      "outputs": [],
      "source": [
        "class FloatExampleInputSchema(pw.Schema):\n",
        "    float_number: float\n",
        "    another_float_number: float\n",
        "\n",
        "float_table = pw.debug.table_from_markdown(\n",
        "        '''\n",
        "    | float_number | another_float_number\n",
        "  1 | 2            | -5.7\n",
        "  2 | 3            | 6.6\n",
        "  ''', schema = FloatExampleInputSchema\n",
        ")"
      ]
    },
    {
      "cell_type": "markdown",
      "id": "b8d6c612",
      "metadata": {
        "lines_to_next_cell": 0
      },
      "source": [
        "As in the case of conversion from `int` to `float`, you can use `pw.cast` to convert data from type `float` to `int`."
      ]
    },
    {
      "cell_type": "code",
      "execution_count": 15,
      "id": "45823688",
      "metadata": {
        "execution": {
          "iopub.execute_input": "2024-02-14T13:41:52.929206Z",
          "iopub.status.busy": "2024-02-14T13:41:52.928793Z",
          "iopub.status.idle": "2024-02-14T13:41:52.944263Z",
          "shell.execute_reply": "2024-02-14T13:41:52.943715Z"
        },
        "lines_to_next_cell": 1
      },
      "outputs": [
        {
          "name": "stdout",
          "output_type": "stream",
          "text": [
            "float_number | another_float_number | another_number_as_int\n",
            "FLOAT        | FLOAT                | INT                  \n"
          ]
        }
      ],
      "source": [
        "float_table = float_table.with_columns(another_number_as_int = pw.cast(int, float_table.another_float_number))\n",
        "print(float_table.schema)"
      ]
    },
    {
      "cell_type": "markdown",
      "id": "172cbd93",
      "metadata": {},
      "source": [
        "### Parse numbers from `str`\n",
        "Below, you can find an application of the parsing methods from the `str` namespace ([`parse_int`](/developers/api-docs/pathway/#pathway.internals.expressions.StringNamespace.parse_int) and [`parse_float`](/developers/api-docs/pathway/#pathway.internals.expressions.StringNamespace.parse_float)) to parse ints and floats for columns of type `str`."
      ]
    },
    {
      "cell_type": "code",
      "execution_count": 16,
      "id": "bf721360",
      "metadata": {
        "execution": {
          "iopub.execute_input": "2024-02-14T13:41:52.946068Z",
          "iopub.status.busy": "2024-02-14T13:41:52.945658Z",
          "iopub.status.idle": "2024-02-14T13:41:52.990677Z",
          "shell.execute_reply": "2024-02-14T13:41:52.990041Z"
        }
      },
      "outputs": [
        {
          "name": "stderr",
          "output_type": "stream",
          "text": [
            "[2024-02-14T14:41:52]:INFO:Preparing Pathway computation\n"
          ]
        },
        {
          "name": "stdout",
          "output_type": "stream",
          "text": [
            "            | number | number_as_int | number_as_float | number_with_extra_text\n",
            "^YYY4HAB... | 2      | 2             | 2.0             | 2a\n",
            "^Z3QWT29... | 3      | 3             | 3.0             | 3a\n"
          ]
        }
      ],
      "source": [
        "class StrNumberExampleInputSchema(pw.Schema):\n",
        "    number: str\n",
        "\n",
        "str_number_table = pw.debug.table_from_markdown(\n",
        "        '''\n",
        "    | number\n",
        "  1 | 2\n",
        "  2 | 3\n",
        "  ''', schema = StrNumberExampleInputSchema\n",
        ")\n",
        "\n",
        "str_number_table = str_number_table.with_columns(\n",
        "    number_as_int = str_number_table.number.str.parse_int(),\n",
        "    number_as_float = str_number_table.number.str.parse_float(),\n",
        "    number_with_extra_text = str_number_table.number + \"a\"\n",
        ")\n",
        "\n",
        "pw.debug.compute_and_print(str_number_table)"
      ]
    },
    {
      "cell_type": "markdown",
      "id": "b4fcec6c",
      "metadata": {},
      "source": [
        "As you can see, the schema shows that the original column was of type `str`, and each new column has a different type, as expected."
      ]
    },
    {
      "cell_type": "code",
      "execution_count": 17,
      "id": "3ed0349b",
      "metadata": {
        "execution": {
          "iopub.execute_input": "2024-02-14T13:41:52.992465Z",
          "iopub.status.busy": "2024-02-14T13:41:52.992128Z",
          "iopub.status.idle": "2024-02-14T13:41:52.995178Z",
          "shell.execute_reply": "2024-02-14T13:41:52.994615Z"
        },
        "lines_to_next_cell": 1
      },
      "outputs": [
        {
          "name": "stdout",
          "output_type": "stream",
          "text": [
            "number | number_as_int | number_as_float | number_with_extra_text\n",
            "STR    | INT           | FLOAT           | STR                   \n"
          ]
        }
      ],
      "source": [
        "print(str_number_table.schema)"
      ]
    },
    {
      "cell_type": "markdown",
      "id": "30a9284b",
      "metadata": {},
      "source": [
        "### Numerical Module\n",
        "In case you need to use some basic operations on columns of numerical type, Pathway provides a [module](/developers/api-docs/pathway/#pathway.internals.expressions.NumericalNamespace) containing functions over numerical data types such as [`abs`](/developers/api-docs/pathway/#pathway.internals.expressions.NumericalNamespace.abs) or [`round`](/developers/api-docs/pathway/#pathway.internals.expressions.NumericalNamespace.round)."
      ]
    },
    {
      "cell_type": "markdown",
      "id": "e76f24ad",
      "metadata": {},
      "source": [
        "## Temporal Data Types\n",
        "In Pathway, temporal data types (`datetime.datetime`) are complex data types with some representation as some simple type (as `int` or `str`). As such, you first need to load the input as simple type, and only then convert it to temporal type.\n",
        "Similarly to Python, Pathway distinguishes between [naive datetime](/developers/api-docs/pathway/#pathway.DateTimeNaive) (not aware of timezones) and [UTC datetime](/developers/api-docs/pathway/#pathway.DateTimeUtc) (aware of time zones).\n",
        "Below, you can find examples of reading both kinds of datetime, initially provided as `str` and `int`, using methods from the Pathway [`dt` module](/developers/api-docs/pathway/#pathway.internals.expressions.DateTimeNamespace):"
      ]
    },
    {
      "cell_type": "code",
      "execution_count": 18,
      "id": "0bd365f5",
      "metadata": {
        "execution": {
          "iopub.execute_input": "2024-02-14T13:41:52.996972Z",
          "iopub.status.busy": "2024-02-14T13:41:52.996595Z",
          "iopub.status.idle": "2024-02-14T13:41:53.070389Z",
          "shell.execute_reply": "2024-02-14T13:41:53.069730Z"
        },
        "lines_to_next_cell": 0
      },
      "outputs": [
        {
          "name": "stderr",
          "output_type": "stream",
          "text": [
            "[2024-02-14T14:41:53]:INFO:Preparing Pathway computation\n"
          ]
        },
        {
          "name": "stdout",
          "output_type": "stream",
          "text": [
            "            | t1                  | t2            | dt1                 | dt2                 | difference\n",
            "^X1MXHYY... | 2023-05-15T10:13:00 | 1684138380000 | 2023-05-15 10:13:00 | 2023-05-15 08:13:00 | 0 days 02:00:00\n",
            "t1  | t2  | dt1             | dt2             | difference\n",
            "STR | INT | DATE_TIME_NAIVE | DATE_TIME_NAIVE | DURATION  \n"
          ]
        }
      ],
      "source": [
        "class DatetimeNaiveExampleInputSchema(pw.Schema):\n",
        "    t1: str\n",
        "    t2: int\n",
        "\n",
        "naive_datetime = pw.debug.table_from_markdown(\n",
        "        \"\"\"\n",
        "      |         t1          |      t2\n",
        "    0 | 2023-05-15T10:13:00 | 1684138380000\n",
        "    \"\"\", schema = DatetimeNaiveExampleInputSchema\n",
        ")\n",
        "fmt = \"%Y-%m-%dT%H:%M:%S\"\n",
        "naive_datetime = naive_datetime.with_columns(\n",
        "    dt1 = naive_datetime.t1.dt.strptime(fmt=fmt),\n",
        "    dt2 = naive_datetime.t2.dt.from_timestamp(\"ms\")\n",
        ")\n",
        "\n",
        "naive_datetime = naive_datetime.with_columns(\n",
        "    difference = naive_datetime.dt1 - naive_datetime.dt2\n",
        ")\n",
        "\n",
        "pw.debug.compute_and_print(naive_datetime)\n",
        "\n",
        "print(naive_datetime.schema)"
      ]
    },
    {
      "cell_type": "markdown",
      "id": "46210f50",
      "metadata": {},
      "source": [
        ""
      ]
    },
    {
      "cell_type": "code",
      "execution_count": 19,
      "id": "f74af6ea",
      "metadata": {
        "execution": {
          "iopub.execute_input": "2024-02-14T13:41:53.072698Z",
          "iopub.status.busy": "2024-02-14T13:41:53.072203Z",
          "iopub.status.idle": "2024-02-14T13:41:53.136674Z",
          "shell.execute_reply": "2024-02-14T13:41:53.135987Z"
        },
        "lines_to_next_cell": 1
      },
      "outputs": [
        {
          "name": "stderr",
          "output_type": "stream",
          "text": [
            "[2024-02-14T14:41:53]:INFO:Preparing Pathway computation\n"
          ]
        },
        {
          "name": "stdout",
          "output_type": "stream",
          "text": [
            "            | t1                        | t2            | dt1                       | dt2                       | difference\n",
            "^X1MXHYY... | 2023-05-15T10:13:00+01:00 | 1684138380000 | 2023-05-15 09:13:00+00:00 | 2023-05-15 08:13:00+00:00 | 0 days 01:00:00\n",
            "t1  | t2  | dt1           | dt2           | difference\n",
            "STR | INT | DATE_TIME_UTC | DATE_TIME_UTC | DURATION  \n"
          ]
        }
      ],
      "source": [
        "utc_datetime = pw.debug.table_from_markdown(\n",
        "        \"\"\"\n",
        "      |         t1                |      t2\n",
        "    0 | 2023-05-15T10:13:00+01:00 | 1684138380000\n",
        "    \"\"\", schema = DatetimeNaiveExampleInputSchema\n",
        ")\n",
        "\n",
        "fmt = \"%Y-%m-%dT%H:%M:%S%z\"\n",
        "utc_datetime = utc_datetime.with_columns(\n",
        "    dt1 = utc_datetime.t1.dt.strptime(fmt=fmt),\n",
        "    dt2 = utc_datetime.t2.dt.utc_from_timestamp(\"ms\")\n",
        ")\n",
        "\n",
        "utc_datetime = utc_datetime.with_columns(\n",
        "    difference = utc_datetime.dt1 - utc_datetime.dt2\n",
        ")\n",
        "\n",
        "pw.debug.compute_and_print(utc_datetime)\n",
        "\n",
        "print(utc_datetime.schema)"
      ]
    },
    {
      "cell_type": "markdown",
      "id": "e5ede5e7",
      "metadata": {
        "lines_to_next_cell": 0
      },
      "source": [
        "## Type `bool`\n",
        "Below, you can find a piece of code reading and converting boolean data."
      ]
    },
    {
      "cell_type": "code",
      "execution_count": 20,
      "id": "718ab4a2",
      "metadata": {
        "execution": {
          "iopub.execute_input": "2024-02-14T13:41:53.138657Z",
          "iopub.status.busy": "2024-02-14T13:41:53.138260Z",
          "iopub.status.idle": "2024-02-14T13:41:53.485108Z",
          "shell.execute_reply": "2024-02-14T13:41:53.484293Z"
        }
      },
      "outputs": [
        {
          "name": "stderr",
          "output_type": "stream",
          "text": [
            "[2024-02-14T14:41:53]:INFO:Preparing Pathway computation\n"
          ]
        },
        {
          "name": "stdout",
          "output_type": "stream",
          "text": [
            "boolean_column | bool_as_str | bool_as_str_as_bool_parse\n",
            "False          | False       | False\n",
            "True           | True        | True\n",
            "boolean_column | bool_as_str | bool_as_str_as_bool_parse\n",
            "BOOL           | STR         | BOOL                     \n"
          ]
        }
      ],
      "source": [
        "class BoolExampleInputSchema(pw.Schema):\n",
        "    boolean_column: bool\n",
        "\n",
        "bool_table = pw.debug.table_from_markdown(\n",
        "        '''\n",
        "    | boolean_column\n",
        "  1 | True\n",
        "  2 | False\n",
        "  ''', schema = BoolExampleInputSchema\n",
        ")\n",
        "\n",
        "\n",
        "bool_table = bool_table.with_columns(bool_as_str = bool_table.boolean_column.to_string())\n",
        "bool_table = bool_table.with_columns(bool_as_str_as_bool_parse = bool_table.bool_as_str.str.parse_bool())\n",
        "pw.debug.compute_and_print(bool_table, include_id=False)\n",
        "print(bool_table.schema)"
      ]
    },
    {
      "cell_type": "markdown",
      "id": "81534bd3",
      "metadata": {
        "lines_to_next_cell": 0
      },
      "source": [
        "Warning: please do not use cast to convert boolean data type. While it is possible to call it, its behavior is counterintuitive and will be deprecated. Below, we demonstrate the odd behavior."
      ]
    },
    {
      "cell_type": "code",
      "execution_count": 21,
      "id": "c2b9db42",
      "metadata": {
        "execution": {
          "iopub.execute_input": "2024-02-14T13:41:53.487303Z",
          "iopub.status.busy": "2024-02-14T13:41:53.486864Z",
          "iopub.status.idle": "2024-02-14T13:41:53.514377Z",
          "shell.execute_reply": "2024-02-14T13:41:53.513817Z"
        },
        "lines_to_next_cell": 1
      },
      "outputs": [
        {
          "name": "stderr",
          "output_type": "stream",
          "text": [
            "[2024-02-14T14:41:53]:INFO:Preparing Pathway computation\n"
          ]
        },
        {
          "name": "stdout",
          "output_type": "stream",
          "text": [
            "boolean_column | bool_as_str | bool_as_str_as_bool_parse | bool_as_str_as_bool_cast\n",
            "False          | False       | False                     | True\n",
            "True           | True        | True                      | True\n",
            "boolean_column | bool_as_str | bool_as_str_as_bool_parse | bool_as_str_as_bool_cast\n",
            "BOOL           | STR         | BOOL                      | BOOL                    \n"
          ]
        }
      ],
      "source": [
        "bool_table = bool_table.with_columns(bool_as_str_as_bool_cast = pw.cast(bool, bool_table.bool_as_str))\n",
        "pw.debug.compute_and_print(bool_table, include_id=False)\n",
        "print(bool_table.schema)"
      ]
    },
    {
      "cell_type": "markdown",
      "id": "a7680879",
      "metadata": {
        "lines_to_next_cell": 0
      },
      "source": [
        "## Optional Data Types\n",
        "Sometimes, you don't have a guarantee that the data is always present. To accommodate for such columns, Pathway provides support for the `Optional` data type. More precisely, whenever you expect the column to have values of type `T`, but not necessarily always present, the type of Pathway column to store this data should be `Optional[T]` which can also be denoted as `T | None`. Below, you can find a short example of the column with optional floats and two conversion methods."
      ]
    },
    {
      "cell_type": "code",
      "execution_count": 22,
      "id": "7d427852",
      "metadata": {
        "execution": {
          "iopub.execute_input": "2024-02-14T13:41:53.516419Z",
          "iopub.status.busy": "2024-02-14T13:41:53.515916Z",
          "iopub.status.idle": "2024-02-14T13:41:53.528409Z",
          "shell.execute_reply": "2024-02-14T13:41:53.527810Z"
        }
      },
      "outputs": [
        {
          "name": "stderr",
          "output_type": "stream",
          "text": [
            "[2024-02-14T14:41:53]:INFO:Preparing Pathway computation\n"
          ]
        },
        {
          "name": "stdout",
          "output_type": "stream",
          "text": [
            "opt_float_num\n",
            "None\n",
            "1.0\n",
            "2.0\n",
            "opt_float_num\n",
            "Optional(FLOAT)\n"
          ]
        }
      ],
      "source": [
        "class OptInputSchema(pw.Schema):\n",
        "    opt_float_num: float | None\n",
        "\n",
        "t = pw.debug.table_from_markdown(\n",
        "    \"\"\"\n",
        "    | opt_float_num\n",
        "1   | 1\n",
        "2   | 2\n",
        "3   | None\n",
        "\"\"\",\n",
        "    schema=OptInputSchema,\n",
        ")\n",
        "\n",
        "pw.debug.compute_and_print(t, include_id=False)\n",
        "print(t.schema)"
      ]
    },
    {
      "cell_type": "markdown",
      "id": "b1132874",
      "metadata": {
        "lines_to_next_cell": 0
      },
      "source": [
        "To obtain a column with a non-optional type, you can filter the non-empty values using `filter` and `is_not_none`:"
      ]
    },
    {
      "cell_type": "code",
      "execution_count": 23,
      "id": "54eb76b9",
      "metadata": {
        "execution": {
          "iopub.execute_input": "2024-02-14T13:41:53.530125Z",
          "iopub.status.busy": "2024-02-14T13:41:53.529975Z",
          "iopub.status.idle": "2024-02-14T13:41:53.560001Z",
          "shell.execute_reply": "2024-02-14T13:41:53.559379Z"
        },
        "lines_to_next_cell": 0
      },
      "outputs": [
        {
          "name": "stderr",
          "output_type": "stream",
          "text": [
            "[2024-02-14T14:41:53]:INFO:Preparing Pathway computation\n"
          ]
        },
        {
          "name": "stdout",
          "output_type": "stream",
          "text": [
            "float_num\n",
            "1.0\n",
            "2.0\n",
            "float_num\n",
            "FLOAT    \n"
          ]
        }
      ],
      "source": [
        "t1 = t.filter(t.opt_float_num.is_not_none()).rename_columns(float_num = t.opt_float_num)\n",
        "pw.debug.compute_and_print(t1, include_id=False)\n",
        "print(t1.schema)"
      ]
    },
    {
      "cell_type": "markdown",
      "id": "064d285a",
      "metadata": {
        "lines_to_next_cell": 0
      },
      "source": [
        "The more general way of making the type non-optional is via `unwrap`. The code below is equivalent to the application of `filter` and `is_not_none()` above."
      ]
    },
    {
      "cell_type": "code",
      "execution_count": 24,
      "id": "9d1f2e18",
      "metadata": {
        "execution": {
          "iopub.execute_input": "2024-02-14T13:41:53.561947Z",
          "iopub.status.busy": "2024-02-14T13:41:53.561582Z",
          "iopub.status.idle": "2024-02-14T13:41:53.591535Z",
          "shell.execute_reply": "2024-02-14T13:41:53.590875Z"
        }
      },
      "outputs": [
        {
          "name": "stderr",
          "output_type": "stream",
          "text": [
            "[2024-02-14T14:41:53]:INFO:Preparing Pathway computation\n"
          ]
        },
        {
          "name": "stdout",
          "output_type": "stream",
          "text": [
            "float_num\n",
            "1.0\n",
            "2.0\n",
            "float_num\n",
            "FLOAT    \n"
          ]
        }
      ],
      "source": [
        "\n",
        "t2 = t.filter(t.opt_float_num != None)\n",
        "t2 = t2.with_columns(float_num = pw.unwrap(t2.opt_float_num)).without(t2.opt_float_num)\n",
        "pw.debug.compute_and_print(t2, include_id=False)\n",
        "print(t2.schema)"
      ]
    },
    {
      "cell_type": "markdown",
      "id": "fbc35b3b",
      "metadata": {
        "lines_to_next_cell": 0
      },
      "source": [
        "## Operators with Type Constraints\n",
        "Pathway provides several operators requiring input columns to have specific types. The input types are constrained because the functions are not defined for all types, e.g., temporal operators require time-like input columns, sort operator requires data to be sortable, and `diff` requires that we can subtract two elements of considered type.\n",
        "\n",
        "### Temporal operators\n",
        "An example of a temporal operator is the `windowby` operator. Its first argument is `time_expr` - the operator uses this column to store time associated with each row and then uses it according to window type and temporal behavior defined in other parameters. Since this column is supposed to represent time, we accept the types `int`, `float`, `datetime`, as they can be reasonably used to do so. In the example below, the `windowby` operator uses a column with naive `datetime`."
      ]
    },
    {
      "cell_type": "code",
      "execution_count": 25,
      "id": "2803793f",
      "metadata": {
        "execution": {
          "iopub.execute_input": "2024-02-14T13:41:53.593618Z",
          "iopub.status.busy": "2024-02-14T13:41:53.593164Z",
          "iopub.status.idle": "2024-02-14T13:41:53.745036Z",
          "shell.execute_reply": "2024-02-14T13:41:53.744142Z"
        }
      },
      "outputs": [
        {
          "name": "stderr",
          "output_type": "stream",
          "text": [
            "[2024-02-14T14:41:53]:INFO:Preparing Pathway computation\n"
          ]
        },
        {
          "name": "stdout",
          "output_type": "stream",
          "text": [
            "window_start        | chocolate_bars\n",
            "2023-06-22 09:00:00 | 5\n",
            "2023-06-22 09:30:00 | 1\n",
            "2023-06-22 10:00:00 | 2\n"
          ]
        }
      ],
      "source": [
        "fmt = \"%Y-%m-%dT%H:%M:%S\"\n",
        "\n",
        "table = pw.debug.table_from_markdown(\n",
        "    \"\"\"\n",
        "    | time                  | number\n",
        " 0  | 2023-06-22T09:12:34   | 2\n",
        " 1  | 2023-06-22T09:23:56   | 2\n",
        " 2  | 2023-06-22T09:45:20   | 1\n",
        " 3  | 2023-06-22T09:06:30   | 1\n",
        " 4  | 2023-06-22T10:11:42   | 2\n",
        "\"\"\"\n",
        ").with_columns(time=pw.this.time.dt.strptime(fmt))\n",
        "\n",
        "result = table.windowby(\n",
        "    table.time,\n",
        "    window=pw.temporal.tumbling(duration=datetime.timedelta(minutes=30)),\n",
        ").reduce(\n",
        "    window_start = pw.this._pw_window_start,\n",
        "    chocolate_bars=pw.reducers.sum(pw.this.number),\n",
        ")\n",
        "\n",
        "pw.debug.compute_and_print(result, include_id=False)"
      ]
    },
    {
      "cell_type": "markdown",
      "id": "ee1c87a4",
      "metadata": {
        "lines_to_next_cell": 0
      },
      "source": [
        "### Sorting Operator\n",
        "Another example of an operator that accepts type-constrained columns is `sort`. It requires that the values in the column can be sorted (i.e., the column has type with total order). Currently, it can be used with all simple types, however please take into account that comparing elements of type `str` or `bytes` may be slow, so it's generally not recommended."
      ]
    },
    {
      "cell_type": "code",
      "execution_count": 26,
      "id": "a7f3bfa0",
      "metadata": {
        "execution": {
          "iopub.execute_input": "2024-02-14T13:41:53.747385Z",
          "iopub.status.busy": "2024-02-14T13:41:53.747209Z",
          "iopub.status.idle": "2024-02-14T13:41:53.770036Z",
          "shell.execute_reply": "2024-02-14T13:41:53.769455Z"
        }
      },
      "outputs": [
        {
          "name": "stdout",
          "output_type": "stream",
          "text": [
            "prev              | next              | value | value_str\n",
            "Optional(Pointer) | Optional(Pointer) | INT   | STR      \n"
          ]
        }
      ],
      "source": [
        "table_to_sort = pw.debug.table_from_markdown('''\n",
        "    value  | value_str\n",
        "    1      | de\n",
        "    2      | fg\n",
        "    3      | cd\n",
        "    4      | ab\n",
        "    5      | ef\n",
        "    6      | bc\n",
        "''')\n",
        "\n",
        "sorted_by_value = table_to_sort.sort(table_to_sort.value) + table_to_sort\n",
        "print(sorted_by_value.schema)"
      ]
    },
    {
      "cell_type": "markdown",
      "id": "a1742343",
      "metadata": {},
      "source": [
        ""
      ]
    },
    {
      "cell_type": "code",
      "execution_count": 27,
      "id": "60ba5aab",
      "metadata": {
        "execution": {
          "iopub.execute_input": "2024-02-14T13:41:53.772231Z",
          "iopub.status.busy": "2024-02-14T13:41:53.771730Z",
          "iopub.status.idle": "2024-02-14T13:41:53.787354Z",
          "shell.execute_reply": "2024-02-14T13:41:53.786742Z"
        }
      },
      "outputs": [
        {
          "name": "stdout",
          "output_type": "stream",
          "text": [
            "prev              | next              | value | value_str\n",
            "Optional(Pointer) | Optional(Pointer) | INT   | STR      \n"
          ]
        }
      ],
      "source": [
        "sorted_by_value_str = table_to_sort.sort(table_to_sort.value_str) + table_to_sort\n",
        "print(sorted_by_value_str.schema)"
      ]
    },
    {
      "cell_type": "markdown",
      "id": "5efb52c5",
      "metadata": {},
      "source": [
        "### Diff\n",
        "Below are a few examples demonstrating the `diff` operator. Essentially, it sorts the table with respect to one column, and then, for each row and some other column, it subtracts the previous value from the current value. As such, it has two types of constrained columns, one with constraints for the `sort` operator, and the other requires that we can subtract the elements. Currently, among simple types, the subtraction can be done on elements of type `int`, `float` and `datetime`."
      ]
    },
    {
      "cell_type": "code",
      "execution_count": 28,
      "id": "d43f7a23",
      "metadata": {
        "execution": {
          "iopub.execute_input": "2024-02-14T13:41:53.789348Z",
          "iopub.status.busy": "2024-02-14T13:41:53.788857Z",
          "iopub.status.idle": "2024-02-14T13:41:54.132271Z",
          "shell.execute_reply": "2024-02-14T13:41:54.131564Z"
        }
      },
      "outputs": [
        {
          "name": "stderr",
          "output_type": "stream",
          "text": [
            "[2024-02-14T14:41:53]:INFO:Preparing Pathway computation\n"
          ]
        },
        {
          "name": "stdout",
          "output_type": "stream",
          "text": [
            "timestamp | values | values_str | diff_values\n",
            "INT       | INT    | STR        | Optional(INT)\n",
            "timestamp | values | values_str | diff_values\n",
            "1         | 1      | fg         |\n",
            "2         | 2      | ef         | 1\n",
            "3         | 4      | de         | 2\n",
            "4         | 7      | cd         | 3\n",
            "5         | 11     | bc         | 4\n",
            "6         | 16     | ab         | 5\n"
          ]
        },
        {
          "name": "stderr",
          "output_type": "stream",
          "text": [
            "[2024-02-14T14:41:54]:INFO:Preparing Pathway computation\n"
          ]
        },
        {
          "name": "stdout",
          "output_type": "stream",
          "text": [
            "timestamp | values | values_str | date            | diff_date\n",
            "INT       | INT    | STR        | DATE_TIME_NAIVE | Optional(DURATION)\n",
            "timestamp | values | values_str | date                       | diff_date\n",
            "1         | 1      | fg         | 1970-01-01 00:00:00.001000 |\n",
            "2         | 2      | ef         | 1970-01-01 00:00:00.002000 | 0 days 00:00:00.001000\n",
            "3         | 4      | de         | 1970-01-01 00:00:00.004000 | 0 days 00:00:00.002000\n",
            "4         | 7      | cd         | 1970-01-01 00:00:00.007000 | 0 days 00:00:00.003000\n",
            "5         | 11     | bc         | 1970-01-01 00:00:00.011000 | 0 days 00:00:00.004000\n",
            "6         | 16     | ab         | 1970-01-01 00:00:00.016000 | 0 days 00:00:00.005000\n"
          ]
        },
        {
          "name": "stderr",
          "output_type": "stream",
          "text": [
            "[2024-02-14T14:41:54]:INFO:Preparing Pathway computation\n"
          ]
        },
        {
          "name": "stdout",
          "output_type": "stream",
          "text": [
            "timestamp | values | values_str | date            | diff_values\n",
            "INT       | INT    | STR        | DATE_TIME_NAIVE | Optional(INT)\n",
            "timestamp | values | values_str | date                       | diff_values\n",
            "1         | 1      | fg         | 1970-01-01 00:00:00.001000 | -1\n",
            "2         | 2      | ef         | 1970-01-01 00:00:00.002000 | -2\n",
            "3         | 4      | de         | 1970-01-01 00:00:00.004000 | -3\n",
            "4         | 7      | cd         | 1970-01-01 00:00:00.007000 | -4\n",
            "5         | 11     | bc         | 1970-01-01 00:00:00.011000 | -5\n",
            "6         | 16     | ab         | 1970-01-01 00:00:00.016000 |\n"
          ]
        }
      ],
      "source": [
        "table = pw.debug.table_from_markdown('''\n",
        "    timestamp | values | values_str\n",
        "    1         | 1      | fg\n",
        "    2         | 2      | ef\n",
        "    3         | 4      | de\n",
        "    4         | 7      | cd\n",
        "    5         | 11     | bc\n",
        "    6         | 16     | ab\n",
        "    ''')\n",
        "table1 = table + table.diff(pw.this.timestamp, pw.this.values)\n",
        "print(table1.schema)\n",
        "pw.debug.compute_and_print(table1, include_id=False)\n",
        "\n",
        "\n",
        "table = table.with_columns(date = table.values.dt.from_timestamp(\"ms\"))\n",
        "\n",
        "table2 = table + table.diff(pw.this.timestamp, pw.this.date)\n",
        "print(table2.schema)\n",
        "pw.debug.compute_and_print(table2, include_id=False)\n",
        "\n",
        "table3 = table + table.diff(pw.this.values_str, pw.this.values)\n",
        "print(table3.schema)\n",
        "pw.debug.compute_and_print(table3, include_id=False)"
      ]
    },
    {
      "cell_type": "markdown",
      "id": "3d0b4221",
      "metadata": {
        "lines_to_next_cell": 2
      },
      "source": [
        "In particular, calling `diff` on elements from `values_str`, which cannot be subtracted, causes the following error:\n",
        "```\n",
        "TypeError: Pathway does not support using binary operator sub on columns of types <class 'str'>, <class 'str'>.\n",
        "```\n",
        "\n"
      ]
    }
  ],
  "metadata": {
    "kernelspec": {
      "display_name": "Python 3 (ipykernel)",
      "language": "python",
      "name": "python3"
    },
    "language_info": {
      "codemirror_mode": {
        "name": "ipython",
        "version": 3
      },
      "file_extension": ".py",
      "mimetype": "text/x-python",
      "name": "python",
      "nbconvert_exporter": "python",
      "pygments_lexer": "ipython3",
      "version": "3.11.7"
    }
  },
  "nbformat": 4,
  "nbformat_minor": 5
}