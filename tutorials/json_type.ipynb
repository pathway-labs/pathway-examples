{
  "cells": [
    {
      "cell_type": "markdown",
      "metadata": {
        "id": "view-in-colab"
      },
      "source": [
        "<a href=\"https://colab.research.google.com/github/pathwaycom/pathway-examples/blob/main/tutorials/json_type.ipynb\" target=\"_parent\"><img src=\"https://pathway.com/assets/colab-badge.svg\" alt=\"Run In Colab\" class=\"inline\"/></a>"
      ]
    },
    {
      "cell_type": "markdown",
      "source": [
        "# Installing Pathway with Python 3.10+\n",
        "\n",
        "In the cell below, we install Pathway into a Python 3.10+ Linux runtime.\n",
        "\n",
        "> **If you are running in Google Colab, please run the colab notebook (Ctrl+F9)**, disregarding the 'not authored by Google' warning.\n",
        "> \n",
        "> **The installation and loading time is less than 1 minute**.\n"
      ],
      "metadata": {
        "id": "notebook-instructions"
      }
    },
    {
      "cell_type": "code",
      "source": [
        "%%capture --no-display\n",
        "!pip install pathway"
      ],
      "metadata": {
        "id": "pip-installation-pathway",
        "cellView": "form"
      },
      "execution_count": null,
      "outputs": []
    },
    {
      "cell_type": "markdown",
      "id": "1842457d",
      "metadata": {
        "lines_to_next_cell": 0
      },
      "source": [
        "# Handling JSON in Pathway\n",
        "\n",
        "JSON is a widely used format for data interchange due to its simplicity and readability. Upon finishing this article, managing JSON in Pathway should become effortlessly intuitive.\n",
        "\n",
        "As an example, we'll use JSON objects loaded directly from python list. However, JSON data can come from various sources that support this format, such as [Kafka](/developers/tutorials/connectors/kafka_connectors) or an [HTTP connector](/developers/api-docs/pathway-io-http/#pathway.io.http.rest_connector)."
      ]
    },
    {
      "cell_type": "code",
      "execution_count": 1,
      "id": "134c3384",
      "metadata": {
        "execution": {
          "iopub.execute_input": "2023-12-21T10:23:04.924611Z",
          "iopub.status.busy": "2023-12-21T10:23:04.924484Z",
          "iopub.status.idle": "2023-12-21T10:23:04.930122Z",
          "shell.execute_reply": "2023-12-21T10:23:04.929846Z"
        }
      },
      "outputs": [],
      "source": [
        "rows = [\n",
        "    (1, {\"author\":{\"id\":1,\"name\":\"Haruki Murakami\"},\"books\":[{\"title\":\"Norwegian Wood\",\"year\":1987},{\"title\":\"Kafka on the Shore\",\"year\":2002,\"category\":\"Literary Fiction\"}]}),\n",
        "    (2, {\"author\":{\"id\":2,\"name\":\"Stanis\u0142aw Lem\"},\"books\":[{\"title\":\"Solaris\",\"year\":1961,\"category\":\"Science Fiction\"},{\"title\":\"The Cyberiad\",\"year\":1967,\"category\":\"Science Fiction\"}]}),\n",
        "    (3, {\"author\":{\"id\":3,\"name\":\"William Shakespeare\"},\"books\":[{\"title\":\"Hamlet\",\"year\":1603,\"category\":\"Tragedy\"},{\"title\":\"Macbeth\",\"year\":1623,\"category\":\"Tragedy\"}]})\n",
        "]"
      ]
    },
    {
      "cell_type": "markdown",
      "id": "aad81e53",
      "metadata": {
        "lines_to_next_cell": 0
      },
      "source": [
        "Each JSON object carries information about an author and their associated books. To load it, let's establish a [schema](/developers/user-guide/guides/types/#understanding-data-types-and-schemas) reflecting the data's structure and then proceed to load this data into a table."
      ]
    },
    {
      "cell_type": "code",
      "execution_count": 2,
      "id": "3060c9cf",
      "metadata": {
        "execution": {
          "iopub.execute_input": "2023-12-21T10:23:04.931727Z",
          "iopub.status.busy": "2023-12-21T10:23:04.931539Z",
          "iopub.status.idle": "2023-12-21T10:23:07.905876Z",
          "shell.execute_reply": "2023-12-21T10:23:07.905555Z"
        },
        "lines_to_next_cell": 2
      },
      "outputs": [
        {
          "name": "stdout",
          "output_type": "stream",
          "text": [
            "            | key | data\n",
            "^X1MXHYY... | 1   | {\"author\": {\"id\": 1, \"name\": \"Haruki Murakami\"}, \"books\": [{\"title\": \"Norwegian Wood\", \"year\": 1987}, {\"category\": \"Literary Fiction\", \"title\": \"Kafka on the Shore\", \"year\": 2002}]}\n",
            "^YYY4HAB... | 2   | {\"author\": {\"id\": 2, \"name\": \"Stanis\\u0142aw Lem\"}, \"books\": [{\"category\": \"Science Fiction\", \"title\": \"Solaris\", \"year\": 1961}, {\"category\": \"Science Fiction\", \"title\": \"The Cyberiad\", \"year\": 1967}]}\n",
            "^Z3QWT29... | 3   | {\"author\": {\"id\": 3, \"name\": \"William Shakespeare\"}, \"books\": [{\"category\": \"Tragedy\", \"title\": \"Hamlet\", \"year\": 1603}, {\"category\": \"Tragedy\", \"title\": \"Macbeth\", \"year\": 1623}]}\n"
          ]
        }
      ],
      "source": [
        "import pathway as pw\n",
        "\n",
        "\n",
        "class InputSchema(pw.Schema):\n",
        "    key: int\n",
        "    data: pw.Json\n",
        "\n",
        "\n",
        "table = pw.debug.table_from_rows(schema=InputSchema, rows=rows)\n",
        "\n",
        "table"
      ]
    },
    {
      "cell_type": "markdown",
      "id": "c3db7817",
      "metadata": {},
      "source": [
        "Pathway enables manipulation of JSON from two perspectives: expressions and [user-defined functions](/developers/api-docs/pathway#pathway.udf). Let's examine each one separately."
      ]
    },
    {
      "cell_type": "markdown",
      "id": "784afbbf",
      "metadata": {},
      "source": [
        "## Working with JSONs using expressions\n",
        "\n",
        "### Accessing JSON fields\n",
        "\n",
        "A column of type [`pw.Json`](/developers/api-docs/pathway/#pathway.Json) enables access to its attributes using the index operator (`[]`). This operator accepts an index in the form of a string for JSON objects, an integer for JSON arrays, or an expression evaluating to one of these types. If there's no element at the index or if the value is `pw.Json.NULL`, it returns `pw.Json.NULL`, making this operator convenient for chaining."
      ]
    },
    {
      "cell_type": "code",
      "execution_count": 3,
      "id": "dab34139",
      "metadata": {
        "execution": {
          "iopub.execute_input": "2023-12-21T10:23:07.907702Z",
          "iopub.status.busy": "2023-12-21T10:23:07.907328Z",
          "iopub.status.idle": "2023-12-21T10:23:07.929664Z",
          "shell.execute_reply": "2023-12-21T10:23:07.929386Z"
        },
        "lines_to_next_cell": 2
      },
      "outputs": [
        {
          "name": "stdout",
          "output_type": "stream",
          "text": [
            "            | author                | books\n",
            "^X1MXHYY... | \"Haruki Murakami\"     | [{\"title\": \"Norwegian Wood\", \"year\": 1987}, {\"category\": \"Literary Fiction\", \"title\": \"Kafka on the Shore\", \"year\": 2002}]\n",
            "^YYY4HAB... | \"Stanis\\u0142aw Lem\"  | [{\"category\": \"Science Fiction\", \"title\": \"Solaris\", \"year\": 1961}, {\"category\": \"Science Fiction\", \"title\": \"The Cyberiad\", \"year\": 1967}]\n",
            "^Z3QWT29... | \"William Shakespeare\" | [{\"category\": \"Tragedy\", \"title\": \"Hamlet\", \"year\": 1603}, {\"category\": \"Tragedy\", \"title\": \"Macbeth\", \"year\": 1623}]\n"
          ]
        }
      ],
      "source": [
        "books = table.select(author=pw.this.data[\"author\"][\"name\"], books=pw.this.data[\"books\"])\n",
        "books"
      ]
    },
    {
      "cell_type": "markdown",
      "id": "186bf42a",
      "metadata": {},
      "source": [
        "Alternatively, a `get()` method can be used to access `JSON` attributes. This method allows defining a custom default value."
      ]
    },
    {
      "cell_type": "code",
      "execution_count": 4,
      "id": "f1b39e7c",
      "metadata": {
        "execution": {
          "iopub.execute_input": "2023-12-21T10:23:07.931100Z",
          "iopub.status.busy": "2023-12-21T10:23:07.930895Z",
          "iopub.status.idle": "2023-12-21T10:23:07.962987Z",
          "shell.execute_reply": "2023-12-21T10:23:07.962682Z"
        },
        "lines_to_next_cell": 2
      },
      "outputs": [
        {
          "name": "stdout",
          "output_type": "stream",
          "text": [
            "            | author                | title            | category\n",
            "^X1MXHYY... | \"Haruki Murakami\"     | \"Norwegian Wood\" | \"Uncategorized\"\n",
            "^YYY4HAB... | \"Stanis\\u0142aw Lem\"  | \"Solaris\"        | \"Science Fiction\"\n",
            "^Z3QWT29... | \"William Shakespeare\" | \"Hamlet\"         | \"Tragedy\"\n"
          ]
        }
      ],
      "source": [
        "sample = table.select(\n",
        "    author=pw.this.data[\"author\"][\"name\"],\n",
        "    title=pw.this.data[\"books\"][0][\"title\"],\n",
        "    category=pw.this.data[\"books\"][0].get(\"category\", default=pw.Json(\"Uncategorized\")),\n",
        ")\n",
        "sample"
      ]
    },
    {
      "cell_type": "markdown",
      "id": "97a44ee0",
      "metadata": {},
      "source": [
        "### Converting to simple types\n",
        "\n",
        "`JSON` column can be converted into `Optional[T]` where `T` is one of the simple types, using methods: [`as_int()`](/developers/api-docs/pathway/#pathway.ColumnExpression.as_int), [`as_str()`](/developers/api-docs/pathway/#pathway.ColumnExpression.as_str), [`as_float()`](/developers/api-docs/pathway/#pathway.ColumnExpression.as_float), [`as_bool()`](/developers/api-docs/pathway/#pathway.ColumnExpression.as_bool)."
      ]
    },
    {
      "cell_type": "code",
      "execution_count": 5,
      "id": "2b1ccead",
      "metadata": {
        "execution": {
          "iopub.execute_input": "2023-12-21T10:23:07.964426Z",
          "iopub.status.busy": "2023-12-21T10:23:07.964168Z",
          "iopub.status.idle": "2023-12-21T10:23:07.982632Z",
          "shell.execute_reply": "2023-12-21T10:23:07.982362Z"
        }
      },
      "outputs": [
        {
          "name": "stdout",
          "output_type": "stream",
          "text": [
            "            | author\n",
            "^X1MXHYY... | HARUKI MURAKAMI\n",
            "^YYY4HAB... | STANIS\u0141AW LEM\n",
            "^Z3QWT29... | WILLIAM SHAKESPEARE\n"
          ]
        }
      ],
      "source": [
        "books.select(author=pw.unwrap(pw.this.author.as_str()).str.upper())\n"
      ]
    },
    {
      "cell_type": "markdown",
      "id": "3b474a14",
      "metadata": {},
      "source": [
        "### Flatten\n",
        "\n",
        "You can utilize the [`flatten()`](/developers/api-docs/pathway-table/#pathway.internals.table.Table.flatten) operator specifically on columns that contain JSON arrays. It's a useful tool when working with complex JSON structures."
      ]
    },
    {
      "cell_type": "code",
      "execution_count": 6,
      "id": "a238c052",
      "metadata": {
        "execution": {
          "iopub.execute_input": "2023-12-21T10:23:07.984000Z",
          "iopub.status.busy": "2023-12-21T10:23:07.983765Z",
          "iopub.status.idle": "2023-12-21T10:23:07.997016Z",
          "shell.execute_reply": "2023-12-21T10:23:07.996742Z"
        }
      },
      "outputs": [
        {
          "name": "stdout",
          "output_type": "stream",
          "text": [
            "            | books                                                                         | author\n",
            "^0YJ7ZF8... | {\"category\": \"Literary Fiction\", \"title\": \"Kafka on the Shore\", \"year\": 2002} | \"Haruki Murakami\"\n",
            "^3A8A47A... | {\"category\": \"Science Fiction\", \"title\": \"Solaris\", \"year\": 1961}             | \"Stanis\\u0142aw Lem\"\n",
            "^FPHH8MS... | {\"category\": \"Science Fiction\", \"title\": \"The Cyberiad\", \"year\": 1967}        | \"Stanis\\u0142aw Lem\"\n",
            "^D3DVC46... | {\"category\": \"Tragedy\", \"title\": \"Hamlet\", \"year\": 1603}                      | \"William Shakespeare\"\n",
            "^D49HRW2... | {\"category\": \"Tragedy\", \"title\": \"Macbeth\", \"year\": 1623}                     | \"William Shakespeare\"\n",
            "^2EQ0YPB... | {\"title\": \"Norwegian Wood\", \"year\": 1987}                                     | \"Haruki Murakami\"\n"
          ]
        }
      ],
      "source": [
        "flat_list = books.flatten(pw.this.books, pw.this.author)\n",
        "flat_list"
      ]
    },
    {
      "cell_type": "markdown",
      "id": "cfd43a11",
      "metadata": {
        "lines_to_next_cell": 2
      },
      "source": [
        "## JSON in UDFs"
      ]
    },
    {
      "cell_type": "markdown",
      "id": "64b7d621",
      "metadata": {
        "lines_to_next_cell": 2
      },
      "source": [
        "Pathway enables manipulation of JSON using [user-defined functions](/developers/api-docs/pathway/#pathway.udf). Just like with expressions, the index operator (`[]`) and methods allowing conversion into specific types are available.  It's crucial to note that this conversion is strict\u2014 attempting to convert incompatible data will result in an exception."
      ]
    },
    {
      "cell_type": "code",
      "execution_count": 7,
      "id": "4a1494ab",
      "metadata": {
        "execution": {
          "iopub.execute_input": "2023-12-21T10:23:07.998533Z",
          "iopub.status.busy": "2023-12-21T10:23:07.998264Z",
          "iopub.status.idle": "2023-12-21T10:23:08.013294Z",
          "shell.execute_reply": "2023-12-21T10:23:08.013001Z"
        }
      },
      "outputs": [
        {
          "name": "stdout",
          "output_type": "stream",
          "text": [
            "            | title                | metadata\n",
            "^D3DVC46... | \"Hamlet\"             | {\"category\": \"Tragedy\", \"century\": 17, \"title\": \"Hamlet\", \"year\": 1603}\n",
            "^0YJ7ZF8... | \"Kafka on the Shore\" | {\"category\": \"Literary Fiction\", \"century\": 21, \"title\": \"Kafka on the Shore\", \"year\": 2002}\n",
            "^D49HRW2... | \"Macbeth\"            | {\"category\": \"Tragedy\", \"century\": 17, \"title\": \"Macbeth\", \"year\": 1623}\n",
            "^2EQ0YPB... | \"Norwegian Wood\"     | {\"century\": 20, \"title\": \"Norwegian Wood\", \"year\": 1987}\n",
            "^3A8A47A... | \"Solaris\"            | {\"category\": \"Science Fiction\", \"century\": 20, \"title\": \"Solaris\", \"year\": 1961}\n",
            "^FPHH8MS... | \"The Cyberiad\"       | {\"category\": \"Science Fiction\", \"century\": 20, \"title\": \"The Cyberiad\", \"year\": 1967}\n"
          ]
        }
      ],
      "source": [
        "@pw.udf\n",
        "def transform(data: pw.Json) -> pw.Json:\n",
        "    return {\"century\": (data[\"year\"].as_int()) // 100 + 1, **data.as_dict()}\n",
        "\n",
        "\n",
        "flat_list.select(title=pw.this.books[\"title\"], metadata=transform(pw.this.books))"
      ]
    },
    {
      "cell_type": "markdown",
      "id": "3437827d",
      "metadata": {},
      "source": [
        "Further details about `pw.Json` functionality are available in the dedicated [API documentation](/developers/api-docs/pathway/#pathway.Json)."
      ]
    }
  ],
  "metadata": {
    "kernelspec": {
      "display_name": "Python 3 (ipykernel)",
      "language": "python",
      "name": "python3"
    },
    "language_info": {
      "codemirror_mode": {
        "name": "ipython",
        "version": 3
      },
      "file_extension": ".py",
      "mimetype": "text/x-python",
      "name": "python",
      "nbconvert_exporter": "python",
      "pygments_lexer": "ipython3",
      "version": "3.11.6"
    }
  },
  "nbformat": 4,
  "nbformat_minor": 5
}