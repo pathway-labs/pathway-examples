{
  "cells": [
    {
      "cell_type": "markdown",
      "metadata": {
        "id": "view-in-colab"
      },
      "source": [
        "<a href=\"https://colab.research.google.com/github/pathwaycom/pathway-examples/blob/main/tutorials/bellman_ford.ipynb\" target=\"_parent\"><img src=\"https://pathway.com/assets/colab-badge.svg\" alt=\"Run In Colab\" class=\"inline\"/></a>"
      ]
    },
    {
      "cell_type": "markdown",
      "source": [
        "# Installing Pathway with Python 3.10+\n",
        "\n",
        "In the cell below, we install Pathway into a Python 3.10+ Linux runtime.\n",
        "\n",
        "> **If you are running in Google Colab, please run the colab notebook (Ctrl+F9)**, disregarding the 'not authored by Google' warning.\n",
        "> \n",
        "> **The installation and loading time is less than 1 minute**.\n"
      ],
      "metadata": {
        "id": "notebook-instructions"
      }
    },
    {
      "cell_type": "code",
      "source": [
        "%%capture --no-display\n",
        "!pip install pathway"
      ],
      "metadata": {
        "id": "pip-installation-pathway",
        "cellView": "form"
      },
      "execution_count": null,
      "outputs": []
    },
    {
      "cell_type": "markdown",
      "id": "858e2e7a",
      "metadata": {
        "lines_to_next_cell": 0
      },
      "source": [
        "# The Bellman-Ford Algorithm\n",
        "This article explains step-by-step how the Bellman\u2013Ford algorithm may be implemented in Pathway.\n",
        "\n",
        "## Introduction\n",
        "\n",
        "The [Bellman-Ford algorithm](https://en.wikipedia.org/w/index.php?title=Bellman%E2%80%93Ford_algorithm&oldid=1088801570) computes the shortest paths from a single source vertex to all the other\n",
        "vertices in a weighted graph.\n",
        "A weighted graph is composed of a set of points, called *vertices*, which are connected via *edges*. Each edge is associated to a value, called either *weight* or *distance*.\n",
        "For instance, the set of all the cities and the roads which connect them form such a graph. In that example, the Bellman-Ford algorithm would help to find the fastest way, in terms of distance, to go from a given city to another.\n",
        "\n",
        "This article is also a perfect place to familiarize yourself with several constructs used in Pathway.\n",
        "\n",
        "## Code\n",
        "First things first - imports \ud83d\ude42"
      ]
    },
    {
      "cell_type": "code",
      "execution_count": 1,
      "id": "81137718",
      "metadata": {
        "execution": {
          "iopub.execute_input": "2024-01-08T11:05:29.949871Z",
          "iopub.status.busy": "2024-01-08T11:05:29.949591Z",
          "iopub.status.idle": "2024-01-08T11:05:35.118858Z",
          "shell.execute_reply": "2024-01-08T11:05:35.118263Z"
        }
      },
      "outputs": [],
      "source": [
        "import math\n",
        "\n",
        "import pathway as pw"
      ]
    },
    {
      "cell_type": "markdown",
      "id": "4a308208",
      "metadata": {
        "lines_to_next_cell": 0
      },
      "source": [
        "### I/O Data\n",
        "The input is a weighted graph so it is natural to split representation of the data\n",
        "into two parts: Vertices and Edges. Their schemas:"
      ]
    },
    {
      "cell_type": "code",
      "execution_count": 2,
      "id": "1647c733",
      "metadata": {
        "execution": {
          "iopub.execute_input": "2024-01-08T11:05:35.122846Z",
          "iopub.status.busy": "2024-01-08T11:05:35.121757Z",
          "iopub.status.idle": "2024-01-08T11:05:35.125819Z",
          "shell.execute_reply": "2024-01-08T11:05:35.125351Z"
        },
        "lines_to_next_cell": 2
      },
      "outputs": [],
      "source": [
        "class Vertex(pw.Schema):\n",
        "    is_source: bool\n",
        "\n",
        "\n",
        "class Edge(pw.Schema):\n",
        "    u: pw.Pointer[Vertex]\n",
        "    v: pw.Pointer[Vertex]\n",
        "    dist: int"
      ]
    },
    {
      "cell_type": "markdown",
      "id": "0540148a",
      "metadata": {
        "lines_to_next_cell": 2
      },
      "source": [
        "These schemas have a natural interpretation. You can think of the `Edge` schema as of\n",
        "a blueprint of a table that has 3 columns: `u`, `v` (foreign keys) and `dist`.\n",
        "The output schema:"
      ]
    },
    {
      "cell_type": "code",
      "execution_count": 3,
      "id": "0b6d8d71",
      "metadata": {
        "execution": {
          "iopub.execute_input": "2024-01-08T11:05:35.127635Z",
          "iopub.status.busy": "2024-01-08T11:05:35.127397Z",
          "iopub.status.idle": "2024-01-08T11:05:35.129929Z",
          "shell.execute_reply": "2024-01-08T11:05:35.129501Z"
        },
        "lines_to_next_cell": 2
      },
      "outputs": [],
      "source": [
        "class DistFromSource(pw.Schema):\n",
        "    dist_from_source: int"
      ]
    },
    {
      "cell_type": "markdown",
      "id": "3138b9eb",
      "metadata": {
        "lines_to_next_cell": 2
      },
      "source": [
        "*Note:* The schemas inherit from `pw.Schema` special class.\n",
        "\n",
        "*Note:* You might wonder why output schema has only one column `dist_from_source`.\n",
        "Actually, you can join schemas together to create a new one. And so, the output schema\n",
        " is `Vertex + DistFromSource`. (Look for that type annotation later in the code.)\n",
        "\n",
        "### The algorithm\n",
        "The Bellman-Ford algorithm performs some number of relaxations until it reaches a [fixed point](https://en.wikipedia.org/wiki/Fixed_point_(mathematics) \"Wipedia article of 'fixed point'\").\n",
        "\n",
        "#### Relaxations\n",
        "Each node checks if a path via it would make any so-far-optimal path to some other\n",
        "node shorter."
      ]
    },
    {
      "cell_type": "code",
      "execution_count": 4,
      "id": "20348ed9",
      "metadata": {
        "execution": {
          "iopub.execute_input": "2024-01-08T11:05:35.131629Z",
          "iopub.status.busy": "2024-01-08T11:05:35.131426Z",
          "iopub.status.idle": "2024-01-08T11:05:35.134553Z",
          "shell.execute_reply": "2024-01-08T11:05:35.134158Z"
        }
      },
      "outputs": [],
      "source": [
        "def bellman_ford_step(\n",
        "    vertices_dist: pw.Table[DistFromSource], edges: pw.Table[Edge]\n",
        ") -> pw.Table[DistFromSource]:\n",
        "    relaxed_edges = edges + edges.select(\n",
        "        dist_from_source=vertices_dist.ix(edges.u).dist_from_source + edges.dist\n",
        "    )\n",
        "    vertices_dist = vertices_dist.update_rows(\n",
        "        relaxed_edges.groupby(id=relaxed_edges.v).reduce(\n",
        "            dist_from_source=pw.reducers.min(relaxed_edges.dist_from_source),\n",
        "        )\n",
        "    )\n",
        "\n",
        "    return vertices_dist"
      ]
    },
    {
      "cell_type": "markdown",
      "id": "19b241d2",
      "metadata": {
        "lines_to_next_cell": 0
      },
      "source": [
        "#### Fixed point\n",
        "The relaxations are iterated until a fixed point is reached. In this case, reaching a\n",
        "fixed point means that no new (shorter) path was found in the last iteration."
      ]
    },
    {
      "cell_type": "code",
      "execution_count": 5,
      "id": "43a13c07",
      "metadata": {
        "execution": {
          "iopub.execute_input": "2024-01-08T11:05:35.136173Z",
          "iopub.status.busy": "2024-01-08T11:05:35.135965Z",
          "iopub.status.idle": "2024-01-08T11:05:35.139347Z",
          "shell.execute_reply": "2024-01-08T11:05:35.138938Z"
        }
      },
      "outputs": [],
      "source": [
        "def bellman_ford(vertices: pw.Table[Vertex], edges: pw.Table[Edge]):\n",
        "    vertices_dist: pw.Table[DistFromSource] = vertices.select(\n",
        "        dist_from_source=pw.if_else(vertices.is_source, 0.0, math.inf)\n",
        "    )\n",
        "\n",
        "    fixed_point = pw.iterate(\n",
        "        lambda iterated, edges: dict(\n",
        "            iterated=bellman_ford_step(vertices_dist=iterated, edges=edges)\n",
        "        ),\n",
        "        # The `pw.iterate_universe` stanza informs iterate that `vertices_dist` grows with each loop iteration. Without it, the system assumes that iterations don't change the set of indices of a table.\n",
        "        iterated=pw.iterate_universe(vertices_dist),\n",
        "        edges=edges,\n",
        "    ).iterated\n",
        "\n",
        "    return fixed_point.join(vertices, fixed_point.id == vertices.id).select(\n",
        "        vertices.key, fixed_point.dist_from_source\n",
        "    )"
      ]
    },
    {
      "cell_type": "markdown",
      "id": "a476804d",
      "metadata": {
        "lines_to_next_cell": 0
      },
      "source": [
        "\n",
        " ## Tests\n",
        "\n",
        " Now, let's see the code in action. The following test case runs Bellman-Ford\n",
        "algorithm on a graph depicted below.\n",
        "\n",
        "<img src=\"/assets/content/tutorials/BellmanFordGraph.png\" alt=\"Graph image\" class=\"mx-auto\" />"
      ]
    },
    {
      "cell_type": "code",
      "execution_count": 6,
      "id": "980b097c",
      "metadata": {
        "execution": {
          "iopub.execute_input": "2024-01-08T11:05:35.140902Z",
          "iopub.status.busy": "2024-01-08T11:05:35.140724Z",
          "iopub.status.idle": "2024-01-08T11:05:35.215155Z",
          "shell.execute_reply": "2024-01-08T11:05:35.214646Z"
        }
      },
      "outputs": [],
      "source": [
        "# a directed graph\n",
        "vertices = pw.debug.table_from_markdown(\n",
        "    \"\"\"\n",
        "  | key | is_source\n",
        "1 | 1   | True\n",
        "2 | 2   | False\n",
        "3 | 3   | False\n",
        "4 | 4   | False\n",
        "5 | 5   | False\n",
        "6 | 6   | False\n",
        "7 | 7   | False\n",
        "\"\"\"\n",
        ").with_id_from(pw.this.key)\n",
        "\n",
        "edges = pw.debug.table_from_markdown(\n",
        "    \"\"\"\n",
        "    | u  | v | dist\n",
        "11 | 1  | 2 | 100\n",
        "12 | 1  | 3 | 200\n",
        "13 | 1  | 4 | 300\n",
        "14 | 3  | 5 | 100\n",
        "15 | 3  | 6 | 500\n",
        "16 | 5  | 6 | 100\n",
        "17 | 6  | 3 | -50\n",
        "\"\"\"\n",
        ").with_columns(\n",
        "    u=vertices.pointer_from(pw.this.u),\n",
        "    v=vertices.pointer_from(pw.this.v),\n",
        ")"
      ]
    },
    {
      "cell_type": "markdown",
      "id": "ebca7f2a",
      "metadata": {},
      "source": [
        "Pathway automatically reindexes the tables, so we need a key column of the `vertices` table and we need ask Pathway to reindex the table using those.\n",
        "In practice, Pathway uses pointers so the keys are automatically converted into pointers.\n",
        "\n",
        "For the edges, we have to convert the keys into their references in order to be able to use `vertices_dist.ix(edges.u)` as `ix` only works with pointers."
      ]
    },
    {
      "cell_type": "code",
      "execution_count": 7,
      "id": "00d43923",
      "metadata": {
        "execution": {
          "iopub.execute_input": "2024-01-08T11:05:35.218254Z",
          "iopub.status.busy": "2024-01-08T11:05:35.217961Z",
          "iopub.status.idle": "2024-01-08T11:05:35.380439Z",
          "shell.execute_reply": "2024-01-08T11:05:35.372737Z"
        }
      },
      "outputs": [
        {
          "name": "stderr",
          "output_type": "stream",
          "text": [
            "[2024-01-08T12:05:35]:INFO:Preparing Pathway computation\n"
          ]
        },
        {
          "name": "stdout",
          "output_type": "stream",
          "text": [
            "            | key | dist_from_source\n",
            "^04VMVCM... | 1   | 0.0\n",
            "^GFBMT58... | 2   | 100.0\n",
            "^TT1GT7R... | 3   | 200.0\n",
            "^86W6AGV... | 4   | 300.0\n",
            "^W788BTV... | 5   | 300.0\n",
            "^CR88CHY... | 6   | 400.0\n",
            "^YCS0SGG... | 7   | inf\n"
          ]
        }
      ],
      "source": [
        "pw.debug.compute_and_print(bellman_ford(vertices, edges))"
      ]
    },
    {
      "cell_type": "markdown",
      "id": "8f785716",
      "metadata": {},
      "source": [
        "That was a simple introduction to writing code and tests in Pathway.\n",
        "\n",
        "Feel free to take this code and experiment with it \ud83d\ude42  Do you see any possibility to\n",
        "improve the code? (What happens when there is a negative cycle in the graph?)\n"
      ]
    },
    {
      "cell_type": "markdown",
      "id": "bd84c7f4",
      "metadata": {},
      "source": [
        "## Summary\n",
        "The code above follows a pattern that is quite frequent when working with Pathway:\n",
        "- Define I/O data types\n",
        "- Define transformations on tables\n",
        "- Iterate the transformation until a fixed point is reached\n",
        "  - usually transforms the data by a simple one-liner.\n",
        "  - for example ```iterate(lambda foo, bar: {foo=fn(foo, bar), bar=bar}, foo=input_table_1, bar=input_table2).foo```\n",
        "\n",
        "*Note:* It is also possible to define transformations from the perspective of\n",
        "a row and not of a table. Curious? Take a look at [the transformer class tutorial](https://pathway.com/developers/user-guide/diving-deeper/transformer-recursion/) or some of our other cookbooks, like this one on\n",
        "[Pagerank](https://pathway.com/developers/tutorials/pagerank)."
      ]
    }
  ],
  "metadata": {
    "kernelspec": {
      "display_name": "Python 3 (ipykernel)",
      "language": "python",
      "name": "python3"
    },
    "language_info": {
      "codemirror_mode": {
        "name": "ipython",
        "version": 3
      },
      "file_extension": ".py",
      "mimetype": "text/x-python",
      "name": "python",
      "nbconvert_exporter": "python",
      "pygments_lexer": "ipython3",
      "version": "3.11.6"
    }
  },
  "nbformat": 4,
  "nbformat_minor": 5
}