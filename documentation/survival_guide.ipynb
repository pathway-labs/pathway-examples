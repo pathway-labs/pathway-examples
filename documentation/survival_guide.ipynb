{
  "cells": [
    {
      "cell_type": "markdown",
      "metadata": {
        "id": "view-in-colab"
      },
      "source": [
        "<a href=\"https://colab.research.google.com/github/pathwaycom/pathway-examples/blob/main/documentation/survival_guide.ipynb\" target=\"_parent\"><img src=\"https://pathway.com/assets/colab-badge.svg\" alt=\"Run In Colab\" class=\"inline\"/></a>"
      ]
    },
    {
      "cell_type": "markdown",
      "source": [
        "# Installing Pathway with Python 3.10+\n",
        "\n",
        "In the cell below, we install Pathway into a Python 3.10+ Linux runtime.\n",
        "\n",
        "> **If you are running in Google Colab, please run the colab notebook (Ctrl+F9)**, disregarding the 'not authored by Google' warning.\n",
        "> \n",
        "> **The installation and loading time is less than 1 minute**.\n"
      ],
      "metadata": {
        "id": "notebook-instructions"
      }
    },
    {
      "cell_type": "code",
      "source": [
        "%%capture --no-display\n",
        "!pip install pathway"
      ],
      "metadata": {
        "id": "pip-installation-pathway",
        "cellView": "form"
      },
      "execution_count": null,
      "outputs": []
    },
    {
      "cell_type": "markdown",
      "id": "bd56900c",
      "metadata": {},
      "source": [
        "# Basic operations\n",
        "Must-read for first-timers and veterans alike, this guide gathers the most commonly used basic elements of Pathway.\n",
        "\n",
        "\n",
        "While the Pathway programming framework comes with advanced functionalities such as [classifiers](https://pathway.com/developers/showcases/lsh/lsh_chapter1) or [fuzzy-joins](https://pathway.com/developers/showcases/fuzzy_join/fuzzy_join_chapter1), it is essential to master the basic operations at the core of the framework.\n",
        "As part of this basic operations guide, we are going to walk through the following topics:\n",
        "* [Streaming and static modes](#streaming-and-static-modes)\n",
        "* [Starting with data](#starting-with-data)\n",
        "* [Select and notations](#select-and-notations)\n",
        "* [Manipulating the table](#manipulating-the-table)\n",
        "* [Working with multiples tables: union, concatenation, join](#working-with-multiple-tables-union-concatenation-join)\n",
        "* [Updating](#updating)\n",
        "* [Computing](#operations)\n",
        "\n",
        "If you want more information you can review our complete [API docs](https://pathway.com/developers/api-docs/pathway) or some of our [tutorials](https://pathway.com/developers/tutorials/suspicious_activity_tumbling_window)."
      ]
    },
    {
      "cell_type": "markdown",
      "id": "08f965bf",
      "metadata": {},
      "source": [
        "## Streaming and static modes\n",
        "\n",
        "The first thing to keep in mind is that Pathway is made for streaming data.\n",
        "In this **streaming mode**, Pathway assumes unbounded incoming updates.\n",
        "To process the incoming data, Pathway maintains a [computation graph](/developers/user-guide/introduction/key-concepts#computation-graph).\n",
        "This mode requires input connectors listening to streaming data sources.\n",
        "The computation runs indefinitely until the process is killed: the computation starts with `pw.run()` and everything afterwards is unreachable code.\n",
        "\n",
        "However, the streaming mode may not be the most convenient when testing or debugging.\n",
        "For that purpose, Pathway provides a **static mode** in which static data may be attached to the connectors.\n",
        "In that mode, finite and static data can be loaded, e.g. from a table written in a static csv file or from a markdown table.\n",
        "\n",
        "When the computation is run in the static mode, all the data is loaded and processed at once.\n",
        "While the static mode does not fully benefit from the computation graph, it allows checking if the graph is correctly built.\n",
        "To ease the debugging, Pathway provides a function called `compute_and_print`.\n",
        "When calling `pw.debug.compute_and_print(t)`, Pathway builds the whole graph, ingests all the available static data, prints the obtained table `t`, and then discards the data.\n",
        "Calling twice `compute_and_print` will result in ingesting the whole data twice.\n",
        "In the streaming mode, the building of the graph and the ingestion of the data is done only once when `pw.run()` is called and the data is maintained in the graph until the computation is over: results cannot be printed but should be accessed using output connectors.\n",
        "\n",
        "The processing pipeline should be designed in the same way no matter what mode is used in the end. The only difference is how the data is considered.\n",
        "\n",
        "To learn more about both modes, you can read our [article](/developers/user-guide/introduction/streaming-and-static-modes) about it.\n",
        "\n",
        "In most of our examples, we use the static mode since it avoids setting external streaming data sources such as Kafka."
      ]
    },
    {
      "cell_type": "markdown",
      "id": "3cb4b3a8",
      "metadata": {},
      "source": [
        "## Starting with data\n",
        "\n",
        "Be sure to always import Pathway."
      ]
    },
    {
      "cell_type": "code",
      "execution_count": 1,
      "id": "ce402a51",
      "metadata": {
        "execution": {
          "iopub.execute_input": "2023-09-22T13:16:39.085180Z",
          "iopub.status.busy": "2023-09-22T13:16:39.084962Z",
          "iopub.status.idle": "2023-09-22T13:16:40.363871Z",
          "shell.execute_reply": "2023-09-22T13:16:40.363389Z"
        }
      },
      "outputs": [],
      "source": [
        "import pathway as pw"
      ]
    },
    {
      "cell_type": "markdown",
      "id": "fadec960",
      "metadata": {},
      "source": [
        "Now you need tables to manipulate.\n",
        "The way tables are obtained depends on whether you are on streaming or static mode.\n",
        "In this article, you will be using the static mode to be able to show the behavior of each processing step, but keep in mind that Pathway is made for the streaming mode.\n",
        "\n",
        "### Static mode\n",
        "In the static mode, you can manually enter a table using a markdown connector. Here are the (static) tables you will be using:"
      ]
    },
    {
      "cell_type": "code",
      "execution_count": 2,
      "id": "3d34be19",
      "metadata": {
        "execution": {
          "iopub.execute_input": "2023-09-22T13:16:40.365945Z",
          "iopub.status.busy": "2023-09-22T13:16:40.365593Z",
          "iopub.status.idle": "2023-09-22T13:16:40.383145Z",
          "shell.execute_reply": "2023-09-22T13:16:40.382791Z"
        }
      },
      "outputs": [],
      "source": [
        "t_name = pw.debug.table_from_markdown(\n",
        "    \"\"\"\n",
        "    | name\n",
        " 1  | Alice\n",
        " 2  | Bob\n",
        " 3  | Carole\n",
        " \"\"\"\n",
        ")\n",
        "t_age = pw.debug.table_from_markdown(\n",
        "    \"\"\"\n",
        "    | age\n",
        " 1  | 25\n",
        " 2  | 32\n",
        " 3  | 28\n",
        " \"\"\"\n",
        ")\n",
        "t_david = pw.debug.table_from_markdown(\n",
        "    \"\"\"\n",
        "    | name  | age\n",
        " 4  | David | 25\n",
        " \"\"\"\n",
        ")"
      ]
    },
    {
      "cell_type": "markdown",
      "id": "dd8bdabd",
      "metadata": {},
      "source": [
        "You can display a snapshot of our table (for debugging purposes) using `pw.debug.compute_and_print()`:"
      ]
    },
    {
      "cell_type": "code",
      "execution_count": 3,
      "id": "c6af4b23",
      "metadata": {
        "execution": {
          "iopub.execute_input": "2023-09-22T13:16:40.384737Z",
          "iopub.status.busy": "2023-09-22T13:16:40.384615Z",
          "iopub.status.idle": "2023-09-22T13:16:40.390083Z",
          "shell.execute_reply": "2023-09-22T13:16:40.389710Z"
        }
      },
      "outputs": [
        {
          "name": "stderr",
          "output_type": "stream",
          "text": [
            "[2023-09-22T15:16:40]:INFO:Preparing Pathway computation\n"
          ]
        },
        {
          "name": "stdout",
          "output_type": "stream",
          "text": [
            "            | name\n",
            "^YYY4HAB... | Alice\n",
            "^Z3QWT29... | Bob\n",
            "^3CZ78B4... | Carole\n"
          ]
        }
      ],
      "source": [
        "pw.debug.compute_and_print(t_name)"
      ]
    },
    {
      "cell_type": "markdown",
      "id": "e8977600",
      "metadata": {},
      "source": [
        "In the following, let's omit the `pw.debug.compute_and_print()` for clarity reasons but keep in mind that it is required to print the actual *static* data at a given time.\n",
        "\n",
        "\n",
        "### Streaming mode\n",
        "In the streaming mode, those tables would be obtained using one of the [connectors](/developers/user-guide/input-and-output-streams/connectors) provided by Pathway.\n",
        "For example, we could use `t_name=pw.io.kafka.read` to obtain the table from Kafka.\n",
        "The results should be taken out of Pathway using an output connector: we could send the data to postgresql using `pw.io.progresql.write` for instance.\n",
        "Otherwise, the way the data is manipulated is exactly the same in both modes."
      ]
    },
    {
      "cell_type": "markdown",
      "id": "2511a9cc",
      "metadata": {},
      "source": [
        "## Select and notations\n",
        "\n",
        " The main way to manipulate a table in Pathway is by using the `select` operation.\n",
        "\n",
        " * **The dot notation**: you can use `select` to select a particular column and you can use the dot notation to specify the name of the column. For example, you can access the column \"name\" of your `t_david` table:"
      ]
    },
    {
      "cell_type": "code",
      "execution_count": 4,
      "id": "ac3f190c",
      "metadata": {
        "execution": {
          "iopub.execute_input": "2023-09-22T13:16:40.391632Z",
          "iopub.status.busy": "2023-09-22T13:16:40.391456Z",
          "iopub.status.idle": "2023-09-22T13:16:40.401820Z",
          "shell.execute_reply": "2023-09-22T13:16:40.401460Z"
        }
      },
      "outputs": [
        {
          "name": "stderr",
          "output_type": "stream",
          "text": [
            "[2023-09-22T15:16:40]:INFO:Preparing Pathway computation\n"
          ]
        },
        {
          "name": "stdout",
          "output_type": "stream",
          "text": [
            "            | name\n",
            "^3HN31E1... | David\n"
          ]
        }
      ],
      "source": [
        "t_david.select(t_david.name)"
      ]
    },
    {
      "cell_type": "markdown",
      "id": "7af07fa9",
      "metadata": {},
      "source": [
        " * **The bracket notation**: you can also use string to access the column **the bracket notation**. The previous example is equivalent to ```t_david.select(t_david[\"name\"])```."
      ]
    },
    {
      "cell_type": "markdown",
      "id": "349cc5db",
      "metadata": {},
      "source": [
        " * The **this notation**: to refer to the table currently manipulated you can use `pw.this`. Our example becomes `t_david.select(pw.this.name)`.\n",
        "This notation works for all standard transformers.\n",
        "    > It can be used to refer to the table, even if it has not been given a name, for example in successive operations:"
      ]
    },
    {
      "cell_type": "code",
      "execution_count": 5,
      "id": "b9b1ff26",
      "metadata": {
        "execution": {
          "iopub.execute_input": "2023-09-22T13:16:40.403347Z",
          "iopub.status.busy": "2023-09-22T13:16:40.403075Z",
          "iopub.status.idle": "2023-09-22T13:16:40.414713Z",
          "shell.execute_reply": "2023-09-22T13:16:40.414337Z"
        },
        "lines_to_next_cell": 2
      },
      "outputs": [
        {
          "name": "stderr",
          "output_type": "stream",
          "text": [
            "[2023-09-22T15:16:40]:INFO:Preparing Pathway computation\n"
          ]
        },
        {
          "name": "stdout",
          "output_type": "stream",
          "text": [
            "            | new_age_plus_7\n",
            "^3HN31E1... | 32\n"
          ]
        }
      ],
      "source": [
        "t_new_age = t_david.select(new_age=pw.this.age).select(\n",
        "    new_age_plus_7=pw.this.new_age + 7\n",
        ")\n",
        "t_new_age"
      ]
    },
    {
      "cell_type": "markdown",
      "id": "498aceaf",
      "metadata": {},
      "source": [
        "In this example, it would be impossible to refer to the table obtained after the first select (with the column `new_age`) without using `pw.this` as `t_david` still refers to the initial and unmodified table."
      ]
    },
    {
      "cell_type": "markdown",
      "id": "b5bc0548",
      "metadata": {},
      "source": [
        " * **left and right notations**: similarly to the this notation, `pw.left` and `pw.right` can be used to manipulate the different tables used in a [join](#working-with-multiples-tables-union-concatenation-join).\n",
        "    > `left_table.join(right_table, pw.left.C1==pw.right.C2).select(pw.left.C3, pw.right.C4)`\n",
        "\n",
        "For more information about the join and the use of `pw.left` and `pw.right`, you can see the dedicated [section](#working-with-multiples-tables-union-concatenation-join) and [manual](/developers/user-guide/table-operations/join-manual/)."
      ]
    },
    {
      "cell_type": "markdown",
      "id": "75fd474a",
      "metadata": {},
      "source": [
        " * The **star * notation**: this notation is used to select all the columns of the manipulated table. `table.select(*pw.this)` will return the full table.\n",
        "It can be combined with `.without` to remove the unwanted columns:\n",
        "\n",
        "    > In our example, instead of selecting the \"name\" column, you could want to select all the columns except the \"age\" one. This is obtained as follows:"
      ]
    },
    {
      "cell_type": "code",
      "execution_count": 6,
      "id": "d00ca8e6",
      "metadata": {
        "execution": {
          "iopub.execute_input": "2023-09-22T13:16:40.416143Z",
          "iopub.status.busy": "2023-09-22T13:16:40.415970Z",
          "iopub.status.idle": "2023-09-22T13:16:40.420961Z",
          "shell.execute_reply": "2023-09-22T13:16:40.420611Z"
        }
      },
      "outputs": [
        {
          "name": "stderr",
          "output_type": "stream",
          "text": [
            "[2023-09-22T15:16:40]:INFO:Preparing Pathway computation\n"
          ]
        },
        {
          "name": "stdout",
          "output_type": "stream",
          "text": [
            "            | name\n",
            "^3HN31E1... | David\n"
          ]
        }
      ],
      "source": [
        "t_david.without(\"age\")"
      ]
    },
    {
      "cell_type": "markdown",
      "id": "7dbb8fe4",
      "metadata": {},
      "source": [
        "\u26a0\ufe0f Note on **column names**: column names are **case sensitive** and *any* string can be used as column name using the bracket notation.\n",
        "However it is not the case for the dot notation which is restricted by standard Python syntax.\n",
        "For instance, the dot notation does not allow names with space: using `t.select(t[\"my name\"])` works while `t.select(t.my name)` will produce an error.\n",
        "By convention, we advocate to follow the Python variable naming convention which is to use only the special character \"\\_\" in addition to alphanumeric characters, and not to start with a number."
      ]
    },
    {
      "cell_type": "markdown",
      "id": "d24f3dfe",
      "metadata": {},
      "source": [
        "## Manipulating the table\n",
        "\n",
        "In addition to `select`, Pathway provides more operators to manipulate and index the tables."
      ]
    },
    {
      "cell_type": "markdown",
      "id": "55ae2aa4",
      "metadata": {},
      "source": [
        " * **Filtering**: we can use `filter` to keep rows following a given property."
      ]
    },
    {
      "cell_type": "code",
      "execution_count": 7,
      "id": "2df05882",
      "metadata": {
        "execution": {
          "iopub.execute_input": "2023-09-22T13:16:40.422500Z",
          "iopub.status.busy": "2023-09-22T13:16:40.422144Z",
          "iopub.status.idle": "2023-09-22T13:16:40.434842Z",
          "shell.execute_reply": "2023-09-22T13:16:40.434490Z"
        }
      },
      "outputs": [
        {
          "name": "stderr",
          "output_type": "stream",
          "text": [
            "[2023-09-22T15:16:40]:INFO:Preparing Pathway computation\n"
          ]
        },
        {
          "name": "stdout",
          "output_type": "stream",
          "text": [
            "            | is_adult\n",
            "^6A0QZMJ... | True\n",
            "^3S2X6B2... | True\n"
          ]
        }
      ],
      "source": [
        "t_adult = pw.debug.table_from_markdown(\n",
        "    \"\"\"\n",
        "    | is_adult\n",
        " 5  | True\n",
        " 6  | False\n",
        " 7  | True\n",
        " \"\"\"\n",
        ")\n",
        "t_adult.filter(pw.this.is_adult)"
      ]
    },
    {
      "cell_type": "markdown",
      "id": "619d7d88",
      "metadata": {},
      "source": [
        "You can use standard python operators, including arithmetic operators such as `+`, `-`, `*`, `/`, `//`, `<`, `>`, or `~`:"
      ]
    },
    {
      "cell_type": "code",
      "execution_count": 8,
      "id": "51315bc9",
      "metadata": {
        "execution": {
          "iopub.execute_input": "2023-09-22T13:16:40.436244Z",
          "iopub.status.busy": "2023-09-22T13:16:40.435987Z",
          "iopub.status.idle": "2023-09-22T13:16:40.447201Z",
          "shell.execute_reply": "2023-09-22T13:16:40.446837Z"
        }
      },
      "outputs": [
        {
          "name": "stderr",
          "output_type": "stream",
          "text": [
            "[2023-09-22T15:16:40]:INFO:Preparing Pathway computation\n"
          ]
        },
        {
          "name": "stdout",
          "output_type": "stream",
          "text": [
            "            | age\n",
            "^Z3QWT29... | 32\n"
          ]
        }
      ],
      "source": [
        "t_age.filter(pw.this.age>30)"
      ]
    },
    {
      "cell_type": "markdown",
      "id": "d32093cf",
      "metadata": {},
      "source": [
        "You can also use the logical operations AND (`&`), OR (`|`) and NOT (`~`):"
      ]
    },
    {
      "cell_type": "code",
      "execution_count": 9,
      "id": "3e15c088",
      "metadata": {
        "execution": {
          "iopub.execute_input": "2023-09-22T13:16:40.448578Z",
          "iopub.status.busy": "2023-09-22T13:16:40.448315Z",
          "iopub.status.idle": "2023-09-22T13:16:40.457414Z",
          "shell.execute_reply": "2023-09-22T13:16:40.457071Z"
        }
      },
      "outputs": [
        {
          "name": "stderr",
          "output_type": "stream",
          "text": [
            "[2023-09-22T15:16:40]:INFO:Preparing Pathway computation\n"
          ]
        },
        {
          "name": "stdout",
          "output_type": "stream",
          "text": [
            "            | is_adult\n",
            "^A984WV0... | False\n"
          ]
        }
      ],
      "source": [
        "t_adult.filter(~pw.this.is_adult)"
      ]
    },
    {
      "cell_type": "markdown",
      "id": "a0693eee",
      "metadata": {},
      "source": [
        " * **Reindexing**: you can change the ids (accessible by `table.id`) by using `.with_id_from()`.\n",
        "You need a table with new ids:"
      ]
    },
    {
      "cell_type": "code",
      "execution_count": 10,
      "id": "ac0b4f5a",
      "metadata": {
        "execution": {
          "iopub.execute_input": "2023-09-22T13:16:40.458632Z",
          "iopub.status.busy": "2023-09-22T13:16:40.458515Z",
          "iopub.status.idle": "2023-09-22T13:16:40.463655Z",
          "shell.execute_reply": "2023-09-22T13:16:40.463304Z"
        }
      },
      "outputs": [],
      "source": [
        "t_new_ids = pw.debug.table_from_markdown(\n",
        "    \"\"\"\n",
        "    | new_id_source\n",
        " 1  | 4\n",
        " 2  | 5\n",
        " 3  | 6\n",
        " \"\"\"\n",
        ")"
      ]
    },
    {
      "cell_type": "code",
      "execution_count": 11,
      "id": "f6920ac4",
      "metadata": {
        "execution": {
          "iopub.execute_input": "2023-09-22T13:16:40.464971Z",
          "iopub.status.busy": "2023-09-22T13:16:40.464687Z",
          "iopub.status.idle": "2023-09-22T13:16:40.479097Z",
          "shell.execute_reply": "2023-09-22T13:16:40.478742Z"
        }
      },
      "outputs": [
        {
          "name": "stderr",
          "output_type": "stream",
          "text": [
            "[2023-09-22T15:16:40]:INFO:Preparing Pathway computation\n"
          ]
        },
        {
          "name": "stdout",
          "output_type": "stream",
          "text": [
            "            | name\n",
            "^3HN31E1... | Alice\n",
            "^3S2X6B2... | Bob\n",
            "^A984WV0... | Carole\n"
          ]
        }
      ],
      "source": [
        "t_name.promise_universe_is_subset_of(t_new_ids).with_id_from(t_new_ids.new_id_source)"
      ]
    },
    {
      "cell_type": "markdown",
      "id": "d54b6555",
      "metadata": {},
      "source": [
        "Here you would need to use `promise_universe_is_subset_of`, you can find the detailed explanation in our [article](https://pathway.com/developers/user-guide/introduction/key-concepts) about Pathway's concepts.\n",
        "\n",
        "* **ix**: uses a column's values as indexes.\n",
        "As an example, if you have a table containing indexes pointing to another table, you can use this `ix` to obtain those lines:"
      ]
    },
    {
      "cell_type": "code",
      "execution_count": 12,
      "id": "cf0478a4",
      "metadata": {
        "execution": {
          "iopub.execute_input": "2023-09-22T13:16:40.480560Z",
          "iopub.status.busy": "2023-09-22T13:16:40.480259Z",
          "iopub.status.idle": "2023-09-22T13:16:40.496839Z",
          "shell.execute_reply": "2023-09-22T13:16:40.496488Z"
        }
      },
      "outputs": [
        {
          "name": "stderr",
          "output_type": "stream",
          "text": [
            "[2023-09-22T15:16:40]:INFO:Preparing Pathway computation\n"
          ]
        },
        {
          "name": "stdout",
          "output_type": "stream",
          "text": [
            "            | selected\n",
            "^1BNYXQH... | Alice\n",
            "^PTQENR4... | Carole\n"
          ]
        }
      ],
      "source": [
        "t_selected_ids = pw.debug.table_from_markdown(\n",
        "    \"\"\"\n",
        "      | selected_id\n",
        " 100  | 1\n",
        " 200  | 3\n",
        " \"\"\"\n",
        ")\n",
        "t_selected_ids.select(selected=t_name.ix_ref(t_selected_ids.selected_id).name)"
      ]
    },
    {
      "cell_type": "markdown",
      "id": "f2b5d43c",
      "metadata": {},
      "source": [
        "* **Group-by**: we can use `groupby` to aggregate data sharing a common property and then use a reducer to compute an aggregated value."
      ]
    },
    {
      "cell_type": "code",
      "execution_count": 13,
      "id": "7bf12364",
      "metadata": {
        "execution": {
          "iopub.execute_input": "2023-09-22T13:16:40.498273Z",
          "iopub.status.busy": "2023-09-22T13:16:40.497983Z",
          "iopub.status.idle": "2023-09-22T13:16:40.518121Z",
          "shell.execute_reply": "2023-09-22T13:16:40.517773Z"
        }
      },
      "outputs": [
        {
          "name": "stderr",
          "output_type": "stream",
          "text": [
            "[2023-09-22T15:16:40]:INFO:Preparing Pathway computation\n"
          ]
        },
        {
          "name": "stdout",
          "output_type": "stream",
          "text": [
            "            | name  | sum\n",
            "^GBSDEEW... | Alice | 175\n",
            "^EDPSSB1... | Bob   | 300\n"
          ]
        }
      ],
      "source": [
        "t_spending = pw.debug.table_from_markdown(\n",
        "    \"\"\"\n",
        "    | name  | amount\n",
        " 1  | Bob   | 100\n",
        " 2  | Alice | 50\n",
        " 3  | Alice | 125\n",
        " 4  | Bob   | 200\n",
        " \"\"\"\n",
        ")\n",
        "t_spending.groupby(pw.this.name).reduce(pw.this.name, sum=pw.reducers.sum(pw.this.amount))"
      ]
    },
    {
      "cell_type": "markdown",
      "id": "411a7806",
      "metadata": {},
      "source": [
        "You can do groupbys on multiple columns at once (e.g. `.groupby(t.colA, t.colB)`).\n",
        "The list of all the available reducers can be found [here](https://pathway.com/developers/api-docs/reducers).\n",
        "\n",
        "If you want to find out more about the `groupby` and `reduce` operations, you can read our [article](/developers/user-guide/table-operations/groupby-reduce-manual/) about it.\n",
        "\n",
        "## Working with multiples tables: union, concatenation, join\n",
        "\n",
        " * **Union**: we can use the operator `+` or `+=` to compute the union of two tables sharing the same ids."
      ]
    },
    {
      "cell_type": "code",
      "execution_count": 14,
      "id": "8fcae213",
      "metadata": {
        "execution": {
          "iopub.execute_input": "2023-09-22T13:16:40.519828Z",
          "iopub.status.busy": "2023-09-22T13:16:40.519662Z",
          "iopub.status.idle": "2023-09-22T13:16:40.529418Z",
          "shell.execute_reply": "2023-09-22T13:16:40.529073Z"
        }
      },
      "outputs": [
        {
          "name": "stderr",
          "output_type": "stream",
          "text": [
            "[2023-09-22T15:16:40]:INFO:Preparing Pathway computation\n"
          ]
        },
        {
          "name": "stdout",
          "output_type": "stream",
          "text": [
            "            | name   | age\n",
            "^YYY4HAB... | Alice  | 25\n",
            "^Z3QWT29... | Bob    | 32\n",
            "^3CZ78B4... | Carole | 28\n"
          ]
        }
      ],
      "source": [
        "t_age = t_age.with_universe_of(t_name)\n",
        "t_union = t_name + t_age\n",
        ""
      ]
    },
    {
      "cell_type": "markdown",
      "id": "8d45c4a9",
      "metadata": {},
      "source": [
        "* **Concatenation**: you can use `Table.concat(t1,t2)` to concatenate two tables, but they need to have disjoint ids."
      ]
    },
    {
      "cell_type": "code",
      "execution_count": 15,
      "id": "56a9428b",
      "metadata": {
        "execution": {
          "iopub.execute_input": "2023-09-22T13:16:40.530687Z",
          "iopub.status.busy": "2023-09-22T13:16:40.530570Z",
          "iopub.status.idle": "2023-09-22T13:16:40.562110Z",
          "shell.execute_reply": "2023-09-22T13:16:40.561764Z"
        }
      },
      "outputs": [
        {
          "name": "stderr",
          "output_type": "stream",
          "text": [
            "[2023-09-22T15:16:40]:INFO:Preparing Pathway computation\n"
          ]
        },
        {
          "name": "stdout",
          "output_type": "stream",
          "text": [
            "            | name   | age\n",
            "^YYY4HAB... | Alice  | 25\n",
            "^Z3QWT29... | Bob    | 32\n",
            "^3CZ78B4... | Carole | 28\n",
            "^3HN31E1... | David  | 25\n"
          ]
        }
      ],
      "source": [
        "pw.universes.promise_are_pairwise_disjoint(t_union, t_david)\n",
        "pw.Table.concat(t_union,t_david)"
      ]
    },
    {
      "cell_type": "markdown",
      "id": "66319690",
      "metadata": {},
      "source": [
        "As you can see, Pathway keeps the index.\n",
        "If you are concatenating tables with overlapping indexes, you can use `concat_reindex` which will concat the tables and produce a new index.\n",
        "\n",
        "> **Info for Databricks Delta users**: Concatenation is highly similar to the SQL [`MERGE INTO`](https://docs.databricks.com/sql/language-manual/delta-merge-into.html).\n",
        "\n",
        "* **Join**: you can do all usual types of joins in Pathway (inner, outer, left, right). The example below presents an inner join:"
      ]
    },
    {
      "cell_type": "code",
      "execution_count": 16,
      "id": "7eee4b0a",
      "metadata": {
        "execution": {
          "iopub.execute_input": "2023-09-22T13:16:40.563592Z",
          "iopub.status.busy": "2023-09-22T13:16:40.563325Z",
          "iopub.status.idle": "2023-09-22T13:16:40.577561Z",
          "shell.execute_reply": "2023-09-22T13:16:40.577205Z"
        }
      },
      "outputs": [
        {
          "name": "stderr",
          "output_type": "stream",
          "text": [
            "[2023-09-22T15:16:40]:INFO:Preparing Pathway computation\n"
          ]
        },
        {
          "name": "stdout",
          "output_type": "stream",
          "text": [
            "            | age | name\n",
            "^04VMVCM... | 25  | Alice\n",
            "^TT1GT7R... | 28  | Carole\n",
            "^GFBMT58... | 32  | Bob\n"
          ]
        }
      ],
      "source": [
        "t_age.join(t_name, t_age.id==t_name.id).select(t_age.age, t_name.name)"
      ]
    },
    {
      "cell_type": "markdown",
      "id": "76d99251",
      "metadata": {},
      "source": [
        "Note that in the equality `t_age.id==t_name.id` the left part must be a column of the table on which the join is done, namely `t_name` in our example. Doing `t_name.id==t_age.id` would throw an error.\n",
        "\n",
        "For more visibility, the `pw.left` and `pw.right` notations should be used:"
      ]
    },
    {
      "cell_type": "code",
      "execution_count": 17,
      "id": "134cdf2d",
      "metadata": {
        "execution": {
          "iopub.execute_input": "2023-09-22T13:16:40.579106Z",
          "iopub.status.busy": "2023-09-22T13:16:40.578767Z",
          "iopub.status.idle": "2023-09-22T13:16:40.593497Z",
          "shell.execute_reply": "2023-09-22T13:16:40.593143Z"
        }
      },
      "outputs": [
        {
          "name": "stderr",
          "output_type": "stream",
          "text": [
            "[2023-09-22T15:16:40]:INFO:Preparing Pathway computation\n"
          ]
        },
        {
          "name": "stdout",
          "output_type": "stream",
          "text": [
            "            | age | name\n",
            "^04VMVCM... | 25  | Alice\n",
            "^TT1GT7R... | 28  | Carole\n",
            "^GFBMT58... | 32  | Bob\n"
          ]
        }
      ],
      "source": [
        "t_age.join(t_name, pw.left.id == pw.right.id).select(pw.left.age, pw.right.name)"
      ]
    },
    {
      "cell_type": "markdown",
      "id": "66790785",
      "metadata": {},
      "source": [
        "If you want more info about joins, we have an entire [manu\\[a\\]l](/developers/user-guide/table-operations/join-manual/) about it!\n",
        "\n",
        "## Updating\n",
        "\n",
        "* **Adding a new column with a default value** with `select`:"
      ]
    },
    {
      "cell_type": "code",
      "execution_count": 18,
      "id": "2e126985",
      "metadata": {
        "execution": {
          "iopub.execute_input": "2023-09-22T13:16:40.594877Z",
          "iopub.status.busy": "2023-09-22T13:16:40.594606Z",
          "iopub.status.idle": "2023-09-22T13:16:40.601975Z",
          "shell.execute_reply": "2023-09-22T13:16:40.601699Z"
        }
      },
      "outputs": [
        {
          "name": "stderr",
          "output_type": "stream",
          "text": [
            "[2023-09-22T15:16:40]:INFO:Preparing Pathway computation\n"
          ]
        },
        {
          "name": "stdout",
          "output_type": "stream",
          "text": [
            "            | age | adult\n",
            "^YYY4HAB... | 25  | True\n",
            "^3CZ78B4... | 28  | True\n",
            "^Z3QWT29... | 32  | True\n"
          ]
        }
      ],
      "source": [
        "t_age.select(*pw.this, adult=True)"
      ]
    },
    {
      "cell_type": "markdown",
      "id": "e1cd321a",
      "metadata": {},
      "source": [
        "The value can be a basic operation on the columns:"
      ]
    },
    {
      "cell_type": "code",
      "execution_count": 19,
      "id": "109f7b73",
      "metadata": {
        "execution": {
          "iopub.execute_input": "2023-09-22T13:16:40.603277Z",
          "iopub.status.busy": "2023-09-22T13:16:40.603050Z",
          "iopub.status.idle": "2023-09-22T13:16:40.612968Z",
          "shell.execute_reply": "2023-09-22T13:16:40.612680Z"
        }
      },
      "outputs": [
        {
          "name": "stderr",
          "output_type": "stream",
          "text": [
            "[2023-09-22T15:16:40]:INFO:Preparing Pathway computation\n"
          ]
        },
        {
          "name": "stdout",
          "output_type": "stream",
          "text": [
            "            | age | thirties\n",
            "^YYY4HAB... | 25  | False\n",
            "^3CZ78B4... | 28  | False\n",
            "^Z3QWT29... | 32  | True\n"
          ]
        }
      ],
      "source": [
        "t_age.select(*pw.this, thirties=pw.this.age>=30)"
      ]
    },
    {
      "cell_type": "markdown",
      "id": "d137d35d",
      "metadata": {},
      "source": [
        "* **Renaming** with `select`:"
      ]
    },
    {
      "cell_type": "code",
      "execution_count": 20,
      "id": "1e3abf49",
      "metadata": {
        "execution": {
          "iopub.execute_input": "2023-09-22T13:16:40.614240Z",
          "iopub.status.busy": "2023-09-22T13:16:40.614002Z",
          "iopub.status.idle": "2023-09-22T13:16:40.620686Z",
          "shell.execute_reply": "2023-09-22T13:16:40.620413Z"
        }
      },
      "outputs": [
        {
          "name": "stderr",
          "output_type": "stream",
          "text": [
            "[2023-09-22T15:16:40]:INFO:Preparing Pathway computation\n"
          ]
        },
        {
          "name": "stdout",
          "output_type": "stream",
          "text": [
            "            | surname\n",
            "^YYY4HAB... | Alice\n",
            "^Z3QWT29... | Bob\n",
            "^3CZ78B4... | Carole\n"
          ]
        }
      ],
      "source": [
        "t_name.select(surname=pw.this.name)"
      ]
    },
    {
      "cell_type": "markdown",
      "id": "9c671ef0",
      "metadata": {
        "lines_to_next_cell": 2
      },
      "source": [
        " * **Renaming** with `rename`:"
      ]
    },
    {
      "cell_type": "code",
      "execution_count": 21,
      "id": "aad90d89",
      "metadata": {
        "execution": {
          "iopub.execute_input": "2023-09-22T13:16:40.621954Z",
          "iopub.status.busy": "2023-09-22T13:16:40.621725Z",
          "iopub.status.idle": "2023-09-22T13:16:40.627979Z",
          "shell.execute_reply": "2023-09-22T13:16:40.627709Z"
        }
      },
      "outputs": [
        {
          "name": "stderr",
          "output_type": "stream",
          "text": [
            "[2023-09-22T15:16:40]:INFO:Preparing Pathway computation\n"
          ]
        },
        {
          "name": "stdout",
          "output_type": "stream",
          "text": [
            "            | surname\n",
            "^YYY4HAB... | Alice\n",
            "^Z3QWT29... | Bob\n",
            "^3CZ78B4... | Carole\n"
          ]
        }
      ],
      "source": [
        "t_name.rename_columns(surname=pw.this.name)"
      ]
    },
    {
      "cell_type": "markdown",
      "id": "fdf7f918",
      "metadata": {},
      "source": [
        " * **Updating cells**: you can update the values of cells using `update_cells` which can be also done using the binary operator `<<`. The ids and column names should be the same."
      ]
    },
    {
      "cell_type": "code",
      "execution_count": 22,
      "id": "7ce647c7",
      "metadata": {
        "execution": {
          "iopub.execute_input": "2023-09-22T13:16:40.629190Z",
          "iopub.status.busy": "2023-09-22T13:16:40.629077Z",
          "iopub.status.idle": "2023-09-22T13:16:40.644761Z",
          "shell.execute_reply": "2023-09-22T13:16:40.644482Z"
        }
      },
      "outputs": [
        {
          "name": "stderr",
          "output_type": "stream",
          "text": [
            "[2023-09-22T15:16:40]:INFO:Preparing Pathway computation\n"
          ]
        },
        {
          "name": "stdout",
          "output_type": "stream",
          "text": [
            "            | name\n",
            "^YYY4HAB... | Alicia\n",
            "^Z3QWT29... | Bobby\n",
            "^3CZ78B4... | Caro\n"
          ]
        }
      ],
      "source": [
        "t_updated_names = pw.debug.table_from_markdown(\n",
        "    \"\"\"\n",
        "    | name\n",
        " 1  | Alicia\n",
        " 2  | Bobby\n",
        " 3  | Caro\n",
        " \"\"\"\n",
        ")\n",
        "t_updated_names = t_updated_names.with_universe_of(t_name)\n",
        "t_name.update_cells(t_updated_names)"
      ]
    },
    {
      "cell_type": "markdown",
      "id": "5ff43bb9",
      "metadata": {},
      "source": [
        "## Operations\n",
        "\n",
        "* **Row-centered operations** with `apply`: you can apply a function to each value of a column (or more) by using `apply` in a `select`."
      ]
    },
    {
      "cell_type": "code",
      "execution_count": 23,
      "id": "bd567f5c",
      "metadata": {
        "execution": {
          "iopub.execute_input": "2023-09-22T13:16:40.645944Z",
          "iopub.status.busy": "2023-09-22T13:16:40.645829Z",
          "iopub.status.idle": "2023-09-22T13:16:40.654326Z",
          "shell.execute_reply": "2023-09-22T13:16:40.654057Z"
        }
      },
      "outputs": [
        {
          "name": "stderr",
          "output_type": "stream",
          "text": [
            "[2023-09-22T15:16:40]:INFO:Preparing Pathway computation\n"
          ]
        },
        {
          "name": "stdout",
          "output_type": "stream",
          "text": [
            "            | thirties\n",
            "^YYY4HAB... | False\n",
            "^3CZ78B4... | False\n",
            "^Z3QWT29... | True\n"
          ]
        }
      ],
      "source": [
        "t_age.select(thirties=pw.apply(lambda x: x>30, pw.this.age))"
      ]
    },
    {
      "cell_type": "markdown",
      "id": "313cbdbf",
      "metadata": {},
      "source": [
        "Operations on multiples values of a single row can be easily done this way:"
      ]
    },
    {
      "cell_type": "code",
      "execution_count": 24,
      "id": "465627de",
      "metadata": {
        "execution": {
          "iopub.execute_input": "2023-09-22T13:16:40.655659Z",
          "iopub.status.busy": "2023-09-22T13:16:40.655392Z",
          "iopub.status.idle": "2023-09-22T13:16:40.669039Z",
          "shell.execute_reply": "2023-09-22T13:16:40.668765Z"
        }
      },
      "outputs": [
        {
          "name": "stderr",
          "output_type": "stream",
          "text": [
            "[2023-09-22T15:16:40]:INFO:Preparing Pathway computation\n"
          ]
        },
        {
          "name": "stdout",
          "output_type": "stream",
          "text": [
            "            | sum\n",
            "^YYY4HAB... | 11\n",
            "^Z3QWT29... | 1100\n"
          ]
        }
      ],
      "source": [
        "t_multiples_values = pw.debug.table_from_markdown(\n",
        "    \"\"\"\n",
        "    | valA    | valB\n",
        " 1  | 1       | 10\n",
        " 2  | 100     | 1000\n",
        " \"\"\"\n",
        ")\n",
        "t_multiples_values.select(sum=pw.apply(lambda x,y: x+y, pw.this.valA, pw.this.valB))"
      ]
    },
    {
      "cell_type": "markdown",
      "id": "e7a0f1ab",
      "metadata": {},
      "source": [
        "* Other operations with **transformer classes**: Pathway enables complex computation on data streams by using transformer classes.\n",
        "It is a bit advanced for this first-steps guide but you can find all the information about transformer classes in [our tutorial](https://pathway.com/developers/user-guide/transformer-classes/transformer-intro)."
      ]
    }
  ],
  "metadata": {
    "jupytext": {
      "cell_metadata_filter": "-all",
      "main_language": "python",
      "notebook_metadata_filter": "-all"
    },
    "language_info": {
      "codemirror_mode": {
        "name": "ipython",
        "version": 3
      },
      "file_extension": ".py",
      "mimetype": "text/x-python",
      "name": "python",
      "nbconvert_exporter": "python",
      "pygments_lexer": "ipython3",
      "version": "3.11.4"
    }
  },
  "nbformat": 4,
  "nbformat_minor": 5
}