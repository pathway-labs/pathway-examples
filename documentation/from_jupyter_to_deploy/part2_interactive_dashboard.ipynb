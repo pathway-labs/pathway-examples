{
  "cells": [
    {
      "cell_type": "markdown",
      "metadata": {
        "id": "view-in-colab"
      },
      "source": [
        "<a href=\"https://colab.research.google.com/github/pathwaycom/pathway-examples/blob/main/documentation/from_jupyter_to_deploy/part2_interactive_dashboard.ipynb\" target=\"_parent\"><img src=\"https://pathway.com/assets/colab-badge.svg\" alt=\"Run In Colab\" class=\"inline\"/></a>"
      ]
    },
    {
      "cell_type": "markdown",
      "metadata": {},
      "source": [
        "# Part 2: From static data exploration to interactive dashboard prototyping\n",
        "\n",
        "This notebook is part of the second part of the tutorial [From interactive data exploration to deployment](https://pathway.com/developers/user-guide/from-jupyter-to-deploy/#part-2-from-static-data-exploration-to-interactive-dashboard-prototyping)."
      ]
    },
    {
      "cell_type": "markdown",
      "metadata": {
        "id": "notebook-instructions"
      },
      "source": [
        "## Installing dependencies\n",
        "\n",
        "Uncomment the cell below to install Pathway into a Python 3.10+ Linux runtime.\n",
        "\n",
        "> **If you are running in Google Colab, please run the colab notebook (Ctrl+F9)**, disregarding the 'not authored by Google' warning.\n",
        "> \n",
        "> **The installation and loading time is less than 1 minute**."
      ]
    },
    {
      "cell_type": "code",
      "execution_count": null,
      "metadata": {
        "cellView": "form",
        "id": "pip-installation-pathway"
      },
      "outputs": [],
      "source": [
        "# %%capture --no-display\n",
        "# !pip install pathway"
      ]
    },
    {
      "cell_type": "code",
      "execution_count": null,
      "id": "9266a955",
      "metadata": {
        "execution": {
          "iopub.execute_input": "2023-12-05T00:52:28.621768Z",
          "iopub.status.busy": "2023-12-05T00:52:28.621518Z",
          "iopub.status.idle": "2023-12-05T00:52:28.779664Z",
          "shell.execute_reply": "2023-12-05T00:52:28.779291Z"
        }
      },
      "outputs": [],
      "source": [
        "# Download CSV file\n",
        "!wget -nc https://gist.githubusercontent.com/janchorowski/e351af72ecd8d206a34763a428826ab7/raw/ticker.csv"
      ]
    },
    {
      "cell_type": "markdown",
      "metadata": {},
      "source": [
        "## Switching to streaming data"
      ]
    },
    {
      "cell_type": "code",
      "execution_count": null,
      "id": "1fed1569",
      "metadata": {
        "execution": {
          "iopub.execute_input": "2023-12-05T00:52:28.781296Z",
          "iopub.status.busy": "2023-12-05T00:52:28.781175Z",
          "iopub.status.idle": "2023-12-05T00:52:32.518055Z",
          "shell.execute_reply": "2023-12-05T00:52:32.517619Z"
        }
      },
      "outputs": [],
      "source": [
        "import datetime\n",
        "\n",
        "import pathway as pw\n",
        "\n",
        "fname = \"ticker.csv\"\n",
        "schema = pw.schema_from_csv(fname)\n",
        "data = pw.demo.replay_csv(fname, schema=schema, input_rate=1000)"
      ]
    },
    {
      "cell_type": "code",
      "execution_count": null,
      "id": "933cb708",
      "metadata": {
        "execution": {
          "iopub.execute_input": "2023-12-05T00:52:32.520599Z",
          "iopub.status.busy": "2023-12-05T00:52:32.520280Z",
          "iopub.status.idle": "2023-12-05T00:52:32.546478Z",
          "shell.execute_reply": "2023-12-05T00:52:32.546172Z"
        }
      },
      "outputs": [],
      "source": [
        "data = data.with_columns(\n",
        "    t=pw.apply_with_type(\n",
        "        datetime.datetime.fromtimestamp,\n",
        "        pw.DateTimeNaive,\n",
        "        data.t / 1000.0\n",
        "    )\n",
        ")"
      ]
    },
    {
      "cell_type": "markdown",
      "metadata": {},
      "source": [
        "## Defining behaviors for streaming windows"
      ]
    },
    {
      "cell_type": "code",
      "execution_count": null,
      "id": "8b8e4745",
      "metadata": {
        "execution": {
          "iopub.execute_input": "2023-12-05T00:52:32.548369Z",
          "iopub.status.busy": "2023-12-05T00:52:32.548239Z",
          "iopub.status.idle": "2023-12-05T00:52:32.925075Z",
          "shell.execute_reply": "2023-12-05T00:52:32.924601Z"
        }
      },
      "outputs": [],
      "source": [
        "minute_20_stats = (\n",
        "    data\n",
        "    .windowby(\n",
        "        pw.this.t, \n",
        "        window=pw.temporal.sliding(\n",
        "            hop=datetime.timedelta(minutes=1),\n",
        "            duration=datetime.timedelta(minutes=20)\n",
        "        ),\n",
        "        # Wait until the window collected all data before producing a result\n",
        "        behavior=pw.temporal.common_behavior(\n",
        "            delay=datetime.timedelta(minutes=20)\n",
        "        ),\n",
        "        instance=pw.this.ticker\n",
        "    )\n",
        "    .reduce(\n",
        "        ticker=pw.this._pw_instance,\n",
        "        t=pw.this._pw_window_end,\n",
        "        volume=pw.reducers.sum(pw.this.volume),\n",
        "        transact_total=pw.reducers.sum(pw.this.volume * pw.this.vwap),\n",
        "        transact_total2=pw.reducers.sum(pw.this.volume * pw.this.vwap**2)\n",
        "    )\n",
        "    .with_columns(\n",
        "        vwap=pw.this.transact_total / pw.this.volume\n",
        "    )\n",
        "    .with_columns(\n",
        "        vwstd=(pw.this.transact_total2 / pw.this.volume - pw.this.vwap**2)**0.5\n",
        "    ).with_columns(\n",
        "        bollinger_upper=pw.this.vwap + 2 * pw.this.vwstd,\n",
        "        bollinger_lower=pw.this.vwap - 2 * pw.this.vwstd\n",
        "    )\n",
        ")"
      ]
    },
    {
      "cell_type": "code",
      "execution_count": null,
      "id": "17a8b133",
      "metadata": {
        "execution": {
          "iopub.execute_input": "2023-12-05T00:52:32.927358Z",
          "iopub.status.busy": "2023-12-05T00:52:32.927219Z",
          "iopub.status.idle": "2023-12-05T00:52:33.074887Z",
          "shell.execute_reply": "2023-12-05T00:52:33.074474Z"
        }
      },
      "outputs": [],
      "source": [
        "minute_1_stats = (\n",
        "    data\n",
        "    .windowby(\n",
        "        pw.this.t,\n",
        "        window=pw.temporal.tumbling(datetime.timedelta(minutes=1)),\n",
        "        instance=pw.this.ticker\n",
        "    )\n",
        "    .reduce(\n",
        "        ticker=pw.this._pw_instance,\n",
        "        t=pw.this._pw_window_end,\n",
        "        volume=pw.reducers.sum(pw.this.volume),\n",
        "        transact_total=pw.reducers.sum(pw.this.volume * pw.this.vwap)\n",
        "    )\n",
        "    .with_columns(\n",
        "        vwap=pw.this.transact_total / pw.this.volume\n",
        "    )\n",
        ")"
      ]
    },
    {
      "cell_type": "code",
      "execution_count": null,
      "id": "893a25af",
      "metadata": {
        "execution": {
          "iopub.execute_input": "2023-12-05T00:52:33.076458Z",
          "iopub.status.busy": "2023-12-05T00:52:33.076334Z",
          "iopub.status.idle": "2023-12-05T00:52:33.190743Z",
          "shell.execute_reply": "2023-12-05T00:52:33.190328Z"
        }
      },
      "outputs": [],
      "source": [
        "joint_stats = (\n",
        "    minute_1_stats\n",
        "    .join(\n",
        "        minute_20_stats,\n",
        "        pw.left.t == pw.right.t,\n",
        "        pw.left.ticker == pw.right.ticker\n",
        "    )\n",
        "    .select(\n",
        "        *pw.left,\n",
        "        bollinger_lower=pw.right.bollinger_lower,\n",
        "        bollinger_upper=pw.right.bollinger_upper\n",
        "    )\n",
        "    .with_columns(\n",
        "        is_alert=(\n",
        "            (pw.this.volume > 10000)\n",
        "            & (\n",
        "                (pw.this.vwap > pw.this.bollinger_upper)\n",
        "                | (pw.this.vwap < pw.this.bollinger_lower)\n",
        "            )\n",
        "        )\n",
        "    )\n",
        "    .with_columns(\n",
        "        action=pw.if_else(\n",
        "            pw.this.is_alert,\n",
        "            pw.if_else(pw.this.vwap > pw.this.bollinger_upper, \"sell\", \"buy\"),\n",
        "            \"hodl\",\n",
        "        )\n",
        "    )\n",
        ")"
      ]
    },
    {
      "cell_type": "code",
      "execution_count": null,
      "id": "bf7f32ed",
      "metadata": {
        "execution": {
          "iopub.execute_input": "2023-12-05T00:52:33.192562Z",
          "iopub.status.busy": "2023-12-05T00:52:33.192433Z",
          "iopub.status.idle": "2023-12-05T00:52:33.213792Z",
          "shell.execute_reply": "2023-12-05T00:52:33.213464Z"
        }
      },
      "outputs": [],
      "source": [
        "alerts = (\n",
        "    joint_stats\n",
        "    .filter(pw.this.is_alert)\n",
        "    .select(pw.this.ticker, pw.this.t, pw.this.vwap, pw.this.action)\n",
        ")"
      ]
    },
    {
      "cell_type": "code",
      "execution_count": null,
      "id": "f171a9ca",
      "metadata": {
        "execution": {
          "iopub.execute_input": "2023-12-05T00:52:33.215507Z",
          "iopub.status.busy": "2023-12-05T00:52:33.215386Z",
          "iopub.status.idle": "2023-12-05T00:52:33.218734Z",
          "shell.execute_reply": "2023-12-05T00:52:33.218388Z"
        }
      },
      "outputs": [],
      "source": [
        "import bokeh.models\n",
        "\n",
        "def stats_plotter(src):\n",
        "    actions=[\"buy\", \"sell\", \"hodl\"]\n",
        "    color_map = bokeh.models.CategoricalColorMapper(\n",
        "        factors=actions,\n",
        "        palette=(\"#00ff00\", \"#ff0000\", \"#00000000\")\n",
        "    )\n",
        "    \n",
        "    fig = bokeh.plotting.figure(\n",
        "        height=400, width=600,\n",
        "        title=\"20 minutes Bollinger bands with last 1 minute average\",\n",
        "        x_axis_type=\"datetime\"\n",
        "    )\n",
        "    \n",
        "    fig.line(\"t\", \"vwap\", source=src)\n",
        "    \n",
        "    band = bokeh.models.Band(\n",
        "        base=\"t\", lower=\"bollinger_lower\", upper=\"bollinger_upper\",\n",
        "        fill_alpha=0.3, fill_color=\"gray\", line_color=\"black\",\n",
        "        source=src\n",
        "    )\n",
        "    fig.add_layout(band)\n",
        "\n",
        "    fig.scatter(\n",
        "        \"t\", \"vwap\",\n",
        "        size=10, marker=\"circle\",\n",
        "        color={\"field\": \"action\", \"transform\": color_map},\n",
        "        source=src\n",
        "    )\n",
        "    \n",
        "    return fig"
      ]
    },
    {
      "cell_type": "markdown",
      "metadata": {},
      "source": [
        "## Running the dashboard"
      ]
    },
    {
      "cell_type": "code",
      "execution_count": null,
      "id": "0616b7d3",
      "metadata": {
        "execution": {
          "iopub.execute_input": "2023-12-05T00:52:33.220313Z",
          "iopub.status.busy": "2023-12-05T00:52:33.219992Z",
          "iopub.status.idle": "2023-12-05T00:52:33.665726Z",
          "shell.execute_reply": "2023-12-05T00:52:33.665302Z"
        }
      },
      "outputs": [],
      "source": [
        "import panel as pn\n",
        "\n",
        "viz = pn.Row(\n",
        "    joint_stats.plot(stats_plotter, sorting_col='t'),\n",
        "    alerts.show(include_id=False, sorters=[{\"field\": \"t\", \"dir\": \"desc\"}])\n",
        ")\n",
        "viz"
      ]
    },
    {
      "cell_type": "code",
      "execution_count": null,
      "id": "6e98e196",
      "metadata": {
        "execution": {
          "iopub.execute_input": "2023-12-05T00:52:33.667619Z",
          "iopub.status.busy": "2023-12-05T00:52:33.667487Z",
          "iopub.status.idle": "2023-12-05T00:52:33.669586Z",
          "shell.execute_reply": "2023-12-05T00:52:33.669250Z"
        }
      },
      "outputs": [],
      "source": [
        "pw.run()"
      ]
    }
  ],
  "metadata": {
    "kernelspec": {
      "display_name": "Python 3 (ipykernel)",
      "language": "python",
      "name": "python3"
    },
    "language_info": {
      "codemirror_mode": {
        "name": "ipython",
        "version": 3
      },
      "file_extension": ".py",
      "mimetype": "text/x-python",
      "name": "python",
      "nbconvert_exporter": "python",
      "pygments_lexer": "ipython3",
      "version": "3.11.6"
    }
  },
  "nbformat": 4,
  "nbformat_minor": 5
}
