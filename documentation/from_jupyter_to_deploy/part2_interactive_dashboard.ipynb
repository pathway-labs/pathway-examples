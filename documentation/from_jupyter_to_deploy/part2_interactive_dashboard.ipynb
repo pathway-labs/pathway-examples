{
  "cells": [
    {
      "cell_type": "markdown",
      "metadata": {
        "id": "view-in-colab"
      },
      "source": [
        "<a href=\"https://colab.research.google.com/github/pathwaycom/pathway-examples/blob/main/documentation/from_jupyter_to_deploy/part2_interactive_dashboard.ipynb\" target=\"_parent\"><img src=\"https://pathway.com/assets/colab-badge.svg\" alt=\"Run In Colab\" class=\"inline\"/></a>"
      ]
    },
    {
      "cell_type": "markdown",
      "source": [
        "# Installing Pathway with Python 3.10+\n",
        "\n",
        "In the cell below, we install Pathway into a Python 3.10+ Linux runtime.\n",
        "\n",
        "> **If you are running in Google Colab, please run the colab notebook (Ctrl+F9)**, disregarding the 'not authored by Google' warning.\n",
        "> \n",
        "> **The installation and loading time is less than 1 minute**.\n"
      ],
      "metadata": {
        "id": "notebook-instructions"
      }
    },
    {
      "cell_type": "code",
      "source": [
        "%%capture --no-display\n",
        "!pip install pathway"
      ],
      "metadata": {
        "id": "pip-installation-pathway",
        "cellView": "form"
      },
      "execution_count": null,
      "outputs": []
    },
    {
      "cell_type": "markdown",
      "id": "50ef53e6",
      "metadata": {},
      "source": [
        "# Part 2: From static data exploration to interactive dashboard prototyping\n",
        "This notebook is part of the second part of the tutorial [From interactive data exploration to deployment](https://pathway.com/developers/user-guide/exploring-pathway/from-jupyter-to-deploy/#part-2-from-static-data-exploration-to-interactive-dashboard-prototyping)."
      ]
    },
    {
      "cell_type": "code",
      "execution_count": 1,
      "id": "a441408d",
      "metadata": {
        "execution": {
          "iopub.execute_input": "2024-01-08T10:58:40.586736Z",
          "iopub.status.busy": "2024-01-08T10:58:40.586571Z",
          "iopub.status.idle": "2024-01-08T10:58:40.714690Z",
          "shell.execute_reply": "2024-01-08T10:58:40.714036Z"
        }
      },
      "outputs": [
        {
          "name": "stdout",
          "output_type": "stream",
          "text": [
            "File \u2018ticker.csv\u2019 already there; not retrieving.\r\n",
            "\r\n"
          ]
        }
      ],
      "source": [
        "# Download CSV file\n",
        "!wget -nc https://gist.githubusercontent.com/janchorowski/e351af72ecd8d206a34763a428826ab7/raw/ticker.csv"
      ]
    },
    {
      "cell_type": "markdown",
      "id": "ee858baf",
      "metadata": {},
      "source": [
        "## Switching to streaming data"
      ]
    },
    {
      "cell_type": "code",
      "execution_count": 2,
      "id": "0239789d",
      "metadata": {
        "execution": {
          "iopub.execute_input": "2024-01-08T10:58:40.718019Z",
          "iopub.status.busy": "2024-01-08T10:58:40.717688Z",
          "iopub.status.idle": "2024-01-08T10:58:46.775301Z",
          "shell.execute_reply": "2024-01-08T10:58:46.774609Z"
        }
      },
      "outputs": [],
      "source": [
        "import datetime\n",
        "\n",
        "import pathway as pw\n",
        "\n",
        "fname = \"ticker.csv\"\n",
        "schema = pw.schema_from_csv(fname)\n",
        "data = pw.demo.replay_csv(fname, schema=schema, input_rate=1000)"
      ]
    },
    {
      "cell_type": "code",
      "execution_count": 3,
      "id": "c2396931",
      "metadata": {
        "execution": {
          "iopub.execute_input": "2024-01-08T10:58:46.779526Z",
          "iopub.status.busy": "2024-01-08T10:58:46.778605Z",
          "iopub.status.idle": "2024-01-08T10:58:46.824746Z",
          "shell.execute_reply": "2024-01-08T10:58:46.824109Z"
        },
        "lines_to_next_cell": 2
      },
      "outputs": [],
      "source": [
        "data = data.with_columns(\n",
        "    t=pw.apply_with_type(\n",
        "        datetime.datetime.fromtimestamp, pw.DateTimeNaive, data.t / 1000.0\n",
        "    )\n",
        ")"
      ]
    },
    {
      "cell_type": "markdown",
      "id": "ff4a187e",
      "metadata": {},
      "source": [
        "## Defining behaviors for streaming windows"
      ]
    },
    {
      "cell_type": "code",
      "execution_count": 4,
      "id": "e2de93bd",
      "metadata": {
        "execution": {
          "iopub.execute_input": "2024-01-08T10:58:46.827968Z",
          "iopub.status.busy": "2024-01-08T10:58:46.827606Z",
          "iopub.status.idle": "2024-01-08T10:58:47.278479Z",
          "shell.execute_reply": "2024-01-08T10:58:47.277809Z"
        }
      },
      "outputs": [],
      "source": [
        "minute_20_stats = (\n",
        "    data.windowby(\n",
        "        pw.this.t,\n",
        "        window=pw.temporal.sliding(\n",
        "            hop=datetime.timedelta(minutes=1), duration=datetime.timedelta(minutes=20)\n",
        "        ),\n",
        "        behavior=pw.temporal.common_behavior(delay=datetime.timedelta(minutes=20)),\n",
        "        instance=pw.this.ticker,\n",
        "    )\n",
        "    .reduce(\n",
        "        ticker=pw.this._pw_instance,\n",
        "        t=pw.this._pw_window_end,\n",
        "        volume=pw.reducers.sum(pw.this.volume),\n",
        "        transact_total=pw.reducers.sum(pw.this.volume * pw.this.vwap),\n",
        "        transact_total2=pw.reducers.sum(pw.this.volume * pw.this.vwap**2),\n",
        "    )\n",
        "    .with_columns(vwap=pw.this.transact_total / pw.this.volume)\n",
        "    .with_columns(\n",
        "        vwstd=(pw.this.transact_total2 / pw.this.volume - pw.this.vwap**2) ** 0.5\n",
        "    )\n",
        "    .with_columns(\n",
        "        bollinger_upper=pw.this.vwap + 2 * pw.this.vwstd,\n",
        "        bollinger_lower=pw.this.vwap - 2 * pw.this.vwstd,\n",
        "    )\n",
        ")"
      ]
    },
    {
      "cell_type": "code",
      "execution_count": 5,
      "id": "c3492a71",
      "metadata": {
        "execution": {
          "iopub.execute_input": "2024-01-08T10:58:47.281676Z",
          "iopub.status.busy": "2024-01-08T10:58:47.281321Z",
          "iopub.status.idle": "2024-01-08T10:58:47.494289Z",
          "shell.execute_reply": "2024-01-08T10:58:47.493741Z"
        }
      },
      "outputs": [],
      "source": [
        "minute_1_stats = (\n",
        "    data.windowby(\n",
        "        pw.this.t,\n",
        "        window=pw.temporal.tumbling(datetime.timedelta(minutes=1)),\n",
        "        instance=pw.this.ticker,\n",
        "    )\n",
        "    .reduce(\n",
        "        ticker=pw.this._pw_instance,\n",
        "        t=pw.this._pw_window_end,\n",
        "        volume=pw.reducers.sum(pw.this.volume),\n",
        "        transact_total=pw.reducers.sum(pw.this.volume * pw.this.vwap),\n",
        "    )\n",
        "    .with_columns(vwap=pw.this.transact_total / pw.this.volume)\n",
        ")"
      ]
    },
    {
      "cell_type": "code",
      "execution_count": 6,
      "id": "441cbe57",
      "metadata": {
        "execution": {
          "iopub.execute_input": "2024-01-08T10:58:47.497231Z",
          "iopub.status.busy": "2024-01-08T10:58:47.497003Z",
          "iopub.status.idle": "2024-01-08T10:58:48.033558Z",
          "shell.execute_reply": "2024-01-08T10:58:48.032917Z"
        }
      },
      "outputs": [],
      "source": [
        "joint_stats = (\n",
        "    minute_1_stats.join(\n",
        "        minute_20_stats, pw.left.t == pw.right.t, pw.left.ticker == pw.right.ticker\n",
        "    )\n",
        "    .select(\n",
        "        *pw.left,\n",
        "        bollinger_lower=pw.right.bollinger_lower,\n",
        "        bollinger_upper=pw.right.bollinger_upper,\n",
        "    )\n",
        "    .with_columns(\n",
        "        is_alert=(\n",
        "            (pw.this.volume > 10000)\n",
        "            & (\n",
        "                (pw.this.vwap > pw.this.bollinger_upper)\n",
        "                | (pw.this.vwap < pw.this.bollinger_lower)\n",
        "            )\n",
        "        )\n",
        "    )\n",
        "    .with_columns(\n",
        "        action=pw.if_else(\n",
        "            pw.this.is_alert,\n",
        "            pw.if_else(pw.this.vwap > pw.this.bollinger_upper, \"sell\", \"buy\"),\n",
        "            \"hodl\",\n",
        "        )\n",
        "    )\n",
        ")"
      ]
    },
    {
      "cell_type": "code",
      "execution_count": 7,
      "id": "c773ff92",
      "metadata": {
        "execution": {
          "iopub.execute_input": "2024-01-08T10:58:48.036878Z",
          "iopub.status.busy": "2024-01-08T10:58:48.036575Z",
          "iopub.status.idle": "2024-01-08T10:58:48.073372Z",
          "shell.execute_reply": "2024-01-08T10:58:48.072760Z"
        }
      },
      "outputs": [],
      "source": [
        "alerts = joint_stats.filter(pw.this.is_alert).select(\n",
        "    pw.this.ticker, pw.this.t, pw.this.vwap, pw.this.action\n",
        ")"
      ]
    },
    {
      "cell_type": "code",
      "execution_count": 8,
      "id": "634cf485",
      "metadata": {
        "execution": {
          "iopub.execute_input": "2024-01-08T10:58:48.076661Z",
          "iopub.status.busy": "2024-01-08T10:58:48.076327Z",
          "iopub.status.idle": "2024-01-08T10:58:48.081805Z",
          "shell.execute_reply": "2024-01-08T10:58:48.081307Z"
        }
      },
      "outputs": [],
      "source": [
        "import bokeh.models\n",
        "\n",
        "\n",
        "def stats_plotter(src):\n",
        "    actions = [\"buy\", \"sell\", \"hodl\"]\n",
        "    color_map = bokeh.models.CategoricalColorMapper(\n",
        "        factors=actions, palette=(\"#00ff00\", \"#ff0000\", \"#00000000\")\n",
        "    )\n",
        "\n",
        "    fig = bokeh.plotting.figure(\n",
        "        height=400,\n",
        "        width=600,\n",
        "        title=\"20 minutes Bollinger bands with last 1 minute average\",\n",
        "        x_axis_type=\"datetime\",\n",
        "    )\n",
        "\n",
        "    fig.line(\"t\", \"vwap\", source=src)\n",
        "\n",
        "    fig.line(\"t\", \"bollinger_lower\", source=src, line_alpha=0.3)\n",
        "    fig.line(\"t\", \"bollinger_upper\", source=src, line_alpha=0.3)\n",
        "    fig.varea(\n",
        "        x=\"t\",\n",
        "        y1=\"bollinger_lower\",\n",
        "        y2=\"bollinger_upper\",\n",
        "        fill_alpha=0.3,\n",
        "        fill_color=\"gray\",\n",
        "        source=src,\n",
        "    )\n",
        "\n",
        "    fig.scatter(\n",
        "        \"t\",\n",
        "        \"vwap\",\n",
        "        size=10,\n",
        "        marker=\"circle\",\n",
        "        color={\"field\": \"action\", \"transform\": color_map},\n",
        "        source=src,\n",
        "    )\n",
        "\n",
        "    return fig"
      ]
    },
    {
      "cell_type": "markdown",
      "id": "0ccd9aae",
      "metadata": {},
      "source": [
        "## Running the dashboard"
      ]
    },
    {
      "cell_type": "code",
      "execution_count": 9,
      "id": "960fb845",
      "metadata": {
        "execution": {
          "iopub.execute_input": "2024-01-08T10:58:48.084319Z",
          "iopub.status.busy": "2024-01-08T10:58:48.084083Z",
          "iopub.status.idle": "2024-01-08T10:58:48.847283Z",
          "shell.execute_reply": "2024-01-08T10:58:48.846521Z"
        }
      },
      "outputs": [],
      "source": [
        "import panel as pn\n",
        "\n",
        "viz = pn.Row(\n",
        "    joint_stats.plot(stats_plotter, sorting_col=\"t\"),\n",
        "    alerts.show(include_id=False, sorters=[{\"field\": \"t\", \"dir\": \"desc\"}]),\n",
        ")\n",
        "viz"
      ]
    },
    {
      "cell_type": "code",
      "execution_count": 10,
      "id": "42fb044d",
      "metadata": {
        "execution": {
          "iopub.execute_input": "2024-01-08T10:58:48.850374Z",
          "iopub.status.busy": "2024-01-08T10:58:48.850068Z",
          "iopub.status.idle": "2024-01-08T10:58:48.853279Z",
          "shell.execute_reply": "2024-01-08T10:58:48.852775Z"
        }
      },
      "outputs": [],
      "source": [
        "pw.run()"
      ]
    }
  ],
  "metadata": {
    "kernelspec": {
      "display_name": "Python 3 (ipykernel)",
      "language": "python",
      "name": "python3"
    },
    "language_info": {
      "codemirror_mode": {
        "name": "ipython",
        "version": 3
      },
      "file_extension": ".py",
      "mimetype": "text/x-python",
      "name": "python",
      "nbconvert_exporter": "python",
      "pygments_lexer": "ipython3",
      "version": "3.11.6"
    }
  },
  "nbformat": 4,
  "nbformat_minor": 5
}