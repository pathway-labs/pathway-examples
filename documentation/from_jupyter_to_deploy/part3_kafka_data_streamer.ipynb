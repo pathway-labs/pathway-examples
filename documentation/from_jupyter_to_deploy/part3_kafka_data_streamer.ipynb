{
  "cells": [
    {
      "cell_type": "markdown",
      "metadata": {
        "id": "view-in-colab"
      },
      "source": [
        "<a href=\"https://colab.research.google.com/github/pathwaycom/pathway-examples/blob/main/documentation/from_jupyter_to_deploy/part3_kafka_data_streamer.ipynb\" target=\"_parent\"><img src=\"https://pathway.com/assets/colab-badge.svg\" alt=\"Run In Colab\" class=\"inline\"/></a>"
      ]
    },
    {
      "cell_type": "markdown",
      "source": [
        "# Installing Pathway with Python 3.10+\n",
        "\n",
        "In the cell below, we install Pathway into a Python 3.10+ Linux runtime.\n",
        "\n",
        "> **If you are running in Google Colab, please run the colab notebook (Ctrl+F9)**, disregarding the 'not authored by Google' warning.\n",
        "> \n",
        "> **The installation and loading time is less than 1 minute**.\n"
      ],
      "metadata": {
        "id": "notebook-instructions"
      }
    },
    {
      "cell_type": "code",
      "source": [
        "%%capture --no-display\n",
        "!pip install pathway"
      ],
      "metadata": {
        "id": "pip-installation-pathway",
        "cellView": "form"
      },
      "execution_count": null,
      "outputs": []
    },
    {
      "cell_type": "markdown",
      "id": "928b02e0",
      "metadata": {},
      "source": [
        "# Part 3: Kafka integration and alerts forwarding (Producer)\n",
        "\n",
        "This notebook is a helper notebook for the third part of the tutorial [From interactive data exploration to deployment](https://pathway.com/developers/user-guide/exploring-pathway/from-jupyter-to-deploy/#part-3-kafka-integration-and-alerts-forwarding)."
      ]
    },
    {
      "cell_type": "code",
      "execution_count": 1,
      "id": "9132ada5",
      "metadata": {
        "execution": {
          "iopub.execute_input": "2024-01-08T10:59:51.918921Z",
          "iopub.status.busy": "2024-01-08T10:59:51.918660Z",
          "iopub.status.idle": "2024-01-08T10:59:52.050114Z",
          "shell.execute_reply": "2024-01-08T10:59:52.049411Z"
        }
      },
      "outputs": [
        {
          "name": "stdout",
          "output_type": "stream",
          "text": [
            "--2023-12-20 18:32:44--  https://gist.githubusercontent.com/janchorowski/e351af72ecd8d206a34763a428826ab7/raw/ticker.csv\r\n",
            "Resolving gist.githubusercontent.com (gist.githubusercontent.com)... 185.199.110.133, 185.199.109.133, 185.199.108.133, ...\r\n",
            "Connecting to gist.githubusercontent.com (gist.githubusercontent.com)|185.199.110.133|:443... connected.\r\n",
            "HTTP request sent, awaiting response... 200 OK\r\n",
            "Length: 1253370 (1,2M) [text/plain]\r\n",
            "Saving to: \u2018ticker.csv\u2019\r\n",
            "\r\n",
            "ticker.csv          100%[===================>]   1,19M  --.-KB/s    in 0,02s   \r\n",
            "\r\n",
            "2023-12-20 18:32:44 (52,6 MB/s) - \u2018ticker.csv\u2019 saved [1253370/1253370]\r\n",
            "\r\n"
          ]
        }
      ],
      "source": [
        "# Download CSV file\n",
        "!wget -nc https://gist.githubusercontent.com/janchorowski/e351af72ecd8d206a34763a428826ab7/raw/ticker.csv"
      ]
    },
    {
      "cell_type": "markdown",
      "id": "8e8ea15e",
      "metadata": {},
      "source": [
        "## Writing messages to Kafka"
      ]
    },
    {
      "cell_type": "code",
      "execution_count": 2,
      "id": "8e681519",
      "metadata": {
        "execution": {
          "iopub.execute_input": "2024-01-08T10:59:52.053777Z",
          "iopub.status.busy": "2024-01-08T10:59:52.053108Z",
          "iopub.status.idle": "2024-01-08T10:59:57.711007Z",
          "shell.execute_reply": "2024-01-08T10:59:57.710099Z"
        },
        "lines_to_next_cell": 2
      },
      "outputs": [],
      "source": [
        "import pathway as pw\n",
        "\n",
        "fname = \"ticker.csv\"\n",
        "schema = pw.schema_from_csv(fname)"
      ]
    },
    {
      "cell_type": "code",
      "execution_count": 3,
      "id": "ad9a640c",
      "metadata": {
        "execution": {
          "iopub.execute_input": "2024-01-08T10:59:57.715322Z",
          "iopub.status.busy": "2024-01-08T10:59:57.713992Z",
          "iopub.status.idle": "2024-01-08T10:59:57.720293Z",
          "shell.execute_reply": "2024-01-08T10:59:57.719753Z"
        }
      },
      "outputs": [
        {
          "name": "stdout",
          "output_type": "stream",
          "text": [
            "class DataSchema(pw.Schema):\n",
            "    ticker: str\n",
            "    open: float\n",
            "    high: float\n",
            "    low: float\n",
            "    close: float\n",
            "    volume: float\n",
            "    vwap: float\n",
            "    t: int\n",
            "    transactions: int\n",
            "    otc: str\n"
          ]
        }
      ],
      "source": [
        "print(schema.generate_class(class_name=\"DataSchema\"))"
      ]
    },
    {
      "cell_type": "code",
      "execution_count": 4,
      "id": "05900fb1",
      "metadata": {
        "execution": {
          "iopub.execute_input": "2024-01-08T10:59:57.722456Z",
          "iopub.status.busy": "2024-01-08T10:59:57.722186Z",
          "iopub.status.idle": "2024-01-08T10:59:57.845516Z",
          "shell.execute_reply": "2024-01-08T10:59:57.844907Z"
        }
      },
      "outputs": [],
      "source": [
        "# The schema definition is autogenerated\n",
        "class DataSchema(pw.Schema):\n",
        "    ticker: str\n",
        "    open: float\n",
        "    high: float\n",
        "    low: float\n",
        "    close: float\n",
        "    volume: float\n",
        "    vwap: float\n",
        "    t: int\n",
        "    transactions: int\n",
        "    otc: str\n",
        "\n",
        "\n",
        "data = pw.demo.replay_csv(fname, schema=DataSchema, input_rate=1000)"
      ]
    },
    {
      "cell_type": "code",
      "execution_count": 5,
      "id": "8c41879e",
      "metadata": {
        "execution": {
          "iopub.execute_input": "2024-01-08T10:59:57.848221Z",
          "iopub.status.busy": "2024-01-08T10:59:57.847944Z",
          "iopub.status.idle": "2024-01-08T10:59:57.854136Z",
          "shell.execute_reply": "2024-01-08T10:59:57.853532Z"
        }
      },
      "outputs": [],
      "source": [
        "# TODO: please set appropriaye values for KAFKA_ENDPOINT, KAFKA_USERNAME, and KAFKA_PASSWORD\n",
        "rdkafka_producer_settings = {\n",
        "    \"bootstrap.servers\": \"KAFKA_ENDPOINT:9092\",\n",
        "    \"security.protocol\": \"sasl_ssl\",\n",
        "    \"sasl.mechanism\": \"SCRAM-SHA-256\",\n",
        "    \"sasl.username\": \"KAFKA_USERNAME\",\n",
        "    \"sasl.password\": \"KAFKA_PASSWORD\",\n",
        "}\n",
        "\n",
        "pw.io.kafka.write(data, rdkafka_producer_settings, topic_name=\"ticker\")"
      ]
    },
    {
      "cell_type": "code",
      "execution_count": 6,
      "id": "4a530cca",
      "metadata": {
        "execution": {
          "iopub.execute_input": "2024-01-08T10:59:57.856591Z",
          "iopub.status.busy": "2024-01-08T10:59:57.856303Z",
          "iopub.status.idle": "2024-01-08T10:59:57.859245Z",
          "shell.execute_reply": "2024-01-08T10:59:57.858736Z"
        }
      },
      "outputs": [],
      "source": [
        "pw.run()"
      ]
    }
  ],
  "metadata": {
    "kernelspec": {
      "display_name": "Python 3 (ipykernel)",
      "language": "python",
      "name": "python3"
    },
    "language_info": {
      "codemirror_mode": {
        "name": "ipython",
        "version": 3
      },
      "file_extension": ".py",
      "mimetype": "text/x-python",
      "name": "python",
      "nbconvert_exporter": "python",
      "pygments_lexer": "ipython3",
      "version": "3.11.6"
    }
  },
  "nbformat": 4,
  "nbformat_minor": 5
}