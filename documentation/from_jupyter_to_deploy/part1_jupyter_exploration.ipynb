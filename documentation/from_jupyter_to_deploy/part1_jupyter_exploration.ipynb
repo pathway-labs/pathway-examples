{
  "cells": [
    {
      "cell_type": "markdown",
      "metadata": {
        "id": "view-in-colab"
      },
      "source": [
        "<a href=\"https://colab.research.google.com/github/pathwaycom/pathway-examples/blob/main/documentation/from_jupyter_to_deploy/part1_jupyter_exploration.ipynb\" target=\"_parent\"><img src=\"https://pathway.com/assets/colab-badge.svg\" alt=\"Run In Colab\" class=\"inline\"/></a>"
      ]
    },
    {
      "cell_type": "markdown",
      "metadata": {},
      "source": [
        "# Part 1: Static data exploration in Jupyter\n",
        "\n",
        "This notebook is part of the first part of the tutorial [From interactive data exploration to deployment](https://pathway.com/developers/user-guide/from-jupyter-to-deploy/#part-1-static-data-exploration-in-jupyter)."
      ]
    },
    {
      "cell_type": "markdown",
      "metadata": {
        "id": "notebook-instructions"
      },
      "source": [
        "## Installing dependencies\n",
        "\n",
        "Uncomment the cell below to install Pathway into a Python 3.10+ Linux runtime.\n",
        "\n",
        "> **If you are running in Google Colab, please run the colab notebook (Ctrl+F9)**, disregarding the 'not authored by Google' warning.\n",
        "> \n",
        "> **The installation and loading time is less than 1 minute**."
      ]
    },
    {
      "cell_type": "code",
      "execution_count": null,
      "metadata": {
        "cellView": "form",
        "id": "pip-installation-pathway"
      },
      "outputs": [],
      "source": [
        "# %%capture --no-display\n",
        "# !pip install pathway"
      ]
    },
    {
      "cell_type": "code",
      "execution_count": null,
      "id": "807e5269",
      "metadata": {
        "execution": {
          "iopub.execute_input": "2023-12-04T21:15:41.893492Z",
          "iopub.status.busy": "2023-12-04T21:15:41.893230Z",
          "iopub.status.idle": "2023-12-04T21:15:42.049863Z",
          "shell.execute_reply": "2023-12-04T21:15:42.049423Z"
        }
      },
      "outputs": [],
      "source": [
        "# Download CSV file\n",
        "!wget -nc https://gist.githubusercontent.com/janchorowski/e351af72ecd8d206a34763a428826ab7/raw/ticker.csv"
      ]
    },
    {
      "cell_type": "markdown",
      "metadata": {},
      "source": [
        "## Loading data"
      ]
    },
    {
      "cell_type": "code",
      "execution_count": null,
      "id": "697fad5d",
      "metadata": {
        "execution": {
          "iopub.execute_input": "2023-12-04T21:15:42.051659Z",
          "iopub.status.busy": "2023-12-04T21:15:42.051533Z",
          "iopub.status.idle": "2023-12-04T21:15:46.141396Z",
          "shell.execute_reply": "2023-12-04T21:15:46.140994Z"
        }
      },
      "outputs": [],
      "source": [
        "import datetime\n",
        "\n",
        "import pathway as pw\n",
        "\n",
        "fname = \"ticker.csv\"\n",
        "schema = pw.schema_from_csv(fname)\n",
        "data = pw.io.csv.read(fname, schema=schema, mode=\"static\")\n",
        "data"
      ]
    },
    {
      "cell_type": "code",
      "execution_count": null,
      "id": "e7f2d241",
      "metadata": {
        "execution": {
          "iopub.execute_input": "2023-12-04T21:15:46.143397Z",
          "iopub.status.busy": "2023-12-04T21:15:46.143175Z",
          "iopub.status.idle": "2023-12-04T21:15:46.455841Z",
          "shell.execute_reply": "2023-12-04T21:15:46.455452Z"
        }
      },
      "outputs": [],
      "source": [
        "data = data.with_columns(\n",
        "    t=pw.apply_with_type(\n",
        "        datetime.datetime.fromtimestamp,\n",
        "        pw.DateTimeNaive,\n",
        "        data.t / 1000.0\n",
        "    )\n",
        ")\n",
        "data"
      ]
    },
    {
      "cell_type": "code",
      "execution_count": null,
      "id": "8895d2c9",
      "metadata": {
        "execution": {
          "iopub.execute_input": "2023-12-04T21:15:46.457326Z",
          "iopub.status.busy": "2023-12-04T21:15:46.457190Z",
          "iopub.status.idle": "2023-12-04T21:15:46.459599Z",
          "shell.execute_reply": "2023-12-04T21:15:46.459327Z"
        }
      },
      "outputs": [],
      "source": [
        "import bokeh.plotting\n",
        "\n",
        "def vwap_history(src):\n",
        "    fig = bokeh.plotting.figure(\n",
        "        height=400, width=600,\n",
        "        title=\"Volume-weighted average price\",\n",
        "        x_axis_type=\"datetime\"\n",
        "    )\n",
        "    fig.line(\"t\", \"vwap\", source=src)\n",
        "    return fig"
      ]
    },
    {
      "cell_type": "code",
      "execution_count": null,
      "id": "680d47db",
      "metadata": {
        "execution": {
          "iopub.execute_input": "2023-12-04T21:15:46.461019Z",
          "iopub.status.busy": "2023-12-04T21:15:46.460896Z",
          "iopub.status.idle": "2023-12-04T21:15:46.751930Z",
          "shell.execute_reply": "2023-12-04T21:15:46.751636Z"
        }
      },
      "outputs": [],
      "source": [
        "data.plot(vwap_history, sorting_col=\"t\")"
      ]
    },
    {
      "cell_type": "markdown",
      "metadata": {},
      "source": [
        "## Designing the algorithm"
      ]
    },
    {
      "cell_type": "code",
      "execution_count": null,
      "id": "8dd904b6",
      "metadata": {
        "execution": {
          "iopub.execute_input": "2023-12-04T21:15:46.753577Z",
          "iopub.status.busy": "2023-12-04T21:15:46.753411Z",
          "iopub.status.idle": "2023-12-04T21:15:51.461476Z",
          "shell.execute_reply": "2023-12-04T21:15:51.461170Z"
        }
      },
      "outputs": [],
      "source": [
        "minute_20_stats = (\n",
        "    data.windowby(\n",
        "        pw.this.t,\n",
        "        window=pw.temporal.sliding(\n",
        "            hop=datetime.timedelta(minutes=1),\n",
        "            duration=datetime.timedelta(minutes=20)\n",
        "        ),\n",
        "        instance=pw.this.ticker\n",
        "    )\n",
        "    .reduce(\n",
        "        ticker=pw.this._pw_instance,\n",
        "        t=pw.this._pw_window_end,\n",
        "        volume=pw.reducers.sum(pw.this.volume),\n",
        "        transact_total=pw.reducers.sum(pw.this.volume * pw.this.vwap),\n",
        "        transact_total2=pw.reducers.sum(pw.this.volume * pw.this.vwap**2)\n",
        "    )\n",
        "    .with_columns(\n",
        "        vwap=pw.this.transact_total / pw.this.volume\n",
        "    )\n",
        "    .with_columns(\n",
        "        vwstd=(pw.this.transact_total2 / pw.this.volume - pw.this.vwap**2) ** 0.5\n",
        "    )\n",
        "    .with_columns(\n",
        "        bollinger_upper=pw.this.vwap + 2 * pw.this.vwstd,\n",
        "        bollinger_lower=pw.this.vwap - 2 * pw.this.vwstd\n",
        "    )\n",
        ")\n",
        "minute_20_stats"
      ]
    },
    {
      "cell_type": "code",
      "execution_count": null,
      "id": "396e600d",
      "metadata": {
        "execution": {
          "iopub.execute_input": "2023-12-04T21:15:51.463129Z",
          "iopub.status.busy": "2023-12-04T21:15:51.462962Z",
          "iopub.status.idle": "2023-12-04T21:15:52.224652Z",
          "shell.execute_reply": "2023-12-04T21:15:52.224366Z"
        }
      },
      "outputs": [],
      "source": [
        "minute_1_stats = (\n",
        "    data\n",
        "    .windowby(\n",
        "        pw.this.t,\n",
        "        window=pw.temporal.tumbling(datetime.timedelta(minutes=1)),\n",
        "        instance=pw.this.ticker\n",
        "    )\n",
        "    .reduce(\n",
        "        ticker=pw.this._pw_instance,\n",
        "        t=pw.this._pw_window_end,\n",
        "        volume=pw.reducers.sum(pw.this.volume),\n",
        "        transact_total=pw.reducers.sum(pw.this.volume * pw.this.vwap)\n",
        "    )\n",
        "    .with_columns(\n",
        "        vwap=pw.this.transact_total / pw.this.volume\n",
        "    )\n",
        ")\n",
        "minute_1_stats"
      ]
    },
    {
      "cell_type": "code",
      "execution_count": null,
      "id": "bb34dc75",
      "metadata": {
        "execution": {
          "iopub.execute_input": "2023-12-04T21:15:52.226100Z",
          "iopub.status.busy": "2023-12-04T21:15:52.225972Z",
          "iopub.status.idle": "2023-12-04T21:15:57.460074Z",
          "shell.execute_reply": "2023-12-04T21:15:57.459715Z"
        }
      },
      "outputs": [],
      "source": [
        "joint_stats = (\n",
        "    minute_1_stats\n",
        "    .join(\n",
        "        minute_20_stats,\n",
        "        pw.left.t == pw.right.t,\n",
        "        pw.left.ticker == pw.right.ticker\n",
        "    )\n",
        "    .select(\n",
        "        *pw.left,\n",
        "        bollinger_lower=pw.right.bollinger_lower,\n",
        "        bollinger_upper=pw.right.bollinger_upper\n",
        "    )\n",
        "    .with_columns(\n",
        "        is_alert=(\n",
        "            (pw.this.volume > 10000)\n",
        "            & (\n",
        "                (pw.this.vwap > pw.this.bollinger_upper)\n",
        "                | (pw.this.vwap < pw.this.bollinger_lower)\n",
        "            )\n",
        "        )\n",
        "    )\n",
        "    .with_columns(\n",
        "        action=pw.if_else(\n",
        "            pw.this.is_alert,\n",
        "            pw.if_else(pw.this.vwap > pw.this.bollinger_upper, \"sell\", \"buy\"),\n",
        "            \"hodl\",\n",
        "        )\n",
        "    )\n",
        ")\n",
        "joint_stats"
      ]
    },
    {
      "cell_type": "code",
      "execution_count": null,
      "id": "b91bad14",
      "metadata": {
        "execution": {
          "iopub.execute_input": "2023-12-04T21:15:57.461734Z",
          "iopub.status.busy": "2023-12-04T21:15:57.461568Z",
          "iopub.status.idle": "2023-12-04T21:16:02.556117Z",
          "shell.execute_reply": "2023-12-04T21:16:02.555809Z"
        }
      },
      "outputs": [],
      "source": [
        "alerts = (\n",
        "    joint_stats\n",
        "    .filter(pw.this.is_alert)\n",
        "    .select(pw.this.ticker, pw.this.t, pw.this.vwap, pw.this.action)\n",
        ")\n",
        "alerts"
      ]
    },
    {
      "cell_type": "markdown",
      "metadata": {},
      "source": [
        "## Plotting Bollinger Bands"
      ]
    },
    {
      "cell_type": "code",
      "execution_count": null,
      "id": "2c0b0655",
      "metadata": {
        "execution": {
          "iopub.execute_input": "2023-12-04T21:16:02.557828Z",
          "iopub.status.busy": "2023-12-04T21:16:02.557694Z",
          "iopub.status.idle": "2023-12-04T21:16:07.706834Z",
          "shell.execute_reply": "2023-12-04T21:16:07.706467Z"
        }
      },
      "outputs": [],
      "source": [
        "import bokeh.models\n",
        "\n",
        "def stats_plotter(src):\n",
        "    actions=[\"buy\", \"sell\", \"hodl\"]\n",
        "    color_map = bokeh.models.CategoricalColorMapper(\n",
        "        factors=actions,\n",
        "        palette=(\"#00ff00\", \"#ff0000\", \"#00000000\")\n",
        "    )\n",
        "    \n",
        "    fig = bokeh.plotting.figure(\n",
        "        height=400, width=600,\n",
        "        title=\"20 minutes Bollinger bands with last 1 minute average\",\n",
        "        x_axis_type=\"datetime\"\n",
        "    )\n",
        "    \n",
        "    fig.line(\"t\", \"vwap\", source=src)\n",
        "    \n",
        "    band = bokeh.models.Band(\n",
        "        base=\"t\", lower=\"bollinger_lower\", upper=\"bollinger_upper\",\n",
        "        fill_alpha=0.3, fill_color=\"gray\", line_color=\"black\",\n",
        "        source=src\n",
        "    )\n",
        "    fig.add_layout(band)\n",
        "\n",
        "    fig.scatter(\n",
        "        \"t\", \"vwap\",\n",
        "        size=10, marker=\"circle\",\n",
        "        color={\"field\": \"action\", \"transform\": color_map},\n",
        "        source=src\n",
        "    )\n",
        "    \n",
        "    return fig\n",
        "\n",
        "joint_stats.plot(stats_plotter, sorting_col=\"t\")"
      ]
    }
  ],
  "metadata": {
    "kernelspec": {
      "display_name": "Python 3 (ipykernel)",
      "language": "python",
      "name": "python3"
    },
    "language_info": {
      "codemirror_mode": {
        "name": "ipython",
        "version": 3
      },
      "file_extension": ".py",
      "mimetype": "text/x-python",
      "name": "python",
      "nbconvert_exporter": "python",
      "pygments_lexer": "ipython3",
      "version": "3.11.6"
    }
  },
  "nbformat": 4,
  "nbformat_minor": 5
}
