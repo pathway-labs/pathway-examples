{
  "cells": [
    {
      "cell_type": "markdown",
      "metadata": {
        "id": "view-in-colab"
      },
      "source": [
        "<a href=\"https://colab.research.google.com/github/pathwaycom/pathway-examples/blob/main/documentation/from_jupyter_to_deploy/part1_jupyter_exploration.ipynb\" target=\"_parent\"><img src=\"https://pathway.com/assets/colab-badge.svg\" alt=\"Run In Colab\" class=\"inline\"/></a>"
      ]
    },
    {
      "cell_type": "markdown",
      "source": [
        "# Installing Pathway with Python 3.10+\n",
        "\n",
        "In the cell below, we install Pathway into a Python 3.10+ Linux runtime.\n",
        "\n",
        "> **If you are running in Google Colab, please run the colab notebook (Ctrl+F9)**, disregarding the 'not authored by Google' warning.\n",
        "> \n",
        "> **The installation and loading time is less than 1 minute**.\n"
      ],
      "metadata": {
        "id": "notebook-instructions"
      }
    },
    {
      "cell_type": "code",
      "source": [
        "%%capture --no-display\n",
        "!pip install pathway"
      ],
      "metadata": {
        "id": "pip-installation-pathway",
        "cellView": "form"
      },
      "execution_count": null,
      "outputs": []
    },
    {
      "cell_type": "markdown",
      "id": "d3c33a82",
      "metadata": {
        "lines_to_next_cell": 2
      },
      "source": [
        "# Part 1: Static data exploration in Jupyter\n",
        "This notebook is part of the first part of the tutorial [From interactive data exploration to deployment](/developers/user-guide/from-jupyter-to-deploy/#part-1-static-data-exploration-in-jupyter)."
      ]
    },
    {
      "cell_type": "code",
      "execution_count": 1,
      "id": "f5914ce6",
      "metadata": {
        "execution": {
          "iopub.execute_input": "2023-12-05T12:40:11.505548Z",
          "iopub.status.busy": "2023-12-05T12:40:11.505371Z",
          "iopub.status.idle": "2023-12-05T12:40:11.665695Z",
          "shell.execute_reply": "2023-12-05T12:40:11.665185Z"
        }
      },
      "outputs": [
        {
          "name": "stdout",
          "output_type": "stream",
          "text": [
            "File \u2018ticker.csv\u2019 already there; not retrieving.\r\n",
            "\r\n"
          ]
        }
      ],
      "source": [
        "# Download CSV file\n",
        "!wget -nc https://gist.githubusercontent.com/janchorowski/e351af72ecd8d206a34763a428826ab7/raw/ticker.csv"
      ]
    },
    {
      "cell_type": "markdown",
      "id": "a7ab41d4",
      "metadata": {},
      "source": [
        "## Loading data"
      ]
    },
    {
      "cell_type": "code",
      "execution_count": 2,
      "id": "8515c77b",
      "metadata": {
        "execution": {
          "iopub.execute_input": "2023-12-05T12:40:11.667889Z",
          "iopub.status.busy": "2023-12-05T12:40:11.667656Z",
          "iopub.status.idle": "2023-12-05T12:40:14.846961Z",
          "shell.execute_reply": "2023-12-05T12:40:14.846539Z"
        }
      },
      "outputs": [],
      "source": [
        "import datetime\n",
        "\n",
        "import pathway as pw\n",
        "\n",
        "fname = \"ticker.csv\"\n",
        "schema = pw.schema_from_csv(fname)\n",
        "data = pw.io.csv.read(fname, schema=schema, mode=\"static\")\n",
        "data"
      ]
    },
    {
      "cell_type": "code",
      "execution_count": 3,
      "id": "c032d2e8",
      "metadata": {
        "execution": {
          "iopub.execute_input": "2023-12-05T12:40:14.849085Z",
          "iopub.status.busy": "2023-12-05T12:40:14.848803Z",
          "iopub.status.idle": "2023-12-05T12:40:14.878038Z",
          "shell.execute_reply": "2023-12-05T12:40:14.877709Z"
        }
      },
      "outputs": [],
      "source": [
        "data = data.with_columns(\n",
        "    t=pw.apply_with_type(\n",
        "        datetime.datetime.fromtimestamp, pw.DateTimeNaive, data.t / 1000.0\n",
        "    )\n",
        ")\n",
        "data"
      ]
    },
    {
      "cell_type": "code",
      "execution_count": 4,
      "id": "7074b1b7",
      "metadata": {
        "execution": {
          "iopub.execute_input": "2023-12-05T12:40:14.879734Z",
          "iopub.status.busy": "2023-12-05T12:40:14.879608Z",
          "iopub.status.idle": "2023-12-05T12:40:14.881887Z",
          "shell.execute_reply": "2023-12-05T12:40:14.881624Z"
        }
      },
      "outputs": [],
      "source": [
        "import bokeh.plotting\n",
        "\n",
        "\n",
        "def vwap_history(src):\n",
        "    fig = bokeh.plotting.figure(\n",
        "        height=400,\n",
        "        width=600,\n",
        "        title=\"Volume-weighted average price\",\n",
        "        x_axis_type=\"datetime\",\n",
        "    )\n",
        "    fig.line(\"t\", \"vwap\", source=src)\n",
        "    return fig"
      ]
    },
    {
      "cell_type": "code",
      "execution_count": 5,
      "id": "bdf99c4a",
      "metadata": {
        "execution": {
          "iopub.execute_input": "2023-12-05T12:40:14.883311Z",
          "iopub.status.busy": "2023-12-05T12:40:14.883091Z",
          "iopub.status.idle": "2023-12-05T12:40:15.296001Z",
          "shell.execute_reply": "2023-12-05T12:40:15.295701Z"
        }
      },
      "outputs": [
        {
          "name": "stderr",
          "output_type": "stream",
          "text": [
            "[2023-12-05T13:40:14]:INFO:Preparing Pathway computation\n",
            "[2023-12-05T13:40:14]:INFO:CsvFilesystemReader-0: 0 entries (1 minibatch(es)) have been sent to the engine\n",
            "[2023-12-05T13:40:14]:INFO:CsvFilesystemReader-0: 18329 entries (2 minibatch(es)) have been sent to the engine\n",
            "[2023-12-05T13:40:14]:WARNING:CsvFilesystemReader-0: Closing the data source\n",
            "WARNING:param.Column00136: Displaying Panel objects in the notebook requires the panel extension to be loaded. Ensure you run pn.extension() before displaying objects in the notebook.\n",
            "[2023-12-05T13:40:15]:WARNING:Displaying Panel objects in the notebook requires the panel extension to be loaded. Ensure you run pn.extension() before displaying objects in the notebook.\n"
          ]
        },
        {
          "data": {
            "text/plain": [
              "Column\n",
              "    [0] Row\n",
              "        [0] Markdown(str)\n",
              "        [1] TooltipIcon(value='Immediate table p...)\n",
              "    [1] Bokeh(figure)"
            ]
          },
          "execution_count": 5,
          "metadata": {},
          "output_type": "execute_result"
        }
      ],
      "source": [
        "data.plot(vwap_history, sorting_col=\"t\")"
      ]
    },
    {
      "cell_type": "markdown",
      "id": "1a0ecb88",
      "metadata": {},
      "source": [
        "## Designing the algorithm"
      ]
    },
    {
      "cell_type": "code",
      "execution_count": 6,
      "id": "c5fc842d",
      "metadata": {
        "execution": {
          "iopub.execute_input": "2023-12-05T12:40:15.297639Z",
          "iopub.status.busy": "2023-12-05T12:40:15.297481Z",
          "iopub.status.idle": "2023-12-05T12:40:15.524001Z",
          "shell.execute_reply": "2023-12-05T12:40:15.523640Z"
        }
      },
      "outputs": [],
      "source": [
        "minute_20_stats = (\n",
        "    data.windowby(\n",
        "        pw.this.t,\n",
        "        window=pw.temporal.sliding(\n",
        "            hop=datetime.timedelta(minutes=1), duration=datetime.timedelta(minutes=20)\n",
        "        ),\n",
        "        instance=pw.this.ticker,\n",
        "    )\n",
        "    .reduce(\n",
        "        ticker=pw.this._pw_instance,\n",
        "        t=pw.this._pw_window_end,\n",
        "        volume=pw.reducers.sum(pw.this.volume),\n",
        "        transact_total=pw.reducers.sum(pw.this.volume * pw.this.vwap),\n",
        "        transact_total2=pw.reducers.sum(pw.this.volume * pw.this.vwap**2),\n",
        "    )\n",
        "    .with_columns(vwap=pw.this.transact_total / pw.this.volume)\n",
        "    .with_columns(\n",
        "        vwstd=(pw.this.transact_total2 / pw.this.volume - pw.this.vwap**2) ** 0.5\n",
        "    )\n",
        "    .with_columns(\n",
        "        bollinger_upper=pw.this.vwap + 2 * pw.this.vwstd,\n",
        "        bollinger_lower=pw.this.vwap - 2 * pw.this.vwstd,\n",
        "    )\n",
        ")\n",
        "minute_20_stats"
      ]
    },
    {
      "cell_type": "code",
      "execution_count": 7,
      "id": "0bbcc58f",
      "metadata": {
        "execution": {
          "iopub.execute_input": "2023-12-05T12:40:15.525742Z",
          "iopub.status.busy": "2023-12-05T12:40:15.525617Z",
          "iopub.status.idle": "2023-12-05T12:40:15.674786Z",
          "shell.execute_reply": "2023-12-05T12:40:15.674418Z"
        }
      },
      "outputs": [],
      "source": [
        "minute_1_stats = (\n",
        "    data.windowby(\n",
        "        pw.this.t,\n",
        "        window=pw.temporal.tumbling(datetime.timedelta(minutes=1)),\n",
        "        instance=pw.this.ticker,\n",
        "    )\n",
        "    .reduce(\n",
        "        ticker=pw.this._pw_instance,\n",
        "        t=pw.this._pw_window_end,\n",
        "        volume=pw.reducers.sum(pw.this.volume),\n",
        "        transact_total=pw.reducers.sum(pw.this.volume * pw.this.vwap),\n",
        "    )\n",
        "    .with_columns(vwap=pw.this.transact_total / pw.this.volume)\n",
        ")\n",
        "minute_1_stats"
      ]
    },
    {
      "cell_type": "code",
      "execution_count": 8,
      "id": "91521405",
      "metadata": {
        "execution": {
          "iopub.execute_input": "2023-12-05T12:40:15.676366Z",
          "iopub.status.busy": "2023-12-05T12:40:15.676223Z",
          "iopub.status.idle": "2023-12-05T12:40:15.806113Z",
          "shell.execute_reply": "2023-12-05T12:40:15.805609Z"
        }
      },
      "outputs": [],
      "source": [
        "joint_stats = (\n",
        "    minute_1_stats.join(\n",
        "        minute_20_stats, pw.left.t == pw.right.t, pw.left.ticker == pw.right.ticker\n",
        "    )\n",
        "    .select(\n",
        "        *pw.left,\n",
        "        bollinger_lower=pw.right.bollinger_lower,\n",
        "        bollinger_upper=pw.right.bollinger_upper,\n",
        "    )\n",
        "    .with_columns(\n",
        "        is_alert=(\n",
        "            (pw.this.volume > 10000)\n",
        "            & (\n",
        "                (pw.this.vwap > pw.this.bollinger_upper)\n",
        "                | (pw.this.vwap < pw.this.bollinger_lower)\n",
        "            )\n",
        "        )\n",
        "    )\n",
        "    .with_columns(\n",
        "        action=pw.if_else(\n",
        "            pw.this.is_alert,\n",
        "            pw.if_else(pw.this.vwap > pw.this.bollinger_upper, \"sell\", \"buy\"),\n",
        "            \"hodl\",\n",
        "        )\n",
        "    )\n",
        ")\n",
        "joint_stats"
      ]
    },
    {
      "cell_type": "code",
      "execution_count": 9,
      "id": "c82df3d0",
      "metadata": {
        "execution": {
          "iopub.execute_input": "2023-12-05T12:40:15.808132Z",
          "iopub.status.busy": "2023-12-05T12:40:15.807923Z",
          "iopub.status.idle": "2023-12-05T12:40:15.829794Z",
          "shell.execute_reply": "2023-12-05T12:40:15.829500Z"
        }
      },
      "outputs": [],
      "source": [
        "alerts = joint_stats.filter(pw.this.is_alert).select(\n",
        "    pw.this.ticker, pw.this.t, pw.this.vwap, pw.this.action\n",
        ")\n",
        "alerts"
      ]
    },
    {
      "cell_type": "markdown",
      "id": "cab0f7cf",
      "metadata": {},
      "source": [
        "## Plotting Bollinger Bands"
      ]
    },
    {
      "cell_type": "code",
      "execution_count": 10,
      "id": "a4326833",
      "metadata": {
        "execution": {
          "iopub.execute_input": "2023-12-05T12:40:15.831724Z",
          "iopub.status.busy": "2023-12-05T12:40:15.831599Z",
          "iopub.status.idle": "2023-12-05T12:40:15.834820Z",
          "shell.execute_reply": "2023-12-05T12:40:15.834528Z"
        }
      },
      "outputs": [],
      "source": [
        "import bokeh.models\n",
        "\n",
        "\n",
        "def stats_plotter(src):\n",
        "    actions = [\"buy\", \"sell\", \"hodl\"]\n",
        "    color_map = bokeh.models.CategoricalColorMapper(\n",
        "        factors=actions, palette=(\"#00ff00\", \"#ff0000\", \"#00000000\")\n",
        "    )\n",
        "\n",
        "    fig = bokeh.plotting.figure(\n",
        "        height=400,\n",
        "        width=600,\n",
        "        title=\"20 minutes Bollinger bands with last 1 minute average\",\n",
        "        x_axis_type=\"datetime\",\n",
        "    )\n",
        "\n",
        "    fig.line(\"t\", \"vwap\", source=src)\n",
        "\n",
        "    band = bokeh.models.Band(\n",
        "        base=\"t\",\n",
        "        lower=\"bollinger_lower\",\n",
        "        upper=\"bollinger_upper\",\n",
        "        fill_alpha=0.3,\n",
        "        fill_color=\"gray\",\n",
        "        line_color=\"black\",\n",
        "        source=src,\n",
        "    )\n",
        "    fig.add_layout(band)\n",
        "\n",
        "    fig.scatter(\n",
        "        \"t\",\n",
        "        \"vwap\",\n",
        "        size=10,\n",
        "        marker=\"circle\",\n",
        "        color={\"field\": \"action\", \"transform\": color_map},\n",
        "        source=src,\n",
        "    )\n",
        "\n",
        "    return fig\n",
        "\n",
        "\n",
        "joint_stats.plot(stats_plotter, sorting_col=\"t\")"
      ]
    }
  ],
  "metadata": {
    "kernelspec": {
      "display_name": "Python 3 (ipykernel)",
      "language": "python",
      "name": "python3"
    },
    "language_info": {
      "codemirror_mode": {
        "name": "ipython",
        "version": 3
      },
      "file_extension": ".py",
      "mimetype": "text/x-python",
      "name": "python",
      "nbconvert_exporter": "python",
      "pygments_lexer": "ipython3",
      "version": "3.11.6"
    }
  },
  "nbformat": 4,
  "nbformat_minor": 5
}