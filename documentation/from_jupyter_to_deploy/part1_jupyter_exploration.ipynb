{
  "cells": [
    {
      "cell_type": "markdown",
      "metadata": {
        "id": "view-in-colab"
      },
      "source": [
        "<a href=\"https://colab.research.google.com/github/pathwaycom/pathway-examples/blob/main/documentation/from_jupyter_to_deploy/part1_jupyter_exploration.ipynb\" target=\"_parent\"><img src=\"https://pathway.com/assets/colab-badge.svg\" alt=\"Run In Colab\" class=\"inline\"/></a>"
      ]
    },
    {
      "cell_type": "markdown",
      "source": [
        "# Installing Pathway with Python 3.10+\n",
        "\n",
        "In the cell below, we install Pathway into a Python 3.10+ Linux runtime.\n",
        "\n",
        "> **If you are running in Google Colab, please run the colab notebook (Ctrl+F9)**, disregarding the 'not authored by Google' warning.\n",
        "> \n",
        "> **The installation and loading time is less than 1 minute**.\n"
      ],
      "metadata": {
        "id": "notebook-instructions"
      }
    },
    {
      "cell_type": "code",
      "source": [
        "%%capture --no-display\n",
        "!pip install pathway"
      ],
      "metadata": {
        "id": "pip-installation-pathway",
        "cellView": "form"
      },
      "execution_count": null,
      "outputs": []
    },
    {
      "cell_type": "markdown",
      "id": "a5f4bc79",
      "metadata": {
        "lines_to_next_cell": 2
      },
      "source": [
        "# Part 1: Static data exploration in Jupyter\n",
        "This notebook is part of the first part of the tutorial [From interactive data exploration to deployment](/developers/user-guide/exploring-pathway/from-jupyter-to-deploy/#part-1-static-data-exploration-in-jupyter)."
      ]
    },
    {
      "cell_type": "code",
      "execution_count": 1,
      "id": "d2e12c88",
      "metadata": {
        "execution": {
          "iopub.execute_input": "2024-01-08T10:58:12.559623Z",
          "iopub.status.busy": "2024-01-08T10:58:12.559416Z",
          "iopub.status.idle": "2024-01-08T10:58:12.691832Z",
          "shell.execute_reply": "2024-01-08T10:58:12.690930Z"
        }
      },
      "outputs": [
        {
          "name": "stdout",
          "output_type": "stream",
          "text": [
            "File \u2018ticker.csv\u2019 already there; not retrieving.\r\n",
            "\r\n"
          ]
        }
      ],
      "source": [
        "# Download CSV file\n",
        "!wget -nc https://gist.githubusercontent.com/janchorowski/e351af72ecd8d206a34763a428826ab7/raw/ticker.csv"
      ]
    },
    {
      "cell_type": "markdown",
      "id": "48c6f2aa",
      "metadata": {},
      "source": [
        "## Loading data"
      ]
    },
    {
      "cell_type": "code",
      "execution_count": 2,
      "id": "82c87caa",
      "metadata": {
        "execution": {
          "iopub.execute_input": "2024-01-08T10:58:12.695164Z",
          "iopub.status.busy": "2024-01-08T10:58:12.694779Z",
          "iopub.status.idle": "2024-01-08T10:58:19.075264Z",
          "shell.execute_reply": "2024-01-08T10:58:19.074601Z"
        }
      },
      "outputs": [],
      "source": [
        "import datetime\n",
        "\n",
        "import pathway as pw\n",
        "\n",
        "fname = \"ticker.csv\"\n",
        "schema = pw.schema_from_csv(fname)\n",
        "data = pw.io.csv.read(fname, schema=schema, mode=\"static\")\n",
        "data"
      ]
    },
    {
      "cell_type": "code",
      "execution_count": 3,
      "id": "ad345d51",
      "metadata": {
        "execution": {
          "iopub.execute_input": "2024-01-08T10:58:19.078991Z",
          "iopub.status.busy": "2024-01-08T10:58:19.078217Z",
          "iopub.status.idle": "2024-01-08T10:58:19.129387Z",
          "shell.execute_reply": "2024-01-08T10:58:19.128728Z"
        }
      },
      "outputs": [],
      "source": [
        "data = data.with_columns(\n",
        "    t=pw.apply_with_type(\n",
        "        datetime.datetime.fromtimestamp, pw.DateTimeNaive, data.t / 1000.0\n",
        "    )\n",
        ")\n",
        "data"
      ]
    },
    {
      "cell_type": "code",
      "execution_count": 4,
      "id": "5b1df1d0",
      "metadata": {
        "execution": {
          "iopub.execute_input": "2024-01-08T10:58:19.132207Z",
          "iopub.status.busy": "2024-01-08T10:58:19.131928Z",
          "iopub.status.idle": "2024-01-08T10:58:19.136523Z",
          "shell.execute_reply": "2024-01-08T10:58:19.135998Z"
        }
      },
      "outputs": [],
      "source": [
        "import bokeh.plotting\n",
        "\n",
        "\n",
        "def vwap_history(src):\n",
        "    fig = bokeh.plotting.figure(\n",
        "        height=400,\n",
        "        width=600,\n",
        "        title=\"Volume-weighted average price\",\n",
        "        x_axis_type=\"datetime\",\n",
        "    )\n",
        "    fig.line(\"t\", \"vwap\", source=src)\n",
        "    return fig"
      ]
    },
    {
      "cell_type": "code",
      "execution_count": 5,
      "id": "f73631f9",
      "metadata": {
        "execution": {
          "iopub.execute_input": "2024-01-08T10:58:19.138838Z",
          "iopub.status.busy": "2024-01-08T10:58:19.138585Z",
          "iopub.status.idle": "2024-01-08T10:58:19.736859Z",
          "shell.execute_reply": "2024-01-08T10:58:19.736212Z"
        }
      },
      "outputs": [
        {
          "name": "stderr",
          "output_type": "stream",
          "text": [
            "[2024-01-08T11:58:19]:INFO:Preparing Pathway computation\n",
            "[2024-01-08T11:58:19]:INFO:CsvFilesystemReader-0: 0 entries (1 minibatch(es)) have been sent to the engine\n",
            "[2024-01-08T11:58:19]:INFO:CsvFilesystemReader-0: 18329 entries (2 minibatch(es)) have been sent to the engine\n",
            "[2024-01-08T11:58:19]:WARNING:CsvFilesystemReader-0: Closing the data source\n",
            "WARNING:param.Column00136: Displaying Panel objects in the notebook requires the panel extension to be loaded. Ensure you run pn.extension() before displaying objects in the notebook.\n",
            "[2024-01-08T11:58:19]:WARNING:Displaying Panel objects in the notebook requires the panel extension to be loaded. Ensure you run pn.extension() before displaying objects in the notebook.\n"
          ]
        },
        {
          "data": {
            "text/plain": [
              "Column\n",
              "    [0] Row\n",
              "        [0] Markdown(str)\n",
              "        [1] TooltipIcon(value='Immediate table p...)\n",
              "    [1] Bokeh(figure)"
            ]
          },
          "execution_count": 5,
          "metadata": {},
          "output_type": "execute_result"
        }
      ],
      "source": [
        "data.plot(vwap_history, sorting_col=\"t\")"
      ]
    },
    {
      "cell_type": "markdown",
      "id": "2b966fc9",
      "metadata": {},
      "source": [
        "## Designing the algorithm"
      ]
    },
    {
      "cell_type": "code",
      "execution_count": 6,
      "id": "c9b90550",
      "metadata": {
        "execution": {
          "iopub.execute_input": "2024-01-08T10:58:19.740042Z",
          "iopub.status.busy": "2024-01-08T10:58:19.739828Z",
          "iopub.status.idle": "2024-01-08T10:58:20.347603Z",
          "shell.execute_reply": "2024-01-08T10:58:20.346883Z"
        }
      },
      "outputs": [],
      "source": [
        "minute_20_stats = (\n",
        "    data.windowby(\n",
        "        pw.this.t,\n",
        "        window=pw.temporal.sliding(\n",
        "            hop=datetime.timedelta(minutes=1), duration=datetime.timedelta(minutes=20)\n",
        "        ),\n",
        "        instance=pw.this.ticker,\n",
        "    )\n",
        "    .reduce(\n",
        "        ticker=pw.this._pw_instance,\n",
        "        t=pw.this._pw_window_end,\n",
        "        volume=pw.reducers.sum(pw.this.volume),\n",
        "        transact_total=pw.reducers.sum(pw.this.volume * pw.this.vwap),\n",
        "        transact_total2=pw.reducers.sum(pw.this.volume * pw.this.vwap**2),\n",
        "    )\n",
        "    .with_columns(vwap=pw.this.transact_total / pw.this.volume)\n",
        "    .with_columns(\n",
        "        vwstd=(pw.this.transact_total2 / pw.this.volume - pw.this.vwap**2) ** 0.5\n",
        "    )\n",
        "    .with_columns(\n",
        "        bollinger_upper=pw.this.vwap + 2 * pw.this.vwstd,\n",
        "        bollinger_lower=pw.this.vwap - 2 * pw.this.vwstd,\n",
        "    )\n",
        ")\n",
        "minute_20_stats"
      ]
    },
    {
      "cell_type": "code",
      "execution_count": 7,
      "id": "2af7cb93",
      "metadata": {
        "execution": {
          "iopub.execute_input": "2024-01-08T10:58:20.350740Z",
          "iopub.status.busy": "2024-01-08T10:58:20.350493Z",
          "iopub.status.idle": "2024-01-08T10:58:20.582527Z",
          "shell.execute_reply": "2024-01-08T10:58:20.581821Z"
        }
      },
      "outputs": [],
      "source": [
        "minute_1_stats = (\n",
        "    data.windowby(\n",
        "        pw.this.t,\n",
        "        window=pw.temporal.tumbling(datetime.timedelta(minutes=1)),\n",
        "        instance=pw.this.ticker,\n",
        "    )\n",
        "    .reduce(\n",
        "        ticker=pw.this._pw_instance,\n",
        "        t=pw.this._pw_window_end,\n",
        "        volume=pw.reducers.sum(pw.this.volume),\n",
        "        transact_total=pw.reducers.sum(pw.this.volume * pw.this.vwap),\n",
        "    )\n",
        "    .with_columns(vwap=pw.this.transact_total / pw.this.volume)\n",
        ")\n",
        "minute_1_stats"
      ]
    },
    {
      "cell_type": "code",
      "execution_count": 8,
      "id": "83564987",
      "metadata": {
        "execution": {
          "iopub.execute_input": "2024-01-08T10:58:20.585413Z",
          "iopub.status.busy": "2024-01-08T10:58:20.585048Z",
          "iopub.status.idle": "2024-01-08T10:58:20.761546Z",
          "shell.execute_reply": "2024-01-08T10:58:20.760835Z"
        }
      },
      "outputs": [],
      "source": [
        "joint_stats = (\n",
        "    minute_1_stats.join(\n",
        "        minute_20_stats, pw.left.t == pw.right.t, pw.left.ticker == pw.right.ticker\n",
        "    )\n",
        "    .select(\n",
        "        *pw.left,\n",
        "        bollinger_lower=pw.right.bollinger_lower,\n",
        "        bollinger_upper=pw.right.bollinger_upper,\n",
        "    )\n",
        "    .with_columns(\n",
        "        is_alert=(\n",
        "            (pw.this.volume > 10000)\n",
        "            & (\n",
        "                (pw.this.vwap > pw.this.bollinger_upper)\n",
        "                | (pw.this.vwap < pw.this.bollinger_lower)\n",
        "            )\n",
        "        )\n",
        "    )\n",
        "    .with_columns(\n",
        "        action=pw.if_else(\n",
        "            pw.this.is_alert,\n",
        "            pw.if_else(pw.this.vwap > pw.this.bollinger_upper, \"sell\", \"buy\"),\n",
        "            \"hodl\",\n",
        "        )\n",
        "    )\n",
        ")\n",
        "joint_stats"
      ]
    },
    {
      "cell_type": "code",
      "execution_count": 9,
      "id": "afbc0fa3",
      "metadata": {
        "execution": {
          "iopub.execute_input": "2024-01-08T10:58:20.764297Z",
          "iopub.status.busy": "2024-01-08T10:58:20.764031Z",
          "iopub.status.idle": "2024-01-08T10:58:20.800823Z",
          "shell.execute_reply": "2024-01-08T10:58:20.799919Z"
        }
      },
      "outputs": [],
      "source": [
        "alerts = joint_stats.filter(pw.this.is_alert).select(\n",
        "    pw.this.ticker, pw.this.t, pw.this.vwap, pw.this.action\n",
        ")\n",
        "alerts"
      ]
    },
    {
      "cell_type": "markdown",
      "id": "0a71835a",
      "metadata": {},
      "source": [
        "## Plotting Bollinger Bands"
      ]
    },
    {
      "cell_type": "code",
      "execution_count": 10,
      "id": "b952fd1a",
      "metadata": {
        "execution": {
          "iopub.execute_input": "2024-01-08T10:58:20.804582Z",
          "iopub.status.busy": "2024-01-08T10:58:20.804299Z",
          "iopub.status.idle": "2024-01-08T10:58:20.810202Z",
          "shell.execute_reply": "2024-01-08T10:58:20.809630Z"
        }
      },
      "outputs": [],
      "source": [
        "import bokeh.models\n",
        "\n",
        "\n",
        "def stats_plotter(src):\n",
        "    actions = [\"buy\", \"sell\", \"hodl\"]\n",
        "    color_map = bokeh.models.CategoricalColorMapper(\n",
        "        factors=actions, palette=(\"#00ff00\", \"#ff0000\", \"#00000000\")\n",
        "    )\n",
        "\n",
        "    fig = bokeh.plotting.figure(\n",
        "        height=400,\n",
        "        width=600,\n",
        "        title=\"20 minutes Bollinger bands with last 1 minute average\",\n",
        "        x_axis_type=\"datetime\",\n",
        "    )\n",
        "\n",
        "    fig.line(\"t\", \"vwap\", source=src)\n",
        "\n",
        "    fig.line(\"t\", \"bollinger_lower\", source=src, line_alpha=0.3)\n",
        "    fig.line(\"t\", \"bollinger_upper\", source=src, line_alpha=0.3)\n",
        "    fig.varea(\n",
        "        x=\"t\",\n",
        "        y1=\"bollinger_lower\",\n",
        "        y2=\"bollinger_upper\",\n",
        "        fill_alpha=0.3,\n",
        "        fill_color=\"gray\",\n",
        "        source=src,\n",
        "    )\n",
        "\n",
        "    fig.scatter(\n",
        "        \"t\",\n",
        "        \"vwap\",\n",
        "        size=10,\n",
        "        marker=\"circle\",\n",
        "        color={\"field\": \"action\", \"transform\": color_map},\n",
        "        source=src,\n",
        "    )\n",
        "\n",
        "    return fig\n",
        "\n",
        "\n",
        "joint_stats.plot(stats_plotter, sorting_col=\"t\")"
      ]
    }
  ],
  "metadata": {
    "kernelspec": {
      "display_name": "Python 3 (ipykernel)",
      "language": "python",
      "name": "python3"
    },
    "language_info": {
      "codemirror_mode": {
        "name": "ipython",
        "version": 3
      },
      "file_extension": ".py",
      "mimetype": "text/x-python",
      "name": "python",
      "nbconvert_exporter": "python",
      "pygments_lexer": "ipython3",
      "version": "3.11.6"
    }
  },
  "nbformat": 4,
  "nbformat_minor": 5
}