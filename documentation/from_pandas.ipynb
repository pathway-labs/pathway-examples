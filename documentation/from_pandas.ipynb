{
  "cells": [
    {
      "cell_type": "markdown",
      "metadata": {
        "id": "view-in-colab"
      },
      "source": [
        "<a href=\"https://colab.research.google.com/github/pathwaycom/pathway-examples/blob/main/documentation/from_pandas.ipynb\" target=\"_parent\"><img src=\"https://pathway.com/assets/colab-badge.svg\" alt=\"Run In Colab\" class=\"inline\"/></a>"
      ]
    },
    {
      "cell_type": "markdown",
      "source": [
        "# Installing Pathway with Python 3.10+\n",
        "\n",
        "In the cell below, we install Pathway into a Python 3.10+ Linux runtime.\n",
        "\n",
        "> **If you are running in Google Colab, please run the colab notebook (Ctrl+F9)**, disregarding the 'not authored by Google' warning.\n",
        "> \n",
        "> **The installation and loading time is less than 1 minute**.\n"
      ],
      "metadata": {
        "id": "notebook-instructions"
      }
    },
    {
      "cell_type": "code",
      "source": [
        "%%capture --no-display\n",
        "!pip install pathway"
      ],
      "metadata": {
        "id": "pip-installation-pathway",
        "cellView": "form"
      },
      "execution_count": null,
      "outputs": []
    },
    {
      "cell_type": "markdown",
      "id": "8d38a3dd",
      "metadata": {},
      "source": [
        "# Pathway Tutorial for pandas Users\n",
        "This tutorial gets you up and running with Pathway in 10 minutes. It is specificaly designed for users coming from `pandas`.\n",
        "\n",
        "In this tutorial, you will learn how to:\n",
        "- build a real-time data streaming pipeline\n",
        "- process data on-the-fly as it comes into your stream\n",
        "- store the processed data on disk\n",
        "\n",
        "You'll be performing a simple sum aggregation on live data.\n",
        "\n",
        "In `pandas` you would compute a sum aggregation like this:\n",
        "```python\n",
        "import pandas as pd\n",
        "df = pd.read_csv(\"input_data.csv\")\n",
        "df.value.sum()\n",
        "```"
      ]
    },
    {
      "cell_type": "markdown",
      "id": "3505311d",
      "metadata": {},
      "source": [
        "This is pretty straightforward...but doesn't work with streaming data \ud83d\ude15 Fortunately, Pathway does! \ud83d\ude4c\n",
        "\n",
        "This is the Pathway code that will solve our problem:\n",
        "\n",
        "```python\n",
        "import pathway as pw\n",
        "\n",
        "class InputSchema(pw.Schema):\n",
        "    value: int\n",
        "\n",
        "t = pw.io.csv.read(\n",
        "  './sum_input_data/',\n",
        "    schema=InputSchema\n",
        ")\n",
        "t = t.reduce(sum=pw.reducers.sum(t.value))\n",
        "pw.io.csv.write(t, \"output_stream.csv\")\n",
        "pw.run()\n",
        "```\n",
        "\n",
        "Don't worry if you don't fully understand it yet -- that's exactly what you will learn by completing this tutorial."
      ]
    },
    {
      "cell_type": "markdown",
      "id": "91f9351c",
      "metadata": {},
      "source": [
        "## Install Pathway\n",
        "To install the latest Pathway release, which is now available on a free-to-use license:\n",
        "\n",
        "::pip-install\n",
        "::\n",
        "You are ready to roll - let's get to it!"
      ]
    },
    {
      "cell_type": "markdown",
      "id": "c966186c",
      "metadata": {},
      "source": [
        "## Get the Data into Your Stream\n",
        "\n",
        "Let's begin by importing `pathway`:"
      ]
    },
    {
      "cell_type": "code",
      "execution_count": 1,
      "id": "ace07aec",
      "metadata": {
        "execution": {
          "iopub.execute_input": "2024-01-08T11:00:20.270050Z",
          "iopub.status.busy": "2024-01-08T11:00:20.269867Z",
          "iopub.status.idle": "2024-01-08T11:00:26.169254Z",
          "shell.execute_reply": "2024-01-08T11:00:26.168550Z"
        },
        "lines_to_next_cell": 1
      },
      "outputs": [],
      "source": [
        "import pathway as pw"
      ]
    },
    {
      "cell_type": "markdown",
      "id": "fb5ca6e8",
      "metadata": {},
      "source": [
        "Next, let's define a table. This table will contain the data that is flowing into our stream.\n",
        "\n",
        "A table in Pathway is comparable to a DataFrame in `pandas`. This table is created by 'listening' to a directory for new events.\n",
        "\n",
        "The term 'events' may be new to you if you're coming from `pandas`. Events are the core of data streaming architectures and it's important to understand their basic principles so that you can build effective data streaming pipelines. The next section explains some of these principles; you should feel free to skip it if you have a basic understanding of how data streaming works.\n",
        "\n",
        "<img src=\"/assets/content/documentation/manul-teacher.png\" width=200>\n",
        "\n",
        "> ### Basic Data Streaming Principles\n",
        "> When doing 'regular' data-processing in `pandas` you are working with a dataset that is static: all the data you will work with is available to you *before* you start your processing. Sure, it may need some cleaning and wrangling, but your dataset stays more or less the same.\n",
        "\n",
        "> In streaming workflows, this is very different. Data is not static but dynamic. You don't know the size or content of your dataset before you start processing: the processing happens *as* the data is being generated.\n",
        "\n",
        "> This means that we can't structure our processing around 'batches' of data the way we did in `pandas`: the whole point of data streaming is to process data in real-time, not sit around waiting until all of the data has been collected.\n",
        "\n",
        "> So instead, data streaming pipelines are built around 'events': specific moments when something happens to our data. Common events are data being created, removed, or updated. Whenever an event happens, the data streaming pipeline is triggered and data processing starts.\n",
        "\n",
        "In our case, we will create a Pathway table by listening to a directory for new events (in this case `./sum_input_data/`) and defining the schema of the table which maps the columns to their data types. Be sure to toggle streaming mode on by setting `mode` to `streaming`."
      ]
    },
    {
      "cell_type": "code",
      "execution_count": 2,
      "id": "c32c8456",
      "metadata": {
        "execution": {
          "iopub.execute_input": "2024-01-08T11:00:26.173441Z",
          "iopub.status.busy": "2024-01-08T11:00:26.172392Z",
          "iopub.status.idle": "2024-01-08T11:00:26.191375Z",
          "shell.execute_reply": "2024-01-08T11:00:26.190716Z"
        }
      },
      "outputs": [],
      "source": [
        "class InputSchema(pw.Schema):\n",
        "    value: int\n",
        "\n",
        "t = pw.io.csv.read(\n",
        "    \"./sum_input_data/\",\n",
        "    schema=InputSchema,\n",
        ")"
      ]
    },
    {
      "cell_type": "markdown",
      "id": "9ec2976f",
      "metadata": {},
      "source": [
        "Notice that we have just created a new table...without having any data yet!"
      ]
    },
    {
      "cell_type": "code",
      "execution_count": 3,
      "id": "75287b99",
      "metadata": {
        "execution": {
          "iopub.execute_input": "2024-01-08T11:00:26.194597Z",
          "iopub.status.busy": "2024-01-08T11:00:26.194349Z",
          "iopub.status.idle": "2024-01-08T11:00:26.674487Z",
          "shell.execute_reply": "2024-01-08T11:00:26.673901Z"
        }
      },
      "outputs": [
        {
          "name": "stderr",
          "output_type": "stream",
          "text": [
            "WARNING:param.Column00133: Displaying Panel objects in the notebook requires the panel extension to be loaded. Ensure you run pn.extension() before displaying objects in the notebook.\n"
          ]
        },
        {
          "data": {
            "text/plain": [
              "<pathway.Table schema={'value': <class 'int'>}>"
            ]
          },
          "execution_count": 3,
          "metadata": {},
          "output_type": "execute_result"
        }
      ],
      "source": [
        "t"
      ]
    },
    {
      "cell_type": "markdown",
      "id": "86208da9",
      "metadata": {},
      "source": [
        "<img src=\"/assets/content/documentation/manul-confused.svg\" width=200>\n",
        "\n",
        "This is one of the fundamental differences between `pandas` and `pathway`. While pandas is static and requires a batch of data already available to process, a Pathway table can be created simply by pointing it in the right direction, and the table will be populated with data as it arrives.\n",
        "\n",
        "It's as if we're saying, \"Hey Pathway, keep an eye on that corner of the restaurant and whenever new people arrive, give them a seat at that table over there.\"\n",
        "\n",
        "Or in more technical terms: every time a new CSV file is added into `./sum_input_data/`, the content of its `value` column will be automatically added to the table `t`.\n",
        "\n",
        "## Process the Data\n",
        "\n",
        "Now that we have a place where we can hold the data we're interested in, it's time to do something with it :)\n",
        "\n",
        "Remember that our specific problem for this tutorial is to perform a real-time sum on live incoming data.\n",
        "\n",
        "Let's go ahead and `select` the values we're interested in.\n"
      ]
    },
    {
      "cell_type": "code",
      "execution_count": 4,
      "id": "32ddfaa0",
      "metadata": {
        "execution": {
          "iopub.execute_input": "2024-01-08T11:00:26.677269Z",
          "iopub.status.busy": "2024-01-08T11:00:26.676985Z",
          "iopub.status.idle": "2024-01-08T11:00:26.691152Z",
          "shell.execute_reply": "2024-01-08T11:00:26.690621Z"
        }
      },
      "outputs": [],
      "source": [
        "t1 = t.select(value=t.value)"
      ]
    },
    {
      "cell_type": "markdown",
      "id": "4955df2b",
      "metadata": {},
      "source": [
        "The arguments to `select` are dynamic; you can use them to define the desired column names and then pass the content. To create a table with column name `value` containing the contents of the `value` column:\n",
        "\n",
        "You could also name your new column something else by writing:"
      ]
    },
    {
      "cell_type": "code",
      "execution_count": 5,
      "id": "482d109d",
      "metadata": {
        "execution": {
          "iopub.execute_input": "2024-01-08T11:00:26.693808Z",
          "iopub.status.busy": "2024-01-08T11:00:26.693548Z",
          "iopub.status.idle": "2024-01-08T11:00:26.699923Z",
          "shell.execute_reply": "2024-01-08T11:00:26.699382Z"
        }
      },
      "outputs": [],
      "source": [
        "t2 = t.select(new_col_value=t.value)"
      ]
    },
    {
      "cell_type": "markdown",
      "id": "f04985fe",
      "metadata": {},
      "source": [
        "Then let's perform a groupby on the `value` column using the `reduce` method.\n",
        "\n",
        "Just like with `select` above, the argument to `reduce` is used to define the resulting column name (in this case `sum`). We pass it the result of `pw.reducers.sum` over the `t.value` column:"
      ]
    },
    {
      "cell_type": "code",
      "execution_count": 6,
      "id": "702bec98",
      "metadata": {
        "execution": {
          "iopub.execute_input": "2024-01-08T11:00:26.702357Z",
          "iopub.status.busy": "2024-01-08T11:00:26.702116Z",
          "iopub.status.idle": "2024-01-08T11:00:26.728489Z",
          "shell.execute_reply": "2024-01-08T11:00:26.727813Z"
        }
      },
      "outputs": [],
      "source": [
        "t = t.reduce(sum=pw.reducers.sum(t.value))"
      ]
    },
    {
      "cell_type": "markdown",
      "id": "8893e8c2",
      "metadata": {},
      "source": [
        "<img src=\"/assets/content/documentation/manul-teacher.png\" width=200>\n",
        "\n",
        "Again, notice that we are 'performing' `select` and `reduce` actions without actually having any data yet. In fact, it would be more accurate to say that we are *describing* actions to be taken in the future, as soon as data arrives.\n",
        "\n",
        "What we are doing here is **building the pipeline**, so that when our data starts arriving it is processed correctly and ends up in the place where we want it to be. This is different from `pandas` in which we have all the data already and operations are executed the moment they are described. Read more about the [computation graph](/developers/user-guide/introduction/dataflow/#computation-graph) to understand how Pathway pipelines are built under the hood.\n",
        "\n",
        "## Get the Data out of Your Stream\n",
        "\n",
        "Now that we have built our processing pipeline, let's write the resulting data to disk and store it for future use:"
      ]
    },
    {
      "cell_type": "code",
      "execution_count": 7,
      "id": "14c856db",
      "metadata": {
        "execution": {
          "iopub.execute_input": "2024-01-08T11:00:26.731041Z",
          "iopub.status.busy": "2024-01-08T11:00:26.730779Z",
          "iopub.status.idle": "2024-01-08T11:00:26.735417Z",
          "shell.execute_reply": "2024-01-08T11:00:26.734895Z"
        }
      },
      "outputs": [],
      "source": [
        "pw.io.csv.write(t, \"sum_output_stream.csv\")"
      ]
    },
    {
      "cell_type": "markdown",
      "id": "5b47fcff",
      "metadata": {},
      "source": [
        "That's it! Your real-time sum data stream is all set up.\n",
        "\n",
        "It just needs........data :)\n",
        "\n",
        "## Generate a Live Data Stream\n",
        "\n",
        "We can simulate a live data stream by writing some code that will create a CSV file every second with some data in its `value` column.\n",
        "\n",
        "Using `pandas` that would look something like this:\n",
        "\n",
        "```python\n",
        "from time import sleep\n",
        "import pandas as pd\n",
        "sleep(10)\n",
        "df = pd.DataFrame()\n",
        "for loop_id in range(0,10):\n",
        "    df = pd.DataFrame(data=[loop_id], columns=[\"value\"])\n",
        "    df.to_csv(f\"./sum_input_data/input_table_{loop_id}.csv\", )\n",
        "    sleep(1)\n",
        "```"
      ]
    },
    {
      "cell_type": "markdown",
      "id": "3c2ac781",
      "metadata": {},
      "source": [
        "We can then use the Pathway code we built above to listen to the `sum_input_data` directory and process data as it comes in:\n",
        "\n",
        "```python\n",
        "class InputSchema(pw.Schema):\n",
        "    value: int\n",
        "\n",
        "t = pw.io.csv.read(\"./sum_input_data/\", schema=InputSchema)\n",
        "t = t.reduce(sum=pw.reducers.sum(t.value))\n",
        "pw.io.csv.write(t, \"output_stream.csv\")\n",
        "pw.run()\n",
        "```"
      ]
    },
    {
      "cell_type": "markdown",
      "id": "0d4be8b2",
      "metadata": {},
      "source": [
        "\n",
        "**IMPORTANT:** Make sure to always include `pw.run()` at the end of your Pathway script. All the steps before this command are simply defining the pipeline. `pw.run()` tells Pathway to actually execute it.\n",
        "\n",
        "To be able to see the result of your work in action, let's separate the data generation and data processing code into 2 separate scripts that we can then launch simultaneously from our terminal.\n",
        "\n",
        "While we're at it, let's convert the data generation code into bash to make it easier to clean up the directory and avoid messy overwrites:\n",
        "\n",
        "Save the code below as `generate_stream.sh`:\n",
        "\n",
        "```shellscript\n",
        "!/bin/bash\n",
        "src=\"./sum_input_data/\"\n",
        "rm -r $src\n",
        "mkdir -p $src\n",
        "sleep 10\n",
        "for LOOP_ID in {1..30}\n",
        "do\n",
        "    filename=$src\"input_table_$LOOP_ID.csv\"\n",
        "    printf \"value\\n$LOOP_ID\\n\" >> $filename\n",
        "    sleep 1\n",
        "done\n",
        "```\n",
        "\n",
        "And save the code below as `perform_realtime_sum.py`:\n",
        "\n",
        "```python\n",
        "import pathway as pw\n",
        "class InputSchema(pw.Schema):\n",
        "    value: int\n",
        "\n",
        "t = pw.io.csv.read(\"./sum_input_data/\", schema=InputSchema)\n",
        "t = t.reduce(sum=pw.reducers.sum(t.value))\n",
        "pw.io.csv.write(t, \"output_stream.csv\")\n",
        "pw.run()\n",
        "```\n",
        "\n",
        "Now head over to your terminal, open two tabs / kernels and then:\n",
        "1. run `bash generate_stream.sh` in the first kernel\n",
        "2. run `python perform_realtime_sum.py` in the second\n",
        "\n",
        "<img src=\"/assets/content/documentation/pandas-tutorial-terminal.png\">\n",
        "\n",
        "The input connector requires the input CSV directory to exist so the script generating the stream should be launched first. The input connector will connect to the file and update the results every time a new CSV file is added, updating automatically and in real-time the output CSV file using the output CSV connector.\n",
        "\n",
        "## Interpret the Output\n",
        "\n",
        "In streaming pipelines, there are generally 3 types of operations you can perform on your data:\n",
        "1. **insert** new data\n",
        "2. **remove** existing data\n",
        "3. **update** existing data, which is actually a combination of operation (2) and (1)."
      ]
    },
    {
      "cell_type": "markdown",
      "id": "a77cf837",
      "metadata": {},
      "source": [
        "In our case, we will mostly be dealing with **updates** to the existing `sum` value. Read our guide on [input and output streams](/developers/user-guide/connecting-to-data/connectors/) to learn more.\n",
        "\n",
        "The output of this project is a CSV file `output_stream.csv` in which all the operations are recorded:"
      ]
    },
    {
      "cell_type": "code",
      "execution_count": 8,
      "id": "8eeefe42",
      "metadata": {
        "execution": {
          "iopub.execute_input": "2024-01-08T11:00:26.737573Z",
          "iopub.status.busy": "2024-01-08T11:00:26.737329Z",
          "iopub.status.idle": "2024-01-08T11:00:26.740129Z",
          "shell.execute_reply": "2024-01-08T11:00:26.739647Z"
        }
      },
      "outputs": [],
      "source": [
        "import pandas as pd"
      ]
    },
    {
      "cell_type": "code",
      "execution_count": 9,
      "id": "79a0b2a8",
      "metadata": {
        "execution": {
          "iopub.execute_input": "2024-01-08T11:00:26.742037Z",
          "iopub.status.busy": "2024-01-08T11:00:26.741799Z",
          "iopub.status.idle": "2024-01-08T11:00:26.755399Z",
          "shell.execute_reply": "2024-01-08T11:00:26.754869Z"
        }
      },
      "outputs": [
        {
          "data": {
            "text/html": [
              "<div>\n",
              "<style scoped>\n",
              "    .dataframe tbody tr th:only-of-type {\n",
              "        vertical-align: middle;\n",
              "    }\n",
              "\n",
              "    .dataframe tbody tr th {\n",
              "        vertical-align: top;\n",
              "    }\n",
              "\n",
              "    .dataframe thead th {\n",
              "        text-align: right;\n",
              "    }\n",
              "</style>\n",
              "<table border=\"1\" class=\"dataframe\">\n",
              "  <thead>\n",
              "    <tr style=\"text-align: right;\">\n",
              "      <th></th>\n",
              "      <th>sum</th>\n",
              "      <th>time</th>\n",
              "      <th>diff</th>\n",
              "    </tr>\n",
              "  </thead>\n",
              "  <tbody>\n",
              "    <tr>\n",
              "      <th>0</th>\n",
              "      <td>1</td>\n",
              "      <td>1675861157539</td>\n",
              "      <td>1</td>\n",
              "    </tr>\n",
              "    <tr>\n",
              "      <th>1</th>\n",
              "      <td>1</td>\n",
              "      <td>1675861157540</td>\n",
              "      <td>-1</td>\n",
              "    </tr>\n",
              "    <tr>\n",
              "      <th>2</th>\n",
              "      <td>3</td>\n",
              "      <td>1675861157540</td>\n",
              "      <td>1</td>\n",
              "    </tr>\n",
              "    <tr>\n",
              "      <th>3</th>\n",
              "      <td>3</td>\n",
              "      <td>1675861157541</td>\n",
              "      <td>-1</td>\n",
              "    </tr>\n",
              "    <tr>\n",
              "      <th>4</th>\n",
              "      <td>10</td>\n",
              "      <td>1675861157541</td>\n",
              "      <td>1</td>\n",
              "    </tr>\n",
              "  </tbody>\n",
              "</table>\n",
              "</div>"
            ],
            "text/plain": [
              "   sum           time  diff\n",
              "0    1  1675861157539     1\n",
              "1    1  1675861157540    -1\n",
              "2    3  1675861157540     1\n",
              "3    3  1675861157541    -1\n",
              "4   10  1675861157541     1"
            ]
          },
          "execution_count": 9,
          "metadata": {},
          "output_type": "execute_result"
        }
      ],
      "source": [
        "output = pd.read_csv(\"output_stream.csv\")\n",
        "output.head()"
      ]
    },
    {
      "cell_type": "markdown",
      "id": "edeb7f08",
      "metadata": {},
      "source": [
        "Let's explain what this output data means in technical terms first, then we will dive deeper with a real-world example.\n",
        "\n",
        "Each update is represented by up to two rows. Each row contains:\n",
        "\n",
        "1. the columns of the output table, here we only have `sum`.\n",
        "2. `time`, which represents the timestamp at which the update has happened.\n",
        "3. `diff`, which represents whether the row represents an addition or a deletion.\n",
        "\n",
        "An update is represented by two rows: one to remove the old value, one to add the new values. Those two rows will have the same timestamp to ensure the correctness of the update. There is one exception: the first update is represented by a single row because there is no old value to remove.\n",
        "\n",
        "So the first line represents the insertion (`diff=1`) of a new value (`sum=1`) which has happened at timestamp `time=1675861157539`.\n",
        "\n",
        "Then a new CSV file is created containing the new value 2, changing the value of `sum` from 1 to 3, resulting in both the deletion (`diff=-1`) of the previous value (`sum=1`) which has happened at `time=1675861157540` AND an addition (`diff=1`) of a new value (`sum=3`) at the same time.\n",
        "\n",
        "The output file is continuously updated until the process is killed.\n",
        "\n",
        "### Real-World Example\n",
        "Let's use a real-world example to illustrate the importance and value of this output.\n",
        "\n",
        "Imagine you work for a bank. The bank stores customers' money in accounts that customers can access whenever they like. Every time a customer of the bank goes to an ATM to withdraw money from their account, the bank wants to make sure that this transaction happens correctly. They only want to give them money that's actually in their account, and then adjust the account balance to reflect the change. This means the ATM withdrawal needs to be syncronised exactly with the adjustment in the customer's account balance. In order to do this we need to know the `time` at which the event happened and the amount that was changed (or the `diff`).\n",
        "\n",
        "In streaming settings, all the intermediate states of the data are stored during the process. This means you can access not just the final result (of `sum` in our case) but also each value along the way. If you are only interested in the final value, it is up to you to select it, by ordering by the `time` column and then selecting the latest value:"
      ]
    },
    {
      "cell_type": "code",
      "execution_count": 10,
      "id": "fb26b234",
      "metadata": {
        "execution": {
          "iopub.execute_input": "2024-01-08T11:00:26.757523Z",
          "iopub.status.busy": "2024-01-08T11:00:26.757313Z",
          "iopub.status.idle": "2024-01-08T11:00:26.764175Z",
          "shell.execute_reply": "2024-01-08T11:00:26.763649Z"
        }
      },
      "outputs": [
        {
          "data": {
            "text/html": [
              "<div>\n",
              "<style scoped>\n",
              "    .dataframe tbody tr th:only-of-type {\n",
              "        vertical-align: middle;\n",
              "    }\n",
              "\n",
              "    .dataframe tbody tr th {\n",
              "        vertical-align: top;\n",
              "    }\n",
              "\n",
              "    .dataframe thead th {\n",
              "        text-align: right;\n",
              "    }\n",
              "</style>\n",
              "<table border=\"1\" class=\"dataframe\">\n",
              "  <thead>\n",
              "    <tr style=\"text-align: right;\">\n",
              "      <th></th>\n",
              "      <th>sum</th>\n",
              "      <th>time</th>\n",
              "      <th>diff</th>\n",
              "    </tr>\n",
              "  </thead>\n",
              "  <tbody>\n",
              "    <tr>\n",
              "      <th>20</th>\n",
              "      <td>406</td>\n",
              "      <td>1675861187559</td>\n",
              "      <td>1</td>\n",
              "    </tr>\n",
              "  </tbody>\n",
              "</table>\n",
              "</div>"
            ],
            "text/plain": [
              "    sum           time  diff\n",
              "20  406  1675861187559     1"
            ]
          },
          "execution_count": 10,
          "metadata": {},
          "output_type": "execute_result"
        }
      ],
      "source": [
        "output = output.sort_values(by=[\"time\"], ascending=False)\n",
        "output.head(1)"
      ]
    },
    {
      "cell_type": "markdown",
      "id": "3c4b45d7",
      "metadata": {},
      "source": [
        "In our case, the total sum of the data is `406`. Well done!\n",
        "\n",
        "> You might have noticed that in this particular example, the `sort_values` call was a little overkill since the data is being processed in a single, sequential process and so the resulting output was already neatly ordered. In real-world streaming use cases, however, you may be dealing with multiple data sources, latency and other factors that will disturb the order of your data. In these cases, the timestamp will enable you to order the data correctly.\n",
        "\n",
        "## What's next?\n",
        "Congratulations! You've just built your first realtime streaming application with Pathway.\n",
        "\n",
        "<img src=\"/assets/content/documentation/manul-celebrate.svg\" width=250>\n",
        "\n",
        "Now that you're up and running, consider taking a look at our [tutorials](/developers/tutorials).\n",
        "\n",
        "We would love to hear your feedback about our product. Come say hi on our [Discord](https://discord.com/invite/pathway)!"
      ]
    }
  ],
  "metadata": {
    "jupytext": {
      "cell_metadata_filter": "-all",
      "main_language": "python",
      "notebook_metadata_filter": "-all"
    },
    "language_info": {
      "codemirror_mode": {
        "name": "ipython",
        "version": 3
      },
      "file_extension": ".py",
      "mimetype": "text/x-python",
      "name": "python",
      "nbconvert_exporter": "python",
      "pygments_lexer": "ipython3",
      "version": "3.11.6"
    }
  },
  "nbformat": 4,
  "nbformat_minor": 5
}