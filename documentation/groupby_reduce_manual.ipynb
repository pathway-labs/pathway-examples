{
  "cells": [
    {
      "cell_type": "markdown",
      "metadata": {
        "id": "view-in-colab"
      },
      "source": [
        "<a href=\"https://colab.research.google.com/github/pathwaycom/pathway-examples/blob/main/documentation/groupby_reduce_manual.ipynb\" target=\"_parent\"><img src=\"https://pathway.com/assets/colab-badge.svg\" alt=\"Run In Colab\" class=\"inline\"/></a>"
      ]
    },
    {
      "cell_type": "markdown",
      "source": [
        "# Installing Pathway with Python 3.10+\n",
        "\n",
        "In the cell below, we install Pathway into a Python 3.10+ Linux runtime.\n",
        "\n",
        "> **If you are running in Google Colab, please run the colab notebook (Ctrl+F9)**, disregarding the 'not authored by Google' warning.\n",
        "> \n",
        "> **The installation and loading time is less than 1 minute**.\n"
      ],
      "metadata": {
        "id": "notebook-instructions"
      }
    },
    {
      "cell_type": "code",
      "source": [
        "%%capture --no-display\n",
        "!pip install pathway"
      ],
      "metadata": {
        "id": "pip-installation-pathway",
        "cellView": "form"
      },
      "execution_count": null,
      "outputs": []
    },
    {
      "cell_type": "markdown",
      "id": "16217c93",
      "metadata": {},
      "source": [
        "# Groupby - Reduce\n",
        "In this manu\\[a\\]l, you will learn how to aggregate data with the groupby-reduce scheme.\n",
        "\n",
        "Together, the `groupby` and `reduce` operations can be used\n",
        "to **aggregate data across the rows of the table**. In this guide,\n",
        "we expand upon a simple demonstration from the\n",
        "[First-steps Guide](/developers/user-guide/introduction/survival-guide/)\n",
        "and:\n",
        "* explain syntax of [groupby](#groupby-syntax) and [reduce](#reduce-syntax)\n",
        "* explain [two kinds of columns we get from groupby](#groupby-reduce-column-constrains)\n",
        "* explain [automatic id generation](#auto-generated-id)\n",
        "* show [a few simple applications](#more-examples)"
      ]
    },
    {
      "cell_type": "markdown",
      "id": "aac70a21",
      "metadata": {},
      "source": [
        "## Prerequisites\n",
        "The assumption is that we are familiar with some basic operations\n",
        "explained in the [First-steps Guide](/developers/user-guide/introduction/survival-guide/).\n",
        "As usual, we begin with importing Pathway."
      ]
    },
    {
      "cell_type": "code",
      "execution_count": 1,
      "id": "2d23291d",
      "metadata": {
        "execution": {
          "iopub.execute_input": "2023-10-29T13:12:17.352659Z",
          "iopub.status.busy": "2023-10-29T13:12:17.352324Z",
          "iopub.status.idle": "2023-10-29T13:12:18.618154Z",
          "shell.execute_reply": "2023-10-29T13:12:18.617722Z"
        }
      },
      "outputs": [],
      "source": [
        "import pathway as pw"
      ]
    },
    {
      "cell_type": "markdown",
      "id": "f7b23de6",
      "metadata": {
        "lines_to_next_cell": 2
      },
      "source": [
        "To demonstrate the capabilities of groupby and reduce operations,\n",
        "let us consider a made up scenario.\n",
        "\n",
        "**Storyline:** let's assume that you made a poll, asking whether a particular food item is a fruit or a vegetable.\n",
        "\n",
        "An answer to such a question is a tuple `(food_item, label, vote, fractional_vote)`.\n",
        "That is, if someone could tell that tomato is a fruit, but they are not really sure,\n",
        "it could be registered as two tuples:\n",
        "\n",
        "* (tomato, fruit, 1, 0.5),\n",
        "\n",
        "* (tomato, vegetable, 0, 0.5)\n",
        "\n",
        "Below, we have the results of the poll, stored in the table *poll*."
      ]
    },
    {
      "cell_type": "code",
      "execution_count": 2,
      "id": "1ec378f3",
      "metadata": {
        "execution": {
          "iopub.execute_input": "2023-10-29T13:12:18.620712Z",
          "iopub.status.busy": "2023-10-29T13:12:18.620311Z",
          "iopub.status.idle": "2023-10-29T13:12:18.635229Z",
          "shell.execute_reply": "2023-10-29T13:12:18.634940Z"
        }
      },
      "outputs": [],
      "source": [
        "poll = pw.debug.table_from_markdown(\n",
        "    \"\"\"\n",
        "    | food_item | label     | vote  | fractional_vote   | time\n",
        "0   | tomato    | fruit     | 1     | 0.5               | 1669882728\n",
        "1   | tomato    | vegetable | 0     | 0.5               | 1669882728\n",
        "2   | apple     | fruit     | 1     | 1                 | 1669883612\n",
        "3   | apple     | vegetable | 0     | 0                 | 1669883612\n",
        "4   | pepper    | vegetable | 1     | 0.5               | 1669883059\n",
        "5   | pepper    | fruit     | 0     | 0.5               | 1669883059\n",
        "6   | tomato    | fruit     | 0     | 0.3               | 1669880159\n",
        "7   | tomato    | vegetable | 1     | 0.7               | 1669880159\n",
        "8   | corn      | fruit     | 0     | 0.3               | 1669876829\n",
        "9   | corn      | vegetable | 1     | 0.7               | 1669876829\n",
        "10  | tomato    | fruit     | 0     | 0.4               | 1669874325\n",
        "11  | tomato    | vegetable | 1     | 0.6               | 1669874325\n",
        "12  | pepper    | fruit     | 0     | 0.45              | 1669887207\n",
        "13  | pepper    | vegetable | 1     | 0.55              | 1669887207\n",
        "14  | apple     | fruit     | 1     | 1                 | 1669874325\n",
        "15  | apple     | vegetable | 0     | 0                 | 1669874325\n",
        "\n",
        "\"\"\"\n",
        ")"
      ]
    },
    {
      "cell_type": "markdown",
      "id": "f690a43c",
      "metadata": {},
      "source": [
        "To demonstrate a simple groupby-reduce application, let's ask about\n",
        "the total `fractional_vote` that was assigned to any combination of `foot_item`, `label`.\n",
        "\n",
        "\n",
        "First we explain the syntax of both [`groupby`](#groupby-syntax) and [`reduce`](#reduce-syntax).\n",
        "Then, we show groupby-reduce code in [action](#groupby-reduce-simple-example)."
      ]
    },
    {
      "cell_type": "markdown",
      "id": "02ddffac",
      "metadata": {},
      "source": [
        "## Groupby Syntax\n",
        "The syntax of the `groupby` operation is fairly simple:"
      ]
    },
    {
      "cell_type": "code",
      "execution_count": 3,
      "id": "a8e86e42",
      "metadata": {
        "execution": {
          "iopub.execute_input": "2023-10-29T13:12:18.637192Z",
          "iopub.status.busy": "2023-10-29T13:12:18.636913Z",
          "iopub.status.idle": "2023-10-29T13:12:18.638731Z",
          "shell.execute_reply": "2023-10-29T13:12:18.638468Z"
        }
      },
      "outputs": [],
      "source": [
        "table.groupby(*C)"
      ]
    },
    {
      "cell_type": "markdown",
      "id": "fb8778c6",
      "metadata": {},
      "source": [
        "\n",
        "It takes a list of columns `*C` as argument and groups the row according to their values in those columns.\n",
        "In other words, all the rows with the same values, column-wise, in each column of `*C` are put into the same group.\n",
        "\n",
        "As a result, it returns a `GroupedTable` object, which stores\n",
        "a single row for each unique tuple from columns in `*C` and a collection\n",
        "of grouped items corresponding to each column that is not in `*C`.\n",
        "\n",
        "In the example above, if we groupby over a pair of columns `food_item`, `label`,\n",
        "the groupby computes a collection of `votes` and a collection of `fractional_votes`\n",
        "for each unique combination `food_item`, `label`.\n",
        "\n",
        "In order to use this object, we need to process those collections\n",
        "with the `reduce` operation.\n",
        "\n",
        "## Reduce Syntax\n",
        "The `reduce` function behaves a little bit like `select`, and it also takes\n",
        "two kinds of arguments:"
      ]
    },
    {
      "cell_type": "code",
      "execution_count": 4,
      "id": "899491ff",
      "metadata": {
        "execution": {
          "iopub.execute_input": "2023-10-29T13:12:18.640227Z",
          "iopub.status.busy": "2023-10-29T13:12:18.639966Z",
          "iopub.status.idle": "2023-10-29T13:12:18.641644Z",
          "shell.execute_reply": "2023-10-29T13:12:18.641387Z"
        }
      },
      "outputs": [],
      "source": [
        "grouped_table.reduce(*SC, *NC)"
      ]
    },
    {
      "cell_type": "markdown",
      "id": "bfcaba64",
      "metadata": {},
      "source": [
        "* *SC is simply a list of columns that were present in the table before the groupby\n",
        "operation,\n",
        "* *NC is a list of new columns (i.e. columns with new name), each defined as\n",
        "some function of cells in the row of grouped_table.\n",
        "\n",
        "It can be used together with groupby, as follows:"
      ]
    },
    {
      "cell_type": "code",
      "execution_count": 5,
      "id": "9e1b1b66",
      "metadata": {
        "execution": {
          "iopub.execute_input": "2023-10-29T13:12:18.643103Z",
          "iopub.status.busy": "2023-10-29T13:12:18.642842Z",
          "iopub.status.idle": "2023-10-29T13:12:18.644553Z",
          "shell.execute_reply": "2023-10-29T13:12:18.644297Z"
        }
      },
      "outputs": [],
      "source": [
        "table.groupby(*C).reduce(*SC, *NC)"
      ]
    },
    {
      "cell_type": "markdown",
      "id": "5109cc45",
      "metadata": {},
      "source": [
        "The main difference between `reduce` and `select` is that each row of `grouped_table`\n",
        "has two kinds of entries, simple cells and groups.\n",
        "\n",
        "The `reduce` operation allows us to apply a reducer to transform a group into a value.\n",
        "\n",
        "## Counting Votes With Groupby-Reduce\n",
        "Below, you can see an example that uses the `sum` reducer to compute the sum of all\n",
        "votes and the sum of all fractional votes."
      ]
    },
    {
      "cell_type": "code",
      "execution_count": 6,
      "id": "0f193bd1",
      "metadata": {
        "execution": {
          "iopub.execute_input": "2023-10-29T13:12:18.646044Z",
          "iopub.status.busy": "2023-10-29T13:12:18.645784Z",
          "iopub.status.idle": "2023-10-29T13:12:18.697076Z",
          "shell.execute_reply": "2023-10-29T13:12:18.696738Z"
        }
      },
      "outputs": [
        {
          "name": "stderr",
          "output_type": "stream",
          "text": [
            "[2023-10-29T14:12:18]:INFO:Preparing Pathway computation\n"
          ]
        },
        {
          "name": "stdout",
          "output_type": "stream",
          "text": [
            "            | food_item | label     | total_votes | total_fractional_vote\n",
            "^8X6FZAN... | apple     | fruit     | 2           | 2.0\n",
            "^1PM8GGB... | apple     | vegetable | 0           | 0.0\n",
            "^Y7P7Z85... | corn      | fruit     | 0           | 0.3\n",
            "^R5DPRJ1... | corn      | vegetable | 1           | 0.7\n",
            "^MPW1XV7... | pepper    | fruit     | 0           | 0.95\n",
            "^TW138S3... | pepper    | vegetable | 2           | 1.05\n",
            "^Z7NB38W... | tomato    | fruit     | 1           | 1.2\n",
            "^E3Z6HDV... | tomato    | vegetable | 2           | 1.8\n"
          ]
        }
      ],
      "source": [
        "aggregated_results = poll.groupby(poll.food_item, poll.label).reduce(\n",
        "    poll.food_item,\n",
        "    poll.label,\n",
        "    total_votes=pw.reducers.sum(poll.vote),\n",
        "    total_fractional_vote=pw.reducers.sum(poll.fractional_vote),\n",
        ")\n",
        "\n",
        "pw.debug.compute_and_print(aggregated_results)\n"
      ]
    },
    {
      "cell_type": "markdown",
      "id": "ba4d3d12",
      "metadata": {},
      "source": [
        "## Groupby-Reduce Column Constraints\n",
        "To briefly summarize, if $T$ is the set of all columns of a table\n",
        "* the columns from $C$ (used as comparison key) can be used as regular columns in the reduce function\n",
        "* for all the remaining columns (in $T \\setminus C$), we need to apply a reducer, before we use them in expressions\n",
        "\n",
        "In particular, we can mix columns from $C$ and reduced columns from $T \\setminus C$ in column expressions."
      ]
    },
    {
      "cell_type": "code",
      "execution_count": 7,
      "id": "9d690558",
      "metadata": {
        "execution": {
          "iopub.execute_input": "2023-10-29T13:12:18.698572Z",
          "iopub.status.busy": "2023-10-29T13:12:18.698343Z",
          "iopub.status.idle": "2023-10-29T13:12:18.745842Z",
          "shell.execute_reply": "2023-10-29T13:12:18.745558Z"
        }
      },
      "outputs": [
        {
          "name": "stderr",
          "output_type": "stream",
          "text": [
            "[2023-10-29T14:12:18]:INFO:Preparing Pathway computation\n"
          ]
        },
        {
          "name": "stdout",
          "output_type": "stream",
          "text": [
            "            | food_item | note\n",
            "^8X6FZAN... | apple     | fruit got 2 votes, with total fractional_vote of 2.0\n",
            "^1PM8GGB... | apple     | vegetable got 0 votes, with total fractional_vote of 0.0\n",
            "^Y7P7Z85... | corn      | fruit got 0 votes, with total fractional_vote of 0.3\n",
            "^R5DPRJ1... | corn      | vegetable got 1 votes, with total fractional_vote of 0.7\n",
            "^MPW1XV7... | pepper    | fruit got 0 votes, with total fractional_vote of 0.95\n",
            "^TW138S3... | pepper    | vegetable got 2 votes, with total fractional_vote of 1.05\n",
            "^Z7NB38W... | tomato    | fruit got 1 votes, with total fractional_vote of 1.2\n",
            "^E3Z6HDV... | tomato    | vegetable got 2 votes, with total fractional_vote of 1.8\n"
          ]
        }
      ],
      "source": [
        "def make_a_note(label: str, tot_votes: int, tot_fractional_vote: float):\n",
        "    return f\"{label} got {tot_votes} votes, with total fractional_vote of {round(tot_fractional_vote, 2)}\"\n",
        "\n",
        "\n",
        "aggregated_results_note = poll.groupby(poll.food_item, poll.label).reduce(\n",
        "    poll.food_item,\n",
        "    note=pw.apply(\n",
        "        make_a_note,\n",
        "        poll.label,\n",
        "        pw.reducers.sum(poll.vote),\n",
        "        pw.reducers.sum(poll.fractional_vote),\n",
        "    ),\n",
        ")\n",
        "\n",
        "pw.debug.compute_and_print(aggregated_results_note)"
      ]
    },
    {
      "cell_type": "markdown",
      "id": "598be8de",
      "metadata": {},
      "source": [
        "## Auto generated id\n",
        "The `groupby(*C).reduce(...)` operation guarantees that each row of the\n",
        "output corresponds to a unique tuple of values from *C. Therefore *C\n",
        "can be used to generate a unique id for the resulting table.\n",
        "\n",
        "In fact that is the default behavior of Pathway' groupby operation and can be used e.g. to\n",
        "join the results of this table with some other table that has this id as a foreign key."
      ]
    },
    {
      "cell_type": "code",
      "execution_count": 8,
      "id": "1da5a9cf",
      "metadata": {
        "execution": {
          "iopub.execute_input": "2023-10-29T13:12:18.747220Z",
          "iopub.status.busy": "2023-10-29T13:12:18.747101Z",
          "iopub.status.idle": "2023-10-29T13:12:18.798649Z",
          "shell.execute_reply": "2023-10-29T13:12:18.798362Z"
        }
      },
      "outputs": [
        {
          "name": "stderr",
          "output_type": "stream",
          "text": [
            "[2023-10-29T14:12:18]:INFO:Preparing Pathway computation\n"
          ]
        },
        {
          "name": "stdout",
          "output_type": "stream",
          "text": [
            "            | food_item | note\n",
            "^R5DPRJ1... | corn      | vegetable got 1 votes, with total fractional_vote of 0.7\n",
            "^TW138S3... | pepper    | vegetable got 2 votes, with total fractional_vote of 1.05\n",
            "^Z7NB38W... | tomato    | fruit got 1 votes, with total fractional_vote of 1.2\n"
          ]
        }
      ],
      "source": [
        "queries = pw.debug.table_from_markdown(\n",
        "    \"\"\"\n",
        "    | food_item | label\n",
        "1   | tomato    | fruit\n",
        "2   | pepper    | vegetable\n",
        "3   | corn      | vegetable\n",
        "\n",
        "\"\"\"\n",
        ").with_id_from(pw.this.food_item, pw.this.label)\n",
        "\n",
        "pw.debug.compute_and_print(\n",
        "    queries.join(\n",
        "        aggregated_results_note, queries.id == aggregated_results_note.id, id=queries.id\n",
        "    ).select(queries.food_item, aggregated_results_note.note)\n",
        ")"
      ]
    },
    {
      "cell_type": "markdown",
      "id": "dcedaeea",
      "metadata": {},
      "source": [
        "More examples of joins (including another example of a join over a foreign key)\n",
        "can be found in the join manual ([full article](https://pathway.com/developers/user-guide/table-operations/join-manual), [foreign key example](https://pathway.com/developers/user-guide/table-operations/join-manual#joins-on-a-foreign-key)).\n"
      ]
    },
    {
      "cell_type": "markdown",
      "id": "ba20982a",
      "metadata": {},
      "source": [
        "## More Examples\n",
        "### Recent activity with max reducer\n",
        "Below, you can see a piece of code that finds the latest votes that were submitted to the poll.\n",
        "It is done with `groupby`-`reduce` operations chained with `join` and `filter`, using `pw.this`.\n",
        "\n"
      ]
    },
    {
      "cell_type": "code",
      "execution_count": 9,
      "id": "3c24313e",
      "metadata": {
        "execution": {
          "iopub.execute_input": "2023-10-29T13:12:18.800096Z",
          "iopub.status.busy": "2023-10-29T13:12:18.799980Z",
          "iopub.status.idle": "2023-10-29T13:12:18.876449Z",
          "shell.execute_reply": "2023-10-29T13:12:18.876121Z"
        }
      },
      "outputs": [
        {
          "name": "stderr",
          "output_type": "stream",
          "text": [
            "[2023-10-29T14:12:18]:INFO:Preparing Pathway computation\n"
          ]
        },
        {
          "name": "stdout",
          "output_type": "stream",
          "text": [
            "            | food_item | label     | vote | fractional_vote\n",
            "^Z3QWT29... | apple     | fruit     | 1    | 1.0\n",
            "^3CZ78B4... | apple     | vegetable | 0    | 0.0\n",
            "^GFDBR0G... | pepper    | fruit     | 0    | 0.45\n",
            "^3S2X6B2... | pepper    | fruit     | 0    | 0.5\n",
            "^3HN31E1... | pepper    | vegetable | 1    | 0.5\n",
            "^3J2R55X... | pepper    | vegetable | 1    | 0.55\n",
            "^A984WV0... | tomato    | fruit     | 0    | 0.3\n",
            "^X1MXHYY... | tomato    | fruit     | 1    | 0.5\n",
            "^YYY4HAB... | tomato    | vegetable | 0    | 0.5\n",
            "^6A0QZMJ... | tomato    | vegetable | 1    | 0.7\n"
          ]
        }
      ],
      "source": [
        "hour = 3600\n",
        "pw.debug.compute_and_print(\n",
        "    poll.groupby()\n",
        "    .reduce(time=pw.reducers.max(poll.time))\n",
        "    .join(poll, id=poll.id)\n",
        "    .select(\n",
        "        poll.food_item,\n",
        "        poll.label,\n",
        "        poll.vote,\n",
        "        poll.fractional_vote,\n",
        "        poll.time,\n",
        "        latest=pw.left.time,\n",
        "    )\n",
        "    .filter(pw.this.time >= pw.this.latest - 2 * hour)\n",
        "    .select(\n",
        "        pw.this.food_item,\n",
        "        pw.this.label,\n",
        "        pw.this.vote,\n",
        "        pw.this.fractional_vote,\n",
        "    )\n",
        ")"
      ]
    },
    {
      "cell_type": "markdown",
      "id": "bb244a3f",
      "metadata": {},
      "source": [
        "### Removing duplicates\n",
        "Below, duplicates are removed from the table with groupby-reduce.\n",
        "On its own, selecting `food_item` and `label` from poll returns duplicate rows:"
      ]
    },
    {
      "cell_type": "code",
      "execution_count": 10,
      "id": "d904ebff",
      "metadata": {
        "execution": {
          "iopub.execute_input": "2023-10-29T13:12:18.877823Z",
          "iopub.status.busy": "2023-10-29T13:12:18.877710Z",
          "iopub.status.idle": "2023-10-29T13:12:18.886760Z",
          "shell.execute_reply": "2023-10-29T13:12:18.886484Z"
        }
      },
      "outputs": [
        {
          "name": "stderr",
          "output_type": "stream",
          "text": [
            "[2023-10-29T14:12:18]:INFO:Preparing Pathway computation\n"
          ]
        },
        {
          "name": "stdout",
          "output_type": "stream",
          "text": [
            "            | food_item | label\n",
            "^XTPZRQ2... | apple     | fruit\n",
            "^Z3QWT29... | apple     | fruit\n",
            "^3CZ78B4... | apple     | vegetable\n",
            "^MA4SK6C... | apple     | vegetable\n",
            "^SN0FH7F... | corn      | fruit\n",
            "^9KM937R... | corn      | vegetable\n",
            "^GFDBR0G... | pepper    | fruit\n",
            "^3S2X6B2... | pepper    | fruit\n",
            "^3HN31E1... | pepper    | vegetable\n",
            "^3J2R55X... | pepper    | vegetable\n",
            "^X1MXHYY... | tomato    | fruit\n",
            "^QECDZJF... | tomato    | fruit\n",
            "^A984WV0... | tomato    | fruit\n",
            "^YYY4HAB... | tomato    | vegetable\n",
            "^6A0QZMJ... | tomato    | vegetable\n",
            "^03PYXDQ... | tomato    | vegetable\n"
          ]
        }
      ],
      "source": [
        "pw.debug.compute_and_print(poll.select(poll.food_item, poll.label))"
      ]
    },
    {
      "cell_type": "markdown",
      "id": "7e82b4c7",
      "metadata": {},
      "source": [
        "However, we can apply groupby-reduce to select a set of unique rows:"
      ]
    },
    {
      "cell_type": "code",
      "execution_count": 11,
      "id": "434bbc2e",
      "metadata": {
        "execution": {
          "iopub.execute_input": "2023-10-29T13:12:18.888116Z",
          "iopub.status.busy": "2023-10-29T13:12:18.887981Z",
          "iopub.status.idle": "2023-10-29T13:12:18.914158Z",
          "shell.execute_reply": "2023-10-29T13:12:18.913885Z"
        },
        "lines_to_next_cell": 2
      },
      "outputs": [
        {
          "name": "stderr",
          "output_type": "stream",
          "text": [
            "[2023-10-29T14:12:18]:INFO:Preparing Pathway computation\n"
          ]
        },
        {
          "name": "stdout",
          "output_type": "stream",
          "text": [
            "            | food_item | label\n",
            "^8X6FZAN... | apple     | fruit\n",
            "^1PM8GGB... | apple     | vegetable\n",
            "^Y7P7Z85... | corn      | fruit\n",
            "^R5DPRJ1... | corn      | vegetable\n",
            "^MPW1XV7... | pepper    | fruit\n",
            "^TW138S3... | pepper    | vegetable\n",
            "^Z7NB38W... | tomato    | fruit\n",
            "^E3Z6HDV... | tomato    | vegetable\n"
          ]
        }
      ],
      "source": [
        "pw.debug.compute_and_print(\n",
        "    poll.groupby(poll.food_item, poll.label).reduce(poll.food_item, poll.label)\n",
        ")"
      ]
    },
    {
      "cell_type": "markdown",
      "id": "56b26fe4",
      "metadata": {},
      "source": [
        "### Chained groupby-reduce-join-select\n",
        "Below, you can find an example of groupby - reduce chained with join -select,\n",
        "using `pw.this`.\n",
        "\n",
        "To demonstrate that, we can ask our poll about total fractional vote for each pair\n",
        "`food_item`, `label` and total fractional vote assigned to rows for each `food_item`."
      ]
    },
    {
      "cell_type": "code",
      "execution_count": 12,
      "id": "3e293281",
      "metadata": {
        "execution": {
          "iopub.execute_input": "2023-10-29T13:12:18.915457Z",
          "iopub.status.busy": "2023-10-29T13:12:18.915344Z",
          "iopub.status.idle": "2023-10-29T13:12:18.982555Z",
          "shell.execute_reply": "2023-10-29T13:12:18.982271Z"
        }
      },
      "outputs": [
        {
          "name": "stderr",
          "output_type": "stream",
          "text": [
            "[2023-10-29T14:12:18]:INFO:Preparing Pathway computation\n"
          ]
        },
        {
          "name": "stdout",
          "output_type": "stream",
          "text": [
            "            | food_item | label     | label_fractional_vote | total_fractional_vote\n",
            "^6CPAW8S... | apple     | fruit     | 2.0                   | 2.0\n",
            "^ZBB2ZBX... | apple     | vegetable | 0.0                   | 2.0\n",
            "^FQY71C0... | corn      | fruit     | 0.3                   | 1.0\n",
            "^AW3K860... | corn      | vegetable | 0.7                   | 1.0\n",
            "^FTB46A2... | pepper    | fruit     | 0.95                  | 2.0\n",
            "^2J54ZMA... | pepper    | vegetable | 1.05                  | 2.0\n",
            "^TZP679E... | tomato    | fruit     | 1.2                   | 3.0\n",
            "^KHA0EC4... | tomato    | vegetable | 1.8                   | 3.0\n"
          ]
        }
      ],
      "source": [
        "relative_score = (\n",
        "    poll.groupby(poll.food_item)\n",
        "    .reduce(\n",
        "        poll.food_item,\n",
        "        total_fractional_vote=pw.reducers.sum(poll.fractional_vote),\n",
        "    )\n",
        "    .join(aggregated_results, pw.left.food_item == pw.right.food_item)\n",
        "    .select(\n",
        "        pw.left.food_item,\n",
        "        pw.right.label,\n",
        "        label_fractional_vote=pw.right.total_fractional_vote,\n",
        "        total_fractional_vote=pw.left.total_fractional_vote,\n",
        "    )\n",
        ")\n",
        "\n",
        "pw.debug.compute_and_print(relative_score)"
      ]
    },
    {
      "cell_type": "markdown",
      "id": "4cc0663d",
      "metadata": {},
      "source": [
        "### Election using argmax reducer\n",
        "Below, we present a snippet of code, that in the context of a poll,\n",
        "finds the most obvious information: which label got the most votes."
      ]
    },
    {
      "cell_type": "markdown",
      "id": "89d49ea3",
      "metadata": {},
      "source": [
        "Let's take a look on what exactly is the result of `argmax` reducer:"
      ]
    },
    {
      "cell_type": "code",
      "execution_count": 13,
      "id": "2e11cad8",
      "metadata": {
        "execution": {
          "iopub.execute_input": "2023-10-29T13:12:18.983977Z",
          "iopub.status.busy": "2023-10-29T13:12:18.983865Z",
          "iopub.status.idle": "2023-10-29T13:12:19.009280Z",
          "shell.execute_reply": "2023-10-29T13:12:19.009006Z"
        }
      },
      "outputs": [
        {
          "name": "stderr",
          "output_type": "stream",
          "text": [
            "[2023-10-29T14:12:19]:INFO:Preparing Pathway computation\n"
          ]
        },
        {
          "name": "stdout",
          "output_type": "stream",
          "text": [
            "            | argmax_id\n",
            "^NHNKR02... | ^KHA0EC4...\n",
            "^7YTG4C2... | ^6CPAW8S...\n",
            "^C50B2KX... | ^2J54ZMA...\n",
            "^PHR4QTJ... | ^AW3K860...\n"
          ]
        }
      ],
      "source": [
        "pw.debug.compute_and_print(\n",
        "    relative_score.groupby(relative_score.food_item).reduce(\n",
        "        argmax_id=pw.reducers.argmax(relative_score.label_fractional_vote)\n",
        "    )\n",
        ")"
      ]
    },
    {
      "cell_type": "markdown",
      "id": "10f671ae",
      "metadata": {},
      "source": [
        "As you can see, it returns an ID of the row that maximizes `label_fractional_vote`\n",
        "for a fixed `food_item`.\n",
        "You can filter interesting rows using those ID-s as follows:"
      ]
    },
    {
      "cell_type": "code",
      "execution_count": 14,
      "id": "51420865",
      "metadata": {
        "execution": {
          "iopub.execute_input": "2023-10-29T13:12:19.010541Z",
          "iopub.status.busy": "2023-10-29T13:12:19.010422Z",
          "iopub.status.idle": "2023-10-29T13:12:19.065300Z",
          "shell.execute_reply": "2023-10-29T13:12:19.064973Z"
        }
      },
      "outputs": [
        {
          "name": "stderr",
          "output_type": "stream",
          "text": [
            "[2023-10-29T14:12:19]:INFO:Preparing Pathway computation\n"
          ]
        },
        {
          "name": "stdout",
          "output_type": "stream",
          "text": [
            "            | food_item | label     | label_fractional_vote\n",
            "^CMYBP7J... | apple     | fruit     | 2.0\n",
            "^D3DFCGD... | corn      | vegetable | 0.7\n",
            "^TVZV54D... | pepper    | vegetable | 1.05\n",
            "^CBBY278... | tomato    | vegetable | 1.8\n"
          ]
        }
      ],
      "source": [
        "pw.debug.compute_and_print(\n",
        "    relative_score.groupby(relative_score.food_item)\n",
        "    .reduce(argmax_id=pw.reducers.argmax(relative_score.label_fractional_vote))\n",
        "    .join(relative_score, pw.left.argmax_id == relative_score.id)\n",
        "    .select(\n",
        "        relative_score.food_item,\n",
        "        relative_score.label,\n",
        "        relative_score.label_fractional_vote,\n",
        "    )\n",
        ")"
      ]
    },
    {
      "cell_type": "markdown",
      "id": "eca55152",
      "metadata": {},
      "source": [
        "*Remark:* the code snippet above is equivalent to:"
      ]
    },
    {
      "cell_type": "code",
      "execution_count": 15,
      "id": "37aa7d36",
      "metadata": {
        "execution": {
          "iopub.execute_input": "2023-10-29T13:12:19.066610Z",
          "iopub.status.busy": "2023-10-29T13:12:19.066498Z",
          "iopub.status.idle": "2023-10-29T13:12:19.125216Z",
          "shell.execute_reply": "2023-10-29T13:12:19.124930Z"
        }
      },
      "outputs": [
        {
          "name": "stderr",
          "output_type": "stream",
          "text": [
            "[2023-10-29T14:12:19]:INFO:Preparing Pathway computation\n"
          ]
        },
        {
          "name": "stdout",
          "output_type": "stream",
          "text": [
            "            | food_item | label     | label_fractional_vote\n",
            "^7YTG4C2... | apple     | fruit     | 2.0\n",
            "^PHR4QTJ... | corn      | vegetable | 0.7\n",
            "^C50B2KX... | pepper    | vegetable | 1.05\n",
            "^NHNKR02... | tomato    | vegetable | 1.8\n"
          ]
        }
      ],
      "source": [
        "pw.debug.compute_and_print(\n",
        "    relative_score.groupby(relative_score.food_item)\n",
        "    .reduce(argmax_id=pw.reducers.argmax(relative_score.label_fractional_vote))\n",
        "    .select(\n",
        "        relative_score.ix(pw.this.argmax_id).food_item,\n",
        "        relative_score.ix(pw.this.argmax_id).label,\n",
        "        relative_score.ix(pw.this.argmax_id).label_fractional_vote,\n",
        "    )\n",
        ")"
      ]
    },
    {
      "cell_type": "markdown",
      "id": "241a7cf4",
      "metadata": {},
      "source": [
        "You can read more about [joins](https://pathway.com/developers/user-guide/table-operations/join-manual), [*.ix](https://pathway.com/developers/api-docs/pathway/#property-ix) and [ID-s](/developers/user-guide/introduction/survival-guide/#manipulating-the-table) in other places."
      ]
    }
  ],
  "metadata": {
    "jupytext": {
      "cell_metadata_filter": "-all",
      "main_language": "python",
      "notebook_metadata_filter": "-all"
    },
    "language_info": {
      "codemirror_mode": {
        "name": "ipython",
        "version": 3
      },
      "file_extension": ".py",
      "mimetype": "text/x-python",
      "name": "python",
      "nbconvert_exporter": "python",
      "pygments_lexer": "ipython3",
      "version": "3.11.6"
    }
  },
  "nbformat": 4,
  "nbformat_minor": 5
}